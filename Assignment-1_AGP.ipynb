{
 "cells": [
  {
   "cell_type": "markdown",
   "metadata": {},
   "source": [
    "1. Write a program which will find all such numbers which are divisible by 7 but are not a multiple of 5, between 2000 and 3200 (both included). The numbers obtained should be printed in a comma-separated sequence on a single line. "
   ]
  },
  {
   "cell_type": "code",
   "execution_count": 2,
   "metadata": {},
   "outputs": [
    {
     "name": "stdout",
     "output_type": "stream",
     "text": [
      "2002,2009,2016,2023,2037,2044,2051,2058,2072,2079,2086,2093,2107,2114,2121,2128,2142,2149,2156,2163,2177,2184,2191,2198,2212,2219,2226,2233,2247,2254,2261,2268,2282,2289,2296,2303,2317,2324,2331,2338,2352,2359,2366,2373,2387,2394,2401,2408,2422,2429,2436,2443,2457,2464,2471,2478,2492,2499,2506,2513,2527,2534,2541,2548,2562,2569,2576,2583,2597,2604,2611,2618,2632,2639,2646,2653,2667,2674,2681,2688,2702,2709,2716,2723,2737,2744,2751,2758,2772,2779,2786,2793,2807,2814,2821,2828,2842,2849,2856,2863,2877,2884,2891,2898,2912,2919,2926,2933,2947,2954,2961,2968,2982,2989,2996,3003,3017,3024,3031,3038,3052,3059,3066,3073,3087,3094,3101,3108,3122,3129,3136,3143,3157,3164,3171,3178,3192,3199\n",
      "----------------------------------------------------------------------------------------------------\n"
     ]
    }
   ],
   "source": [
    "num_csv_String = \"\"\n",
    "for number in range(2000, 3200+1):\n",
    "    #number divisible by 7 but not by 5:\n",
    "    if not(number % 7) and (number % 5):\n",
    "        num_csv_String += str(number) + ','\n",
    "\n",
    "num_csv_String = num_csv_String.rstrip(',') #remove the last unwanted comma.\n",
    "print(num_csv_String)\n",
    "print(\"-\" * 100)\n"
   ]
  },
  {
   "cell_type": "markdown",
   "metadata": {},
   "source": [
    "2. Write a Python program to accept the user's first and last name and then getting them printed in the the reverse order with a space between first name and last name"
   ]
  },
  {
   "cell_type": "code",
   "execution_count": 1,
   "metadata": {},
   "outputs": [
    {
     "name": "stdout",
     "output_type": "stream",
     "text": [
      "Enter your first name: \n",
      "Yashodhan\n",
      "Enter your last name: \n",
      "Birari\n",
      "Birari Yashodhan\n",
      "\n",
      "irariB nahdohsaY\n",
      "\n",
      "Enter your first name followed by last name: \n",
      "Yashodhan Birari\n",
      "irariB nahdohsaY\n",
      "\n",
      "irariB nahdohsaY\n",
      "----------------------------------------------------------------------------------------------------\n"
     ]
    }
   ],
   "source": [
    "#Solution#01:\n",
    "print(\"Enter your first name: \")\n",
    "first_name = input()\n",
    "print(\"Enter your last name: \")\n",
    "last_name = input()\n",
    "\n",
    "##01.01:\n",
    "print(last_name + ' ' + first_name)\n",
    "print()\n",
    "\n",
    "##01.02:\n",
    "print(last_name[::-1] + ' ' + first_name[::-1])\n",
    "print()\n",
    "\n",
    "#Solution#02:\n",
    "print(\"Enter your first name followed by last name: \")\n",
    "full_name = input()\n",
    "\n",
    "##02.01:\n",
    "rev_str = \"\"\n",
    "for idx in range(len(full_name)-1, -1, -1):\n",
    "    rev_str += full_name[idx]\n",
    "\n",
    "print(rev_str)\n",
    "print()\n",
    "\n",
    "##02.02:\n",
    "rev_str = \"\"\n",
    "for char in full_name[::-1]:\n",
    "    rev_str += char\n",
    "\n",
    "print(rev_str)\n",
    "print(\"-\" * 100)\n"
   ]
  },
  {
   "cell_type": "markdown",
   "metadata": {},
   "source": [
    "3.Write a Python program to find the volume of a sphere with diameter 12 cm.  \n",
    " \n",
    "Formula: V=4/3 * π * r 3 "
   ]
  },
  {
   "cell_type": "code",
   "execution_count": 4,
   "metadata": {},
   "outputs": [
    {
     "name": "stdout",
     "output_type": "stream",
     "text": [
      "904.78\n",
      "----------------------------------------------------------------------------------------------------\n"
     ]
    }
   ],
   "source": [
    "import math\n",
    "\n",
    "diameter = 12\n",
    "radius = diameter / 2\n",
    "volume = (4 / 3) * math.pi * (radius ** 3)\n",
    "print(f\"{volume:.2f}\")\n",
    "print(\"-\" * 100)\n"
   ]
  },
  {
   "cell_type": "markdown",
   "metadata": {},
   "source": [
    "4.Write a program which accepts a sequence of comma-separated numbers from console and generate a list. "
   ]
  },
  {
   "cell_type": "code",
   "execution_count": 3,
   "metadata": {},
   "outputs": [
    {
     "name": "stdout",
     "output_type": "stream",
     "text": [
      "Enter comma seperated numbers: \n",
      "3,5,8,2,9\n",
      "[3, 5, 8, 2, 9]\n",
      "\n",
      "[3, 5, 8, 2, 9]\n",
      "----------------------------------------------------------------------------------------------------\n"
     ]
    }
   ],
   "source": [
    "print(\"Enter comma seperated numbers: \")\n",
    "num_csv_string = input()\n",
    "\n",
    "#Solution#01: Using split() in for loop:\n",
    "num_list = []\n",
    "for num in num_csv_string.split(','):\n",
    "    num_list.append(int(num))\n",
    "\n",
    "print(num_list)\n",
    "print()\n",
    "\n",
    "#Solution#02: Using split() in List Comprehension:\n",
    "num_list = [int(num) for num in num_csv_string.split(',')]\n",
    "print(num_list)\n",
    "print(\"-\" * 100)\n"
   ]
  },
  {
   "cell_type": "raw",
   "metadata": {},
   "source": [
    "5. Create the below pattern using nested for loop in Python. \n",
    " \n",
    " \n",
    "*  \n",
    "* *  \n",
    "* * * \n",
    "* * * *  \n",
    "* * * * *  \n",
    "* * * *  \n",
    "* * *  \n",
    "* *  \n",
    "* \n",
    " \n",
    " "
   ]
  },
  {
   "cell_type": "code",
   "execution_count": 4,
   "metadata": {},
   "outputs": [
    {
     "name": "stdout",
     "output_type": "stream",
     "text": [
      "* \n",
      "* * \n",
      "* * * \n",
      "* * * * \n",
      "* * * * * \n",
      "* * * * \n",
      "* * * \n",
      "* * \n",
      "* \n",
      "\n",
      "----------------------------------------------------------------------------------------------------\n"
     ]
    }
   ],
   "source": [
    "for outer_idx in range(1, 11):\n",
    "    str_line = \"\"\n",
    "    \n",
    "    if outer_idx <= 5:\n",
    "        for inner_idx in range(outer_idx):\n",
    "            str_line += \"* \"\n",
    "        print(str_line)\n",
    "    else:\n",
    "        for inner_idx in range(10 - outer_idx):\n",
    "            str_line += \"* \"\n",
    "        print(str_line)\n",
    "\n",
    "print(\"-\" * 100)"
   ]
  },
  {
   "cell_type": "markdown",
   "metadata": {},
   "source": [
    "6. Write a Python program to reverse a word after accepting the input from the user. \n",
    " \n",
    "Sample Output: \n",
    " \n",
    "Input word: iNeuron \n",
    " \n",
    "Output: norueNi"
   ]
  },
  {
   "cell_type": "code",
   "execution_count": 6,
   "metadata": {},
   "outputs": [
    {
     "name": "stdout",
     "output_type": "stream",
     "text": [
      "Enter a string: \n",
      "Yashodhan\n",
      "nahdohsaY\n",
      "\n",
      "nahdohsaY\n",
      "\n",
      "nahdohsaY\n",
      "\n",
      "nahdohsaY\n",
      "\n",
      "nahdohsaY\n",
      "\n",
      "nahdohsaY\n",
      "----------------------------------------------------------------------------------------------------\n"
     ]
    }
   ],
   "source": [
    "print(\"Enter a string: \")\n",
    "string = input()\n",
    "\n",
    "#Solution#01:\n",
    "print(string[::-1])\n",
    "print()\n",
    "\n",
    "#Solution#02:\n",
    "rstring = \"\"\n",
    "for char in string[::-1]:\n",
    "    rstring += char\n",
    "\n",
    "print(rstring)\n",
    "print()\n",
    "\n",
    "#Solution#03:\n",
    "rstring = \"\"\n",
    "for char in string:\n",
    "    rstring = char + rstring\n",
    "\n",
    "print(rstring)\n",
    "print()\n",
    "\n",
    "#Solution#04:\n",
    "rstring = \"\"\n",
    "for char in list(string):\n",
    "    rstring = char + rstring\n",
    "\n",
    "print(rstring)\n",
    "print()\n",
    "\n",
    "#Solution#05:\n",
    "rstring = \"\"\n",
    "for idx in range(len(string)-1, -1, -1):\n",
    "    rstring += string[idx]\n",
    "\n",
    "print(rstring)\n",
    "print()\n",
    "\n",
    "#Solution#06:\n",
    "rstring = ''.join(reversed(string))\n",
    "print(rstring)\n",
    "\n",
    "print(\"-\" * 100)\n"
   ]
  },
  {
   "cell_type": "markdown",
   "metadata": {},
   "source": [
    "7. Write a Python Program to print the given string in the format specified in the ​sample output. \n",
    " WE, THE PEOPLE OF INDIA, having solemnly resolved to constitute India into a SOVEREIGN, SOCIALIST, SECULAR, DEMOCRATIC REPUBLIC and to secure to all its citizens \n",
    " \n",
    "Sample Output: \n",
    " \n",
    "WE, THE PEOPLE OF INDIA,   having solemnly resolved to constitute India into a SOVEREIGN, !  SOCIALIST, SECULAR, DEMOCRATIC REPUBLIC    and to secure to all its citizens "
   ]
  },
  {
   "cell_type": "code",
   "execution_count": 7,
   "metadata": {},
   "outputs": [
    {
     "name": "stdout",
     "output_type": "stream",
     "text": [
      "WE, THE PEOPLE OF INDIA, having solemnly resolved to constitute India into a SOVEREIGN, ! SOCIALIST, SECULAR, DEMOCRATIC REPUBLIC and to secure to all its citizens \n",
      "\n",
      "WE, THE PEOPLE OF INDIA, having solemnly resolved to constitute India into a SOVEREIGN, ! SOCIALIST, SECULAR, DEMOCRATIC REPUBLIC and to secure to all its citizens \n",
      "----------------------------------------------------------------------------------------------------\n"
     ]
    }
   ],
   "source": [
    "string = \"WE, THE PEOPLE OF INDIA, having solemnly resolved to constitute India into a SOVEREIGN, SOCIALIST, SECULAR, DEMOCRATIC REPUBLIC and to secure to all its citizens\"\n",
    "\n",
    "idx = -1\n",
    "str_list = []\n",
    "new_string = \"\"\n",
    "for word in string.split():\n",
    "    idx += 1\n",
    "    str_list.append(word)\n",
    "    if word == \"SOCIALIST,\":\n",
    "        str_list.insert(idx, \"!\")\n",
    "        word = \"! \" + word\n",
    "    new_string += word + \" \"\n",
    "\n",
    "#Solution#01:\n",
    "print(new_string)\n",
    "print()\n",
    "\n",
    "#Solution#02:\n",
    "new_string = \"\"\n",
    "for word in str_list:\n",
    "    new_string += word + \" \"\n",
    "\n",
    "print(new_string)\n",
    "print(\"-\" * 100)"
   ]
  },
  {
   "cell_type": "markdown",
   "metadata": {},
   "source": [
    "Note : - NOTE:​ ​The​ ​solution​ ​shared​ ​through​ ​Github​ ​should​ ​contain​ ​the​ ​source code​ ​used​ ​ and​  ​the​ ​output"
   ]
  },
  {
   "cell_type": "code",
   "execution_count": null,
   "metadata": {},
   "outputs": [],
   "source": []
  }
 ],
 "metadata": {
  "kernelspec": {
   "display_name": "Python 3",
   "language": "python",
   "name": "python3"
  },
  "language_info": {
   "codemirror_mode": {
    "name": "ipython",
    "version": 3
   },
   "file_extension": ".py",
   "mimetype": "text/x-python",
   "name": "python",
   "nbconvert_exporter": "python",
   "pygments_lexer": "ipython3",
   "version": "3.7.6"
  }
 },
 "nbformat": 4,
 "nbformat_minor": 2
}
