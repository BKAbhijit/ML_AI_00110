{
 "cells": [
  {
   "cell_type": "markdown",
   "metadata": {},
   "source": [
    "## Problem Statement"
   ]
  },
  {
   "cell_type": "markdown",
   "metadata": {},
   "source": [
    "Q.1 Write a Python Program to implement your own myreduce() function which works exactly like\n",
    "Python's built-in function reduce()\n"
   ]
  },
  {
   "cell_type": "code",
   "execution_count": 1,
   "metadata": {},
   "outputs": [],
   "source": [
    "def add(a, b):\n",
    "    return a + b\n",
    "\n",
    "def sub(a, b):\n",
    "    return a - b\n",
    "\n",
    "def mul(a, b):\n",
    "    return a * b\n",
    "\n",
    "def exp(a, b):\n",
    "    return a ** b\n",
    "\n",
    "mod = lambda a, b: a % b\n",
    "\n",
    "def myreduce(function, sequence):\n",
    "    result = sequence[0]\n",
    "    for element in sequence[1:]:\n",
    "        result = function(result, element)\n",
    "    return result\n",
    "\n",
    "\n",
    "assert myreduce((lambda a, b: a / b), [1,2,3]) == 0.16666666666666666\n",
    "assert myreduce(add, [1,2,3]) == 6\n",
    "assert myreduce(sub, [1,2,3]) == -4\n",
    "assert myreduce(mul, [1,2,3]) == 6\n",
    "assert myreduce(exp, [1,2,3]) == 1\n",
    "assert myreduce(mod, [1,2,3]) == 1\n"
   ]
  },
  {
   "cell_type": "markdown",
   "metadata": {},
   "source": [
    "Q.2 Write a Python program to implement your own myfilter() function which works exactly like\n",
    "Python's built-in function filter()"
   ]
  },
  {
   "cell_type": "code",
   "execution_count": 2,
   "metadata": {},
   "outputs": [],
   "source": [
    "def iseven(a):\n",
    "    return not (a % 2)\n",
    "\n",
    "endswith_ing = lambda a : str(a).endswith(\"ing\")\n",
    "\n",
    "def myfilter(function, sequence):\n",
    "    result = sequence.copy()\n",
    "    result.clear()\n",
    "    for element in sequence:\n",
    "        if function(element):\n",
    "            result.append(element)\n",
    "    return result\n",
    "\n",
    "\n",
    "assert myfilter(lambda a: (a % 3) == 0, [1, 2, 3, 4, 9]) == [3, 9]\n",
    "assert myfilter(lambda a: len(str(a)) > 2, [\"abcd\", \"x\", \"an\", \"asd\"]) == ['abcd', 'asd']\n",
    "assert myfilter(iseven, [5, 10, 11]) == [10]\n",
    "assert myfilter(endswith_ing, [\"swing\", \"tong\", \"ring\", \"playing\"]) == ['swing', 'ring', \"playing\"]\n"
   ]
  },
  {
   "cell_type": "markdown",
   "metadata": {},
   "source": [
    "Q.3 Implement List comprehensions to produce the following lists.\n",
    "   Write List comprehensions to produce the following Lists\n",
    "   \n",
    "    ['A', 'C', 'A', 'D', 'G', 'I', ’L’, ‘ D’]\n",
    "   \n",
    "    ['x', 'xx', 'xxx', 'xxxx', 'y', 'yy', 'yyy', 'yyyy', 'z', 'zz', 'zzz', 'zzzz']\n",
    "\n",
    "    ['x', 'y', 'z', 'xx', 'yy', 'zz', 'xx', 'yy', 'zz', 'xxxx', 'yyyy', 'zzzz']\n",
    "    \n",
    "    [[2], [3], [4], [3], [4], [5], [4], [5], [6]]\n",
    "\n",
    "    [[2, 3, 4, 5], [3, 4, 5, 6], [4, 5, 6, 7], [5, 6, 7, 8]]\n",
    "\n",
    "    [(1, 1), (2, 1), (3, 1), (1, 2), (2, 2), (3, 2), (1, 3), (2, 3), (3, 3)]"
   ]
  },
  {
   "cell_type": "code",
   "execution_count": 3,
   "metadata": {
    "scrolled": false
   },
   "outputs": [],
   "source": [
    "assert [char for char in \"ACADGILD\"] == ['A', 'C', 'A', 'D', 'G', 'I', 'L', 'D']\n",
    "assert [char * num for char in \"xyz\" for num in range(1, 5)] == ['x', 'xx', 'xxx', 'xxxx', 'y', 'yy', 'yyy', 'yyyy', 'z', 'zz', 'zzz', 'zzzz']\n",
    "assert [char * num for num in range(1, 5) for char in \"xyz\"] == ['x', 'y', 'z', 'xx', 'yy', 'zz', 'xxx', 'yyy', 'zzz', 'xxxx', 'yyyy', 'zzzz']\n",
    "\n",
    "assert [[n] for n in range(2, 5) for n in range(n, n+3)] == [[2], [3], [4], [3], [4], [5], [4], [5], [6]]\n",
    "assert [[n for n in range(n, n+4)] for n in range(2, 6)] == [[2, 3, 4, 5], [3, 4, 5, 6], [4, 5, 6, 7], [5, 6, 7, 8]]\n",
    "assert [(hi, lo) for lo in range(1, 4) for hi in range(1, 4)] == [(1, 1), (2, 1), (3, 1), (1, 2), (2, 2), (3, 2), (1, 3), (2, 3), (3, 3)]\n"
   ]
  },
  {
   "cell_type": "markdown",
   "metadata": {},
   "source": [
    "Q.4 Implement a function longestWord() that takes a list of words and returns the longest one."
   ]
  },
  {
   "cell_type": "code",
   "execution_count": 4,
   "metadata": {},
   "outputs": [],
   "source": [
    "#Assumptions:\n",
    "#    a) if passed \"list\" is empty then funciton will return None.\n",
    "#    b) if passed \"list\" contains any numeric elements, then those will be ignored.\n",
    "\n",
    "def longestWord(str_list):\n",
    "    if len(str_list) == 0:\n",
    "        return None\n",
    "\n",
    "    length_string_dict = {len(string): string for string in str_list if type(string) == str}\n",
    "    return None if length_string_dict == {} else length_string_dict.get(max(length_string_dict.keys()))\n",
    "\n",
    "\n",
    "list1 = [\"abcde\", \"pqwerty\", \"xyz\", 123]\n",
    "assert longestWord(list1) == \"pqwerty\"\n",
    "assert longestWord([]) == None\n",
    "assert longestWord([1, 2, 3]) == None\n",
    "assert longestWord([\"\"]) == \"\"\n"
   ]
  },
  {
   "cell_type": "markdown",
   "metadata": {},
   "source": [
    "Q.5 Write a Python Program(with class concepts) to find the area of the triangle using the below\n",
    "formula.\n",
    "\n",
    "area = (s*(s-a)*(s-b)*(s-c)) ** 0.5\n",
    "\n",
    "Function to take the length of the sides of triangle from user should be defined in the parent\n",
    "class and function to calculate the area should be defined in subclass."
   ]
  },
  {
   "cell_type": "code",
   "execution_count": 5,
   "metadata": {},
   "outputs": [
    {
     "name": "stdout",
     "output_type": "stream",
     "text": [
      "Enter a:3\n",
      "Enter b:4\n",
      "Enter c:5\n",
      "Enter s:6\n"
     ]
    },
    {
     "data": {
      "text/plain": [
       "6.0"
      ]
     },
     "execution_count": 5,
     "metadata": {},
     "output_type": "execute_result"
    }
   ],
   "source": [
    "class Shape():\n",
    "    def __init__(this): #, a, b, c, s):\n",
    "        pass\n",
    "    \n",
    "    def get_data(this):\n",
    "        try:\n",
    "            a = int(input(\"Enter a:\"))\n",
    "            b = int(input(\"Enter b:\"))\n",
    "            c = int(input(\"Enter c:\"))\n",
    "            s = int(input(\"Enter s:\"))\n",
    "        except Exception:\n",
    "            print(\"Invalid input, hence all values are reset to 1.\")\n",
    "            a = 1; b = 1; c = 1; s = 1;\n",
    "\n",
    "        return a, b, c, s\n",
    "\n",
    "    def __str__(this):\n",
    "        return \"Shape Abstract Object\"\n",
    "\n",
    "class Triangle(Shape):\n",
    "    def __init__(self):\n",
    "        pass\n",
    "    \n",
    "    def calculate_area(self):\n",
    "        a, b, c, s = super().get_data()\n",
    "        return (s * (s - a) * (s - b) * (s - c)) ** 0.5\n",
    "\n",
    "Triangle().calculate_area()"
   ]
  },
  {
   "cell_type": "markdown",
   "metadata": {},
   "source": [
    "Q.6 Write a function filter_long_words() that takes a list of words and an integer n and returns the list\n",
    "of words that are longer than n."
   ]
  },
  {
   "cell_type": "code",
   "execution_count": 6,
   "metadata": {},
   "outputs": [],
   "source": [
    "#Assumptions:\n",
    "#    a) if passed \"list\" is empty then function will return the same.\n",
    "#    b) if passed \"list\" has any numeric element, then it'll be ignored.\n",
    "#    c) if passed \"n\" is less than or equals to 0, then function will return empty list.\n",
    "#    d) if no elements are satisfiying the length criteria, then function will return empty list.\n",
    "\n",
    "def filter_long_words(str_list, n):\n",
    "    if len(str_list) == 0 or n <= 0:\n",
    "        return []\n",
    "    return [string for string in str_list if type(string) == str and len(string) > n]\n",
    "\n",
    "assert filter_long_words([\"abcds\"], 6) == []\n",
    "assert filter_long_words([\"\"], 6) == []\n",
    "assert filter_long_words([-1], 6) == []\n",
    "assert filter_long_words([\"abcds\"], -1) == []\n",
    "assert filter_long_words([\"abcds\"], 5) == []\n",
    "assert filter_long_words([\"abcds\", \"abcd\"], 0) == []\n",
    "assert filter_long_words([\"abcds\", \"abcd\"], 4) == [\"abcds\"]\n",
    "assert filter_long_words([\"abcds\", \"abcd\", 12345], 3) == [\"abcds\", \"abcd\"]\n",
    "assert filter_long_words([\"abcds\", \"abcd\", 12345], 5) == []\n"
   ]
  },
  {
   "cell_type": "markdown",
   "metadata": {},
   "source": [
    "Q.7 Write a Python program using function concept that maps list of words into a list of integers\n",
    "representing the lengths of the corresponding words.\n",
    "    \n",
    "    Hint: If a list [ ab,cde,erty] is passed on to the python function output should come as [2,3,4]\n",
    "    Here 2,3 and 4 are the lengths of the words in the list."
   ]
  },
  {
   "cell_type": "code",
   "execution_count": 7,
   "metadata": {},
   "outputs": [],
   "source": [
    "#Assumptions: \n",
    "#    a) if list is empty then function will return list with single 0.\n",
    "#    b) if any numeric element is present in a given list, then it's length will be -1.\n",
    "\n",
    "def string_length(string_list):\n",
    "    return [0] if len(string_list) == 0 else [len(string) if type(string) == str else -1 for string in string_list]\n",
    "\n",
    "\n",
    "#List with numerics:\n",
    "str_list = [\"ab\", 1, 1.234, \"abcdefg\", \"cde\", \"\", \"-1\"]\n",
    "assert string_length(str_list) == [2, -1, -1, 7, 3, 0, 2]\n",
    "\n",
    "#Empty list:\n",
    "assert string_length([]) == [0]\n",
    "\n",
    "#All strings list:\n",
    "assert string_length(['a', '----']) == [1, 4]"
   ]
  },
  {
   "cell_type": "markdown",
   "metadata": {},
   "source": [
    "Q.8 Write a Python function which takes a character (i.e. a string of length 1) and returns True if it is\n",
    "a vowel, False otherwise."
   ]
  },
  {
   "cell_type": "code",
   "execution_count": 8,
   "metadata": {},
   "outputs": [],
   "source": [
    "def isvowel(char):\n",
    "    return type(char) is str and len(char) == 1 and char.lower() in \"aeiou\"\n",
    "\n",
    "#Multi-char:\n",
    "assert ~isvowel('ae')\n",
    "assert ~isvowel('abc')\n",
    "\n",
    "#Non-vowel:\n",
    "assert ~isvowel('b')\n",
    "assert ~isvowel('c')\n",
    "\n",
    "#Numeric:\n",
    "assert ~isvowel(1.2)\n",
    "assert ~isvowel(1)\n",
    "\n",
    "#Vowel:\n",
    "assert isvowel('a')\n",
    "assert isvowel('u')\n",
    "assert isvowel('e')\n",
    "assert isvowel('o')\n",
    "assert isvowel('i')\n",
    "\n",
    "#Unicode:\n",
    "assert isvowel(u'a')\n",
    "assert ~isvowel('\\u2665')\n",
    "\n",
    "#Custom class:\n",
    "class MyString():\n",
    "    def __init__(this, a_char):\n",
    "        this.a_char = a_char\n",
    "    def __str__(this):\n",
    "        return this.a_char\n",
    "\n",
    "char_obj = MyString('e')\n",
    "assert ~isvowel(char_obj)\n",
    "assert ~isvowel(MyString('a'))\n"
   ]
  },
  {
   "cell_type": "markdown",
   "metadata": {},
   "source": [
    "## Great job!"
   ]
  }
 ],
 "metadata": {
  "kernelspec": {
   "display_name": "Python 3",
   "language": "python",
   "name": "python3"
  },
  "language_info": {
   "codemirror_mode": {
    "name": "ipython",
    "version": 3
   },
   "file_extension": ".py",
   "mimetype": "text/x-python",
   "name": "python",
   "nbconvert_exporter": "python",
   "pygments_lexer": "ipython3",
   "version": "3.7.6"
  },
  "widgets": {
   "application/vnd.jupyter.widget-state+json": {
    "state": {},
    "version_major": 2,
    "version_minor": 0
   }
  }
 },
 "nbformat": 4,
 "nbformat_minor": 2
}
