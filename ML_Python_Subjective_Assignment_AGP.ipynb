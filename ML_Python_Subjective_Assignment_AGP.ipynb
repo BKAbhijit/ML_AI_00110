{
 "cells": [
  {
   "cell_type": "markdown",
   "metadata": {},
   "source": [
    "Q1. Write a Python program to get the string from the given string where\n",
    "all the occurrence of its first char has been changed to '$,' except first\n",
    "char itself?\n",
    "\n",
    "    Sample String: 'prospect'\n",
    "    Expected Result : 'pros$ect'\n"
   ]
  },
  {
   "cell_type": "code",
   "execution_count": 1,
   "metadata": {},
   "outputs": [],
   "source": [
    "string = \"prospectplus\"\n",
    "resultant_string = \"pros$ect$lus\"\n",
    "\n",
    "find_with = string[0]\n",
    "replace_with = \"$\"\n",
    "\n",
    "assert find_with + string.split(find_with, 1)[1].replace(find_with, \"$\") == resultant_string\n",
    "assert string.replace(find_with, \"$\").replace(replace_with, find_with, 1) == resultant_string\n"
   ]
  },
  {
   "cell_type": "markdown",
   "metadata": {},
   "source": [
    "Q2. Write a Python program to get the single string from the two given\n",
    "strings, and separated by the space and swap the first two characters of\n",
    "each string?\n",
    "\n",
    "    Sample String : 'abc', 'xyz'.\n",
    "    Expected Result: 'xyc abz'"
   ]
  },
  {
   "cell_type": "code",
   "execution_count": 2,
   "metadata": {},
   "outputs": [],
   "source": [
    "first_string = \"abc\"\n",
    "second_string = \"xyz\"\n",
    "expected_result = 'xyc abz'\n",
    "\n",
    "actual_result = (second_string[0:2] + first_string[2:]) + \" \" + (first_string[0:2] + second_string[2:])\n",
    "\n",
    "assert actual_result == expected_result\n"
   ]
  },
  {
   "cell_type": "markdown",
   "metadata": {},
   "source": [
    "Q3. Write the Python program to add 'ing' at the end of the given string\n",
    "(length of the string should be at least 3). If given string already ends\n",
    "with 'ing,' then add 'ly' instead. If string length of the given string is less\n",
    "than 3, leave it unchanged?\n",
    "\n",
    "\n",
    "    Sample string: ' abc '\n",
    "    Expected result: ' abcing '\n",
    "    Sample string: ' string '\n",
    "    Expected result: ' stringly '\n"
   ]
  },
  {
   "cell_type": "code",
   "execution_count": 3,
   "metadata": {},
   "outputs": [],
   "source": [
    "def suffix_string(string):\n",
    "    if type(string) != str or len(string.strip()) < 3:\n",
    "        return string\n",
    "    \n",
    "    return (string + \"ly\") if string.strip().endswith(\"ing\") else (string + \"ing\")\n",
    "\n",
    "assert suffix_string(\"string\") == \"stringly\"\n",
    "assert suffix_string(\"abc\") == \"abcing\"\n",
    "assert suffix_string(\"ing\") == \"ingly\"\n",
    "assert suffix_string(\"ingly\") == \"inglying\"\n",
    "assert suffix_string(123) == 123\n"
   ]
  },
  {
   "cell_type": "markdown",
   "metadata": {},
   "source": [
    "Q4. Write the Python program to find the first appearance of the\n",
    "substring 'not' and 'poor' from the given string, if 'not' follows the 'poor',\n",
    "replace the whole 'not'...' poor' substring with 'good'.Return the resulting\n",
    "string.\n",
    "\n",
    "    Sample string: 'The lyrics are not that poor!'\n",
    "    'The lyrics are poor!'\n",
    "    Expected Result: 'The lyrics are good!'\n",
    "    'The lyrics are poor!'"
   ]
  },
  {
   "cell_type": "code",
   "execution_count": 4,
   "metadata": {},
   "outputs": [],
   "source": [
    "import re\n",
    "\n",
    "input_string1 = 'The lyrics are not that poor!'\n",
    "input_string2 = 'The lyrics are poor!'\n",
    "\n",
    "regex = r\"not\\s+\\w*\\s*poor\"\n",
    "replace_with = \"good\"\n",
    "\n",
    "assert re.sub(regex, replace_with, input_string1, count=1) == \"The lyrics are good!\"\n",
    "assert re.sub(regex, replace_with, input_string2, count=1) == 'The lyrics are poor!'\n"
   ]
  },
  {
   "cell_type": "markdown",
   "metadata": {},
   "source": [
    "Q5. Write the Python program to remove the characters which have odd\n",
    "index values of a given string."
   ]
  },
  {
   "cell_type": "code",
   "execution_count": 5,
   "metadata": {},
   "outputs": [],
   "source": [
    "input_string = \"This is a sample string.\"\n",
    "\n",
    "assert input_string[1::2] == 'hsi  apesrn.'\n",
    "assert \"1234567890\"[1::2] == '24680'"
   ]
  },
  {
   "cell_type": "markdown",
   "metadata": {},
   "source": [
    "Q6. Write the Python function to get a string made of 4 copies of the last two characters of the specified string (length must be at least 2).\n",
    "\n",
    "Sample function and result :\n",
    "insert-end ('Python') -> abababab\n",
    "insert-end('Exercises') -> jkjkjkjk"
   ]
  },
  {
   "cell_type": "code",
   "execution_count": 6,
   "metadata": {},
   "outputs": [],
   "source": [
    "def repeat_last2chars(string):\n",
    "    return string[len(string)-2:] * 4\n",
    "\n",
    "assert repeat_last2chars(\"python\") == \"onononon\"\n",
    "assert repeat_last2chars(\"Exercises\") == \"eseseses\"\n",
    "assert repeat_last2chars(\"om\") == \"omomomom\""
   ]
  },
  {
   "cell_type": "markdown",
   "metadata": {},
   "source": [
    "Q7. Write the python function to get a string made of its first three characters of a specified string. If the length of the string is less than 3 then return the original string.\n",
    "\n",
    "Sample function and result :\n",
    "first-three('ipy') -> ipy\n",
    "first-three('python') -> pyt"
   ]
  },
  {
   "cell_type": "code",
   "execution_count": 7,
   "metadata": {},
   "outputs": [],
   "source": [
    "def get_first3chars(string):\n",
    "    return string[:3]\n",
    "\n",
    "assert get_first3chars(\"ipython\") == \"ipy\"\n",
    "assert get_first3chars(\"ipy\") == \"ipy\"\n",
    "assert get_first3chars(\"ip\") == \"ip\"\n",
    "assert get_first3chars(\"iNeuron\") == \"iNe\"\n",
    "assert get_first3chars(\"\") == \"\""
   ]
  },
  {
   "cell_type": "markdown",
   "metadata": {},
   "source": [
    "Q8. Write the python program to print the following floating numbers up\n",
    "to 2 decimal places?"
   ]
  },
  {
   "cell_type": "code",
   "execution_count": 8,
   "metadata": {},
   "outputs": [],
   "source": [
    "real_list = [1.2345, 34.58798, 123.87, 23.126, 1.0]\n",
    "\n",
    "assert [round(real, 2) for real in real_list] == [1.23, 34.59, 123.87, 23.13, 1.00]"
   ]
  },
  {
   "cell_type": "markdown",
   "metadata": {},
   "source": [
    "Q9. Write the Python program to format a number with a percentage?"
   ]
  },
  {
   "cell_type": "code",
   "execution_count": 9,
   "metadata": {},
   "outputs": [
    {
     "name": "stdout",
     "output_type": "stream",
     "text": [
      "The addition of 12 & 65 is 77.\n",
      "The Indian Cricketers' names are: ['Rahul', 'Virat', 'Jasprit'] \n",
      "The percentage marks are 86.60%\n"
     ]
    }
   ],
   "source": [
    "operation = \"addition\"\n",
    "operand1 = 12\n",
    "operand2 = 65\n",
    "\n",
    "print(\"The %s of %d & %d is %d.\" % (operation, operand1, operand2, (operand1 + operand2)))\n",
    "\n",
    "name_list = [\"Rahul\", \"Virat\", \"Jasprit\"]\n",
    "print(\"The Indian Cricketers' names are: %s \" % name_list)\n",
    "\n",
    "mark_list = [89, 72, 93, 80, 99]\n",
    "print(\"The percentage marks are %.2f%%\" % (sum(mark_list)/len(mark_list)))"
   ]
  },
  {
   "cell_type": "markdown",
   "metadata": {},
   "source": [
    "Q10. Write the Python program to count occurrences of a substring in a\n",
    "String?"
   ]
  },
  {
   "cell_type": "code",
   "execution_count": 10,
   "metadata": {},
   "outputs": [],
   "source": [
    "input_string = \"What is your name? My name is Abhijit & name of my city is Pune.\"\n",
    "\n",
    "assert input_string.count(\"name\") == 3\n",
    "assert input_string.count(\"pune\".capitalize()) == 1\n"
   ]
  },
  {
   "cell_type": "markdown",
   "metadata": {},
   "source": [
    "Q11. Write the Python program to count repeated characters in a string.\n",
    "\n",
    "    Sample string: ' thequickbrownjumpsoverthelazydog '\n",
    "    \n",
    "    Expected output:\n",
    "    o 3\n",
    "    e 3\n",
    "    u 2\n",
    "    h 2\n",
    "    r 2\n",
    "    t 2"
   ]
  },
  {
   "cell_type": "code",
   "execution_count": 11,
   "metadata": {},
   "outputs": [
    {
     "name": "stdout",
     "output_type": "stream",
     "text": [
      "o 3\n",
      "e 3\n",
      "u 2\n",
      "t 2\n",
      "r 2\n",
      "h 2\n",
      "  2\n",
      "z 1\n",
      "y 1\n",
      "w 1\n",
      "v 1\n",
      "s 1\n",
      "q 1\n",
      "p 1\n",
      "n 1\n",
      "m 1\n",
      "l 1\n",
      "k 1\n",
      "j 1\n",
      "i 1\n",
      "g 1\n",
      "d 1\n",
      "c 1\n",
      "b 1\n",
      "a 1\n",
      "----------\n",
      "o 3\n",
      "e 3\n",
      "u 2\n",
      "t 2\n",
      "r 2\n",
      "h 2\n",
      "  2\n",
      "z 1\n",
      "y 1\n",
      "w 1\n",
      "v 1\n",
      "s 1\n",
      "q 1\n",
      "p 1\n",
      "n 1\n",
      "m 1\n",
      "l 1\n",
      "k 1\n",
      "j 1\n",
      "i 1\n",
      "g 1\n",
      "d 1\n",
      "c 1\n",
      "b 1\n",
      "a 1\n"
     ]
    }
   ],
   "source": [
    "input_string = ' thequickbrownjumpsoverthelazydog '\n",
    "unique_chars = set(input_string)\n",
    "\n",
    "# Easier logic:\n",
    "for char_freq in sorted([(input_string.count(char), char) for char in unique_chars], reverse=True):\n",
    "    print(char_freq[1] + \" \" + str(char_freq[0]))\n",
    "\n",
    "print(\"-\" * 10)\n",
    "\n",
    "# Bit complicated logic:\n",
    "for char_freq in sorted([str(input_string.count(char)) + \"|\" + char for char in unique_chars], reverse=True):\n",
    "    print(char_freq.split(sep=\"|\", maxsplit=1)[1] + \" \" + char_freq.split(sep=\"|\", maxsplit=1)[0])\n"
   ]
  },
  {
   "cell_type": "markdown",
   "metadata": {},
   "source": [
    "Q12. Write the Python program to print the square and cube symbol in\n",
    "the area of a rectangle and volume of a cylinder?\n",
    "\n",
    "    Sample outputThe area of the rectangle is 1256.66cm2\n",
    "    The volume of the cylinder is 1254.725cm3\n"
   ]
  },
  {
   "cell_type": "code",
   "execution_count": 12,
   "metadata": {},
   "outputs": [
    {
     "name": "stdout",
     "output_type": "stream",
     "text": [
      "The area of the rectangle is 1256.66cm²\n",
      "The volume of the cylinder is 1254.725cm³\n",
      "Chemical equation/formula of water is H₂O.\n"
     ]
    }
   ],
   "source": [
    "ft1 = \"The area of the rectangle is {}cm\\u00B2\".format(1256.66)\n",
    "volume = 1254.725\n",
    "ft2 = f\"The volume of the cylinder is {volume}cm\\u00b3\"\n",
    "ft3 = \"Chemical equation/formula of water is H\\u2082O.\"\n",
    "print(ft1)\n",
    "print(ft2)\n",
    "print(ft3)"
   ]
  },
  {
   "cell_type": "markdown",
   "metadata": {},
   "source": [
    "Q13. Write the Python program to check if a string contains all letters of the alphabet?"
   ]
  },
  {
   "cell_type": "code",
   "execution_count": 13,
   "metadata": {},
   "outputs": [],
   "source": [
    "assert \"string\".isalpha() == True\n",
    "assert \"alpha1\".isalpha() == False\n",
    "assert all([ch.isalpha() for ch in \"2beta\"]) == False"
   ]
  },
  {
   "cell_type": "markdown",
   "metadata": {},
   "source": [
    "Q14. Write the Python program to find the second most repeated word in a given string?"
   ]
  },
  {
   "cell_type": "code",
   "execution_count": 14,
   "metadata": {},
   "outputs": [
    {
     "name": "stdout",
     "output_type": "stream",
     "text": [
      "Most Frequent Word: name\n",
      "Second Most Frequent Word: is\n"
     ]
    }
   ],
   "source": [
    "def trim(string):\n",
    "    punctuations = \"!\\\"#$%&'()*+,-./:;<=>?@[\\]^_`{|}~\"\n",
    "    for pchar in punctuations:\n",
    "        string = string.replace(pchar, \"\")\n",
    "    \n",
    "    return string\n",
    "\n",
    "def mymap(function, sequence):\n",
    "    result = [sequence.copy()]\n",
    "    result.clear()\n",
    "    for element in sequence:\n",
    "        result.append(function(element))\n",
    "\n",
    "    return result\n",
    "\n",
    "input_string = \"this is my name. that is your name, so what's there in name?\"\n",
    "\n",
    "trimmed_words = mymap(trim, input_string.split())\n",
    "unique_words = set(trimmed_words)\n",
    "\n",
    "def find_frequent_word(word_list, highest_rank):\n",
    "    unique_words = set(word_list)\n",
    "    return sorted([(word_list.count(word), word) for word in unique_words], reverse=True)[highest_rank - 1][1]\n",
    "\n",
    "most_frequent_word = find_frequent_word(trimmed_words, 1)\n",
    "print(\"Most Frequent Word: \" + most_frequent_word)\n",
    "\n",
    "second_most_frequent_word = find_frequent_word(trimmed_words, 2)\n",
    "print(\"Second Most Frequent Word: \" + second_most_frequent_word)\n"
   ]
  },
  {
   "cell_type": "markdown",
   "metadata": {},
   "source": [
    "Q15. Write the Python program to find the minimum window in the given string, which will contains all the characters of another given strings?\n",
    "\n",
    "    Example 1\n",
    "    Input : string1 = \" PRWSOERIUSFK \"\n",
    "    string2 = \" OSU \"\n",
    "    Output: Minimum window is \"OERIUS\""
   ]
  },
  {
   "cell_type": "code",
   "execution_count": 15,
   "metadata": {},
   "outputs": [
    {
     "data": {
      "text/plain": [
       "'SOERIU'"
      ]
     },
     "execution_count": 15,
     "metadata": {},
     "output_type": "execute_result"
    }
   ],
   "source": [
    "from itertools import islice\n",
    "\n",
    "\n",
    "input_string = \"onetweothreheojhtorejtpeirretoesftsdfdorotetoorreer\"\n",
    "search_chars = \"tore\"\n",
    "\n",
    "input_string = \" PRWSOERIUSFK \"\n",
    "search_chars = \" OSU \"\n",
    "search_chars_set = set(search_chars.strip())\n",
    "search_chars = ''.join(str(ch) for ch in search_chars_set)\n",
    "\n",
    "search_char_tuple = [(idx, input_string[idx]) for idx in range(len(input_string))]\n",
    "\n",
    "char_index_dict = {}\n",
    "start_index = 0\n",
    "end_index = len(input_string)\n",
    "\n",
    "for idx in range(start_index, end_index):\n",
    "    for search_char in search_chars:\n",
    "        start_index = input_string.find(search_char, start_index)\n",
    "        if start_index != -1:\n",
    "            char_index_dict[start_index] = search_char\n",
    "\n",
    "\n",
    "char_index_dict = {}\n",
    "\n",
    "for search_char in search_chars:\n",
    "    start_index = 0\n",
    "    end_index = len(input_string)\n",
    "    \n",
    "    for idx in range(len(input_string)):\n",
    "        found_at_index = input_string.find(search_char, idx)\n",
    "        if found_at_index != -1:\n",
    "            char_index_dict[found_at_index] = search_char\n",
    "\n",
    "sorted_dict = {}\n",
    "for idx in sorted(char_index_dict.keys()):\n",
    "    sorted_dict[idx] = char_index_dict.get(idx)\n",
    "\n",
    "#print(sorted_dict)\n",
    "\n",
    "subgroup_size = len(search_chars)\n",
    "subgroup_count = len(sorted_dict) - subgroup_size + 1\n",
    "\n",
    "temp_dict = sorted_dict.copy()\n",
    "subgroups_list = []\n",
    "\n",
    "for ctr in range(subgroup_count):\n",
    "    subgroups_list.append(list(islice(temp_dict.items(), subgroup_size)))\n",
    "    temp_dict.pop(list(temp_dict.keys())[0])\n",
    "    \n",
    "#print(subgroups_list)\n",
    "\n",
    "subgroup_list_idx = -1\n",
    "final_subgroups_list = []\n",
    "for sg_list in subgroups_list:\n",
    "    subgroup_list_idx += 1\n",
    "    tmp_str = \"\"\n",
    "    for ctr in range(len(sg_list)):\n",
    "        tmp_str += sg_list[ctr][1]\n",
    "    if len(set(tmp_str)) == len(search_chars):\n",
    "        final_subgroups_list.append(sg_list)\n",
    "\n",
    "distance_list = []\n",
    "for sg_list in final_subgroups_list:\n",
    "    distance_list.append(sg_list[len(search_chars) - 1][0] - sg_list[0][0])\n",
    "\n",
    "#print(distance_list)\n",
    "\n",
    "min_dist_idx = distance_list.index(min(distance_list))\n",
    "#print(min_dist_idx)\n",
    "distance_list[min_dist_idx]\n",
    "#print(final_subgroups_list[min_dist_idx])\n",
    "start_pos = final_subgroups_list[min_dist_idx][0][0]\n",
    "end_pos = final_subgroups_list[min_dist_idx][len(search_chars)-1][0]\n",
    "\n",
    "input_string[start_pos:end_pos+1]"
   ]
  },
  {
   "cell_type": "markdown",
   "metadata": {},
   "source": [
    "## Other Easier & More Featured Implementation is:"
   ]
  },
  {
   "cell_type": "code",
   "execution_count": 16,
   "metadata": {},
   "outputs": [
    {
     "name": "stdout",
     "output_type": "stream",
     "text": [
      "\n",
      "Input String:\n",
      " PRWSOERIUSFK \n",
      "\n",
      "Search Character Set:\n",
      "SUO\n",
      "\n",
      "Matching SubString(s) with Minimum Window (i.e. Length):\n",
      "SOERIU : (4, 9)\n",
      "OERIUS : (5, 10)\n"
     ]
    }
   ],
   "source": [
    "import itertools\n",
    "\n",
    "\n",
    "input_string = \" PRWSOERIUSFK \" #\"onetweothreheojhtorejtpeirretoesftsdfdoror\"\n",
    "search_chars = \" OSU \" #\"tore\"\n",
    "\n",
    "#input_string = \"onetweothreheojhtorejtpeirretoesftsdfdorotetoorreer\"\n",
    "#search_chars = \"tore\"\n",
    "\n",
    "#Remove duplicate characters from set of searching characters:\n",
    "search_chars_set = set(search_chars.strip())\n",
    "search_chars = ''.join(str(ch) for ch in search_chars_set)\n",
    "\n",
    "#Create a list of sorted tuples containing index & searching character found in given input string:\n",
    "idx_char_list = \\\n",
    "    sorted([(idx, search_char)\n",
    "        for search_char in search_chars\n",
    "            for idx, each_char in enumerate(input_string) \n",
    "                if each_char == search_char])\n",
    "#print(idx_char_list)\n",
    "\n",
    "#Convert list of sorted tuples to dictionary with key: found_index & value: searching_character:\n",
    "#[sorted_dict.setdefault(idx, char) for idx, char in idx_char_list]\n",
    "#print(sorted_dict)\n",
    "\n",
    "#Convert list of sorted tuples to dictionary with key: searching_character & values: list of found_indexes: :\n",
    "char_idxs_dict = {}\n",
    "[char_idxs_dict.setdefault(char, []).append(idx) for idx, char in idx_char_list]\n",
    "#print(char_idxs_dict)\n",
    "\n",
    "shorted_distance = len(input_string)\n",
    "other_idx_list = []\n",
    "this_idx = -1\n",
    "matched_substring_dict = {}\n",
    "\n",
    "for curr_idx_list in list(char_idxs_dict.values()):\n",
    "    #print(curr_idx_list)\n",
    "    this_idx += 1\n",
    "    other_idx_list = list(char_idxs_dict.values())\n",
    "    other_idx_list.pop(this_idx)\n",
    "    other_idx_list = sorted(list(itertools.chain(*other_idx_list)))\n",
    "    #print(other_idx_list)\n",
    "\n",
    "    for i in range(len(curr_idx_list)):\n",
    "        for j in range(len(other_idx_list)):\n",
    "            curr_idx, other_idx = curr_idx_list[i], other_idx_list[j]\n",
    "            \n",
    "            if curr_idx - other_idx < 0:\n",
    "                substr = input_string[curr_idx:other_idx+1]\n",
    "            else:\n",
    "                substr = input_string[other_idx:curr_idx+1]\n",
    "\n",
    "            distance = (curr_idx - other_idx)\n",
    "            if distance < 0 and abs(distance) + 1 >= len(search_chars):\n",
    "                substring = input_string[curr_idx:other_idx+1]\n",
    "                #print(f\"({curr_idx}, {other_idx}): {substring}\")\n",
    "                \n",
    "                #Check if all search characters are found in a currently extracted substring:\n",
    "                if all([char in substring for char in search_chars_set]) \\\n",
    "                    and len(substring) <= shorted_distance:\n",
    "                    \n",
    "                    shorted_distance = min(len(substring), shorted_distance)\n",
    "                    idx_range = \"(\" + str(curr_idx) + \", \" + str(other_idx) + \")\"\n",
    "                    \n",
    "                    if len(matched_substring_dict) == 0: #when dict is empty.\n",
    "                        matched_substring_dict[idx_range] = substring\n",
    "                    elif len(substring) == len(list(matched_substring_dict.values())[0]): #when length matches.\n",
    "                        matched_substring_dict[idx_range] = substring\n",
    "                    else:\n",
    "                        del_key_list = []\n",
    "                        for key_idx, val_substr in matched_substring_dict.items(): #\n",
    "                            if len(substring) < len(val_substr):\n",
    "                                del_key_list.append(key_idx) #add all keys having val str greater len.\n",
    "                        [matched_substring_dict.pop(key) for key in del_key_list] #remove kv-pairs having val str greater len.\n",
    "                        matched_substring_dict[idx_range] = substring\n",
    "                        \n",
    "\n",
    "print(\"\\nInput String:\\n\" + input_string)\n",
    "print(\"\\nSearch Character Set:\\n\" + search_chars)\n",
    "print(\"\\nMatching SubString(s) with Minimum Window (i.e. Length):\")\n",
    "for ir, mss in matched_substring_dict.items(): #ir: index range & mss: matched substring\n",
    "    print(mss + \" : \" + ir)\n"
   ]
  },
  {
   "cell_type": "markdown",
   "metadata": {},
   "source": [
    "Q16. Write the Python program to find smallest window that contains all characters of the given string?\n",
    "\n",
    "    Original Strings:\n",
    "    asdaewsqgtwwsa\n",
    "    Smallest window that contains all characters of the said string:\n",
    "    Daewsqgt"
   ]
  },
  {
   "cell_type": "code",
   "execution_count": 17,
   "metadata": {},
   "outputs": [
    {
     "name": "stdout",
     "output_type": "stream",
     "text": [
      "\n",
      "Input String:\n",
      "asdaewsqgtwwsa\n",
      "\n",
      "Smallest window that contains all characters of the said string:\n",
      "daewsqgt : (2, 9)\n"
     ]
    }
   ],
   "source": [
    "import itertools\n",
    "\n",
    "\n",
    "input_string = \"asdaewsqgtwwsa\"\n",
    "search_chars = \"asdaewsqgtwwsa\"\n",
    "\n",
    "#Remove duplicate characters from set of searching characters:\n",
    "search_chars_set = set(search_chars.strip().lower())\n",
    "search_chars = ''.join(str(ch) for ch in search_chars_set)\n",
    "\n",
    "#Create a list of sorted tuples containing index & searching character found in given input string:\n",
    "idx_char_list = \\\n",
    "    sorted([(idx, search_char)\n",
    "        for search_char in search_chars\n",
    "            for idx, each_char in enumerate(input_string) \n",
    "                if each_char == search_char])\n",
    "#print(idx_char_list)\n",
    "\n",
    "#Convert list of sorted tuples to dictionary with key: found_index & value: searching_character:\n",
    "#[sorted_dict.setdefault(idx, char) for idx, char in idx_char_list]\n",
    "#print(sorted_dict)\n",
    "\n",
    "#Convert list of sorted tuples to dictionary with key: searching_character & values: list of found_indexes: :\n",
    "char_idxs_dict = {}\n",
    "[char_idxs_dict.setdefault(char, []).append(idx) for idx, char in idx_char_list]\n",
    "#print(char_idxs_dict)\n",
    "\n",
    "shorted_distance = len(input_string)\n",
    "other_idx_list = []\n",
    "this_idx = -1\n",
    "matched_substring_dict = {}\n",
    "\n",
    "for curr_idx_list in list(char_idxs_dict.values()):\n",
    "    #print(curr_idx_list)\n",
    "    this_idx += 1\n",
    "    other_idx_list = list(char_idxs_dict.values())\n",
    "    other_idx_list.pop(this_idx)\n",
    "    other_idx_list = sorted(list(itertools.chain(*other_idx_list)))\n",
    "    #print(other_idx_list)\n",
    "\n",
    "    for i in range(len(curr_idx_list)):\n",
    "        for j in range(len(other_idx_list)):\n",
    "            curr_idx, other_idx = curr_idx_list[i], other_idx_list[j]\n",
    "            \n",
    "            if curr_idx - other_idx < 0:\n",
    "                substr = input_string[curr_idx:other_idx+1]\n",
    "            else:\n",
    "                substr = input_string[other_idx:curr_idx+1]\n",
    "\n",
    "            distance = (curr_idx - other_idx)\n",
    "            if distance < 0 and abs(distance) + 1 >= len(search_chars):\n",
    "                substring = input_string[curr_idx:other_idx+1]\n",
    "                #print(f\"({curr_idx}, {other_idx}): {substring}\")\n",
    "                \n",
    "                #Check if all search characters are found in a currently extracted substring:\n",
    "                if all([char in substring for char in search_chars_set]) \\\n",
    "                    and len(substring) <= shorted_distance:\n",
    "                    \n",
    "                    shorted_distance = min(len(substring), shorted_distance)\n",
    "                    idx_range = \"(\" + str(curr_idx) + \", \" + str(other_idx) + \")\"\n",
    "                    \n",
    "                    if len(matched_substring_dict) == 0: #when dict is empty.\n",
    "                        matched_substring_dict[idx_range] = substring\n",
    "                    elif len(substring) == len(list(matched_substring_dict.values())[0]): #when length matches.\n",
    "                        matched_substring_dict[idx_range] = substring\n",
    "                    else:\n",
    "                        del_key_list = []\n",
    "                        for key_idx, val_substr in matched_substring_dict.items(): #\n",
    "                            if len(substring) < len(val_substr):\n",
    "                                del_key_list.append(key_idx) #add all keys having val str greater len.\n",
    "                        [matched_substring_dict.pop(key) for key in del_key_list] #remove kv-pairs having val str greater len.\n",
    "                        matched_substring_dict[idx_range] = substring\n",
    "                        \n",
    "\n",
    "print(\"\\nInput String:\\n\" + input_string)\n",
    "print(\"\\nSmallest window that contains all characters of the said string:\")\n",
    "for ir, mss in matched_substring_dict.items(): #ir: index range & mss: matched substring\n",
    "    print(mss + \" : \" + ir)\n"
   ]
  },
  {
   "cell_type": "markdown",
   "metadata": {},
   "source": [
    "Q17. Write the Python program to count number of substrings from a given string of lowercase alphabets with exactly k distinct (given) characters?\n",
    "\n",
    "    Input a string (lowercase alphabets): wolf\n",
    "    Input k: 4\n",
    "    Number of substrings with exactly 4 distinct characters: 1"
   ]
  },
  {
   "cell_type": "code",
   "execution_count": 18,
   "metadata": {},
   "outputs": [
    {
     "name": "stdout",
     "output_type": "stream",
     "text": [
      "['whoa', 'imas', 'hoam', 'oami', 'maso', 'asou']\n",
      "6\n"
     ]
    }
   ],
   "source": [
    "input_string = \"whoamiimasoul\"\n",
    "k_value = 4\n",
    "\n",
    "unique_substrings = set([input_string[idx:idx+k_value] for idx in range(len(input_string) - k_value)])\n",
    "#print(unique_substrings)\n",
    "\n",
    "unique_char_substrings = [substring for substring in unique_substrings if(len(substring) == len(set(substring)))]\n",
    "print(unique_char_substrings)\n",
    "print(len(unique_char_substrings))"
   ]
  },
  {
   "cell_type": "markdown",
   "metadata": {},
   "source": [
    "Q18. Write the Python program to count number of non-empty substrings of the given string?\n",
    "\n",
    "Input a string: w3resource\n",
    "Number of substrings:\n",
    "55"
   ]
  },
  {
   "cell_type": "code",
   "execution_count": 19,
   "metadata": {},
   "outputs": [],
   "source": [
    "from itertools import permutations\n",
    "\n",
    "\n",
    "def permute(string):\n",
    "    if type(string) != str:\n",
    "         return -1\n",
    "    if len(string.strip()) == 0:\n",
    "        return 0\n",
    "\n",
    "    return len([string for string in permutations(string, len(string))])\n",
    "\n",
    "\n",
    "assert permute(\"w3resource\") == 3628800\n",
    "assert permute(\"abcde\") == 120\n",
    "assert permute(\"abcd\") == 24\n",
    "assert permute(\"abc\") == 6\n",
    "assert permute(\"ab\") == 2\n"
   ]
  },
  {
   "cell_type": "markdown",
   "metadata": {},
   "source": [
    "Q19. Write the Python program to count number of substrings with same first and last characters of the given string?\n",
    "\n",
    "    Input a string: abcd\n",
    "    4\n"
   ]
  },
  {
   "cell_type": "code",
   "execution_count": 20,
   "metadata": {},
   "outputs": [
    {
     "name": "stdout",
     "output_type": "stream",
     "text": [
      "['axyd', 'ayxd', 'dxya', 'dyxa']\n",
      "4\n"
     ]
    }
   ],
   "source": [
    "input_string = \"axyd\"\n",
    "first_char = input_string[0]\n",
    "last_char = input_string[-1]\n",
    "\n",
    "#print(first_char)\n",
    "#print(last_char)\n",
    "\n",
    "middle_substring = input_string[1:len(input_string)-1]\n",
    "#print(middle_substring)\n",
    "\n",
    "from itertools import permutations\n",
    "\n",
    "list1 = [(first_char + str(substr) + last_char)\n",
    "     for substr in set([''.join(lst) for ch in range(len(middle_substring)) for lst in permutations(middle_substring, len(middle_substring))])]\n",
    "\n",
    "list2 = [(last_char + str(substr) + first_char)\n",
    "     for substr in set([''.join(lst) for ch in range(len(middle_substring)) for lst in permutations(middle_substring, len(middle_substring))])]\n",
    "\n",
    "list1.extend(list2)\n",
    "print(list1)\n",
    "print(len(list1))"
   ]
  },
  {
   "cell_type": "markdown",
   "metadata": {},
   "source": [
    "Q20. Write the Python program to count the number of strings where the string length is 2 or more, and first and last character are same from a given list of strings.\n",
    "\n",
    "Sample List : ['abc', 'xyz', 'wxw', '1331']\n",
    "Expected Result: 2"
   ]
  },
  {
   "cell_type": "code",
   "execution_count": 21,
   "metadata": {},
   "outputs": [],
   "source": [
    "def filter_list(str_list):\n",
    "    if len(str_list) == 0:\n",
    "        return None\n",
    "    return len([str for str in str_list if len(str) >= 2 and str[0] == str[-1]])\n",
    "\n",
    "assert filter_list(['abc', 'xyz', 'wxw', '1331']) == 2\n",
    "assert filter_list([]) == None\n",
    "assert filter_list(['zzz', 'adsasda', 'bb']) == 3\n",
    "assert filter_list(['zzza', 'adsasdag', 'bba']) == 0\n"
   ]
  },
  {
   "cell_type": "markdown",
   "metadata": {},
   "source": [
    "Q21. Write the Python program to get a list, sorted in increasing order by the last element in each tuple from the given list of non-empty\n",
    "tuples?\n",
    "\n",
    "Sample List - [ (2, 5), (1, 2), (4, 4), (2, 3), (2, 1) ]\n",
    "Expected Result - [ (2, 1), (1, 2), (2, 3), (4, 4), (2, 5) ]\n"
   ]
  },
  {
   "cell_type": "code",
   "execution_count": 22,
   "metadata": {},
   "outputs": [
    {
     "name": "stdout",
     "output_type": "stream",
     "text": [
      "Sample List:  [(2, 5), (1, 2), (4, 4), (2, 3), (2, 1)]\n",
      "Expected Result:  [(2, 1), (1, 2), (2, 3), (4, 4), (2, 5)]\n"
     ]
    }
   ],
   "source": [
    "num_list = [ (2, 5), (1, 2), (4, 4), (2, 3), (2, 1) ]\n",
    "\n",
    "expected_list = [(second, first) for first, second in sorted([(second, first) for first, second in num_list])]\n",
    "\n",
    "print(\"Sample List: \", num_list)\n",
    "print(\"Expected Result: \", expected_list)"
   ]
  },
  {
   "cell_type": "markdown",
   "metadata": {},
   "source": [
    "Q22. Write the Python program to remove duplicates from a list?"
   ]
  },
  {
   "cell_type": "code",
   "execution_count": 23,
   "metadata": {},
   "outputs": [
    {
     "name": "stdout",
     "output_type": "stream",
     "text": [
      "Duplicate Elements' List:  [1, 2, 1, 5, 7, 3, 5, 2]\n",
      "Unique Elements' List:  [1, 2, 3, 5, 7]\n"
     ]
    }
   ],
   "source": [
    "duplicate_list = [1, 2, 1, 5, 7, 3, 5, 2]\n",
    "\n",
    "unique_list = list(set(duplicate_list))\n",
    "\n",
    "print(\"Duplicate Elements' List: \", duplicate_list)\n",
    "print(\"Unique Elements' List: \", unique_list)"
   ]
  },
  {
   "cell_type": "markdown",
   "metadata": {},
   "source": [
    "Q23. Write the Python program to find the list of words that are longer than n from a given list of words?"
   ]
  },
  {
   "cell_type": "code",
   "execution_count": 24,
   "metadata": {},
   "outputs": [],
   "source": [
    "def filter_str_list(str_list, str_len):\n",
    "    if str_len <= 0:\n",
    "        return None\n",
    "\n",
    "    return [string for string in str_list if len(string) > str_len]\n",
    "\n",
    "assert filter_str_list(['abcde', 'xyz', 'wxw', '1331'], 3) == ['abcde', '1331']\n",
    "assert filter_str_list([], 0) == None\n",
    "assert filter_str_list([], 1) == []\n",
    "assert filter_str_list(['a'], 1) == []\n",
    "assert filter_str_list([\"abcd\", \"qwerty\"], 0) == None\n",
    "assert filter_str_list([\"abcd\", \"qwerty\"], 10) == []\n"
   ]
  },
  {
   "cell_type": "markdown",
   "metadata": {},
   "source": [
    "Q24. Write the Python program to print a specified list after removing the 0th, 4th, and 5th elements?\n",
    "\n",
    "    Sample List - ['Red', 'Green', 'White', 'Black', 'Pink', 'Yellow']\n",
    "    Expected Output - ['Green', 'White', 'Black']\n"
   ]
  },
  {
   "cell_type": "code",
   "execution_count": 25,
   "metadata": {},
   "outputs": [
    {
     "data": {
      "text/plain": [
       "['Green', 'White', 'Black']"
      ]
     },
     "execution_count": 25,
     "metadata": {},
     "output_type": "execute_result"
    }
   ],
   "source": [
    "sample_list = ['Red', 'Green', 'White', 'Black', 'Pink', 'Yellow']\n",
    "sample_list[1:4]"
   ]
  },
  {
   "cell_type": "markdown",
   "metadata": {},
   "source": [
    "Q25. Write the Python program to generate all permutations of a list in Python?"
   ]
  },
  {
   "cell_type": "code",
   "execution_count": 26,
   "metadata": {},
   "outputs": [
    {
     "name": "stdout",
     "output_type": "stream",
     "text": [
      "Original List:  [1, 2, 3]\n",
      "Permuted List:  [(1, 2, 3), (1, 3, 2), (2, 1, 3), (2, 3, 1), (3, 1, 2), (3, 2, 1)]\n"
     ]
    }
   ],
   "source": [
    "from itertools import permutations\n",
    "\n",
    "original_list = [1, 2, 3]\n",
    "permuted_list = [permu for permu in permutations(original_list)]\n",
    "\n",
    "print(\"Original List: \", original_list)\n",
    "print(\"Permuted List: \", permuted_list)"
   ]
  },
  {
   "cell_type": "markdown",
   "metadata": {},
   "source": [
    "Q26. Write the Python program to convert a pair of values into a sorted unique array?\n",
    "\n",
    "    Original List- [(1, 2), (3, 4), (1, 2), (5, 6), (7, 8), (1, 2), (3, 4), (3, 4), (7, 8), (9, 10)]\n",
    "    Sorted Unique Data- [ 1, 2, 3, 4, 5, 6, 7, 8, 9, 10 ]"
   ]
  },
  {
   "cell_type": "code",
   "execution_count": 27,
   "metadata": {},
   "outputs": [
    {
     "name": "stdout",
     "output_type": "stream",
     "text": [
      "Original List:  [(1, 2), (3, 4), (1, 2), (5, 6), (7, 8), (1, 2), (3, 4), (3, 4), (7, 8), (9, 10)]\n",
      "Sorted Unique List:  [1, 2, 3, 4, 5, 6, 7, 8, 9, 10]\n"
     ]
    }
   ],
   "source": [
    "tuple_list = [ (1, 2), (3, 4), (1, 2), (5, 6), (7, 8), (1, 2), (3, 4), (3, 4), (7, 8), (9, 10) ]\n",
    "\n",
    "resultant_list = []\n",
    "[resultant_list.extend(list(tupal)) for tupal in tuple_list]\n",
    "resultant_list = list(set(resultant_list))\n",
    "\n",
    "print(\"Original List: \", tuple_list)\n",
    "print(\"Sorted Unique List: \", resultant_list)"
   ]
  },
  {
   "cell_type": "markdown",
   "metadata": {},
   "source": [
    "Q27. Write the Python class to convert an integer to a roman numeral?"
   ]
  },
  {
   "cell_type": "code",
   "execution_count": 28,
   "metadata": {},
   "outputs": [],
   "source": [
    "class RomanConvertor:\n",
    "    def __init__(this):\n",
    "        this.roman_dict = {1000 : 'M', 900 : 'CM', 500 : 'D', 400 : 'CD',\n",
    "                            100 : 'C', 90 : 'XC', 50 : 'L', 40 : 'XL',\n",
    "                            10 : 'X', 9 : 'IX', 5 : 'V', 4 : 'IV' ,\n",
    "                            1: 'I'}\n",
    "\n",
    "    def num2rom(this, number):\n",
    "        if type(number) != int or number == 0:\n",
    "            return None\n",
    "        \n",
    "        roman_string = \"\"\n",
    "        idx = 0\n",
    "        while number > 0:\n",
    "            for denom in this.roman_dict.keys():\n",
    "                #print(denom)\n",
    "                division = number // denom\n",
    "                if number == 0:\n",
    "                    break\n",
    "                temp_string = this.roman_dict.get(denom) * division\n",
    "                roman_string += temp_string\n",
    "                number %= denom\n",
    "        return roman_string\n",
    "    \n",
    "    def rom2num(this, roman_string):\n",
    "        if type(roman_string) != str or len(roman_string.strip()) == 0:\n",
    "            return None\n",
    "        \n",
    "        roman_string = roman_string.upper()\n",
    "        number = 0\n",
    "        idx = 0\n",
    "        roman_char1_dict = {rom : num for (num, rom) in this.roman_dict.items() if len(rom) == 1}\n",
    "        roman_char2_dict = {rom : num for (num, rom) in this.roman_dict.items() if len(rom) == 2}\n",
    "        #print(roman_char1_dict)\n",
    "        #print(roman_char2_dict)\n",
    "        rs_length = len(roman_string)\n",
    "\n",
    "        while idx < rs_length:\n",
    "            num = roman_char2_dict.get(roman_string[idx:idx+2])\n",
    "            if num != None:\n",
    "                number += num\n",
    "                idx += 2\n",
    "            else:\n",
    "                number += roman_char1_dict.get(roman_string[idx])\n",
    "                idx += 1\n",
    "        return number\n",
    "\n",
    "\n",
    "rc = RomanConvertor()\n",
    "assert rc.num2rom(998) == \"CMXCVIII\"\n",
    "assert rc.num2rom(4000) == \"M\" * 4\n",
    "assert rc.num2rom(19) == \"XIX\"\n",
    "assert rc.num2rom(999) == \"CMXCIX\"\n",
    "assert rc.num2rom(0) == None\n",
    "assert rc.num2rom(\"\") == None\n"
   ]
  },
  {
   "cell_type": "markdown",
   "metadata": {},
   "source": [
    "Q28. Write the Python class to convert a Roman numeral to an integer?"
   ]
  },
  {
   "cell_type": "code",
   "execution_count": 29,
   "metadata": {},
   "outputs": [],
   "source": [
    "#Please check the above class RomanConvertor as mentioned in Q27.\n",
    "assert rc.rom2num(\"CMXCIX\") == 999\n",
    "assert rc.rom2num('MMMCMLXXXVI') == 3986\n",
    "assert rc.rom2num('MMMM') == 4000\n",
    "assert rc.rom2num('C') == 100\n"
   ]
  },
  {
   "cell_type": "markdown",
   "metadata": {},
   "source": [
    "Q29. Write the Python class to find the validity of the string of the parentheses, '(', ')', '{', '}', '[' and '] and the brackets must be closed in the correct order, example - \"()\" and \"()[]{}\" are valid but \"[)\", \"({[)]\" and \"{{{\" are invalid."
   ]
  },
  {
   "cell_type": "code",
   "execution_count": 30,
   "metadata": {},
   "outputs": [],
   "source": [
    "from collections import defaultdict\n",
    "\n",
    "#Utility Class: Stack\n",
    "class Stack:\n",
    "    def __init__(this):\n",
    "        this.stack = []\n",
    "    \n",
    "    def push(this, char):\n",
    "        if type(char) != str and len(char) != 1:\n",
    "            return None\n",
    "        this.stack.insert(0, char)\n",
    "    \n",
    "    def pop(this):\n",
    "        if len(this.stack) == 0:\n",
    "            print(\"Error: Stack is underflow.\")\n",
    "        return this.stack.pop()\n",
    "    \n",
    "    def isempty(this):\n",
    "        return len(this.stack) == 0\n",
    "\n",
    "    def __str__(this):\n",
    "        return str(this.stack)\n",
    "\n",
    "\n",
    "#Business Logic Class: StringValidator\n",
    "class StringValidator:\n",
    "    def __init__(this, string):\n",
    "        this.string = string\n",
    "    \n",
    "    def isvalid(this):\n",
    "        if type(this.string) != str:\n",
    "            return False\n",
    "        \n",
    "        this.string = this.string.strip()\n",
    "        \n",
    "        if len(this.string) == 0:\n",
    "            return True\n",
    "        \n",
    "        if len([char for char in this.string if char not in \"()[]{}\"]) > 0:\n",
    "            return False\n",
    "        \n",
    "        if len(this.string) % 2 == 1:\n",
    "            return False\n",
    "        \n",
    "        stk = Stack()\n",
    "        [stk.push(char) for char in this.string]\n",
    "        #print(stk)\n",
    "\n",
    "        bracket_dict = { '[]' : (0, 0), '{}' : (0, 0), '()' : (0, 0) }\n",
    "        while not stk.isempty():\n",
    "            char = stk.pop()\n",
    "            #print(\"popped char: \" + char)\n",
    "            for (bracket_pair, count_tuple) in bracket_dict.items():\n",
    "                #print(char + \" = \" + bracket_pair + \" : \" + str(count_tuple))\n",
    "                if char not in bracket_pair:\n",
    "                    continue\n",
    "                lc, rc = count_tuple\n",
    "                if bracket_pair.index(char) == 0:\n",
    "                    lc += 1\n",
    "                elif bracket_pair.index(char) == 1:\n",
    "                    rc += 1\n",
    "                \n",
    "                bracket_dict[bracket_pair] = (lc, rc)\n",
    "\n",
    "        for count_tuple in bracket_dict.values():\n",
    "            if count_tuple[0] != count_tuple[1]:\n",
    "                return False\n",
    "        return True\n",
    "\n",
    "\n",
    "#Test Cases:\n",
    "assert StringValidator(\"{{()[[}]]}\").isvalid() == True\n",
    "assert StringValidator(\"()\").isvalid() == True\n",
    "assert StringValidator(\"{}\").isvalid() == True\n",
    "assert StringValidator(\"[]\").isvalid() == True\n",
    "assert StringValidator(\"({[]})\").isvalid() == True\n",
    "\n",
    "assert StringValidator(\"{{[[(}]]\").isvalid() == False\n",
    "assert StringValidator(\"{{]()}][\").isvalid() == False\n",
    "assert StringValidator(\"{{[)(}]]}\").isvalid() == False\n"
   ]
  },
  {
   "cell_type": "markdown",
   "metadata": {},
   "source": [
    "Q30. Write the Python class to get all possible unique subsets from a set of distinct integers?\n",
    "\n",
    "    Input - [4, 5, 6]\n",
    "    Output - [[], [6], [5], [5, 6], [4], [4, 6], [4, 5], [4, 5, 6]]"
   ]
  },
  {
   "cell_type": "code",
   "execution_count": 31,
   "metadata": {},
   "outputs": [
    {
     "name": "stdout",
     "output_type": "stream",
     "text": [
      "Input List:  [4, 5, 6]\n",
      "Unique Subset List (by First Method):  [[], [4], [5], [6], [4, 5], [5, 6], [4, 5, 6]]\n",
      "Unique Subset List (by Second Method):  [[4, 5, 6], [4, 5], [5, 6], [4], [5], [6], []]\n",
      "\n",
      "Input List:  [1, 2]\n",
      "Unique Subset List (by First Method):  [[], [1], [2], [1, 2]]\n",
      "Unique Subset List (by Second Method):  [[1, 2], [1], [2], []]\n"
     ]
    }
   ],
   "source": [
    "class ListProcessor:\n",
    "    def __init__(this, input_list):\n",
    "        this.input_list = input_list\n",
    "        pass\n",
    "\n",
    "    def get_unique_subsets_1(this):\n",
    "        output_list = [[]]\n",
    "        for size in range(1, len(this.input_list) + 1):\n",
    "            ctr = 0\n",
    "            for idx in range(len(this.input_list)):\n",
    "                if ctr < (len(this.input_list) + 1 - size):\n",
    "                    #print(str(input_list[idx:(idx+size)]), end=\", \")\n",
    "                    output_list.append(this.input_list[idx:(idx+size)])\n",
    "                    ctr += 1\n",
    "        return output_list\n",
    "\n",
    "    def get_unique_subsets_2(this):\n",
    "        output_list = []\n",
    "        for size in range(len(this.input_list) + 1, 0, -1):\n",
    "            ctr = 0\n",
    "            for idx in range(len(this.input_list)):\n",
    "                if ctr < (len(this.input_list) + 1 - size):\n",
    "                    #print(str(input_list[idx:(idx+size)]), end=\", \")\n",
    "                    output_list.append(this.input_list[idx:(idx+size)])\n",
    "                    ctr += 1\n",
    "        output_list.append([])\n",
    "        return output_list\n",
    "\n",
    "#Test Cases:\n",
    "int_list = [4, 5, 6]\n",
    "print(\"Input List: \", int_list)\n",
    "print(\"Unique Subset List (by First Method): \", ListProcessor(int_list).get_unique_subsets_1())\n",
    "print(\"Unique Subset List (by Second Method): \", ListProcessor(int_list).get_unique_subsets_2())\n",
    "\n",
    "int_list = [1, 2]\n",
    "print(\"\\nInput List: \", int_list)\n",
    "print(\"Unique Subset List (by First Method): \", ListProcessor(int_list).get_unique_subsets_1())\n",
    "print(\"Unique Subset List (by Second Method): \", ListProcessor(int_list).get_unique_subsets_2())\n"
   ]
  },
  {
   "cell_type": "markdown",
   "metadata": {},
   "source": [
    "Q31. Write the Python class to find a pair of elements (indices of the two numbers) from a given array whose sum equals the specific target number?\n",
    "\n",
    "Input: numbers- [10,20,10,40,50,60,70], target=50\n",
    "Output- 3, 4"
   ]
  },
  {
   "cell_type": "code",
   "execution_count": 32,
   "metadata": {},
   "outputs": [],
   "source": [
    "class ListComputer:\n",
    "    def __init__(this, input_list):\n",
    "        this.input_list = input_list\n",
    "        pass\n",
    "\n",
    "    def get_index_pairs(this, target):\n",
    "        result_list = []\n",
    "        for idx in range(len(this.input_list) - 1):\n",
    "            for ctr in range(idx, len(this.input_list)):\n",
    "                if idx != ctr and (this.input_list[idx] + this.input_list[ctr]) == target:\n",
    "                    #print(f\"{idx}, {ctr}\")\n",
    "                    result_list.append((idx, ctr))\n",
    "        return result_list\n",
    "\n",
    "\n",
    "#Test Cases:\n",
    "num_list = [10, 20, 10, 40, 50, 60, 30, 70, 0, 0]\n",
    "target = 50\n",
    "assert ListComputer(num_list).get_index_pairs(target) == [(0, 3), (1, 6), (2, 3), (4, 8), (4, 9)]\n",
    "\n",
    "target = 0\n",
    "assert ListComputer(num_list).get_index_pairs(target) == [(8, 9)]\n"
   ]
  },
  {
   "cell_type": "markdown",
   "metadata": {},
   "source": [
    "Q32. Write the Python class to find the three elements that sum to zero from the set of n real numbers?\n",
    "\n",
    "    Input array- [-25, -10, -7, -3, 2, 4, 8, 10]\n",
    "    Output - [[-10, 2, 8], [-7, -3, 10]]"
   ]
  },
  {
   "cell_type": "code",
   "execution_count": 33,
   "metadata": {},
   "outputs": [],
   "source": [
    "class ListManipulator:\n",
    "    def __init__(this, input_list):\n",
    "        this.input_list = input_list\n",
    "        pass\n",
    "\n",
    "    def find_three_with_sum_0(this):\n",
    "        final_list = []\n",
    "        for first in range(len(this.input_list)):\n",
    "            for second in range(first+1, len(this.input_list)):\n",
    "                for third in range(second+1, len(this.input_list)):\n",
    "                    sum = this.input_list[first] + this.input_list[second] + this.input_list[third]\n",
    "                    if sum == 0:\n",
    "                        final_list.append([this.input_list[first], this.input_list[second], this.input_list[third]])\n",
    "        return final_list\n",
    "\n",
    "\n",
    "#Test Cases:\n",
    "number_list = [-25, -10, -7, -3, 2, 4, 8, 10]\n",
    "assert ListManipulator(number_list).find_three_with_sum_0() == [[-10, 2, 8], [-7, -3, 10]]\n",
    "\n",
    "number_list = [-25, -10, -7, -3, 2, 4, 8, 10, 0]\n",
    "assert ListManipulator(number_list).find_three_with_sum_0() == [[-10, 2, 8], [-10, 10, 0], [-7, -3, 10]]\n"
   ]
  },
  {
   "cell_type": "markdown",
   "metadata": {},
   "source": [
    "Q33. Write the Python class to implement pow(x, n)?"
   ]
  },
  {
   "cell_type": "code",
   "execution_count": 34,
   "metadata": {},
   "outputs": [],
   "source": [
    "class Math:\n",
    "    def __init__(this):\n",
    "        pass\n",
    "\n",
    "    def pow(this, base, index):\n",
    "        if type(base) != int or type(index) != int:\n",
    "            return None\n",
    "\n",
    "        if index < -1:\n",
    "            return 1 / sum([base * base for ctr in range(abs(index) - 1)])\n",
    "        elif index == -1:\n",
    "            return 1 / base\n",
    "        elif index == 0:\n",
    "            return 1\n",
    "        else: #if index > 0:\n",
    "            return sum([base * base for ctr in range(index - 1)])\n",
    "\n",
    "\n",
    "#Test Cases:\n",
    "assert Math().pow(2, 0) == 1\n",
    "assert Math().pow(2, -3) == 0.125\n",
    "assert Math().pow(2, 3) == 8\n",
    "assert Math().pow(-3, 2) == 9\n",
    "assert round(Math().pow(-3, -1), 2) == round(-0.33333, 2)\n"
   ]
  },
  {
   "cell_type": "markdown",
   "metadata": {},
   "source": [
    "Q34. Write the Python class which has two methods get_String and print_String. get_String accept the string from the user and print_String print the string in upper case."
   ]
  },
  {
   "cell_type": "code",
   "execution_count": 35,
   "metadata": {},
   "outputs": [
    {
     "name": "stdout",
     "output_type": "stream",
     "text": [
      "Enter a string: iNeuron\n"
     ]
    },
    {
     "data": {
      "text/plain": [
       "'INEURON'"
      ]
     },
     "execution_count": 35,
     "metadata": {},
     "output_type": "execute_result"
    }
   ],
   "source": [
    "class String2Upper:\n",
    "    def __init__(this):\n",
    "        this.string = None\n",
    "        pass\n",
    "    \n",
    "    def get_string(this):\n",
    "        this.string = input(\"Enter a string: \")\n",
    "        return this\n",
    "    \n",
    "    def print_string(this):\n",
    "        return this.string.upper()\n",
    "\n",
    "\n",
    "#Test Cases:\n",
    "String2Upper().get_string().print_string()"
   ]
  },
  {
   "cell_type": "markdown",
   "metadata": {},
   "source": [
    "Q35. Write the Python class named Rectangle constructed by a length and width and the method which will compute the area of the rectangle?"
   ]
  },
  {
   "cell_type": "code",
   "execution_count": 36,
   "metadata": {},
   "outputs": [],
   "source": [
    "class Rectangle:\n",
    "    def __init__(this, length, width):\n",
    "        this.length, this.width = length, width\n",
    "    \n",
    "    def area(this):\n",
    "        if type(this.length) not in (int, float) or this.length <= 0 or\\\n",
    "            type(this.width) not in (int, float) or this.width <= 0:\n",
    "            return None\n",
    "    \n",
    "        return this.length * this.width\n",
    "\n",
    "\n",
    "#Test Cases:\n",
    "assert Rectangle(1.2, 2.3).area() == 2.76\n",
    "assert Rectangle(10, 20).area() == 200\n",
    "assert Rectangle(0, 20).area() == None\n",
    "assert Rectangle(10, 0).area() == None\n",
    "assert Rectangle(10, -2).area() == None\n"
   ]
  },
  {
   "cell_type": "markdown",
   "metadata": {},
   "source": [
    "Q36. Write the Python class named Circle constructed by the radius and two methods which will compute the area and perimeter of the circle?"
   ]
  },
  {
   "cell_type": "code",
   "execution_count": 37,
   "metadata": {},
   "outputs": [],
   "source": [
    "import numpy as np\n",
    "\n",
    "\n",
    "class Circle:\n",
    "    def __init__(this, radius):\n",
    "        this.radius = radius\n",
    "    \n",
    "    def area(this):\n",
    "        if type(this.radius) not in (int, float) or this.radius <= 0:\n",
    "            return None\n",
    "        return np.pi * this.radius ** 2\n",
    "    \n",
    "    def perimeter(this):\n",
    "        if type(this.radius) not in (int, float) or this.radius <= 0:\n",
    "            return None\n",
    "        return this.radius * 2\n",
    "\n",
    "\n",
    "#Test Cases:\n",
    "assert round(Circle(10).area(), 3) == round(314.1592653589793, 3)\n",
    "assert Circle(10).perimeter() == 20\n",
    "assert round(Circle(5.3).area(), 2) == round(88.24733763933729, 2)\n",
    "assert Circle(5.32).perimeter() == 10.64\n",
    "assert Circle(0).area() == None\n",
    "assert Circle(-5).area() == None\n"
   ]
  },
  {
   "cell_type": "markdown",
   "metadata": {},
   "source": [
    "Q37. Write the Python program to get the class name of an instance in Python?"
   ]
  },
  {
   "cell_type": "code",
   "execution_count": 38,
   "metadata": {},
   "outputs": [
    {
     "name": "stdout",
     "output_type": "stream",
     "text": [
      "\n",
      "#GrandParentKlass's class hierarchy:\n",
      "\t<class 'object'>\n",
      "\t<class '__main__.GrandParentKlass'>\n",
      "\n",
      "#ParentKlass's class hierarchy:\n",
      "\t<class 'object'>\n",
      "\t<class '__main__.GrandParentKlass'>\n",
      "\t<class '__main__.ParentKlass'>\n",
      "\n",
      "#ChildKlass's class hierarchy:\n",
      "\t<class 'object'>\n",
      "\t<class '__main__.GrandParentKlass'>\n",
      "\t<class '__main__.ParentKlass'>\n",
      "\t<class '__main__.ChildKlass'>\n",
      "--------------------------------------------------\n"
     ]
    }
   ],
   "source": [
    "import inspect\n",
    "\n",
    "\n",
    "class GrandParentKlass:\n",
    "    def __init__(this):\n",
    "        pass\n",
    "\n",
    "    def get_class_name(this):\n",
    "        return this.__class__.__name__\n",
    "\n",
    "    def get_parent_class_name(this):\n",
    "        return this.__class__.__base__.__name__\n",
    "        #for parent in this.__class__.__bases__:\n",
    "        #    return parent.__name__\n",
    "\n",
    "    def get_class_hierarchy(this):\n",
    "        return inspect.getmro(this.__class__)\n",
    "\n",
    "\n",
    "class ParentKlass(GrandParentKlass):\n",
    "    def __init__(this):\n",
    "        pass\n",
    "\n",
    "\n",
    "class ChildKlass(ParentKlass):\n",
    "    def __init__(this):\n",
    "        pass\n",
    "\n",
    "\n",
    "def print_class_hierarchy(sequence):\n",
    "    for mro in reversed(sequence):\n",
    "        print(\"\\t\" + str(mro))\n",
    "    \n",
    "    \n",
    "#Test Cases:\n",
    "gp = GrandParentKlass()\n",
    "assert gp.get_class_name() == \"GrandParentKlass\"\n",
    "assert gp.get_parent_class_name() == 'object'\n",
    "print(\"\\n#GrandParentKlass's class hierarchy:\")\n",
    "print_class_hierarchy(gp.get_class_hierarchy())\n",
    "\n",
    "pr = ParentKlass()\n",
    "assert pr.get_class_name() == \"ParentKlass\"\n",
    "assert pr.get_parent_class_name() == 'GrandParentKlass'\n",
    "print(\"\\n#ParentKlass's class hierarchy:\")\n",
    "print_class_hierarchy(pr.get_class_hierarchy())\n",
    "\n",
    "ch = ChildKlass()\n",
    "assert ch.get_class_name() == \"ChildKlass\"\n",
    "assert ch.get_parent_class_name() == 'ParentKlass'\n",
    "print(\"\\n#ChildKlass's class hierarchy:\")\n",
    "print_class_hierarchy(ch.get_class_hierarchy())\n",
    "\n",
    "print(\"-\" * 50)\n"
   ]
  },
  {
   "cell_type": "markdown",
   "metadata": {},
   "source": [
    "Q38. Write the Python program to count the number of students of individual class?\n",
    "\n",
    "    Sample dataclasses = (\n",
    "    ('V', 1),\n",
    "    ('VI', 1),\n",
    "    ('V', 2),\n",
    "    ('VI', 2),\n",
    "    ('VI', 3),\n",
    "    ('VII', 1),\n",
    "    )\n",
    "    \n",
    "    Expected OutputCounter({'VI': 3, 'V': 2, 'VII': 1})"
   ]
  },
  {
   "cell_type": "code",
   "execution_count": 39,
   "metadata": {},
   "outputs": [
    {
     "name": "stdout",
     "output_type": "stream",
     "text": [
      "Sample Tuple:  (('V', 1), ('VI', 1), ('V', 2), ('VI', 2), ('VI', 3), ('VII', 1))\n",
      "Expected Counter Dictionary:  {'VI': 3, 'V': 2, 'VII': 1}\n"
     ]
    }
   ],
   "source": [
    "from collections import defaultdict\n",
    "\n",
    "\n",
    "class MyCounter:\n",
    "    def __init__(this, tuple_seq):\n",
    "        this.tuple_seq = tuple_seq\n",
    "        this.count_dict = defaultdict()\n",
    "    \n",
    "    def count(this):\n",
    "        for tuple_val in this.tuple_seq:\n",
    "            count = this.count_dict.get(tuple_val[0])\n",
    "            if count == None:\n",
    "                this.count_dict[tuple_val[0]] = 1\n",
    "                continue\n",
    "                \n",
    "            this.count_dict[tuple_val[0]] = count + 1\n",
    "\n",
    "        return dict((sorted(this.count_dict.items(), key=lambda x: x[1], reverse=True)))\n",
    "    \n",
    "sample_tuple = ( ('V', 1), ('VI', 1), ('V', 2), ('VI', 2), ('VI', 3), ('VII', 1) )\n",
    "expected_counter_dict = MyCounter(( ('V', 1), ('VI', 1), ('V', 2), ('VI', 2), ('VI', 3), ('VII', 1))).count()\n",
    "\n",
    "print(\"Sample Tuple: \", sample_tuple)\n",
    "print(\"Expected Counter Dictionary: \", expected_counter_dict)"
   ]
  },
  {
   "cell_type": "markdown",
   "metadata": {},
   "source": [
    "Q39. Write the Python program to create an instance of an OrderedDict using the given dictionary and sort dictionary during the creation and print members of the dictionary in reverse order?\n",
    "\n",
    "    Expected Output\n",
    "    Angola 244.\n",
    "    Andorra 376.\n",
    "    Algeria 213.\n",
    "    Afghanistan 93.\n",
    "    Albania 355.\n",
    "    \n",
    "    In reverse order:\n",
    "    Albania 355.\n",
    "    Afghanistan 93.\n",
    "    Algeria 213.\n",
    "    Andorra 376.\n",
    "    Angola 244."
   ]
  },
  {
   "cell_type": "code",
   "execution_count": 40,
   "metadata": {},
   "outputs": [
    {
     "name": "stdout",
     "output_type": "stream",
     "text": [
      "#Before sorting, the dictionary:\n",
      "Angola 244\n",
      "Andorra 376\n",
      "Algeria 213\n",
      "Afghanistan 93\n",
      "Albania 355\n",
      "---------------------\n",
      "#After descended sorting, the dictionary:\n",
      "Andorra 376\n",
      "Albania 355\n",
      "Angola 244\n",
      "Algeria 213\n",
      "Afghanistan 93\n",
      "---------------------\n",
      "\n"
     ]
    }
   ],
   "source": [
    "from collections import OrderedDict\n",
    "\n",
    "\n",
    "dict1 = {'Angola': 244.,\n",
    "        'Andorra': 376.,\n",
    "        'Algeria': 213.,\n",
    "        'Afghanistan': 93.,\n",
    "        'Albania': 355.}\n",
    "\n",
    "print(\"#Before sorting, the dictionary:\")\n",
    "[print(f\"{key} {val:.0f}\") for key, val in dict1.items()]\n",
    "print(\"-\" * 21)\n",
    "\n",
    "print(\"#After descended sorting, the dictionary:\")\n",
    "ord_dict = OrderedDict(sorted(dict1.items(), key = lambda kv:(kv[1], kv[0])))\n",
    "[print(f\"{key} {val:.0f}\") for key, val in reversed(ord_dict.items())]\n",
    "print(\"-\" * 21)\n",
    "print()\n"
   ]
  },
  {
   "cell_type": "markdown",
   "metadata": {},
   "source": [
    "Q40. Write the Python program to compare two unordered lists (not sets)?\n",
    "\n",
    "    Expected Output: False"
   ]
  },
  {
   "cell_type": "code",
   "execution_count": 41,
   "metadata": {},
   "outputs": [],
   "source": [
    "list1 = [8, 5, 9, 2, 4]\n",
    "list2 = [9, 4, 8, 5, 2]\n",
    "list3 = [9, 4, 8, 1, 5, 2]\n",
    "\n",
    "\n",
    "assert (set(list1) == set(list2)) == True\n",
    "assert (set(list1) == set(list3)) == False\n"
   ]
  },
  {
   "cell_type": "markdown",
   "metadata": {},
   "source": [
    "Q41. Write the Python program to get an array buffer information?\n",
    "\n",
    "    Expected Output\n",
    "    Array buffer start address in memory and number of elements.\n",
    "    (25855056, 2)"
   ]
  },
  {
   "cell_type": "code",
   "execution_count": 42,
   "metadata": {},
   "outputs": [
    {
     "name": "stdout",
     "output_type": "stream",
     "text": [
      "Input List:  [5, 9, 2]\n",
      "(94923144, 3)\n",
      "(0x5a86988, 3)\n",
      "---------------------\n"
     ]
    }
   ],
   "source": [
    "num_list = [5, 9, 2]\n",
    "\n",
    "print(\"Input List: \", num_list)\n",
    "print(f\"({id(num_list)}, {len(num_list)})\") #Memory Address as long.\n",
    "print(f\"({hex(id(num_list))}, {len(num_list)})\") #Memory Address in hexa.\n",
    "print(\"-\" * 21)\n"
   ]
  },
  {
   "cell_type": "markdown",
   "metadata": {},
   "source": [
    "Q42. Write the Python program to convert an array to an array of machine values and return the bytes representation?\n",
    "\n",
    "    Expected Output:\n",
    "    \n",
    "    Original array\n",
    "    A1: array('i', [1, 2, 3, 4, 5, 6])\n",
    "    \n",
    "    Array of bytes:\n",
    "    b'010000000200000003000000040000000500000006000000'"
   ]
  },
  {
   "cell_type": "code",
   "execution_count": 43,
   "metadata": {},
   "outputs": [
    {
     "name": "stdout",
     "output_type": "stream",
     "text": [
      "Original Array:  [3, 6, 2, 1, 9, 16]\n",
      "Array of bytes:  000000110000011000000010000000010000100100010000\n",
      "--------------------------------------------------------------------------------\n"
     ]
    }
   ],
   "source": [
    "def binary_string(number):\n",
    "    if type(number) != int:\n",
    "        return None\n",
    "    \n",
    "    number = abs(number)\n",
    "    bits_str = \"\"\n",
    "    \n",
    "    while number != 0:\n",
    "        bit = number % 2\n",
    "        bits_str = str(bit) + bits_str\n",
    "        number = int(number / 2)\n",
    "\n",
    "    return bits_str.zfill(8)\n",
    "\n",
    "\n",
    "def binary_list_string(num_list):\n",
    "    bits_list = [binary_string(num) for num in num_list]\n",
    "    bits_string = \"\"\n",
    "    return bits_string.join(bits_list)\n",
    "\n",
    "in_list = [3, 6, 2, 1, 9, 16]\n",
    "print(\"Original Array: \", in_list)\n",
    "print(\"Array of bytes: \", binary_list_string(in_list))\n",
    "print(\"-\" * 80)\n"
   ]
  },
  {
   "cell_type": "markdown",
   "metadata": {},
   "source": [
    "Q43. Write the Python program to read a string and interpreting the string as an array of machine values?\n",
    "\n",
    "Expected Output:\n",
    "array1- array('i', [7, 8, 9, 10])\n",
    "\n",
    "Bytes- b'0700000008000000090000000a000000'\n",
    "array2- array('i', [7, 8, 9, 10])\n"
   ]
  },
  {
   "cell_type": "code",
   "execution_count": 44,
   "metadata": {},
   "outputs": [
    {
     "name": "stdout",
     "output_type": "stream",
     "text": [
      "Input String: ascii\n",
      "Byte String:  0110000101110011011000110110100101101001\n",
      "--------------------------------------------------------------------------------\n"
     ]
    }
   ],
   "source": [
    "def get_bits_string(char):\n",
    "    if type(char) != str:\n",
    "        return None\n",
    "\n",
    "    number = ord(char)\n",
    "    bits_str = \"\"\n",
    "    \n",
    "    while number != 0:\n",
    "        bit = number % 2\n",
    "        bits_str = str(bit) + bits_str\n",
    "        number = int(number / 2)\n",
    "\n",
    "    return bits_str.zfill(8)\n",
    "\n",
    "\n",
    "def binary_sequence_string(string):\n",
    "    if type(string) != str:\n",
    "        return None\n",
    "    bits_list = [get_bits_string(char) for char in string]\n",
    "    bits_string = \"\"\n",
    "    return bits_string.join(bits_list)\n",
    "\n",
    "\n",
    "string = \"ascii\"\n",
    "print(\"Input String:\", string)\n",
    "print(\"Byte String: \", binary_sequence_string(string))\n",
    "print(\"-\" * 80)"
   ]
  },
  {
   "cell_type": "markdown",
   "metadata": {},
   "source": [
    "Q44. Write the Python program to push three items into the heap and return the smallest item from the heap. Also, return and pop the smallest item from the heap?\n",
    "\n",
    "    Expected OutputItems in the heap-\n",
    "    ('VI', 1).\n",
    "    ('VII', 3).\n",
    "    ('VIII', 2).\n",
    "    ----------------------\n",
    "    The smallest item in the heap:\n",
    "    ('VI', 1).\n",
    "     ----------------------\n",
    "    Pop the smallest item in the heap:\n",
    "    ('VII', 2).\n",
    "    ('VIII', 3)."
   ]
  },
  {
   "cell_type": "code",
   "execution_count": 45,
   "metadata": {},
   "outputs": [
    {
     "name": "stdout",
     "output_type": "stream",
     "text": [
      "Items in the heap:\n",
      "('VI', 1)\n",
      "('VIII', 3)\n",
      "('VII', 2)\n",
      "--------------------------------------------------------------------------------\n",
      "The smallest item in the heap:\n",
      "('VI', 1)\n",
      "--------------------------------------------------------------------------------\n",
      "After popping the smallest item in the heap:\n",
      "('VII', 2)\n",
      "('VIII', 3)\n",
      "--------------------------------------------------------------------------------\n"
     ]
    }
   ],
   "source": [
    "import heapq\n",
    "\n",
    "\n",
    "val_list = [('VI', 1), ('VIII', 3), ('VII', 2)]\n",
    "\n",
    "heapq.heapify(val_list) \n",
    "\n",
    "print(\"Items in the heap:\")\n",
    "[print(val) for val in val_list]\n",
    "print(\"-\" * 80)\n",
    "\n",
    "print(\"The smallest item in the heap:\")\n",
    "print (heapq.heappop(val_list))\n",
    "print(\"-\" * 80)\n",
    "\n",
    "print(\"After popping the smallest item in the heap:\")\n",
    "[print(val) for val in val_list]\n",
    "print(\"-\" * 80)"
   ]
  },
  {
   "cell_type": "markdown",
   "metadata": {},
   "source": [
    "Q45. Write the Python program to locate the left insertion point for a specified value in sorted order?\n",
    "    Expected Output:\n",
    "    4\n",
    "    2"
   ]
  },
  {
   "cell_type": "code",
   "execution_count": 46,
   "metadata": {},
   "outputs": [
    {
     "name": "stdout",
     "output_type": "stream",
     "text": [
      "#Before inserting an element the heap is:\n",
      "2\n",
      "4\n",
      "5\n",
      "8\n",
      "9\n",
      "--------------------------------------------------\n",
      "#After inserting an element 3 the heap is:\n",
      "2\n",
      "3\n",
      "4\n",
      "5\n",
      "8\n",
      "9\n",
      "--------------------------------------------------\n"
     ]
    }
   ],
   "source": [
    "def insert(nlist, num):\n",
    "    nlist = sorted(nlist)\n",
    "    new_list = []\n",
    "    insert_at_idx = 0\n",
    "    for idx in range(len(nlist)):\n",
    "        if num < nlist[idx]:\n",
    "            insert_at_idx = idx\n",
    "            new_list.append(num)\n",
    "            break\n",
    "        new_list.append(nlist[idx])\n",
    "            \n",
    "    new_list.extend(nlist[insert_at_idx:])\n",
    "    return new_list\n",
    "\n",
    "\n",
    "num_list = sorted([9, 5, 4, 8, 2])\n",
    "new_number = 3\n",
    "\n",
    "\n",
    "print(\"#Before inserting an element the heap is:\")\n",
    "[print(num) for num in num_list]\n",
    "print(\"-\" * 50)\n",
    "\n",
    "num_list = insert(num_list, new_number)\n",
    "print(f\"#After inserting an element {new_number} the heap is:\")\n",
    "[print(num) for num in num_list]\n",
    "print(\"-\" * 50)\n"
   ]
  },
  {
   "cell_type": "markdown",
   "metadata": {},
   "source": [
    "Q46. Write the Python program to create the FIFO queue?\n",
    "    Expected Output:\n",
    "    0 1 2 3"
   ]
  },
  {
   "cell_type": "code",
   "execution_count": 47,
   "metadata": {},
   "outputs": [
    {
     "name": "stdout",
     "output_type": "stream",
     "text": [
      "\n",
      "#Initially queue is:\n",
      "[]\n",
      "\n",
      "#After adding 10, the queue is:\n",
      "[10]\n",
      "\n",
      "#After adding 20, the queue is:\n",
      "[10, 20]\n",
      "\n",
      "#After getting element None, the queue is:\n",
      "[20]\n",
      "\n",
      "#After getting element None, the queue is:\n",
      "[]\n",
      "\n",
      "#While trying to get element from the queue is:\n",
      "Error: Queue Underflow\n",
      "\n",
      "#After adding element 100, the queue is:\n",
      "[100]\n",
      "\n",
      "#After adding element 200, the queue is:\n",
      "[100, 200]\n",
      "\n",
      "#After adding element 300, the queue is:\n",
      "[100, 200, 300]\n",
      "\n",
      "#After adding element 400, the queue is:\n",
      "[100, 200, 300, 400]\n",
      "\n",
      "#After adding element 500, the queue is:\n",
      "[100, 200, 300, 400, 500]\n",
      "\n",
      "#While trying to add element 600 from the queue is:\n",
      "Error: Queue Overflow\n",
      "\n",
      "#After getting element None, the queue is:\n",
      "[200, 300, 400, 500]\n"
     ]
    }
   ],
   "source": [
    "class Queue:\n",
    "    def __init__(this, size):\n",
    "        this.size = size\n",
    "        this.queue = []\n",
    "        pass\n",
    "    \n",
    "    def add(this, element): #add element to rear-end\n",
    "        if len(this.queue) >= this.size:\n",
    "            print(\"Error: Queue Overflow\")\n",
    "            return None\n",
    "        this.queue.append(element)\n",
    "        return 1\n",
    "\n",
    "    def remove(this): #remove front-end element\n",
    "        if len(this.queue) == 0:\n",
    "            print(\"Error: Queue Underflow\")\n",
    "            return None\n",
    "        return this.queue.remove(this.queue[0])\n",
    "    \n",
    "    def read(this, position): #one-based indexing\n",
    "        if position < 1 or position > len(this.queue):\n",
    "            print(\"Error: Position out of range\")\n",
    "            return None\n",
    "        return this.queue[position - 1]\n",
    "\n",
    "    def __str__(this):\n",
    "        return str([ele for ele in this.queue])\n",
    "\n",
    "\n",
    "##################\n",
    "quatar = Queue(5)\n",
    "print(\"\\n#Initially queue is:\")\n",
    "print(quatar)\n",
    "\n",
    "quatar.add(10)\n",
    "print(f\"\\n#After adding {10}, the queue is:\")\n",
    "print(quatar)\n",
    "\n",
    "quatar.add(20)\n",
    "print(f\"\\n#After adding {20}, the queue is:\")\n",
    "print(quatar)\n",
    "\n",
    "num = quatar.remove()\n",
    "print(f\"\\n#After getting element {num}, the queue is:\")\n",
    "print(quatar)\n",
    "\n",
    "num = quatar.remove()\n",
    "print(f\"\\n#After getting element {num}, the queue is:\")\n",
    "print(quatar)\n",
    "\n",
    "print(f\"\\n#While trying to get element from the queue is:\")\n",
    "quatar.remove()\n",
    "\n",
    "quatar.add(100)\n",
    "print(f\"\\n#After adding element {100}, the queue is:\")\n",
    "print(quatar)\n",
    "\n",
    "quatar.add(200)\n",
    "print(f\"\\n#After adding element {200}, the queue is:\")\n",
    "print(quatar)\n",
    "\n",
    "quatar.add(300)\n",
    "print(f\"\\n#After adding element {300}, the queue is:\")\n",
    "print(quatar)\n",
    "\n",
    "quatar.add(400)\n",
    "print(f\"\\n#After adding element {400}, the queue is:\")\n",
    "print(quatar)\n",
    "\n",
    "quatar.add(500)\n",
    "print(f\"\\n#After adding element {500}, the queue is:\")\n",
    "print(quatar)\n",
    "\n",
    "print(f\"\\n#While trying to add element {600} from the queue is:\")\n",
    "quatar.add(600)\n",
    "\n",
    "num = quatar.remove()\n",
    "print(f\"\\n#After getting element {num}, the queue is:\")\n",
    "print(quatar)\n"
   ]
  },
  {
   "cell_type": "markdown",
   "metadata": {},
   "source": [
    "Q47. Write the Python program to calculate the harmonic sum of n-1.\n",
    "Note: The harmonic sum is the sum of reciprocals of the positive Integers.\n",
    "\n",
    "    Example:\n",
    "    1+1/2+1/3+1/4+1/5+...."
   ]
  },
  {
   "cell_type": "code",
   "execution_count": 48,
   "metadata": {},
   "outputs": [
    {
     "name": "stdout",
     "output_type": "stream",
     "text": [
      "#Input Number is:  5\n",
      "#Harmonic Mean is: 2.28333\n",
      "--------------------------\n"
     ]
    }
   ],
   "source": [
    "def harmonic_mean(n_number):\n",
    "    if n_number <= 0:\n",
    "        return None\n",
    "    \n",
    "    hm = 0.0\n",
    "    for num in range(1, n_number + 1):\n",
    "        hm += 1 / num\n",
    "    \n",
    "    return round(hm, 5)\n",
    "\n",
    "number = 5\n",
    "print(\"#Input Number is: \", number)\n",
    "print(f\"#Harmonic Mean is: {harmonic_mean(number)}\")\n",
    "print(\"-\" * 26)"
   ]
  },
  {
   "cell_type": "code",
   "execution_count": 49,
   "metadata": {},
   "outputs": [],
   "source": [
    "import numpy as np\n",
    "import matplotlib.pyplot as plt\n",
    "%matplotlib inline"
   ]
  },
  {
   "cell_type": "markdown",
   "metadata": {},
   "source": [
    "Q48. Write the NumPy program to create a 2d array with 6 on the border and 0 inside?\n",
    "    \n",
    "    Expected OutputOriginal array-\n",
    "    [[6 6 6 6 6]\n",
    "     [ 6 6 6 6 6]\n",
    "     [ 6 6 6 6 6 ]\n",
    "     [ 6 6 6 6 6 ]\n",
    "     [ 6 6 6 6 ] ].\n",
    "    \n",
    "    6 on the border and 0 inside in the array-\n",
    "    [[ 6 6 6 6 6]\n",
    "    [ 6 0 0 0 6]\n",
    "    [ 6 0 0 0 6]\n",
    "    [ 6 0 0 0 6]\n",
    "    [ 6 6 6 6 6]]."
   ]
  },
  {
   "cell_type": "code",
   "execution_count": 50,
   "metadata": {},
   "outputs": [
    {
     "name": "stdout",
     "output_type": "stream",
     "text": [
      "#Original Matrix:\n",
      "[[6 6 6 6 6]\n",
      " [6 6 6 6 6]\n",
      " [6 6 6 6 6]\n",
      " [6 6 6 6 6]\n",
      " [6 6 6 6 6]]\n",
      "\n",
      "#6 on the border and 0 inside in the array:\n",
      "[[6 6 6 6 6]\n",
      " [6 0 0 0 6]\n",
      " [6 0 0 0 6]\n",
      " [6 0 0 0 6]\n",
      " [6 6 6 6 6]]\n",
      "--------------------------------------------------\n"
     ]
    }
   ],
   "source": [
    "mat = np.arange(25, dtype=np.int32).reshape(5, 5)\n",
    "mat.fill(6)\n",
    "\n",
    "print(\"#Original Matrix:\")\n",
    "print(mat)\n",
    "\n",
    "new_mat = [0 if (0 not in (row, col) and (mat.shape[0]-1) not in (row, col)) else mat[row][col] \\\n",
    "     for row in np.arange(mat.shape[0]) for col in np.arange(mat.shape[1])]\n",
    "\n",
    "print(\"\\n#6 on the border and 0 inside in the array:\")\n",
    "print(np.array(new_mat).reshape(5, 5))\n",
    "print(\"-\" * 50)"
   ]
  },
  {
   "cell_type": "markdown",
   "metadata": {},
   "source": [
    "Q49. Write the NumPy program to create a 8x8 matrix and fill it with the checkerboard pattern?\n",
    "\n",
    "Checkerboard pattern-\n",
    "[[3 9 3 9 3 9 3 9]\n",
    "[9 3 9 3 9 3 9 3]\n",
    "[3 9 3 9 3 9 3 9]\n",
    "[9 3 9 3 9 3 9 3]\n",
    "[3 9 3 9 3 9 3 9]\n",
    "[9 3 9 3 9 3 9 3]\n",
    "[3 9 3 9 3 9 3 9]\n",
    "[9 3 9 3 9 3 9 3]]."
   ]
  },
  {
   "cell_type": "code",
   "execution_count": 51,
   "metadata": {},
   "outputs": [
    {
     "name": "stdout",
     "output_type": "stream",
     "text": [
      "#Checkerboard Pattern: \n",
      "[[9 3 9 3 9 3 9 3]\n",
      " [3 9 3 9 3 9 3 9]\n",
      " [9 3 9 3 9 3 9 3]\n",
      " [3 9 3 9 3 9 3 9]\n",
      " [9 3 9 3 9 3 9 3]\n",
      " [3 9 3 9 3 9 3 9]\n",
      " [9 3 9 3 9 3 9 3]\n",
      " [3 9 3 9 3 9 3 9]]\n",
      "------------------------------\n"
     ]
    }
   ],
   "source": [
    "arr = np.empty((8,8), dtype=np.int8)\n",
    "arr.fill(9)\n",
    "\n",
    "arr[1::2, ::2] = 3\n",
    "arr[::2, 1::2] = 3\n",
    "\n",
    "print(\"#Checkerboard Pattern: \\n\" + str(arr) + \"\\n\" + (\"-\" * 30))"
   ]
  },
  {
   "cell_type": "markdown",
   "metadata": {},
   "source": [
    "Q50. Write the NumPy program to create an empty and a full array.\n",
    "\n",
    "    Expected Output-\n",
    "    [[4.45057637e-308 1.78021527e-306 8.45549797e-307 1.37962049e-306]\n",
    "    [1.11260619e-306 1.78010255e-306 9.79054228e-307 4.45057637e-308]\n",
    "    [8.45596650e-307 9.34602321e-307 4.94065646e-322 0.00000000e+000]]\n",
    "    [[6 6 6]\n",
    "    [6 6 6]\n",
    "    [6 6 6]]"
   ]
  },
  {
   "cell_type": "code",
   "execution_count": 52,
   "metadata": {},
   "outputs": [
    {
     "name": "stdout",
     "output_type": "stream",
     "text": [
      "[[9.8e-322 0.0e+000 0.0e+000 0.0e+000]\n",
      " [0.0e+000 0.0e+000 0.0e+000 0.0e+000]\n",
      " [0.0e+000 0.0e+000 0.0e+000 0.0e+000]]\n",
      "\n",
      "[[6 6 6]\n",
      " [6 6 6]\n",
      " [6 6 6]]\n"
     ]
    }
   ],
   "source": [
    "mat1 = np.empty(12).reshape(3,-1)\n",
    "print(mat1)\n",
    "print()\n",
    "\n",
    "mat2 = np.zeros(9, dtype=np.int8).reshape(3, -1)\n",
    "mat2.fill(6)\n",
    "print(mat2)"
   ]
  },
  {
   "cell_type": "markdown",
   "metadata": {},
   "source": [
    "Q51. Write the NumPy program to convert the values of Centigrade degrees into the Fahrenheit degrees and the centigrade values are\n",
    "stored in the NumPy array.\n",
    "\n",
    "    Sample Array:\n",
    "        [0, 12, 45.21 ,34, 99.91]\n",
    "    Expected Output:\n",
    "        Values in Fahrenheit degrees-\n",
    "            [ 0. 12. 45.21 34. 99.91]\n",
    "        Values in Centigrade degrees-\n",
    "            [-17.77777778 -11.11111111 7.33888889 1.11111111 37.72777778]"
   ]
  },
  {
   "cell_type": "code",
   "execution_count": 53,
   "metadata": {},
   "outputs": [
    {
     "name": "stdout",
     "output_type": "stream",
     "text": [
      "#Sample Temperature List:\n",
      "\t [0, 12, 45.21, 34, 99.91]\n",
      "\n",
      "#Values in Fahrenheit degrees:\n",
      "\t [ 0.   12.   45.21 34.   99.91]\n",
      "\n",
      "#Values in Centigrade degrees:\n",
      "\t [-17.77777778 -11.11111111   7.33888889   1.11111111  37.72777778]\n"
     ]
    }
   ],
   "source": [
    "temperature_list = [0, 12, 45.21 ,34, 99.91]\n",
    "temp_fehr_array = np.array(temperature_list)\n",
    "temp_centi_array = (temp_fehr_array - 32) * (5/9)\n",
    "#fehr = centi * (9/5) + 32\n",
    "\n",
    "print(\"#Sample Temperature List:\")\n",
    "print(\"\\t\", temperature_list)\n",
    "\n",
    "print(\"\\n#Values in Fahrenheit degrees:\")\n",
    "print(\"\\t\", temp_fehr_array)\n",
    "\n",
    "print(\"\\n#Values in Centigrade degrees:\")\n",
    "print(\"\\t\", temp_centi_array)"
   ]
  },
  {
   "cell_type": "markdown",
   "metadata": {},
   "source": [
    "Q52. Write the NumPy program to find the real and imaginary parts of an array of complex numbers?\n",
    "\n",
    "    Expected Output:\n",
    "        Original array:\n",
    "            [ 1.00000000+0.j 0.70710678+0.70710678j]\n",
    "        Real part of the array-\n",
    "            [ 1. 0.70710678]\n",
    "        Imaginary part of the array-\n",
    "            [ 0. 0.70710678]\n"
   ]
  },
  {
   "cell_type": "code",
   "execution_count": 54,
   "metadata": {},
   "outputs": [
    {
     "name": "stdout",
     "output_type": "stream",
     "text": [
      "#Original array:\n",
      "\t [1.+0.70710678j 0.+0.70710678j]\n",
      "\n",
      "#Real part array:\n",
      "\t [1. 0.]\n",
      "#Imaginary part array:\n",
      "\t [0.70710678 0.70710678]\n"
     ]
    }
   ],
   "source": [
    "complex_arr = np.array([1.00000000+0.70710678j, 0+0.70710678j], dtype=np.complex)\n",
    "\n",
    "real_part_arr = np.array(complex_arr.real)\n",
    "imag_part_arr = np.array(complex_arr.imag)\n",
    "\n",
    "print(\"#Original array:\")\n",
    "print(\"\\t\", complex_arr)\n",
    "\n",
    "print(\"\\n#Real part array:\")\n",
    "print(\"\\t\", real_part_arr)\n",
    "\n",
    "print(\"#Imaginary part array:\")\n",
    "print(\"\\t\", imag_part_arr)"
   ]
  },
  {
   "cell_type": "markdown",
   "metadata": {},
   "source": [
    "Q53. Write the NumPy program to test whether each element of a 1-D array is also present in the second array?\n",
    "\n",
    "Expected OutputArray1: [ 0 10 20 40 60]\n",
    "Array2: [0, 40]\n",
    "Compare each element of array1 and array2\n",
    "[ True False False True False]"
   ]
  },
  {
   "cell_type": "code",
   "execution_count": 55,
   "metadata": {},
   "outputs": [
    {
     "name": "stdout",
     "output_type": "stream",
     "text": [
      "#Source Array:\n",
      "[ 0 10 20 40 60]\n",
      "\n",
      "#Search-For Array:\n",
      "[ 0 40]\n",
      "\n",
      "#Compare each element of array1 and array2:\n",
      "[ True False False  True False]\n"
     ]
    }
   ],
   "source": [
    "arr1 = np.array([0, 10, 20, 40, 60])\n",
    "arr2 = np.array([0, 40])\n",
    "\n",
    "isfound_bool_arr = np.in1d(arr1, arr2)\n",
    "\n",
    "print(\"#Source Array:\")\n",
    "print(arr1)\n",
    "\n",
    "print(\"\\n#Search-For Array:\")\n",
    "print(arr2)\n",
    "\n",
    "print(\"\\n#Compare each element of array1 and array2:\")\n",
    "print(isfound_bool_arr)"
   ]
  },
  {
   "cell_type": "markdown",
   "metadata": {},
   "source": [
    "Q54. Write the NumPy program to find common values between two arrays?\n",
    "\n",
    "    Expected Output:\n",
    "    Array1: [ 0 10 20 40 60]\n",
    "    Array2: [10, 30, 40]\n",
    "    Common values between two arrays-\n",
    "    [10 40]"
   ]
  },
  {
   "cell_type": "code",
   "execution_count": 56,
   "metadata": {},
   "outputs": [
    {
     "name": "stdout",
     "output_type": "stream",
     "text": [
      "#First Array:\n",
      "[ 0 10 20 40 60]\n",
      "\n",
      "#Second Array:\n",
      "[10 30 40]\n",
      "\n",
      "#Common elements of array1 and array2:\n",
      "[10 40]\n",
      "--------------------------------------------------\n"
     ]
    }
   ],
   "source": [
    "arr1 = np.array([0, 10, 20, 40, 60])\n",
    "arr2 = np.array([10, 30, 40])\n",
    "\n",
    "common_arr = np.intersect1d(arr1, arr2)\n",
    "\n",
    "print(\"#First Array:\")\n",
    "print(arr1)\n",
    "\n",
    "print(\"\\n#Second Array:\")\n",
    "print(arr2)\n",
    "\n",
    "print(\"\\n#Common elements of array1 and array2:\")\n",
    "print(common_arr)\n",
    "print(\"-\" * 50)"
   ]
  },
  {
   "cell_type": "markdown",
   "metadata": {},
   "source": [
    "Q55. Write the NumPy program to get the unique elements of an array?\n",
    "\n",
    "    Expected OutputOriginal array-\n",
    "    [10 10 20 20 30 30]\n",
    "    Unique elements of the above array-\n",
    "    [10 20 30]\n",
    "    P a g e 14 | 44\n",
    "    Original array-\n",
    "    [[1 1]\n",
    "    [2 3]]\n",
    "    Unique elements of the above array-\n",
    "    [1 2 3]\n"
   ]
  },
  {
   "cell_type": "code",
   "execution_count": 57,
   "metadata": {},
   "outputs": [
    {
     "name": "stdout",
     "output_type": "stream",
     "text": [
      "#Original Array:\n",
      "[10 10 20 20 30 30]\n",
      "\n",
      "#Unique elements of array:\n",
      "[10 20 30]\n"
     ]
    }
   ],
   "source": [
    "arr = np.array([10, 10, 20, 20, 30, 30])\n",
    "\n",
    "unique_arr = np.unique(arr)\n",
    "\n",
    "print(\"#Original Array:\")\n",
    "print(arr)\n",
    "\n",
    "print(\"\\n#Unique elements of array:\")\n",
    "print(unique_arr)"
   ]
  },
  {
   "cell_type": "markdown",
   "metadata": {},
   "source": [
    "Q56. Write the NumPy program to find the set exclusive-or of two arrays.\n",
    "Set exclusive-or will return the sorted, unique values that are in only one (not both) of the input arrays?\n",
    "\n",
    "    Array1- [ 0 10 20 40 60 80]\n",
    "    Array2- [10, 30, 40, 50, 70]\n",
    "    Unique values that are in only one (not both) of the input arrays-\n",
    "    [ 0 20 30 50 60 70 80]"
   ]
  },
  {
   "cell_type": "code",
   "execution_count": 58,
   "metadata": {},
   "outputs": [
    {
     "name": "stdout",
     "output_type": "stream",
     "text": [
      "#First Array:\n",
      "[ 0 10 20 40 60 80]\n",
      "\n",
      "#Second Array:\n",
      "[10 30 40 50 70]\n",
      "\n",
      "#eXclusive-OR (XOR) elements of array1 and array2:\n",
      "[ 0 20 30 50 60 70 80]\n"
     ]
    }
   ],
   "source": [
    "arr1 = np.array([0, 10, 20, 40, 60, 80])\n",
    "arr2 = np.array([10, 30, 40, 50, 70])\n",
    "\n",
    "xor_arr = np.setxor1d(arr1, arr2)\n",
    "\n",
    "print(\"#First Array:\")\n",
    "print(arr1)\n",
    "\n",
    "print(\"\\n#Second Array:\")\n",
    "print(arr2)\n",
    "\n",
    "print(\"\\n#eXclusive-OR (XOR) elements of array1 and array2:\")\n",
    "print(xor_arr)"
   ]
  },
  {
   "cell_type": "markdown",
   "metadata": {},
   "source": [
    "Q57. Write the NumPy program to test if all elements in an array evaluate to True ?\n",
    "     Note: 0 evaluates to False in NumPy."
   ]
  },
  {
   "cell_type": "code",
   "execution_count": 59,
   "metadata": {},
   "outputs": [],
   "source": [
    "arr = np.array([1, 2, 5, 8, 3, 0])\n",
    "\n",
    "assert np.alltrue([1, 2, 5, 8, 3]) == True\n",
    "assert np.alltrue([1, 2, 5, 8, 3, 0]) == False\n"
   ]
  },
  {
   "cell_type": "markdown",
   "metadata": {},
   "source": [
    "Q58 Write the NumPy program to test whether any array element along the given axis evaluates to True?\n",
    "    Note: 0 evaluates to False in NumPy."
   ]
  },
  {
   "cell_type": "code",
   "execution_count": 60,
   "metadata": {},
   "outputs": [],
   "source": [
    "arr = np.array([1, 2, 5, 8, 3, 0])\n",
    "\n",
    "assert np.any([1, 2, 5, 8, 3]) == True\n",
    "assert np.any([1, 2, 5, 8, 3, 0]) == True\n",
    "assert np.any([0, 0, 0]) == False\n",
    "assert np.any([0, 0, 0, 1]) == True\n",
    "assert np.any([0, 0, 0, -1]) == True\n"
   ]
  },
  {
   "cell_type": "markdown",
   "metadata": {},
   "source": [
    "Q59. Write the NumPy program to construct an array by repeating?\n",
    "\n",
    "    Sample array- [1, 2, 3, 4]\n",
    "    Expected Output:\n",
    "        Original array\n",
    "            [1, 2, 3, 4]\n",
    "        Repeating 2 times\n",
    "            [1 2 3 4 1 2 3 4]\n",
    "        Repeating 3 times\n",
    "            [1 2 3 4 1 2 3 4 1 2 3 4]"
   ]
  },
  {
   "cell_type": "code",
   "execution_count": 61,
   "metadata": {},
   "outputs": [
    {
     "name": "stdout",
     "output_type": "stream",
     "text": [
      "#Original Array:\n",
      "[1 2 3 4]\n",
      "\n",
      "#Repeating 2 times:\n",
      "[1 2 3 4 1 2 3 4]\n",
      "\n",
      "#Repeating 3 times:\n",
      "[1 2 3 4 1 2 3 4 1 2 3 4]\n",
      "--------------------------------------------------\n"
     ]
    }
   ],
   "source": [
    "arr = np.array([1, 2, 3, 4])\n",
    "\n",
    "tile2_arr = np.tile(arr, 2)\n",
    "tile3_arr = np.tile(arr, 3)\n",
    "\n",
    "print(\"#Original Array:\")\n",
    "print(arr)\n",
    "\n",
    "print(\"\\n#Repeating 2 times:\")\n",
    "print(tile2_arr)\n",
    "\n",
    "print(\"\\n#Repeating 3 times:\")\n",
    "print(tile3_arr)\n",
    "print(\"-\" * 50)"
   ]
  },
  {
   "cell_type": "markdown",
   "metadata": {},
   "source": [
    "Q60. Write the NumPy program to find the indices of the maximum and minimum values with the given axis of an array?\n",
    "\n",
    "    Original array- [1 2 3 4 5 6]\n",
    "    Maximum Values- 5\n",
    "    Minimum Values- 0"
   ]
  },
  {
   "cell_type": "code",
   "execution_count": 62,
   "metadata": {},
   "outputs": [],
   "source": [
    "arr1 = np.array([1, 2, 3, 4, 5, 6])\n",
    "arr2 = np.array([11, 22, 3])\n",
    "arr2d = np.array([[3, 5, 1],[11, 22, 3]], ndmin=2)\n",
    "\n",
    "#For 1D Array:\n",
    "assert np.argmax(arr1) == 5 and np.argmin(arr1) == 0\n",
    "assert np.argmax(arr2) == 1 and np.argmin(arr2) == 2\n",
    "\n",
    "#For 2D Array:\n",
    "assert np.unravel_index(np.argmax(arr2d), arr2d.shape) == (1, 1)\n",
    "assert np.unravel_index(np.argmin(arr2d), arr2d.shape) == (0, 2)\n",
    "#OR\n",
    "assert np.unravel_index(arr2d.argmax(), arr2d.shape) == (1, 1)\n",
    "assert np.unravel_index(arr2d.argmin(), arr2d.shape) == (0, 2)\n"
   ]
  },
  {
   "cell_type": "markdown",
   "metadata": {},
   "source": [
    "Q61. Write the NumPy program compare two arrays using numpy?\n",
    "    Array a- [1 2]\n",
    "    Array b- [4 5]\n",
    "    a > b\n",
    "    [False False]\n",
    "    a >= b\n",
    "    [False False]\n",
    "    a < b\n",
    "    [ True True]\n",
    "    a <= b\n",
    "    [ True True]\n"
   ]
  },
  {
   "cell_type": "code",
   "execution_count": 63,
   "metadata": {},
   "outputs": [
    {
     "name": "stdout",
     "output_type": "stream",
     "text": [
      "#First Array:\n",
      "[1 2]\n",
      "\n",
      "#Second Array:\n",
      "[4 5]\n",
      "\n",
      "#Result of arr1 < arr2:\n",
      "[ True  True]\n",
      "\n",
      "#Result of arr1 <= arr2:\n",
      "[ True  True]\n",
      "\n",
      "#Result of arr1 > arr2:\n",
      "[False False]\n",
      "\n",
      "#Result of arr1 >= arr2:\n",
      "[False False]\n",
      "--------------------------------------------------\n"
     ]
    }
   ],
   "source": [
    "arr1 = np.array([1, 2])\n",
    "arr2 = np.array([4, 5])\n",
    "\n",
    "print(\"#First Array:\")\n",
    "print(arr1)\n",
    "\n",
    "print(\"\\n#Second Array:\")\n",
    "print(arr2)\n",
    "\n",
    "print(\"\\n#Result of arr1 < arr2:\")\n",
    "print(arr1 < arr2)\n",
    "\n",
    "print(\"\\n#Result of arr1 <= arr2:\")\n",
    "print(arr1 <= arr2)\n",
    "\n",
    "print(\"\\n#Result of arr1 > arr2:\")\n",
    "print(arr1 > arr2)\n",
    "\n",
    "print(\"\\n#Result of arr1 >= arr2:\")\n",
    "print(arr1 >= arr2)\n",
    "print(\"-\" * 50)"
   ]
  },
  {
   "cell_type": "markdown",
   "metadata": {},
   "source": [
    "Q62. Write the NumPy program to sort an along the first, last axis of an array?\n",
    "\n",
    "    Sample array- [[2,5],[4,4]]\n",
    "    Expected Output:\n",
    "        Original array:\n",
    "            [[4 6]\n",
    "            [2 1]]\n",
    "        Sort along the first axis:\n",
    "            [[2 1]\n",
    "            [4 6]]\n",
    "        Sort along the last axis-\n",
    "            [[1 2]\n",
    "            [4 6]]"
   ]
  },
  {
   "cell_type": "code",
   "execution_count": 64,
   "metadata": {},
   "outputs": [
    {
     "name": "stdout",
     "output_type": "stream",
     "text": [
      "#Original Array:\n",
      "[[2 8 4]\n",
      " [1 9 3]]\n",
      "\n",
      "#Sorted Array on first axis i.e. X-axis means row-wise sorting:\n",
      "[[1 8 3]\n",
      " [2 9 4]]\n",
      "\n",
      "#Sorted Array on second/last axis i.e. Y-axis means column-wise sorting:\n",
      "[[2 4 8]\n",
      " [1 3 9]]\n",
      "--------------------------------------------------------------------------------\n"
     ]
    }
   ],
   "source": [
    "arr = np.array([[2, 8, 4],[1, 9, 3]])\n",
    "\n",
    "sorted_on_x_axis = np.sort(arr, axis=0) #0: first axis i.e. X axis i.e. \n",
    "sorted_on_y_axis = np.sort(arr, axis=1) #1 or -1: second/last axis i.e. Y axis.\n",
    "\n",
    "print(\"#Original Array:\")\n",
    "print(arr)\n",
    "\n",
    "print(\"\\n#Sorted Array on first axis i.e. X-axis means row-wise sorting:\")\n",
    "print(sorted_on_x_axis)\n",
    "\n",
    "print(\"\\n#Sorted Array on second/last axis i.e. Y-axis means column-wise sorting:\")\n",
    "print(sorted_on_y_axis)\n",
    "print(\"-\" * 80)"
   ]
  },
  {
   "cell_type": "markdown",
   "metadata": {},
   "source": [
    "Q63. Write the NumPy program to sort pairs of first name and last name return their indices (first by last name, then by first name).\n",
    "\n",
    "    first_names - ( Betsey, Shelley, Lanell, Genesis, Margery )\n",
    "    last_names - ( Battle, Brien, Plotner, Stahl, Woolum )\n",
    "\n",
    "    Expected Output-\n",
    "        [1 3 2 4 0]\n"
   ]
  },
  {
   "cell_type": "code",
   "execution_count": 65,
   "metadata": {},
   "outputs": [
    {
     "name": "stdout",
     "output_type": "stream",
     "text": [
      "#First Names Array:\n",
      "['Betsey' 'Shelley' 'Lanell' 'Genesis' 'Margery']\n",
      "\n",
      "#Last Names Array:\n",
      "['Battle' 'Brien' 'Plotner' 'Stahl' 'Woolum']\n",
      "\n",
      "#Sorted Array w.r.t. (Last Name, First Name) Tuples:\n",
      "[0 3 2 4 1]\n",
      "------------------------------------------------------------\n"
     ]
    }
   ],
   "source": [
    "fname_arr = np.array(['Betsey', 'Shelley', 'Lanell', 'Genesis', 'Margery'], dtype=np.object)\n",
    "lname_arr = np.array(['Battle', 'Brien', 'Plotner', 'Stahl', 'Woolum'], dtype=np.object)\n",
    "\n",
    "sorted_arr = np.lexsort((lname_arr, fname_arr))\n",
    "\n",
    "print(\"#First Names Array:\")\n",
    "print(fname_arr)\n",
    "\n",
    "print(\"\\n#Last Names Array:\")\n",
    "print(lname_arr)\n",
    "\n",
    "print(\"\\n#Sorted Array w.r.t. (Last Name, First Name) Tuples:\")\n",
    "print(sorted_arr)\n",
    "print(\"-\" * 60)"
   ]
  },
  {
   "cell_type": "markdown",
   "metadata": {},
   "source": [
    "Q64. Write the NumPy program to get the values and indices of the elements that are bigger than 10 in the given array?\n",
    "    Original array-\n",
    "        [[ 0 10 20]\n",
    "        [20 30 40]]\n",
    "    Values bigger than 10 = [20 20 30 40]\n",
    "    Their indices are (array([0, 1, 1, 1]), array([2, 0, 1, 2]))"
   ]
  },
  {
   "cell_type": "code",
   "execution_count": 66,
   "metadata": {},
   "outputs": [
    {
     "name": "stdout",
     "output_type": "stream",
     "text": [
      "#Original Array:\n",
      "[[ 0 10 20]\n",
      " [20 30 40]]\n",
      "\n",
      "#Array with elements > 10:\n",
      "[20 20 30 40]\n",
      "\n",
      "#Their (x,y) indices are:\n",
      "[(0, 2), (1, 0), (1, 1), (1, 2)]\n",
      "--------------------------------------------------\n"
     ]
    }
   ],
   "source": [
    "arr2d = np.array([[0, 10, 20], [20, 30, 40]])\n",
    "gt_number = 10\n",
    "\n",
    "matched_arr = arr2d[arr2d > 10]\n",
    "\n",
    "idx_tuple = np.nonzero(arr2d > 10)\n",
    "row1_idx_arr, row2_idx_arr = idx_tuple[0], idx_tuple[1]\n",
    "\n",
    "print(\"#Original Array:\")\n",
    "print(arr2d)\n",
    "\n",
    "print(\"\\n#Array with elements > 10:\")\n",
    "print(matched_arr)\n",
    "\n",
    "print(\"\\n#Their (x,y) indices are:\")\n",
    "print([x_y for x_y in zip(row1_idx_arr, row2_idx_arr)])\n",
    "print(\"-\" * 50)"
   ]
  },
  {
   "cell_type": "markdown",
   "metadata": {},
   "source": [
    "Q65. Write the NumPy program to find the memory size of a NumPy array?\n",
    "\n",
    "    Expected Output\n",
    "        128 bytes"
   ]
  },
  {
   "cell_type": "code",
   "execution_count": 67,
   "metadata": {},
   "outputs": [
    {
     "name": "stdout",
     "output_type": "stream",
     "text": [
      "\n",
      "#Array(size:6, type:float32) consumes 24 bytes of memory.\n",
      "\n",
      "#Array(size:5, type:float64) consumes 40 bytes of memory.\n",
      "\n",
      "#Array(size:3, type:int16) consumes 6 bytes of memory.\n",
      "\n",
      "#Array(size:4, type:int8) consumes 4 bytes of memory.\n",
      "\n",
      "#Array(size:2, type:int64) consumes 16 bytes of memory.\n",
      "\n",
      "#Array(size:5, type:bool) consumes 5 bytes of memory.\n",
      "\n",
      "#Array(size:1, type:complex128) consumes 16 bytes of memory.\n"
     ]
    }
   ],
   "source": [
    "arr_6_f32 = np.empty((2,3), dtype=np.float32)\n",
    "arr_5_f64 = np.empty(5, dtype=np.float64)\n",
    "arr_3_i16 = np.empty(3, dtype=np.int16)\n",
    "arr_4_i8 = np.empty(4, dtype=np.int8)\n",
    "arr_2_i64 = np.empty(2, dtype=np.int64)\n",
    "arr_5_bool = np.empty(5, dtype=np.bool)\n",
    "arr_1_complex = np.empty(1, dtype=np.complex)\n",
    "\n",
    "arr_list = [arr_6_f32, arr_5_f64, arr_3_i16, arr_4_i8, arr_2_i64, arr_5_bool, arr_1_complex]\n",
    "\n",
    "output_string_template = \"\\n#Array(size:{}, type:{}) consumes {} bytes of memory.\"\n",
    "\n",
    "for arr in arr_list:\n",
    "    arr = np.array(arr)\n",
    "    print(output_string_template.format(arr.size, arr.dtype, (arr.size * arr.itemsize)))\n"
   ]
  },
  {
   "cell_type": "markdown",
   "metadata": {},
   "source": [
    "Q66. Write the NumPy program to create an array of ones and an array of zeros?\n",
    "\n",
    "    Expected Output:\n",
    "        Create an array of zeros\n",
    "        Default type is float\n",
    "        P a g e 17 | 44\n",
    "        [[ 0. 0.]]\n",
    "        Type changes to int\n",
    "        [[0 0]]\n",
    "        Create an array of ones\n",
    "        Default type is float\n",
    "        [[ 1. 1.]]\n",
    "        Type changes to int\n",
    "        [[1 1]]\n"
   ]
  },
  {
   "cell_type": "code",
   "execution_count": 68,
   "metadata": {},
   "outputs": [
    {
     "name": "stdout",
     "output_type": "stream",
     "text": [
      "#Array of Zeros with default type is float:\n",
      "[0. 0. 0.]\n",
      "\n",
      "#After changing type to int:\n",
      "[0 0 0]\n",
      "\n",
      "#Array of Ones with default type is float:\n",
      "[1. 1. 1. 1. 1.]\n",
      "\n",
      "#After changing to int:\n",
      "[1 1 1 1 1]\n",
      "--------------------------------------------------\n"
     ]
    }
   ],
   "source": [
    "arr0 = np.zeros(3)#, dtype=np.float64)\n",
    "\n",
    "print(\"#Array of Zeros with default type is float:\")\n",
    "print(arr0)\n",
    "\n",
    "print(\"\\n#After changing type to int:\")\n",
    "arr0 = arr0.astype(np.int32)\n",
    "print(arr0)\n",
    "\n",
    "print(\"\\n#Array of Ones with default type is float:\")\n",
    "arr1 = np.ones(5)\n",
    "print(arr1)\n",
    "\n",
    "print(\"\\n#After changing to int:\")\n",
    "arr1 = arr1.astype(np.int8)\n",
    "print(arr1)\n",
    "print(\"-\" * 50)"
   ]
  },
  {
   "cell_type": "markdown",
   "metadata": {},
   "source": [
    "Q67. Write the NumPy program to change the dimension of an array?\n",
    "\n",
    "    Expected Output:\n",
    "        6 rows and 0 columns\n",
    "        (6,)\n",
    "        (3, 3) -> 3 rows and 3 columns\n",
    "        [[1 2 3]\n",
    "        [4 5 6]\n",
    "        [7 8 9]]\n",
    "        Change array shape to (3, 3) -> 3 rows and 3 columns\n",
    "        [[1 2 3]\n",
    "        [4 5 6]\n",
    "        [7 8 9]]"
   ]
  },
  {
   "cell_type": "code",
   "execution_count": 69,
   "metadata": {},
   "outputs": [
    {
     "name": "stdout",
     "output_type": "stream",
     "text": [
      "#Original array of shape: (9,) is:\n",
      "[1 2 3 4 5 6 7 8 9]\n",
      "\n",
      "#Reshaped array with new shape: (3, 3) is:\n",
      "[[1 2 3]\n",
      " [4 5 6]\n",
      " [7 8 9]]\n",
      "--------------------------------------------------\n"
     ]
    }
   ],
   "source": [
    "arr = np.array([1, 2, 3, 4, 5, 6, 7, 8, 9])\n",
    "\n",
    "print(f\"#Original array of shape: {arr.shape} is:\")\n",
    "print(arr)\n",
    "arr = arr.reshape(3, 3)\n",
    "print(f\"\\n#Reshaped array with new shape: {arr.shape} is:\")\n",
    "print(arr)\n",
    "print(\"-\" * 50)"
   ]
  },
  {
   "cell_type": "markdown",
   "metadata": {},
   "source": [
    "Q68. Write the NumPy program to create a new shape to an array without changing its data?\n",
    "    Reshape 3x2-\n",
    "    [[1 2]\n",
    "    [3 4]\n",
    "    [5 6]]\n",
    "    Reshape 2x3-\n",
    "    [[1 2 3]\n",
    "    [4 5 6]]"
   ]
  },
  {
   "cell_type": "code",
   "execution_count": 70,
   "metadata": {},
   "outputs": [
    {
     "name": "stdout",
     "output_type": "stream",
     "text": [
      "#Original Array of shape (6,):\n",
      "[ 8  3  8 10 12  6]\n",
      "\n",
      "#Reshaped to (2, 3):\n",
      "[[ 8  3  8]\n",
      " [10 12  6]]\n",
      "\n",
      "#Again reshaped to (3, 2):\n",
      "[[ 8  3]\n",
      " [ 8 10]\n",
      " [12  6]]\n",
      "--------------------------------------------------\n"
     ]
    }
   ],
   "source": [
    "arr0 = np.random.randint(21, size=6)\n",
    "arr1 = arr0.reshape(2, -1)\n",
    "arr2 = arr1.reshape(3, -1)\n",
    "\n",
    "print(f\"#Original Array of shape {arr0.shape}:\")\n",
    "print(arr0)\n",
    "\n",
    "print(f\"\\n#Reshaped to {arr1.shape}:\")\n",
    "print(arr1)\n",
    "\n",
    "print(f\"\\n#Again reshaped to {arr2.shape}:\")\n",
    "print(arr2)\n",
    "print(\"-\" * 50)"
   ]
  },
  {
   "cell_type": "markdown",
   "metadata": {},
   "source": [
    "Q69. Write the NumPy program to create a new array of 3*5, filled with 2?\n",
    "\n",
    "    Expected Output:\n",
    "        [[2 2 2 2 2]\n",
    "        [2 2 2 2 2]\n",
    "        [2 2 2 2 2]]\n",
    "        [[2 2 2 2 2]\n",
    "        [2 2 2 2 2]\n",
    "        [2 2 2 2 2]]"
   ]
  },
  {
   "cell_type": "code",
   "execution_count": 71,
   "metadata": {},
   "outputs": [
    {
     "name": "stdout",
     "output_type": "stream",
     "text": [
      "#Original array with shape (3, 3) is:\n",
      "[[       47         0         0         0         0]\n",
      " [        0         0         0         0         0]\n",
      " [      760         0         0 538976288         0]]\n",
      "\n",
      "#Filled array with shape (3, 3) is:\n",
      "[[2 2 2 2 2]\n",
      " [2 2 2 2 2]\n",
      " [2 2 2 2 2]]\n",
      "--------------------------------------------------\n"
     ]
    }
   ],
   "source": [
    "arr2 = np.empty((3, 5), dtype=np.int)\n",
    "\n",
    "print(f\"#Original array with shape {arr.shape} is:\")\n",
    "print(arr2)\n",
    "\n",
    "print(f\"\\n#Filled array with shape {arr.shape} is:\")\n",
    "arr2.fill(2)\n",
    "print(arr2)\n",
    "print(\"-\" * 50)"
   ]
  },
  {
   "cell_type": "markdown",
   "metadata": {},
   "source": [
    "Q70. Write the NumPy program to create a 3-D array with ones on a diagonal and zeros elsewhere?\n",
    "\n",
    "    Expected Output:\n",
    "        [[ 1. 0. 0.]\n",
    "        [ 0. 1. 0.]\n",
    "        [ 0. 0. 1.]]"
   ]
  },
  {
   "cell_type": "code",
   "execution_count": 72,
   "metadata": {},
   "outputs": [
    {
     "name": "stdout",
     "output_type": "stream",
     "text": [
      "#Original array of shape (3, 3) is:\n",
      "[[0. 0. 0.]\n",
      " [0. 0. 0.]\n",
      " [0. 0. 0.]]\n",
      "\n",
      "#Diagonally filled array is:\n",
      "[[1. 0. 0.]\n",
      " [0. 1. 0.]\n",
      " [0. 0. 1.]]\n",
      "--------------------------------------------------\n"
     ]
    }
   ],
   "source": [
    "arr = np.zeros((3, 3), dtype=np.float)\n",
    "\n",
    "print(f\"#Original array of shape {arr.shape} is:\")\n",
    "print(arr)\n",
    "\n",
    "print(\"\\n#Diagonally filled array is:\")\n",
    "np.fill_diagonal(arr, 1)\n",
    "print(arr)\n",
    "print(\"-\" * 50)"
   ]
  },
  {
   "cell_type": "markdown",
   "metadata": {},
   "source": [
    "Q71. Write the NumPy program to split an array of 14 elements into the 3 arrays and each of which has 2, 4, and 8 elements in original order?\n",
    "\n",
    "    Expected Output:\n",
    "        Original array:\n",
    "            [ 1 2 3 4 5 6 7 8 9 10 11 12 13 14]\n",
    "        After splitting-\n",
    "            [array([1, 2]), array([3, 4, 5, 6]), array([ 7, 8, 9, 10, 11, 12, 13, 14])]"
   ]
  },
  {
   "cell_type": "code",
   "execution_count": 73,
   "metadata": {},
   "outputs": [
    {
     "name": "stdout",
     "output_type": "stream",
     "text": [
      "#Original array of shape (14,) is:\n",
      "[ 1  2  3  4  5  6  7  8  9 10 11 12 13 14]\n",
      "\n",
      "#After splitting, the arrays are:\n",
      "[array([1, 2]), array([3, 4, 5, 6]), array([ 7,  8,  9, 10, 11, 12, 13, 14])]\n",
      "--------------------------------------------------\n"
     ]
    }
   ],
   "source": [
    "arr = np.array([1, 2, 3, 4, 5, 6, 7, 8, 9, 10, 11, 12, 13, 14])\n",
    "\n",
    "print(f\"#Original array of shape {arr.shape} is:\")\n",
    "print(arr)\n",
    "\n",
    "print(\"\\n#After splitting, the arrays are:\")\n",
    "print(np.split(arr, [2, 6], axis=0))\n",
    "print(\"-\" * 50)"
   ]
  },
  {
   "cell_type": "markdown",
   "metadata": {},
   "source": [
    "Q72. Write the NumPy program to split of an array of shape 4x4 it into two arrays along the second axis?\n",
    "\n",
    "    Sample array -\n",
    "        [[ 0 1 2 3]\n",
    "        [ 4 5 6 7]\n",
    "        [ 8 9 10 11]\n",
    "        [12 13 14 15]]\n",
    "    Expected Output-\n",
    "        [array([[ 0, 1],\n",
    "                [ 4, 5],\n",
    "                [ 8, 9],\n",
    "                [12, 13]]), \n",
    "         array([[ 2, 3],\n",
    "                [ 6, 7],\n",
    "                [10, 11],\n",
    "                [14, 15]]), array([], shape=(4, 0), dtype=int64)]\n"
   ]
  },
  {
   "cell_type": "code",
   "execution_count": 74,
   "metadata": {},
   "outputs": [
    {
     "name": "stdout",
     "output_type": "stream",
     "text": [
      "#Original array of shape (4, 4) is:\n",
      "[[ 0  1  2  3]\n",
      " [ 4  5  6  7]\n",
      " [ 8  9 10 11]\n",
      " [12 13 14 15]]\n",
      "\n",
      "#After splitting, the arrays are:\n",
      "[array([[ 0,  1],\n",
      "       [ 4,  5],\n",
      "       [ 8,  9],\n",
      "       [12, 13]]), array([[ 2,  3],\n",
      "       [ 6,  7],\n",
      "       [10, 11],\n",
      "       [14, 15]])]\n",
      "\n",
      "#Another way of splitting, the arrays are:\n",
      "[array([[ 0,  1],\n",
      "       [ 4,  5],\n",
      "       [ 8,  9],\n",
      "       [12, 13]]), array([[ 2,  3],\n",
      "       [ 6,  7],\n",
      "       [10, 11],\n",
      "       [14, 15]]), array([], shape=(4, 0), dtype=int32)]\n",
      "--------------------------------------------------\n"
     ]
    }
   ],
   "source": [
    "arr = np.array([[0, 1, 2, 3], [4, 5, 6, 7], [8, 9, 10, 11], [12, 13, 14, 15]])\n",
    "#OR\n",
    "arr = np.arange(16).reshape(4, 4)\n",
    "\n",
    "print(f\"#Original array of shape {arr.shape} is:\")\n",
    "print(arr)\n",
    "\n",
    "print(\"\\n#After splitting, the arrays are:\")\n",
    "print(np.split(arr, [2], axis=1))\n",
    "\n",
    "#OR\n",
    "\n",
    "print(\"\\n#Another way of splitting, the arrays are:\")\n",
    "print(np.hsplit(arr, [2, 6]))\n",
    "print(\"-\" * 50)"
   ]
  },
  {
   "cell_type": "markdown",
   "metadata": {},
   "source": [
    "Q73. Write the NumPy program to create a 5x5 matrix with row values ranging from 0 to 4?\n",
    "\n",
    "    Original array-\n",
    "        [[ 0. 0. 0. 0. 0.]\n",
    "        [ 0. 0. 0. 0. 0.]\n",
    "        [ 0. 0. 0. 0. 0.]\n",
    "        [ 0. 0. 0. 0. 0.]\n",
    "        [ 0. 0. 0. 0. 0.]]\n",
    "    Row values ranging from 0 to 4.\n",
    "        [[ 0. 1. 2. 3. 4.]\n",
    "        [ 0. 1. 2. 3. 4.]\n",
    "        [ 0. 1. 2. 3. 4.]\n",
    "        [ 0. 1. 2. 3. 4.]\n",
    "        [ 0. 1. 2. 3. 4.]]\n"
   ]
  },
  {
   "cell_type": "code",
   "execution_count": 75,
   "metadata": {},
   "outputs": [
    {
     "name": "stdout",
     "output_type": "stream",
     "text": [
      "#Original array of shape (5, 5) is:\n",
      "[[0 0 0 0 0]\n",
      " [0 0 0 0 0]\n",
      " [0 0 0 0 0]\n",
      " [0 0 0 0 0]\n",
      " [0 0 0 0 0]]\n",
      "\n",
      "#Row values ranging from 0 to 4:\n",
      "[[0 1 2 3 4]\n",
      " [0 1 2 3 4]\n",
      " [0 1 2 3 4]\n",
      " [0 1 2 3 4]\n",
      " [0 1 2 3 4]]\n",
      "--------------------------------------------------\n"
     ]
    }
   ],
   "source": [
    "arr = np.random.randn(5, 5)\n",
    "arr.fill(0)\n",
    "arr = arr.astype(np.int)\n",
    "\n",
    "print(f\"#Original array of shape {arr.shape} is:\")\n",
    "print(arr)\n",
    "\n",
    "print(\"\\n#Row values ranging from 0 to 4:\")\n",
    "arr += np.arange(5, dtype=np.int)\n",
    "print(arr)\n",
    "print(\"-\" * 50)"
   ]
  },
  {
   "cell_type": "markdown",
   "metadata": {},
   "source": [
    "Q74. Write the NumPy program to create an array of zeros and three column types (integer, float, character)?\n",
    "\n",
    "    Expected Output:\n",
    "        [(1, 2., b'Albert Einstein') (2, 2., b'Edmond Halley') (3, 3., b'Gertrude B. Elion')]"
   ]
  },
  {
   "cell_type": "code",
   "execution_count": 76,
   "metadata": {},
   "outputs": [
    {
     "name": "stdout",
     "output_type": "stream",
     "text": [
      "[(1, 2.0, b'Albert Einstein'), (2, 2.0, b'Edmond Halley'), (3, 3.0, b'Gertrude B. Elion')]\n",
      "--------------------------------------------------\n"
     ]
    }
   ],
   "source": [
    "arr = np.zeros((3,3), dtype=('int, float, object'))\n",
    "arr = [(1, 2., b'Albert Einstein'), (2, 2., b'Edmond Halley'), (3, 3., b'Gertrude B. Elion')]\n",
    "print(arr)\n",
    "print(\"-\" * 50)"
   ]
  },
  {
   "cell_type": "markdown",
   "metadata": {},
   "source": [
    "Q75. Write the NumPy program to remove the negative values in the numpy array with 0?\n",
    "\n",
    "    Expected OutputOriginal array:\n",
    "        [-1 -4 0 2 3 4 5 -6]\n",
    "    Replace the negative values of the said array with 0-\n",
    "        [0 0 0 2 3 4 5 0]"
   ]
  },
  {
   "cell_type": "code",
   "execution_count": 77,
   "metadata": {},
   "outputs": [
    {
     "name": "stdout",
     "output_type": "stream",
     "text": [
      "#Original array is:\n",
      "[-1 -4  0  2  3  4  5 -6]\n",
      "\n",
      "#Using Index Subscription Condition: After replacing all negetive values with 0, the array is:\n",
      "[0 0 0 2 3 4 5 0]\n",
      "\n",
      "#Using List Comprehension: After replacing all negetive values with 0, the array is:\n",
      "[0, 0, 0, 2, 3, 4, 5, 0]\n",
      "--------------------------------------------------\n"
     ]
    }
   ],
   "source": [
    "arr = np.array([-1, -4, 0, 2, 3, 4, 5, -6])\n",
    "\n",
    "print(f\"#Original array is:\")\n",
    "print(arr)\n",
    "print(\"\\n#Using Index Subscription Condition: After replacing all negetive values with 0, the array is:\")\n",
    "arr[arr < 0] = 0\n",
    "print(arr)\n",
    "\n",
    "#OR\n",
    "print(\"\\n#Using List Comprehension: After replacing all negetive values with 0, the array is:\")\n",
    "arr = [0 if num < 0 else num for num in arr]\n",
    "print(arr)\n",
    "print(\"-\" * 50)"
   ]
  },
  {
   "cell_type": "markdown",
   "metadata": {},
   "source": [
    "Q76. Write the NumPy program to compute the histogram of a set of data?"
   ]
  },
  {
   "cell_type": "code",
   "execution_count": 78,
   "metadata": {},
   "outputs": [
    {
     "data": {
      "text/plain": [
       "(array([3., 1., 2., 2.]), array([1, 2, 3, 4, 6]), <a list of 4 Patch objects>)"
      ]
     },
     "execution_count": 78,
     "metadata": {},
     "output_type": "execute_result"
    },
    {
     "data": {
      "image/png": "[encoded data removed]",
      "text/plain": [
       "<Figure size 432x288 with 1 Axes>"
      ]
     },
     "metadata": {
      "needs_background": "light"
     },
     "output_type": "display_data"
    }
   ],
   "source": [
    "arr = np.array([1, 2, 3, 4, 6, 1, 3, 1])\n",
    "\n",
    "plt.hist(arr, bins=np.unique(arr), histtype='bar', orientation='horizontal')#, 'vertical'}, optional) #'bar', 'barstacked', ,  'stepfilled'}, optional\n"
   ]
  },
  {
   "cell_type": "markdown",
   "metadata": {},
   "source": [
    "Q77. Write the NumPy program to compute the line graph of a set of data?"
   ]
  },
  {
   "cell_type": "code",
   "execution_count": 79,
   "metadata": {},
   "outputs": [
    {
     "data": {
      "text/plain": [
       "Text(0, 0.5, '')"
      ]
     },
     "execution_count": 79,
     "metadata": {},
     "output_type": "execute_result"
    },
    {
     "data": {
      "image/png": "[encoded data removed]",
      "text/plain": [
       "<Figure size 432x288 with 1 Axes>"
      ]
     },
     "metadata": {
      "needs_background": "light"
     },
     "output_type": "display_data"
    }
   ],
   "source": [
    "arr = np.random.randn(50)\n",
    "\n",
    "plt.plot(arr)\n",
    "plt.ylabel('')\n"
   ]
  },
  {
   "cell_type": "markdown",
   "metadata": {},
   "source": [
    "Q78. Write the NumPy program to extract first element of the second row and fourth element of fourth row from a given (4x4) array?\n",
    "\n",
    "    Sample OutputOriginal array-\n",
    "        [[ 0 1 2 3]\n",
    "        [ 4 5 6 7]\n",
    "        [ 8 9 10 11]\n",
    "        [12 13 14 15]]\n",
    "    Extracted data- First element of the second row and fourth element of fourth row\n",
    "        [ 4 15]"
   ]
  },
  {
   "cell_type": "code",
   "execution_count": 80,
   "metadata": {},
   "outputs": [
    {
     "name": "stdout",
     "output_type": "stream",
     "text": [
      "#Original array of shape (4, 4) is:\n",
      "[[ 0  1  2  3]\n",
      " [ 4  5  6  7]\n",
      " [ 8  9 10 11]\n",
      " [12 13 14 15]]\n",
      "\n",
      "#Extracted data- Second row:\n",
      "[4 5 6 7]\n",
      "--------------------------------------------------\n"
     ]
    }
   ],
   "source": [
    "arr = np.array([[0, 1, 2, 3], [4, 5, 6, 7], [8, 9, 10, 11], [12, 13, 14, 15]])\n",
    "#OR\n",
    "arr = np.arange(16).reshape((4, 4))\n",
    "\n",
    "print(f\"#Original array of shape {arr.shape} is:\")\n",
    "print(arr)\n",
    "\n",
    "#arr[4:8] #use it in case of 1D array.\n",
    "\n",
    "print(\"\\n#Extracted data- Second row:\")\n",
    "print(arr[1,:])\n",
    "print(\"-\" * 50)"
   ]
  },
  {
   "cell_type": "markdown",
   "metadata": {},
   "source": [
    "Q79. Write the NumPy program to extract first element of the second row and fourth element of fourth row from a given (4x4) array?\n",
    "\n",
    "    Sample OutputOriginal array-\n",
    "        [[ 0 1 2 3]\n",
    "        [ 4 5 6 7]\n",
    "        [ 8 9 10 11]\n",
    "        [12 13 14 15]]\n",
    "    Extracted data- First element of the second row and fourth element of fourth row\n",
    "        [ 4 15]"
   ]
  },
  {
   "cell_type": "code",
   "execution_count": 81,
   "metadata": {},
   "outputs": [
    {
     "name": "stdout",
     "output_type": "stream",
     "text": [
      "#Original array of shape (4, 4) is:\n",
      "[[ 0  1  2  3]\n",
      " [ 4  5  6  7]\n",
      " [ 8  9 10 11]\n",
      " [12 13 14 15]]\n",
      "\n",
      "#First element of the second row:\n",
      "4\n",
      "\n",
      "#Fourth element of the fourth row:\n",
      "15\n",
      "--------------------------------------------------\n"
     ]
    }
   ],
   "source": [
    "arr = np.arange(16).reshape((4, 4))\n",
    "\n",
    "print(f\"#Original array of shape {arr.shape} is:\")\n",
    "print(arr)\n",
    "\n",
    "print(f\"\\n#First element of the second row:\\n{arr[1,0]}\")\n",
    "print(f\"\\n#Fourth element of the fourth row:\\n{arr[3,3]}\")\n",
    "print(\"-\" * 50)"
   ]
  },
  {
   "cell_type": "markdown",
   "metadata": {},
   "source": [
    "Q80. Write the NumPy program to add two arrays A and B of sizes (3,3) and (,3)?\n",
    "\n",
    "    Sample Output:\n",
    "        Original array:\n",
    "            Array-1\n",
    "                [[1 1 1]\n",
    "                [1 1 1]\n",
    "                [1 1 1]]\n",
    "            Array-2\n",
    "                [0 1 2]\n",
    "            A + B:\n",
    "                [[1 2 3]\n",
    "                [1 2 3]\n",
    "                [1 2 3]]"
   ]
  },
  {
   "cell_type": "code",
   "execution_count": 82,
   "metadata": {},
   "outputs": [
    {
     "name": "stdout",
     "output_type": "stream",
     "text": [
      "#First array of shape (3, 3) is:\n",
      "[[1 1 1]\n",
      " [1 1 1]\n",
      " [1 1 1]]\n",
      "\n",
      "#Second array of shape (3,) is:\n",
      "[0 1 2]\n",
      "\n",
      "#Resultant array of shape (3, 3) is:\n",
      "[[1 2 3]\n",
      " [1 2 3]\n",
      " [1 2 3]]\n",
      "--------------------------------------------------\n"
     ]
    }
   ],
   "source": [
    "arr1 = np.ones((3,3), dtype=np.int)\n",
    "arr1\n",
    "\n",
    "arr2 = np.arange(3)\n",
    "arr2\n",
    "\n",
    "arr1 + arr2\n",
    "\n",
    "print(f\"#First array of shape {arr1.shape} is:\")\n",
    "print(arr1)\n",
    "\n",
    "print(f\"\\n#Second array of shape {arr2.shape} is:\")\n",
    "print(arr2)\n",
    "\n",
    "print(f\"\\n#Resultant array of shape {(arr1 + arr2).shape} is:\")\n",
    "print(arr1 + arr2)\n",
    "print(\"-\" * 50)"
   ]
  },
  {
   "cell_type": "markdown",
   "metadata": {},
   "source": [
    "Q81. Write the NumPy program to copy data from a given array to another array?\n",
    "\n",
    "    Sample OutputOriginal array-\n",
    "        [24 27 30 29 18 14]\n",
    "    Copy of the said array-\n",
    "        [24 27 30 29 18 14]"
   ]
  },
  {
   "cell_type": "code",
   "execution_count": 83,
   "metadata": {},
   "outputs": [
    {
     "name": "stdout",
     "output_type": "stream",
     "text": [
      "#First array of shape (6,) & memory location 0x822d940 is:\n",
      "[24 27 30 29 18 14]\n",
      "\n",
      "#Deep Copied array of shape (6,) & memory location 0x8244990 is:\n",
      "[24 27 30 29 18 14]\n",
      "--------------------------------------------------\n"
     ]
    }
   ],
   "source": [
    "arr1 = np.array([24, 27, 30, 29, 18, 14])\n",
    "print(f\"#First array of shape {arr1.shape} & memory location {hex(id(arr1))} is:\")\n",
    "print(arr1)\n",
    "\n",
    "arr2 = arr1.copy()\n",
    "print(f\"\\n#Deep Copied array of shape {arr2.shape} & memory location {hex(id(arr2))} is:\")\n",
    "print(arr2)\n",
    "print(\"-\" * 50)"
   ]
  },
  {
   "cell_type": "markdown",
   "metadata": {},
   "source": [
    "Q82. Write the NumPy program to calculate the sum of all columns of the 2D numpy array?\n",
    "\n",
    "    Sample OutputOriginal array-\n",
    "        [[ 0 1 2 3 4 5 6 7 8]\n",
    "        [ 9 10 11 12 13 14 15 16 17]\n",
    "        [18 19 20 21 22 23 24 25 26]\n",
    "        [27 28 29 30 31 32 33 34 35]]\n",
    "    Sum of all columns-\n",
    "        [54 58 62 66 70 74 78 82 86]"
   ]
  },
  {
   "cell_type": "code",
   "execution_count": 84,
   "metadata": {},
   "outputs": [
    {
     "name": "stdout",
     "output_type": "stream",
     "text": [
      "#Original array of shape (4, 9) is:\n",
      "[[ 0  1  2  3  4  5  6  7  8]\n",
      " [ 9 10 11 12 13 14 15 16 17]\n",
      " [18 19 20 21 22 23 24 25 26]\n",
      " [27 28 29 30 31 32 33 34 35]]\n",
      "\n",
      "#Column-wise summation is:\n",
      "[54 58 62 66 70 74 78 82 86]\n",
      "--------------------------------------------------\n"
     ]
    }
   ],
   "source": [
    "arr = np.arange(36)\n",
    "arr = arr.reshape((4, -1))\n",
    "\n",
    "print(f\"#Original array of shape {arr.shape} is:\")\n",
    "print(arr)\n",
    "\n",
    "print(f\"\\n#Column-wise summation is:\")\n",
    "print(np.sum(arr, axis=0))\n",
    "print(\"-\" * 50)"
   ]
  },
  {
   "cell_type": "markdown",
   "metadata": {},
   "source": [
    "Q83. Write the NumPy program to calculate averages without NaNs along the given array?\n",
    "\n",
    "    Sample OutputOriginal array-\n",
    "        [[10. 20. 30.]\n",
    "        [40. 50. nan]\n",
    "        [nan 6. nan]\n",
    "        [nan nan nan]]\n",
    "    Averages without NaNs along the said array-\n",
    "        [20. 45. 6. nan]"
   ]
  },
  {
   "cell_type": "code",
   "execution_count": 85,
   "metadata": {},
   "outputs": [
    {
     "name": "stdout",
     "output_type": "stream",
     "text": [
      "#Original array of shape (4, 3) is:\n",
      "[[10. 20. 30.]\n",
      " [40. 50. nan]\n",
      " [nan  6. nan]\n",
      " [nan nan nan]]\n",
      "[[10.0 20.0 30.0]\n",
      " [40.0 50.0 --]\n",
      " [-- 6.0 --]\n",
      " [-- -- --]]\n",
      "\n",
      "#Averages without NaNs along the said array:\n",
      "[20. 45.  6. nan]\n",
      "\n",
      "#Another way: Averages without NaNs along the said array:\n",
      "[20. 45.  6. nan]\n",
      "--------------------------------------------------\n"
     ]
    },
    {
     "name": "stderr",
     "output_type": "stream",
     "text": [
      "C:\\Users\\shivbaba\\Anaconda3\\lib\\site-packages\\ipykernel_launcher.py:16: RuntimeWarning: Mean of empty slice\n",
      "  app.launch_new_instance()\n"
     ]
    }
   ],
   "source": [
    "arr = np.array([[10, 20 ,30], [40, 50, np.nan], [np.nan, 6, np.nan], [np.nan, np.nan, np.nan]])\n",
    "\n",
    "print(f\"#Original array of shape {arr.shape} is:\")\n",
    "print(arr)\n",
    "\n",
    "temp = np.ma.masked_array(arr, np.isnan(arr))\n",
    "print(temp)\n",
    "result = np.mean(temp, axis=1)\n",
    "\n",
    "print(\"\\n#Averages without NaNs along the said array:\")\n",
    "print(result.filled(np.nan))\n",
    "\n",
    "#OR\n",
    "\n",
    "print(\"\\n#Another way: Averages without NaNs along the said array:\")\n",
    "print(np.nanmean(arr, axis=1))\n",
    "print(\"-\" * 50)"
   ]
  },
  {
   "cell_type": "markdown",
   "metadata": {},
   "source": [
    "Q84. Create two arrays of six elements. Write the NumPy program to count the number of instances of a value occurring in one array on the condition of another array.\n",
    "\n",
    "    Sample Output:\n",
    "        Original arrays:\n",
    "            [ 10 -10 10 -10 -10 10]\n",
    "            [0.85 0.45 0.9 0.8 0.12 0.6 ]\n",
    "        Number of instances of a value occurring in one array on the condition of another array:\n",
    "            3"
   ]
  },
  {
   "cell_type": "code",
   "execution_count": 86,
   "metadata": {},
   "outputs": [
    {
     "name": "stdout",
     "output_type": "stream",
     "text": [
      "#First array is:\n",
      "[ 10 -10  10 -10 -10  10]\n",
      "\n",
      "#Second array is:\n",
      "[0.85 0.45 0.9  0.8  0.12 0.6 ]\n",
      "\n",
      "#Number of instances of a value occurring in one array on the condition of other array: \n",
      "3\n",
      "----------------------------------------------------------------------------------------------------\n"
     ]
    }
   ],
   "source": [
    "arr1 = np.array([10, -10, 10, -10, -10, 10])\n",
    "arr2 = np.array([.85, .45, .9, .8, .12, .6])\n",
    "\n",
    "print(\"#First array is:\")\n",
    "print(arr1)\n",
    "\n",
    "print(\"\\n#Second array is:\")\n",
    "print(arr2)\n",
    "\n",
    "print(\"\\n#Number of instances of a value occurring in one array on the condition of other array: \")\n",
    "print(np.sum((arr1 == 10) & (arr2 > .5)))\n",
    "print(\"-\" * 100)\n"
   ]
  },
  {
   "cell_type": "markdown",
   "metadata": {},
   "source": [
    "Q85. Write the NumPy program to convert a Python dictionary to a Numpy ndarray ?\n",
    "\n",
    "    Original dictionary-\n",
    "        {'column0': {'a': 1, 'b': 0.0, 'c': 0.0, 'd': 2.0},\n",
    "        'column1': {'a': 3.0, 'b': 1, 'c': 0.0, 'd': -1.0},\n",
    "        'column2': {'a': 4, 'b': 1, 'c': 5.0, 'd': -1.0},\n",
    "        'column3': {'a': 3.0, 'b': -1.0, 'c': -1.0, 'd': -1.0}}\n",
    "        Type: <class 'dict'>\n",
    "\n",
    "    ndarray-\n",
    "        [[ 1. 0. 0. 2.]\n",
    "        [ 3. 1. 0. -1.]\n",
    "        [ 4. 1. 5. -1.]\n",
    "        [ 3. -1. -1. -1.]]\n",
    "        Type: <class 'numpy.ndarray'>\n"
   ]
  },
  {
   "cell_type": "code",
   "execution_count": 87,
   "metadata": {},
   "outputs": [
    {
     "name": "stdout",
     "output_type": "stream",
     "text": [
      "#Original dictionary of type '<class 'dict'>' is:\n",
      "{'column0': {'a': 1, 'b': 0.0, 'c': 0.0, 'd': 2.0}, 'column1': {'a': 3.0, 'b': 1, 'c': 0.0, 'd': -1.0}, 'column2': {'a': 4, 'b': 1, 'c': 5.0, 'd': -1.0}, 'column3': {'a': 3.0, 'b': -1.0, 'c': -1.0, 'd': -1.0}}\n",
      "\n",
      "#Extracted 2D array of type '<class 'numpy.ndarray'>' is:\n",
      "[[ 1.  0.  0.  2.]\n",
      " [ 3.  1.  0. -1.]\n",
      " [ 4.  1.  5. -1.]\n",
      " [ 3. -1. -1. -1.]]\n",
      "----------------------------------------------------------------------------------------------------\n"
     ]
    }
   ],
   "source": [
    "dict1 = {'column0': {'a': 1, 'b': 0.0, 'c': 0.0, 'd': 2.0},\n",
    "        'column1': {'a': 3.0, 'b': 1, 'c': 0.0, 'd': -1.0},\n",
    "        'column2': {'a': 4, 'b': 1, 'c': 5.0, 'd': -1.0},\n",
    "        'column3': {'a': 3.0, 'b': -1.0, 'c': -1.0, 'd': -1.0}}\n",
    "\n",
    "arr = np.array([[val for key, val in inner_dict.items()] for key, inner_dict in dict1.items()]) \n",
    "\n",
    "print(f\"#Original dictionary of type '{type(dict1)}' is:\")\n",
    "print(dict1)\n",
    "\n",
    "print(f\"\\n#Extracted 2D array of type '{type(arr)}' is:\")\n",
    "print(arr)\n",
    "print(\"-\" * 100)\n"
   ]
  },
  {
   "cell_type": "markdown",
   "metadata": {},
   "source": [
    "Q86. Write the Numpy program to find and store the non-zero unique rows in an array after comparing each row with other row in the given matrix?\n",
    "\n",
    "    Original array-\n",
    "        [[ 1 1 0]\n",
    "        [ 0 0 0]\n",
    "        [ 0 2 3]\n",
    "        [ 0 0 0]\n",
    "        [ 0 -1 1]\n",
    "        [ 0 0 0]]\n",
    "    Non-zero unique rows-\n",
    "        [[ 1 1 0]\n",
    "        [ 0 2 3]\n",
    "        [ 0 -1 1]]\n"
   ]
  },
  {
   "cell_type": "code",
   "execution_count": 88,
   "metadata": {},
   "outputs": [
    {
     "name": "stdout",
     "output_type": "stream",
     "text": [
      "#Original 2D array of shape (6, 3) is:\n",
      "[[ 1  1  0]\n",
      " [ 0  0  0]\n",
      " [ 0  2  3]\n",
      " [ 0  0  0]\n",
      " [ 0 -1  1]\n",
      " [ 0  0  0]]\n",
      "\n",
      "#Array with rows containing at least one non-zero element is:\n",
      "[[ 1  1  0]\n",
      " [ 0  2  3]\n",
      " [ 0 -1  1]]\n",
      "----------------------------------------------------------------------------------------------------\n"
     ]
    }
   ],
   "source": [
    "from ast import literal_eval\n",
    "\n",
    "\n",
    "str_2d_arr = \"\"\"[[ 1, 1, 0],\n",
    "                [ 0, 0, 0],\n",
    "                [ 0, 2, 3],\n",
    "                [ 0, 0, 0],\n",
    "                [ 0, -1, 1],\n",
    "                [ 0, 0, 0]]\"\"\"\n",
    "\n",
    "arr = np.array(literal_eval(str_2d_arr))\n",
    "print(f\"#Original 2D array of shape {arr.shape} is:\")\n",
    "arr = np.array([lst for lst in arr])\n",
    "print(arr)\n",
    "\n",
    "print(f\"\\n#Array with rows containing at least one non-zero element is:\")\n",
    "arr = np.array([lst for lst in arr if np.count_nonzero(lst) > 0])\n",
    "print(arr)\n",
    "print(\"-\" * 100)\n"
   ]
  },
  {
   "cell_type": "markdown",
   "metadata": {},
   "source": [
    "Q87. Write the NumPy program to multiply the matrix by another matrix of complex numbers and create a new matrix of complex numbers?\n",
    "\n",
    "    Sample outputFirst array-\n",
    "        [ 1.+2.j 3.+4.j]\n",
    "    Second array-\n",
    "        [ 5.+6.j 7.+8.j]\n",
    "    Product of above two arrays-\n",
    "        (70-8j)"
   ]
  },
  {
   "cell_type": "code",
   "execution_count": 89,
   "metadata": {},
   "outputs": [
    {
     "name": "stdout",
     "output_type": "stream",
     "text": [
      "#First matrix of shape (2,) is:\n",
      "[1.+2.j 3.+4.j]\n",
      "\n",
      "#Second matrix of shape (2,) is:\n",
      "[5.+6.j 7.+8.j]\n",
      "\n",
      "#Resultant matrix of shape (6,) is:\n",
      "[ 8.5 -4.5  9.  -8.  -1.2  6. ]\n",
      "----------------------------------------------------------------------------------------------------\n"
     ]
    }
   ],
   "source": [
    "mat1 = np.array([ 1.+2.j, 3.+4.j])\n",
    "mat2 = np.array([ 5.+6.j, 7.+8.j])\n",
    "\n",
    "resultant_mat = arr1 * arr2\n",
    "\n",
    "print(f\"#First matrix of shape {mat1.shape} is:\")\n",
    "print(mat1)\n",
    "\n",
    "print(f\"\\n#Second matrix of shape {mat2.shape} is:\")\n",
    "print(mat2)\n",
    "\n",
    "print(f\"\\n#Resultant matrix of shape {resultant_mat.shape} is:\")\n",
    "print(resultant_mat)\n",
    "print(\"-\" * 100)\n"
   ]
  },
  {
   "cell_type": "markdown",
   "metadata": {},
   "source": [
    "Q88. Write a NumPy program to generate the matrix product of two Arrays?\n",
    "\n",
    "    Sample OutputMatrices and vectors.\n",
    "        x-\n",
    "            [[1, 0], [1, 1]]\n",
    "        y-\n",
    "            [[3, 1], [2, 2]]\n",
    "    Matrix product of above two arrays-\n",
    "        [[3 1]\n",
    "        [5 3]]\n"
   ]
  },
  {
   "cell_type": "code",
   "execution_count": 90,
   "metadata": {},
   "outputs": [
    {
     "name": "stdout",
     "output_type": "stream",
     "text": [
      "#First matrix of shape (2, 2) is:\n",
      "[[1 0]\n",
      " [1 1]]\n",
      "\n",
      "#Second matrix of shape (2, 2) is:\n",
      "[[3 1]\n",
      " [2 2]]\n",
      "\n",
      "#Matrix product of these two arrays is:\n",
      "[[3 1]\n",
      " [5 3]]\n",
      "----------------------------------------------------------------------------------------------------\n"
     ]
    }
   ],
   "source": [
    "mat1 = np.array([[1, 0], [1, 1]])\n",
    "mat2 = np.array([[3, 1], [2, 2]])\n",
    "\n",
    "print(f\"#First matrix of shape {mat1.shape} is:\")\n",
    "print(mat1)\n",
    "\n",
    "print(f\"\\n#Second matrix of shape {mat2.shape} is:\")\n",
    "print(mat2)\n",
    "\n",
    "print(\"\\n#Matrix product of these two arrays is:\")\n",
    "print(np.matmul(mat1, mat2))\n",
    "print(\"-\" * 100)\n"
   ]
  },
  {
   "cell_type": "markdown",
   "metadata": {},
   "source": [
    "Q89. Write the NumPy program to find roots of the following Polynomials?\n",
    "\n",
    "    a) (x2 - 4x + 7)\n",
    "    b) x4 - 11x3 + 9x2 + 11x ? 10\n",
    "\n",
    "    Sample output:\n",
    "        Roots of the first polynomial-\n",
    "            [ 1. 1.]\n",
    "        Roots of the second polynomial-\n",
    "            [ 11.04461946+0.j -0.87114210+0.j 0.91326132+0.4531004j 0.91326132-0.4531004j ]"
   ]
  },
  {
   "cell_type": "code",
   "execution_count": 91,
   "metadata": {},
   "outputs": [
    {
     "name": "stdout",
     "output_type": "stream",
     "text": [
      "Value of the Polynomial 'x2 − 4x + 7', when x = 2 is:\n",
      "1\n",
      "\n",
      "#Roots of the Polynomial 'x2 − 4x + 7' is:\n",
      "[1. 1.]\n",
      "\n",
      "#Polynomial value of 'x4 - 11x3 + 9x2 + 11x', when x = 3:\n",
      "-142\n",
      "\n",
      "#Roots of the Polynomial 'x4 - 11x3 + 9x2 + 11x' is:\n",
      "[11.04461946+0.j        -0.8711421 +0.j         0.91326132+0.4531004j\n",
      "  0.91326132-0.4531004j]\n",
      "----------------------------------------------------------------------------------------------------\n"
     ]
    }
   ],
   "source": [
    "print(\"Value of the Polynomial 'x2 − 4x + 7', when x = 2 is:\")\n",
    "print(np.polyval([1, -2, 1], 2))\n",
    "\n",
    "print(\"\\n#Roots of the Polynomial 'x2 − 4x + 7' is:\")\n",
    "print(np.roots([1, -2, 1]))\n",
    "\n",
    "print(\"\\n#Polynomial value of 'x4 - 11x3 + 9x2 + 11x', when x = 3:\")\n",
    "print(np.polyval([1, -12, 10, 7, -10], 3))\n",
    "\n",
    "print(\"\\n#Roots of the Polynomial 'x4 - 11x3 + 9x2 + 11x' is:\")\n",
    "print(np.roots([1, -12, 10, 7, -10]))\n",
    "print(\"-\" * 100)\n"
   ]
  },
  {
   "cell_type": "markdown",
   "metadata": {},
   "source": [
    "Q90. Write the NumPy program to calculate inverse of sine, cosine, and inverse tangent for all elements in a given array?\n",
    "\n",
    "Sample output:\n",
    "    Inverse sine- [-1.57079633 0. 1.57079633]\n",
    "    Inverse cosine- [3.14159265 1.57079633 0. ]\n",
    "    Inverse tangent- [-0.78539816 0. 0.78539816]"
   ]
  },
  {
   "cell_type": "code",
   "execution_count": 92,
   "metadata": {},
   "outputs": [
    {
     "name": "stdout",
     "output_type": "stream",
     "text": [
      "#Inverse sine of array '[-1.  0.  1.]' is:\n",
      "[-1.57079633  0.          1.57079633]\n",
      "\n",
      "#Inverse cosine of array '[-1.  0.  1.]' is:\n",
      "[3.14159265 1.57079633 0.        ]\n",
      "\n",
      "#Inverse tangent of array '[-1.  0.  1.]' is:\n",
      "[-0.78539816  0.          0.78539816]\n",
      "----------------------------------------------------------------------------------------------------\n"
     ]
    }
   ],
   "source": [
    "arr = np.array([-1., 0, 1.])\n",
    "\n",
    "print(f\"#Inverse sine of array '{arr}' is:\")\n",
    "print(np.arcsin(arr))\n",
    "\n",
    "print(f\"\\n#Inverse cosine of array '{arr}' is:\")\n",
    "print(np.arccos(arr))\n",
    "\n",
    "print(f\"\\n#Inverse tangent of array '{arr}' is:\")\n",
    "print(np.arctan(arr))\n",
    "print(\"-\" * 100)\n"
   ]
  },
  {
   "cell_type": "markdown",
   "metadata": {},
   "source": [
    "Q91. Write the NumPy program to calculate the difference between in neighbouring elements, element-wise of a given array?\n",
    "\n",
    "    Sample output:\n",
    "    Original array-\n",
    "        [1 3 5 7 0]\n",
    "    Difference between neighbouring elements, element-wise of the said array-\n",
    "        [ 2 2 2 -7]"
   ]
  },
  {
   "cell_type": "code",
   "execution_count": 93,
   "metadata": {},
   "outputs": [
    {
     "name": "stdout",
     "output_type": "stream",
     "text": [
      "#Original array of shape (5,) is:\n",
      "[1 3 5 7 0]\n",
      "\n",
      "#Difference between neighbouring elements, element-wise of this array:\n",
      "[ 2  2  2 -7]\n",
      "----------------------------------------------------------------------------------------------------\n"
     ]
    }
   ],
   "source": [
    "arr = np.array([1, 3, 5, 7, 0])\n",
    "\n",
    "print(f\"#Original array of shape {arr.shape} is:\")\n",
    "print(arr)\n",
    "\n",
    "print(f\"\\n#Difference between neighbouring elements, element-wise of this array:\")\n",
    "print(np.ediff1d(arr))\n",
    "print(\"-\" * 100)\n"
   ]
  },
  {
   "cell_type": "markdown",
   "metadata": {},
   "source": [
    "Q92. Write the Python program to find the maximum and the minimum value of a given flattened array?\n",
    "\n",
    "    Expected Output:\n",
    "    Original flattened array-\n",
    "        [[0 1]\n",
    "        [2 3]]\n",
    "    Maximum value of the above flattened array:\n",
    "        3\n",
    "    Minimum value of the above flattened array:\n",
    "        0"
   ]
  },
  {
   "cell_type": "code",
   "execution_count": 94,
   "metadata": {},
   "outputs": [
    {
     "name": "stdout",
     "output_type": "stream",
     "text": [
      "#Original array of shape (4, 2) is:\n",
      "[[0 1]\n",
      " [2 3]\n",
      " [9 4]\n",
      " [5 7]]\n",
      "\n",
      "#After flattening this array, the shape (8,) is:\n",
      "[0 1 2 3 9 4 5 7]\n",
      "\n",
      "#Maximum element in this array is:\n",
      "9\n",
      "\n",
      "#Minimum element in this array is:\n",
      "0\n",
      "----------------------------------------------------------------------------------------------------\n"
     ]
    }
   ],
   "source": [
    "arr = np.array([[0, 1], [2, 3], [9, 4], [5, 7]])\n",
    "\n",
    "flatten_arr = arr.flatten()\n",
    "max_element = np.max(flatten_arr)\n",
    "min_element = np.min(flatten_arr)\n",
    "\n",
    "print(f\"#Original array of shape {arr.shape} is:\")\n",
    "print(arr)\n",
    "\n",
    "print(f\"\\n#After flattening this array, the shape {flatten_arr.shape} is:\")\n",
    "print(flatten_arr)\n",
    "\n",
    "print(f\"\\n#Maximum element in this array is:\")\n",
    "print(max_element)\n",
    "\n",
    "print(f\"\\n#Minimum element in this array is:\")\n",
    "print(min_element)\n",
    "print(\"-\" * 100)\n"
   ]
  },
  {
   "cell_type": "markdown",
   "metadata": {},
   "source": [
    "Q93. Write the NumPy program to calculate the difference between in the maximum and the minimum values of a given array along the second axis ?\n",
    "\n",
    "    Expected Output:\n",
    "        Original array-\n",
    "            [[ 0 1 2 3 4 5]\n",
    "            [ 6 7 8 9 10 11]]\n",
    "        Difference between the maximum and the minimum values of the said array-\n",
    "            [5 5]"
   ]
  },
  {
   "cell_type": "code",
   "execution_count": 95,
   "metadata": {},
   "outputs": [
    {
     "name": "stdout",
     "output_type": "stream",
     "text": [
      "#Original array of shape (2, 6) is:\n",
      "[[ 0  1  2  3  4  5]\n",
      " [ 6  7  8  9 10 11]]\n",
      "\n",
      "#Difference between the maximum and the minimum values of this array is:\n",
      "[5, 5]\n",
      "----------------------------------------------------------------------------------------------------\n"
     ]
    }
   ],
   "source": [
    "arr = np.array([[0, 1, 2, 3, 4, 5], [6, 7, 8, 9, 10, 11]])\n",
    "\n",
    "diff_arr = [np.max(lst) - np.min(lst) for lst in arr]\n",
    "\n",
    "print(f\"#Original array of shape {arr.shape} is:\")\n",
    "print(arr)\n",
    "\n",
    "print(f\"\\n#Difference between the maximum and the minimum values of this array is:\")\n",
    "print(diff_arr)\n",
    "print(\"-\" * 100)\n"
   ]
  },
  {
   "cell_type": "markdown",
   "metadata": {},
   "source": [
    "Q94. Write the NumPy program to compute the weighted of the given array ?\n",
    "\n",
    "    Sample Output:\n",
    "        Original array-\n",
    "            [0 1 2 3 4]\n",
    "        Weighted average of the said array:\n",
    "            2.6666666666666665"
   ]
  },
  {
   "cell_type": "code",
   "execution_count": 96,
   "metadata": {},
   "outputs": [
    {
     "name": "stdout",
     "output_type": "stream",
     "text": [
      "#Original array is: \n",
      "[0 1 2 3 4]\n",
      "\n",
      "#Weighted average of this array is: \n",
      "2.666666666666667\n",
      "----------------------------------------------------------------------------------------------------\n"
     ]
    }
   ],
   "source": [
    "arr = np.arange(5)\n",
    "\n",
    "weight_arr = np.arange(1, 6)\n",
    "wtd_avg = (arr * (weight_arr / weight_arr.sum())).sum()\n",
    "\n",
    "print(\"#Original array is: \")\n",
    "print(arr)\n",
    "\n",
    "print(\"\\n#Weighted average of this array is: \")\n",
    "print(wtd_avg)\n",
    "print(\"-\" * 100)\n"
   ]
  },
  {
   "cell_type": "markdown",
   "metadata": {},
   "source": [
    "Q95. Write the NumPy program to compute the mean, standard deviation, and the variance of a given array along the second axis?\n",
    "\n",
    "    Sample output:\n",
    "        Original array-\n",
    "            [0 1 2 3 4 5]\n",
    "        Mean- 2.5\n",
    "        std- 1\n",
    "        variance- 2.9166666666666665\n"
   ]
  },
  {
   "cell_type": "code",
   "execution_count": 97,
   "metadata": {},
   "outputs": [
    {
     "name": "stdout",
     "output_type": "stream",
     "text": [
      "#Original array is:\n",
      "[0 1 2 3 4 5]\n",
      "\n",
      "#Mean: 2.5\n",
      "\n",
      "#Standard Deviation: 1.707825127659933\n",
      "\n",
      "#Variance: 2.9166666666666665\n",
      "----------------------------------------------------------------------------------------------------\n"
     ]
    }
   ],
   "source": [
    "arr = np.arange(6)\n",
    "\n",
    "print(\"#Original array is:\")\n",
    "print(arr)\n",
    "\n",
    "print(f\"\\n#Mean: {np.mean(arr)}\")\n",
    "print(f\"\\n#Standard Deviation: {np.std(arr)}\")\n",
    "print(f\"\\n#Variance: {np.var(arr)}\")\n",
    "print(\"-\" * 100)\n"
   ]
  },
  {
   "cell_type": "markdown",
   "metadata": {},
   "source": [
    "Q96. Write the Numpy program to compute the covariance matrix of the two given arrays?\n",
    "\n",
    "    Sample Output:\n",
    "        Original array1-\n",
    "            [0 1 2]\n",
    "        Original array1-\n",
    "            [2 1 0]\n",
    "        Covariance matrix of the said arrays-\n",
    "            [[ 1. -1.]\n",
    "            [-1. 1.]]\n"
   ]
  },
  {
   "cell_type": "code",
   "execution_count": 98,
   "metadata": {},
   "outputs": [
    {
     "name": "stdout",
     "output_type": "stream",
     "text": [
      "#First array is:\n",
      "[0 1 2]\n",
      "\n",
      "#Second array is:\n",
      "[2 1 0]\n",
      "\n",
      "#Covariance matrix of these two arrays is:\n",
      "[[ 1. -1.]\n",
      " [-1.  1.]]\n",
      "----------------------------------------------------------------------------------------------------\n"
     ]
    }
   ],
   "source": [
    "arr1 = np.array([0, 1, 2])\n",
    "arr2 = np.array([2, 1, 0])\n",
    "\n",
    "print(\"#First array is:\")\n",
    "print(arr1)\n",
    "\n",
    "print(\"\\n#Second array is:\")\n",
    "print(arr2)\n",
    "\n",
    "print(\"\\n#Covariance matrix of these two arrays is:\")\n",
    "print(np.cov(arr1, arr2))\n",
    "print(\"-\" * 100)\n"
   ]
  },
  {
   "cell_type": "markdown",
   "metadata": {},
   "source": [
    "Q97. Write a NumPy program to compute the cross-correlation of two given arrays ?\n",
    "\n",
    "    Sample Output:\n",
    "        Original array1-\n",
    "            [0 1 3]\n",
    "        Original array1-\n",
    "            [2 4 5]\n",
    "        Cross-correlation of the said arrays-\n",
    "            [ [ 2.33333333 2.16666667 ]\n",
    "              [ 2.16666667 2.33333333 ] ]"
   ]
  },
  {
   "cell_type": "markdown",
   "metadata": {},
   "source": [
    "Q98. Write the NumPy program to compute Pearson product-moment correlation coefficients of two given arrays?\n",
    "\n",
    "    Sample Output\n",
    "        Original array1-\n",
    "            [0 1 3]\n",
    "        Original array1-\n",
    "            [2 4 5]\n",
    "        Pearson product-moment correlation coefficients of the said arrays-\n",
    "            [[1. 0.92857143]\n",
    "            [0.92857143 1. ]]"
   ]
  },
  {
   "cell_type": "code",
   "execution_count": 99,
   "metadata": {},
   "outputs": [
    {
     "name": "stdout",
     "output_type": "stream",
     "text": [
      "#First array is:\n",
      "[0 1 3]\n",
      "\n",
      "#Second array is:\n",
      "[2 4 5]\n",
      "\n",
      "#Pearson product-moment correlation coefficients of these arrays are:\n",
      "[[1.         0.92857143]\n",
      " [0.92857143 1.        ]]\n",
      "----------------------------------------------------------------------------------------------------\n"
     ]
    }
   ],
   "source": [
    "arr1 = np.array([0, 1, 3])\n",
    "arr2 = np.array([2, 4, 5])\n",
    "\n",
    "print(\"#First array is:\")\n",
    "print(arr1)\n",
    "\n",
    "print(\"\\n#Second array is:\")\n",
    "print(arr2)\n",
    "\n",
    "print(\"\\n#Pearson product-moment correlation coefficients of these arrays are:\")\n",
    "print(np.corrcoef(arr1, arr2))\n",
    "print(\"-\" * 100)\n"
   ]
  },
  {
   "cell_type": "markdown",
   "metadata": {},
   "source": [
    "Q99. Write the python program to count the number of occurrences of each value in a given array of non-negative integers?\n",
    "\n",
    "Note: bincount() Function- It count the occurrence of each value in an array of the non- negative integers in the range of the array between the minimum and maximum values including the values that did not occur.\n",
    "\n",
    "Sample Output:\n",
    "    Original array-\n",
    "        [0, 1, 6, 1, 4, 1, 2, 2, 7]\n",
    "    Number of occurrences of each value in array-\n",
    "        [1 3 2 0 1 0 1 1]"
   ]
  },
  {
   "cell_type": "code",
   "execution_count": 100,
   "metadata": {},
   "outputs": [
    {
     "name": "stdout",
     "output_type": "stream",
     "text": [
      "#Original array is:\n",
      "[0 1 6 1 4 1 2 2 7]\n",
      "\n",
      "#Number of occurrences of each value in this array are:\n",
      "[1 3 2 0 1 0 1 1]\n",
      "----------------------------------------------------------------------------------------------------\n"
     ]
    }
   ],
   "source": [
    "arr = np.array([0, 1, 6, 1, 4, 1, 2, 2, 7])\n",
    "\n",
    "print(\"#Original array is:\")\n",
    "print(arr)\n",
    "\n",
    "print(\"\\n#Number of occurrences of each value in this array are:\")\n",
    "print(np.bincount(arr))\n",
    "print(\"-\" * 100)\n"
   ]
  },
  {
   "cell_type": "markdown",
   "metadata": {},
   "source": [
    "Q100. Write a Numpy program to compute the histogram of nums against the bins?\n",
    "\n",
    "    Sample Output:\n",
    "        nums- [0.5 0.7 1. 1.2 1.3 2.1]\n",
    "        bins- [0 1 2 3]\n",
    "        Result- (array([2, 3, 1], dtype=int64), array([0, 1, 2, 3]))"
   ]
  },
  {
   "cell_type": "code",
   "execution_count": 101,
   "metadata": {},
   "outputs": [
    {
     "name": "stdout",
     "output_type": "stream",
     "text": [
      "#Number array is:\n",
      "[0.5 0.7 1.  1.2 1.3 2.1]\n",
      "\n",
      "#Bin array is:\n",
      "[0 1 2 3]\n",
      "\n",
      "#The Result is:\n",
      "(array([2, 3, 1], dtype=int64), array([0, 1, 2, 3]))\n",
      "----------------------------------------------------------------------------------------------------\n"
     ]
    },
    {
     "data": {
      "text/plain": [
       "(array([2., 3., 1.]), array([0, 1, 2, 3]), <a list of 3 Patch objects>)"
      ]
     },
     "execution_count": 101,
     "metadata": {},
     "output_type": "execute_result"
    },
    {
     "data": {
      "image/png": "[encoded data removed]",
      "text/plain": [
       "<Figure size 432x288 with 1 Axes>"
      ]
     },
     "metadata": {
      "needs_background": "light"
     },
     "output_type": "display_data"
    }
   ],
   "source": [
    "num_arr = np.array([0.5, 0.7, 1., 1.2, 1.3, 2.1])\n",
    "bin_arr = np.array([0, 1, 2, 3])\n",
    "\n",
    "print(\"#Number array is:\")\n",
    "print(num_arr)\n",
    "\n",
    "print(\"\\n#Bin array is:\")\n",
    "print(bin_arr)\n",
    "\n",
    "print(\"\\n#The Result is:\")\n",
    "print(np.histogram(num_arr, bin_arr))\n",
    "print(\"-\" * 100)\n",
    "\n",
    "plt.hist(num_arr, bins=bin_arr)\n"
   ]
  },
  {
   "cell_type": "code",
   "execution_count": 102,
   "metadata": {},
   "outputs": [],
   "source": [
    "import pandas as pd"
   ]
  },
  {
   "cell_type": "markdown",
   "metadata": {},
   "source": [
    "Q101. Write the Python program to add, subtract, multiply and divide two pandas series ?\n",
    "\n",
    "    Sample Series- [2, 4, 6, 8, 10], [1, 3, 5, 7, 9]"
   ]
  },
  {
   "cell_type": "code",
   "execution_count": 103,
   "metadata": {},
   "outputs": [
    {
     "data": {
      "text/html": [
       "<div>\n",
       "<style scoped>\n",
       "    .dataframe tbody tr th:only-of-type {\n",
       "        vertical-align: middle;\n",
       "    }\n",
       "\n",
       "    .dataframe tbody tr th {\n",
       "        vertical-align: top;\n",
       "    }\n",
       "\n",
       "    .dataframe thead th {\n",
       "        text-align: right;\n",
       "    }\n",
       "</style>\n",
       "<table border=\"1\" class=\"dataframe\">\n",
       "  <thead>\n",
       "    <tr style=\"text-align: right;\">\n",
       "      <th></th>\n",
       "      <th>Operand1</th>\n",
       "      <th>Operand2</th>\n",
       "      <th>Addition</th>\n",
       "      <th>Subtraction</th>\n",
       "      <th>Production</th>\n",
       "      <th>Division_Float</th>\n",
       "      <th>Division_Int</th>\n",
       "    </tr>\n",
       "  </thead>\n",
       "  <tbody>\n",
       "    <tr>\n",
       "      <th>0</th>\n",
       "      <td>2</td>\n",
       "      <td>1</td>\n",
       "      <td>3</td>\n",
       "      <td>1</td>\n",
       "      <td>2</td>\n",
       "      <td>2.000000</td>\n",
       "      <td>2</td>\n",
       "    </tr>\n",
       "    <tr>\n",
       "      <th>1</th>\n",
       "      <td>4</td>\n",
       "      <td>3</td>\n",
       "      <td>7</td>\n",
       "      <td>1</td>\n",
       "      <td>12</td>\n",
       "      <td>1.333333</td>\n",
       "      <td>1</td>\n",
       "    </tr>\n",
       "    <tr>\n",
       "      <th>2</th>\n",
       "      <td>6</td>\n",
       "      <td>5</td>\n",
       "      <td>11</td>\n",
       "      <td>1</td>\n",
       "      <td>30</td>\n",
       "      <td>1.200000</td>\n",
       "      <td>1</td>\n",
       "    </tr>\n",
       "    <tr>\n",
       "      <th>3</th>\n",
       "      <td>8</td>\n",
       "      <td>7</td>\n",
       "      <td>15</td>\n",
       "      <td>1</td>\n",
       "      <td>56</td>\n",
       "      <td>1.142857</td>\n",
       "      <td>1</td>\n",
       "    </tr>\n",
       "    <tr>\n",
       "      <th>4</th>\n",
       "      <td>10</td>\n",
       "      <td>9</td>\n",
       "      <td>19</td>\n",
       "      <td>1</td>\n",
       "      <td>90</td>\n",
       "      <td>1.111111</td>\n",
       "      <td>1</td>\n",
       "    </tr>\n",
       "  </tbody>\n",
       "</table>\n",
       "</div>"
      ],
      "text/plain": [
       "   Operand1  Operand2  Addition  Subtraction  Production  Division_Float  \\\n",
       "0         2         1         3            1           2        2.000000   \n",
       "1         4         3         7            1          12        1.333333   \n",
       "2         6         5        11            1          30        1.200000   \n",
       "3         8         7        15            1          56        1.142857   \n",
       "4        10         9        19            1          90        1.111111   \n",
       "\n",
       "   Division_Int  \n",
       "0             2  \n",
       "1             1  \n",
       "2             1  \n",
       "3             1  \n",
       "4             1  "
      ]
     },
     "execution_count": 103,
     "metadata": {},
     "output_type": "execute_result"
    }
   ],
   "source": [
    "#Error Handler Classes:\n",
    "class SeriesArithmeticException(Exception):\n",
    "    def __init__(this, message=\"Error in Series Arithmetic\"):\n",
    "        this.__message = message\n",
    "        pass\n",
    "\n",
    "    def __str__(this):\n",
    "        return this.__message\n",
    "\n",
    "class InvalidDataTypeException(SeriesArithmeticException):\n",
    "    def __init__(this, message=\"One of the Operands is not Pandas Series object\"):\n",
    "        this.message = message\n",
    "        pass\n",
    "\n",
    "    def __str__(this):\n",
    "        return this.message\n",
    "\n",
    "class SizeMismatchException(SeriesArithmeticException):\n",
    "    def __init__(this, message=\"Operands' sizes are not identical\"):\n",
    "        this.message = message\n",
    "        pass\n",
    "\n",
    "    def __str__(this):\n",
    "        return this.message\n",
    "\n",
    "\n",
    "#Business Logic Class:\n",
    "class SeriesArithmetic:\n",
    "    def __init__(this, series1, series2):\n",
    "        this.__series1, this.__series2 = series1, series2\n",
    "        pass\n",
    "\n",
    "    def __check_validity(this):\n",
    "        if not isinstance(this.__series1, pd.Series) or \\\n",
    "            not isinstance(this.__series2, pd.Series):\n",
    "            raise InvalidDataTypeException()\n",
    "\n",
    "        if this.__series1.shape[0] != this.__series2.shape[0]:\n",
    "            raise SizeMismatchException()\n",
    "\n",
    "    def add(this):\n",
    "        this.__check_validity()\n",
    "        return this.__series1 + this.__series2\n",
    "\n",
    "    def subtract(this):\n",
    "        this.__check_validity()\n",
    "        return this.__series1 - this.__series2\n",
    "\n",
    "    def multiply(this):\n",
    "        this.__check_validity()\n",
    "        return this.__series1 * this.__series2\n",
    "\n",
    "    def divide(this, div_type=\"float\"):\n",
    "        try:\n",
    "            this.__check_validity()\n",
    "            if div_type == \"float\":\n",
    "                return this.__series1 / this.__series2\n",
    "            elif div_type == \"int\":\n",
    "                return this.__series1 // this.__series2\n",
    "        except Exception as exc:\n",
    "            print(\"Error in Series Division: \" + str(exc))\n",
    "\n",
    "\n",
    "#Test Cases:\n",
    "sr_operand1 = pd.Series([2, 4, 6, 8, 10])\n",
    "sr_operand2 = pd.Series([1, 3, 5, 7, 9])\n",
    "\n",
    "sa = SeriesArithmetic(sr_operand1, sr_operand2)\n",
    "\n",
    "sr_added = sa.add()\n",
    "sr_subtracted = sa.subtract()\n",
    "sr_multiplied = sa.multiply()\n",
    "sr_float_divided = sa.divide()\n",
    "sr_int_divided = sa.divide(div_type=\"int\")\n",
    "\n",
    "pd.concat({\"Operand1\" : sr_operand1, \"Operand2\" : sr_operand2,\n",
    "           \"Addition\" : sr_added, \"Subtraction\" : sr_subtracted,\n",
    "           \"Production\" : sr_multiplied, \"Division_Float\": sr_float_divided,\n",
    "           \"Division_Int\": sr_int_divided}, axis=1)\n"
   ]
  },
  {
   "cell_type": "markdown",
   "metadata": {},
   "source": [
    "Q102. Write a Python program to convert a dictionary to the Pandas Series?\n",
    "    \n",
    "    Sample Series:\n",
    "        Original dictionary-\n",
    "            {'a': 100, 'b': 200, 'c': 300, 'd': 400, 'e': 800}\n",
    "        Converted series -\n",
    "            a 100\n",
    "            b 200\n",
    "            c 300\n",
    "            d 400\n",
    "            e 800\n",
    "            dtype- int64"
   ]
  },
  {
   "cell_type": "code",
   "execution_count": 104,
   "metadata": {},
   "outputs": [
    {
     "data": {
      "text/html": [
       "<div>\n",
       "<style scoped>\n",
       "    .dataframe tbody tr th:only-of-type {\n",
       "        vertical-align: middle;\n",
       "    }\n",
       "\n",
       "    .dataframe tbody tr th {\n",
       "        vertical-align: top;\n",
       "    }\n",
       "\n",
       "    .dataframe thead th {\n",
       "        text-align: right;\n",
       "    }\n",
       "</style>\n",
       "<table border=\"1\" class=\"dataframe\">\n",
       "  <thead>\n",
       "    <tr style=\"text-align: right;\">\n",
       "      <th></th>\n",
       "      <th>Keys</th>\n",
       "      <th>Values</th>\n",
       "    </tr>\n",
       "  </thead>\n",
       "  <tbody>\n",
       "    <tr>\n",
       "      <th>0</th>\n",
       "      <td>a</td>\n",
       "      <td>100</td>\n",
       "    </tr>\n",
       "    <tr>\n",
       "      <th>1</th>\n",
       "      <td>b</td>\n",
       "      <td>200</td>\n",
       "    </tr>\n",
       "    <tr>\n",
       "      <th>2</th>\n",
       "      <td>c</td>\n",
       "      <td>300</td>\n",
       "    </tr>\n",
       "    <tr>\n",
       "      <th>3</th>\n",
       "      <td>d</td>\n",
       "      <td>400</td>\n",
       "    </tr>\n",
       "    <tr>\n",
       "      <th>4</th>\n",
       "      <td>e</td>\n",
       "      <td>800</td>\n",
       "    </tr>\n",
       "  </tbody>\n",
       "</table>\n",
       "</div>"
      ],
      "text/plain": [
       "  Keys  Values\n",
       "0    a     100\n",
       "1    b     200\n",
       "2    c     300\n",
       "3    d     400\n",
       "4    e     800"
      ]
     },
     "execution_count": 104,
     "metadata": {},
     "output_type": "execute_result"
    }
   ],
   "source": [
    "sample_dict = {'a': 100, 'b': 200, 'c': 300, 'd': 400, 'e': 800}\n",
    "\n",
    "sr_keys = pd.Series([key for key in sample_dict.keys()])\n",
    "sr_vals = pd.Series([key for key in sample_dict.values()])\n",
    "pd.DataFrame({\"Keys\" : sr_keys, \"Values\" : sr_vals})\n"
   ]
  },
  {
   "cell_type": "markdown",
   "metadata": {},
   "source": [
    "Q103. Write a python program to change the data type of given a column or a Series?\n",
    "\n",
    "    Sample Series:\n",
    "        Original Data Series:\n",
    "            0 100\n",
    "            1 200\n",
    "            2 python\n",
    "            3 300.12\n",
    "            4 400\n",
    "            dtype- object\n",
    "        Change the said data type to numeric:\n",
    "        0 100.00\n",
    "        1 200.00\n",
    "        2 NaN\n",
    "        3 300.12\n",
    "        4 400.00\n",
    "        dtype- float64\n"
   ]
  },
  {
   "cell_type": "code",
   "execution_count": 105,
   "metadata": {},
   "outputs": [
    {
     "data": {
      "text/plain": [
       "0    100.00\n",
       "1    200.00\n",
       "2       NaN\n",
       "3    300.12\n",
       "4    400.00\n",
       "dtype: float64"
      ]
     },
     "execution_count": 105,
     "metadata": {},
     "output_type": "execute_result"
    }
   ],
   "source": [
    "sr_obj = pd.Series([100, 200, 'python', 300.12, 400])\n",
    "#sr_obj.astype('float', errors='ignore')\n",
    "pd.to_numeric(sr_obj, errors='coerce')"
   ]
  },
  {
   "cell_type": "markdown",
   "metadata": {},
   "source": [
    "Q104. Write the python pandas program to convert the first column of a DataFrame as a Series?\n",
    "\n",
    "    Sample OutputOriginal DataFramecol1 col2 col3\n",
    "    0 1 4 7\n",
    "    1 2 5 5\n",
    "    2 3 6 8\n",
    "    3 4 9 12\n",
    "    4 7 5 1\n",
    "    5 11 0 11\n",
    "    1st column as a Series0 1\n",
    "    1 2\n",
    "    2 3\n",
    "    3 4\n",
    "    4 7\n",
    "    5 11\n",
    "    Name- col1, dtype- int64\n",
    "    <class 'pandas.core.series.Series'>"
   ]
  },
  {
   "cell_type": "code",
   "execution_count": 106,
   "metadata": {},
   "outputs": [
    {
     "name": "stdout",
     "output_type": "stream",
     "text": [
      "type(sr_first): <class 'pandas.core.series.Series'>\n"
     ]
    },
    {
     "data": {
      "text/plain": [
       "0     1\n",
       "1     2\n",
       "2     3\n",
       "3     4\n",
       "4     7\n",
       "5    11\n",
       "Name: col1, dtype: int64"
      ]
     },
     "execution_count": 106,
     "metadata": {},
     "output_type": "execute_result"
    }
   ],
   "source": [
    "df1 = pd.DataFrame({\"col1\" : [1, 2, 3, 4, 7, 11],\n",
    "                  \"col2\" : [4, 5, 6, 9, 5, 0],\n",
    "                  \"col3\" : [7, 5, 8, 12, 1, 11]})\n",
    "\n",
    "sr_first = df1.loc[:, \"col1\"]\n",
    "#OR\n",
    "sr_first = df1.iloc[:, 0]\n",
    "#OR\n",
    "sr_first = df1.col1\n",
    "#OR\n",
    "sr_first = df1[\"col1\"]\n",
    "\n",
    "print(\"type(sr_first): \" + str(type(sr_first)))\n",
    "sr_first\n"
   ]
  },
  {
   "cell_type": "markdown",
   "metadata": {},
   "source": [
    "Q105. Write a pandas program to create the mean and standard deviation of the data of a given Series?\n",
    "\n",
    "    Sample Output:\n",
    "        Original Data Series:\n",
    "            0 1\n",
    "            1 2\n",
    "            2 3\n",
    "            3 4\n",
    "            4 5\n",
    "            5 6\n",
    "            6 7\n",
    "            7 8\n",
    "            8 9\n",
    "            9 5\n",
    "            10 3\n",
    "            dtype- int64\n",
    "        Mean of the said Data Series: 4.81818181818\n",
    "        Standard deviation of the said Data Series: 2.52262489555"
   ]
  },
  {
   "cell_type": "code",
   "execution_count": 107,
   "metadata": {},
   "outputs": [
    {
     "name": "stdout",
     "output_type": "stream",
     "text": [
      "mean: 4.818182\n",
      "std: 2.52262\n",
      "------------------------------\n",
      "mean    4.818182\n",
      "std     2.522625\n",
      "dtype: float64\n",
      "------------------------------\n",
      "mean    4.818182\n",
      "std     2.522625\n",
      "dtype: float64\n",
      "------------------------------\n",
      "mean: 4.818181818181818\n",
      "std: 2.405228464604173\n",
      "------------------------------\n"
     ]
    }
   ],
   "source": [
    "sr_sample = pd.Series([1, 2, 3, 4, 5, 6, 7, 8, 9, 5, 3])\n",
    "\n",
    "#Solution#01:\n",
    "print(\"mean: %f\" % sr_sample.mean())\n",
    "print(\"std: %.5f\" % sr_sample.std())\n",
    "print(\"-\" * 30)\n",
    "\n",
    "#Solution#02:\n",
    "print(sr_sample.agg([\"mean\", \"std\"]))\n",
    "print(\"-\" * 30)\n",
    "\n",
    "#Solution#03:\n",
    "print(sr_sample.describe()[1:3])\n",
    "print(\"-\" * 30)\n",
    "\n",
    "#Solution#04:\n",
    "mean = sr_sample.sum() / len(sr_sample)\n",
    "std = (sum([((num - mean) ** 2) for num in sr_sample]) / len(sr_sample)) ** 0.5\n",
    "print(\"mean: {}\".format(mean))\n",
    "print(\"std: {}\".format(std))\n",
    "print(\"-\" * 30)\n"
   ]
  },
  {
   "cell_type": "markdown",
   "metadata": {},
   "source": [
    "Q106. Write a pandas program to get powers of an array values element-wise?\n",
    " \n",
    "Note: First array elements raised the powers from the second array.\n",
    "\n",
    "    Sample data: {'X ':[78,85,96,80,86], ' Y ':[84,94,89,83,86],'Z':[86,97,96,72,83]}\n",
    "    Expected Output:\n",
    "    X Y Z\n",
    "    0 78 84 86\n",
    "    1 85 94 97\n",
    "    2 96 89 96\n",
    "    3 80 83 72\n",
    "    4 86 86 83"
   ]
  },
  {
   "cell_type": "code",
   "execution_count": 108,
   "metadata": {},
   "outputs": [
    {
     "data": {
      "text/html": [
       "<div>\n",
       "<style scoped>\n",
       "    .dataframe tbody tr th:only-of-type {\n",
       "        vertical-align: middle;\n",
       "    }\n",
       "\n",
       "    .dataframe tbody tr th {\n",
       "        vertical-align: top;\n",
       "    }\n",
       "\n",
       "    .dataframe thead th {\n",
       "        text-align: right;\n",
       "    }\n",
       "</style>\n",
       "<table border=\"1\" class=\"dataframe\">\n",
       "  <thead>\n",
       "    <tr style=\"text-align: right;\">\n",
       "      <th></th>\n",
       "      <th>base</th>\n",
       "      <th>power</th>\n",
       "      <th>result</th>\n",
       "    </tr>\n",
       "  </thead>\n",
       "  <tbody>\n",
       "    <tr>\n",
       "      <th>0</th>\n",
       "      <td>2</td>\n",
       "      <td>3</td>\n",
       "      <td>8</td>\n",
       "    </tr>\n",
       "    <tr>\n",
       "      <th>1</th>\n",
       "      <td>3</td>\n",
       "      <td>0</td>\n",
       "      <td>1</td>\n",
       "    </tr>\n",
       "    <tr>\n",
       "      <th>2</th>\n",
       "      <td>4</td>\n",
       "      <td>5</td>\n",
       "      <td>1024</td>\n",
       "    </tr>\n",
       "    <tr>\n",
       "      <th>3</th>\n",
       "      <td>5</td>\n",
       "      <td>2</td>\n",
       "      <td>25</td>\n",
       "    </tr>\n",
       "    <tr>\n",
       "      <th>4</th>\n",
       "      <td>8</td>\n",
       "      <td>1</td>\n",
       "      <td>8</td>\n",
       "    </tr>\n",
       "  </tbody>\n",
       "</table>\n",
       "</div>"
      ],
      "text/plain": [
       "   base  power  result\n",
       "0     2      3       8\n",
       "1     3      0       1\n",
       "2     4      5    1024\n",
       "3     5      2      25\n",
       "4     8      1       8"
      ]
     },
     "execution_count": 108,
     "metadata": {},
     "output_type": "execute_result"
    }
   ],
   "source": [
    "df0 = pd.DataFrame({ \"base\" : [2, 3, 4, 5, 8],\n",
    "                     \"power\": [3, 0, 5, 2, 1],\n",
    "                     \"result\" : np.zeros(5, dtype=int) })\n",
    "\n",
    "df0.result = df0.base ** df0.power\n",
    "df0"
   ]
  },
  {
   "cell_type": "markdown",
   "metadata": {},
   "source": [
    "Q107. Write the pandas program to get the first 3 rows of a given DataFrame?\n",
    "\n",
    "    Sample Python dictionary data and list labelsexam_data = {'name': ['Anastasia', 'Dima', 'Katherine', 'James', 'Emily', 'Michael',\n",
    "    'Matthew', 'Laura', 'Kevin', 'Jonas'],\n",
    "    'score': [12.5, 9, 16.5, np.nan, 9, 20, 14.5, np.nan, 8, 19],\n",
    "    'attempts'- [1, 3, 2, 3, 2, 3, 1, 1, 2, 1],\n",
    "    'qualify'- [ 'yes', 'no', 'yes' , 'no', ' no ', ' yes ', 'yes', 'no', 'no', 'yes' ] }\n",
    "    labels = ['a', 'b', 'c', 'd', 'e', 'f', 'g', 'h', 'i', 'j' ]\n",
    "    \n",
    "    Expected Output:\n",
    "        First three rows of the data frameattempts name qualify score\n",
    "            a 1 Anastasia yes 12.5\n",
    "            b 3 Dima no 9.0\n",
    "            c 2 Katherine yes 16.5"
   ]
  },
  {
   "cell_type": "code",
   "execution_count": 109,
   "metadata": {},
   "outputs": [
    {
     "data": {
      "text/html": [
       "<div>\n",
       "<style scoped>\n",
       "    .dataframe tbody tr th:only-of-type {\n",
       "        vertical-align: middle;\n",
       "    }\n",
       "\n",
       "    .dataframe tbody tr th {\n",
       "        vertical-align: top;\n",
       "    }\n",
       "\n",
       "    .dataframe thead th {\n",
       "        text-align: right;\n",
       "    }\n",
       "</style>\n",
       "<table border=\"1\" class=\"dataframe\">\n",
       "  <thead>\n",
       "    <tr style=\"text-align: right;\">\n",
       "      <th></th>\n",
       "      <th>attempts</th>\n",
       "      <th>name</th>\n",
       "      <th>qualify</th>\n",
       "      <th>score</th>\n",
       "    </tr>\n",
       "  </thead>\n",
       "  <tbody>\n",
       "    <tr>\n",
       "      <th>a</th>\n",
       "      <td>1</td>\n",
       "      <td>Anastasia</td>\n",
       "      <td>yes</td>\n",
       "      <td>12.5</td>\n",
       "    </tr>\n",
       "    <tr>\n",
       "      <th>b</th>\n",
       "      <td>3</td>\n",
       "      <td>Dima</td>\n",
       "      <td>no</td>\n",
       "      <td>9.0</td>\n",
       "    </tr>\n",
       "    <tr>\n",
       "      <th>c</th>\n",
       "      <td>2</td>\n",
       "      <td>Katherine</td>\n",
       "      <td>yes</td>\n",
       "      <td>16.5</td>\n",
       "    </tr>\n",
       "  </tbody>\n",
       "</table>\n",
       "</div>"
      ],
      "text/plain": [
       "   attempts       name qualify  score\n",
       "a         1  Anastasia     yes   12.5\n",
       "b         3       Dima      no    9.0\n",
       "c         2  Katherine     yes   16.5"
      ]
     },
     "execution_count": 109,
     "metadata": {},
     "output_type": "execute_result"
    }
   ],
   "source": [
    "exam_data = {'name': ['Anastasia', 'Dima', 'Katherine', 'James', 'Emily', 'Michael', 'Matthew', 'Laura', 'Kevin', 'Jonas'],\n",
    "            'score': [12.5, 9, 16.5, np.nan, 9, 20, 14.5, np.nan, 8, 19],\n",
    "            'attempts': [1, 3, 2, 3, 2, 3, 1, 1, 2, 1],\n",
    "            'qualify': ['yes', 'no', 'yes' , 'no', ' no ', ' yes ', 'yes', 'no', 'no', 'yes'] }\n",
    "\n",
    "labels = ['a', 'b', 'c', 'd', 'e', 'f', 'g', 'h', 'i', 'j' ]\n",
    "\n",
    "exam_df = pd.DataFrame(exam_data, index=labels)\n",
    "df2 = exam_df.copy()\n",
    "\n",
    "#Solution#01:\n",
    "col_names = ['attempts', 'name', 'qualify', 'score']\n",
    "df2[:3][col_names]\n",
    "\n",
    "#Solution#02:\n",
    "row_indexes = df2[:3].index\n",
    "df2.loc[row_indexes, col_names]\n",
    "\n",
    "#Solution#03:\n",
    "df2.loc[['a', 'b', 'c'], col_names]\n",
    "\n",
    "#Solution#04:\n",
    "col_indexes = [2, 0, 3, 1]\n",
    "df2.iloc[:3, col_indexes]\n",
    "\n",
    "#Solution#05:\n",
    "df2.reindex(columns=col_names)[:3]\n",
    "\n",
    "#Solution#06:\n",
    "df2[df2.columns[col_indexes]][:3]\n",
    "\n",
    "#Solution#07:\n",
    "df2[[df2.columns[idx] for idx in col_indexes]][:3]\n"
   ]
  },
  {
   "cell_type": "markdown",
   "metadata": {},
   "source": [
    "Q108. Write the pandas program to select the specified columns and the rows from a given data frame?\n",
    "\n",
    "    Sample Python dictionary data and list labels\n",
    "    Select 'name' and 'score' columns in rows 1, 3, 5, 6 from the following data frame.\n",
    "    exam_data = {'name ': [ 'Anastasia', 'Dima', 'Katherine', 'James', 'Emily', 'Michael',\n",
    "    'Matthew', 'Laura', 'Kevin', 'Jonas'],\n",
    "    'score'- [12.5, 9, 16.5, np.nan, 9, 20, 14.5, np.nan, 8, 19],\n",
    "    'attempts'- [1, 3, 2, 3, 2, 3, 1, 1, 2, 1],\n",
    "    'qualify'- ['yes', 'no', 'yes', 'no', 'no', 'yes', 'yes', 'no', 'no', 'yes'] }\n",
    "    labels = ['a ', ' b ', ' c ', ' d ', ' e ', ' f ', ' g ', 'h', 'i', 'j']\n",
    "    \n",
    "    Expected Output:\n",
    "    Select specific columns and rowsname score\n",
    "    b Dima 9.0\n",
    "    d James NaN\n",
    "    f Michael 20.0\n",
    "    g Matthew 14.5"
   ]
  },
  {
   "cell_type": "code",
   "execution_count": 110,
   "metadata": {},
   "outputs": [
    {
     "data": {
      "text/html": [
       "<div>\n",
       "<style scoped>\n",
       "    .dataframe tbody tr th:only-of-type {\n",
       "        vertical-align: middle;\n",
       "    }\n",
       "\n",
       "    .dataframe tbody tr th {\n",
       "        vertical-align: top;\n",
       "    }\n",
       "\n",
       "    .dataframe thead th {\n",
       "        text-align: right;\n",
       "    }\n",
       "</style>\n",
       "<table border=\"1\" class=\"dataframe\">\n",
       "  <thead>\n",
       "    <tr style=\"text-align: right;\">\n",
       "      <th></th>\n",
       "      <th>name</th>\n",
       "      <th>score</th>\n",
       "    </tr>\n",
       "  </thead>\n",
       "  <tbody>\n",
       "    <tr>\n",
       "      <th>b</th>\n",
       "      <td>Dima</td>\n",
       "      <td>9.0</td>\n",
       "    </tr>\n",
       "    <tr>\n",
       "      <th>d</th>\n",
       "      <td>James</td>\n",
       "      <td>NaN</td>\n",
       "    </tr>\n",
       "    <tr>\n",
       "      <th>f</th>\n",
       "      <td>Michael</td>\n",
       "      <td>20.0</td>\n",
       "    </tr>\n",
       "    <tr>\n",
       "      <th>g</th>\n",
       "      <td>Matthew</td>\n",
       "      <td>14.5</td>\n",
       "    </tr>\n",
       "  </tbody>\n",
       "</table>\n",
       "</div>"
      ],
      "text/plain": [
       "      name  score\n",
       "b     Dima    9.0\n",
       "d    James    NaN\n",
       "f  Michael   20.0\n",
       "g  Matthew   14.5"
      ]
     },
     "execution_count": 110,
     "metadata": {},
     "output_type": "execute_result"
    }
   ],
   "source": [
    "df3 = exam_df.copy()\n",
    "\n",
    "#Solution#01:\n",
    "row_labels = ['b', 'd', 'f', 'g']\n",
    "col_names = [\"name\", \"score\"]\n",
    "df3.loc[row_labels, col_names]\n",
    "\n",
    "#Solution#02:\n",
    "row_indexes = [labels.index(row_char) for row_char in labels if row_char in row_labels]\n",
    "col_indexes = [df2.columns.get_loc(col) for col in col_names]\n",
    "df3.iloc[row_indexes, col_indexes]\n"
   ]
  },
  {
   "cell_type": "markdown",
   "metadata": {},
   "source": [
    "Q109. Write the pandas program to calculate mean score for each different student in DataFrame?\n",
    "\n",
    "    Sample Python dictionary data and list labels:\n",
    "        exam_data = {'name': ['Anastasia', 'Dima', 'Katherine', 'James', 'Emily', 'Michael',\n",
    "                    'Matthew', 'Laura', 'Kevin', 'Jonas'],\n",
    "                    'score': [12.5, 9, 16.5, np.nan, 9, 20, 14.5, np.nan, 8, 19],\n",
    "                    'attempts'- [1, 3, 2, 3, 2, 3, 1, 1, 2, 1],\n",
    "                    'qualify'- ['yes', 'no', ' yes ', ' no ', ' no ', ' yes ', ' yes ', ' no ', ' no ', ' yes '] }\n",
    "                    labels = ['a', 'b', 'c', 'd', 'e', 'f', 'g', 'h', 'i', 'j']\n",
    "    \n",
    "    Expected Output:\n",
    "        Mean score for each different student in data frame:\n",
    "            13.5625"
   ]
  },
  {
   "cell_type": "code",
   "execution_count": 111,
   "metadata": {},
   "outputs": [
    {
     "name": "stdout",
     "output_type": "stream",
     "text": [
      "Mean score for each different student in data frame:\n",
      "13.5625\n",
      "------------------------------------------------------------\n"
     ]
    }
   ],
   "source": [
    "df4 = exam_df.copy()\n",
    "\n",
    "mean = df4.score.mean()\n",
    "print(\"Mean score for each different student in data frame:\")\n",
    "print(mean)\n",
    "print(\"-\" * 60)"
   ]
  },
  {
   "cell_type": "markdown",
   "metadata": {},
   "source": [
    "Q110. Write the Pandas program to rename columns of a given DataFrame ?\n",
    "\n",
    "    Sample data:\n",
    "        Original data frame\n",
    "            col1 col2 col3\n",
    "            0 1 4 7\n",
    "            1 2 5 8\n",
    "            2 3 6 9\n",
    "        New data frame after renaming columns:\n",
    "            Column1 Column2 Column3\n",
    "            0 1 4 7\n",
    "            1 2 5 8\n",
    "            2 3 6 9"
   ]
  },
  {
   "cell_type": "code",
   "execution_count": 112,
   "metadata": {},
   "outputs": [
    {
     "data": {
      "text/html": [
       "<div>\n",
       "<style scoped>\n",
       "    .dataframe tbody tr th:only-of-type {\n",
       "        vertical-align: middle;\n",
       "    }\n",
       "\n",
       "    .dataframe tbody tr th {\n",
       "        vertical-align: top;\n",
       "    }\n",
       "\n",
       "    .dataframe thead th {\n",
       "        text-align: right;\n",
       "    }\n",
       "</style>\n",
       "<table border=\"1\" class=\"dataframe\">\n",
       "  <thead>\n",
       "    <tr style=\"text-align: right;\">\n",
       "      <th></th>\n",
       "      <th>Column1</th>\n",
       "      <th>Column2</th>\n",
       "      <th>Column3</th>\n",
       "    </tr>\n",
       "  </thead>\n",
       "  <tbody>\n",
       "    <tr>\n",
       "      <th>0</th>\n",
       "      <td>1</td>\n",
       "      <td>4</td>\n",
       "      <td>7</td>\n",
       "    </tr>\n",
       "    <tr>\n",
       "      <th>1</th>\n",
       "      <td>2</td>\n",
       "      <td>5</td>\n",
       "      <td>8</td>\n",
       "    </tr>\n",
       "    <tr>\n",
       "      <th>2</th>\n",
       "      <td>3</td>\n",
       "      <td>6</td>\n",
       "      <td>9</td>\n",
       "    </tr>\n",
       "  </tbody>\n",
       "</table>\n",
       "</div>"
      ],
      "text/plain": [
       "   Column1  Column2  Column3\n",
       "0        1        4        7\n",
       "1        2        5        8\n",
       "2        3        6        9"
      ]
     },
     "execution_count": 112,
     "metadata": {},
     "output_type": "execute_result"
    }
   ],
   "source": [
    "orig_df = pd.DataFrame({\"col1\" : np.arange(1,4),\n",
    "                   \"col2\" : np.arange(4,7),\n",
    "                   \"col3\" : np.arange(7,10)})\n",
    "\n",
    "df5 = orig_df.copy()\n",
    "\n",
    "#Solution#01:\n",
    "df5.columns = [\"Column1\", \"Column2\", \"Column3\"]\n",
    "df5\n",
    "\n",
    "#Solution#02:\n",
    "df5 = orig_df.copy()\n",
    "df5.columns = [col.replace(\"col\", \"Column\") for col in df5.columns]\n",
    "df5\n",
    "\n",
    "#Solution#03:\n",
    "df5 = orig_df.copy()\n",
    "df5 = df5.rename(columns={\"col1\" : \"Column1\", \"col2\" : \"Column2\", \"col3\" : \"Column3\"})\n",
    "df5\n",
    "\n",
    "#Solution#04:\n",
    "df5 = orig_df.copy()\n",
    "df5.rename(columns=lambda x : x.replace(\"col\", \"Column\"), inplace=True)\n",
    "df5\n"
   ]
  },
  {
   "cell_type": "markdown",
   "metadata": {},
   "source": [
    "Q111. Write a pandas program to count city-wise number of people from a given of data set (city, name of the person)?\n",
    "\n",
    "    Sample data-\n",
    "        city Number of people\n",
    "        0 California 4\n",
    "        1 Georgia 2\n",
    "        2 Los Angeles 4"
   ]
  },
  {
   "cell_type": "code",
   "execution_count": 113,
   "metadata": {},
   "outputs": [
    {
     "data": {
      "text/html": [
       "<div>\n",
       "<style scoped>\n",
       "    .dataframe tbody tr th:only-of-type {\n",
       "        vertical-align: middle;\n",
       "    }\n",
       "\n",
       "    .dataframe tbody tr th {\n",
       "        vertical-align: top;\n",
       "    }\n",
       "\n",
       "    .dataframe thead th {\n",
       "        text-align: right;\n",
       "    }\n",
       "</style>\n",
       "<table border=\"1\" class=\"dataframe\">\n",
       "  <thead>\n",
       "    <tr style=\"text-align: right;\">\n",
       "      <th></th>\n",
       "      <th>sum</th>\n",
       "    </tr>\n",
       "    <tr>\n",
       "      <th>city</th>\n",
       "      <th></th>\n",
       "    </tr>\n",
       "  </thead>\n",
       "  <tbody>\n",
       "    <tr>\n",
       "      <th>California</th>\n",
       "      <td>5</td>\n",
       "    </tr>\n",
       "    <tr>\n",
       "      <th>Georgia</th>\n",
       "      <td>2</td>\n",
       "    </tr>\n",
       "    <tr>\n",
       "      <th>Los Angeles</th>\n",
       "      <td>7</td>\n",
       "    </tr>\n",
       "  </tbody>\n",
       "</table>\n",
       "</div>"
      ],
      "text/plain": [
       "             sum\n",
       "city            \n",
       "California     5\n",
       "Georgia        2\n",
       "Los Angeles    7"
      ]
     },
     "execution_count": 113,
     "metadata": {},
     "output_type": "execute_result"
    }
   ],
   "source": [
    "city_df = pd.DataFrame({\"city\" : ['California', 'Georgia', 'Los Angeles', 'California', 'Los Angeles'],\n",
    "                       \"population\" : [4, 2, 4, 1, 3]})\n",
    "\n",
    "#Solution#01:\n",
    "city_df.groupby(city_df.city).population.sum()\n",
    "\n",
    "#Solution#02:\n",
    "city_df.groupby(city_df.city).population.agg(['sum'])\n"
   ]
  },
  {
   "cell_type": "markdown",
   "metadata": {},
   "source": [
    "Q112. Write a pandas program to widen output display to see more columns?\n",
    "    \n",
    "    Sample data:\n",
    "        Original data frame\n",
    "            col1 col2 col3\n",
    "            0 1 4 7\n",
    "            1 4 5 8\n",
    "            2 3 6 9\n",
    "            3 4 7 0\n",
    "            4 5 8 1"
   ]
  },
  {
   "cell_type": "code",
   "execution_count": 114,
   "metadata": {},
   "outputs": [
    {
     "data": {
      "text/html": [
       "<div>\n",
       "<style scoped>\n",
       "    .dataframe tbody tr th:only-of-type {\n",
       "        vertical-align: middle;\n",
       "    }\n",
       "\n",
       "    .dataframe tbody tr th {\n",
       "        vertical-align: top;\n",
       "    }\n",
       "\n",
       "    .dataframe thead th {\n",
       "        text-align: right;\n",
       "    }\n",
       "</style>\n",
       "<table border=\"1\" class=\"dataframe\">\n",
       "  <thead>\n",
       "    <tr style=\"text-align: right;\">\n",
       "      <th></th>\n",
       "      <th>col1</th>\n",
       "      <th>col2</th>\n",
       "      <th>col3</th>\n",
       "      <th>col4</th>\n",
       "      <th>col5</th>\n",
       "      <th>col6</th>\n",
       "      <th>col7</th>\n",
       "      <th>col8</th>\n",
       "      <th>col9</th>\n",
       "      <th>col0</th>\n",
       "      <th>co11</th>\n",
       "      <th>co12</th>\n",
       "      <th>co13</th>\n",
       "      <th>co14</th>\n",
       "      <th>co15</th>\n",
       "      <th>co16</th>\n",
       "      <th>co17</th>\n",
       "      <th>co18</th>\n",
       "      <th>co19</th>\n",
       "      <th>co20</th>\n",
       "      <th>co21</th>\n",
       "    </tr>\n",
       "  </thead>\n",
       "  <tbody>\n",
       "    <tr>\n",
       "      <th>0</th>\n",
       "      <td>1</td>\n",
       "      <td>4</td>\n",
       "      <td>7</td>\n",
       "      <td>1</td>\n",
       "      <td>4</td>\n",
       "      <td>7</td>\n",
       "      <td>1</td>\n",
       "      <td>4</td>\n",
       "      <td>7</td>\n",
       "      <td>1</td>\n",
       "      <td>4</td>\n",
       "      <td>7</td>\n",
       "      <td>1</td>\n",
       "      <td>4</td>\n",
       "      <td>7</td>\n",
       "      <td>1</td>\n",
       "      <td>4</td>\n",
       "      <td>7</td>\n",
       "      <td>1</td>\n",
       "      <td>4</td>\n",
       "      <td>7</td>\n",
       "    </tr>\n",
       "    <tr>\n",
       "      <th>1</th>\n",
       "      <td>2</td>\n",
       "      <td>5</td>\n",
       "      <td>5</td>\n",
       "      <td>2</td>\n",
       "      <td>5</td>\n",
       "      <td>5</td>\n",
       "      <td>2</td>\n",
       "      <td>5</td>\n",
       "      <td>5</td>\n",
       "      <td>2</td>\n",
       "      <td>5</td>\n",
       "      <td>5</td>\n",
       "      <td>2</td>\n",
       "      <td>5</td>\n",
       "      <td>5</td>\n",
       "      <td>2</td>\n",
       "      <td>5</td>\n",
       "      <td>5</td>\n",
       "      <td>2</td>\n",
       "      <td>5</td>\n",
       "      <td>5</td>\n",
       "    </tr>\n",
       "    <tr>\n",
       "      <th>2</th>\n",
       "      <td>3</td>\n",
       "      <td>6</td>\n",
       "      <td>8</td>\n",
       "      <td>3</td>\n",
       "      <td>6</td>\n",
       "      <td>8</td>\n",
       "      <td>3</td>\n",
       "      <td>6</td>\n",
       "      <td>8</td>\n",
       "      <td>3</td>\n",
       "      <td>6</td>\n",
       "      <td>8</td>\n",
       "      <td>3</td>\n",
       "      <td>6</td>\n",
       "      <td>8</td>\n",
       "      <td>3</td>\n",
       "      <td>6</td>\n",
       "      <td>8</td>\n",
       "      <td>3</td>\n",
       "      <td>6</td>\n",
       "      <td>8</td>\n",
       "    </tr>\n",
       "    <tr>\n",
       "      <th>3</th>\n",
       "      <td>4</td>\n",
       "      <td>9</td>\n",
       "      <td>12</td>\n",
       "      <td>4</td>\n",
       "      <td>9</td>\n",
       "      <td>12</td>\n",
       "      <td>4</td>\n",
       "      <td>9</td>\n",
       "      <td>12</td>\n",
       "      <td>4</td>\n",
       "      <td>9</td>\n",
       "      <td>12</td>\n",
       "      <td>4</td>\n",
       "      <td>9</td>\n",
       "      <td>12</td>\n",
       "      <td>4</td>\n",
       "      <td>9</td>\n",
       "      <td>12</td>\n",
       "      <td>4</td>\n",
       "      <td>9</td>\n",
       "      <td>12</td>\n",
       "    </tr>\n",
       "    <tr>\n",
       "      <th>4</th>\n",
       "      <td>7</td>\n",
       "      <td>5</td>\n",
       "      <td>1</td>\n",
       "      <td>7</td>\n",
       "      <td>5</td>\n",
       "      <td>1</td>\n",
       "      <td>7</td>\n",
       "      <td>5</td>\n",
       "      <td>1</td>\n",
       "      <td>7</td>\n",
       "      <td>5</td>\n",
       "      <td>1</td>\n",
       "      <td>7</td>\n",
       "      <td>5</td>\n",
       "      <td>1</td>\n",
       "      <td>7</td>\n",
       "      <td>5</td>\n",
       "      <td>1</td>\n",
       "      <td>7</td>\n",
       "      <td>5</td>\n",
       "      <td>1</td>\n",
       "    </tr>\n",
       "    <tr>\n",
       "      <th>5</th>\n",
       "      <td>11</td>\n",
       "      <td>0</td>\n",
       "      <td>11</td>\n",
       "      <td>11</td>\n",
       "      <td>0</td>\n",
       "      <td>11</td>\n",
       "      <td>11</td>\n",
       "      <td>0</td>\n",
       "      <td>11</td>\n",
       "      <td>11</td>\n",
       "      <td>0</td>\n",
       "      <td>11</td>\n",
       "      <td>11</td>\n",
       "      <td>0</td>\n",
       "      <td>11</td>\n",
       "      <td>11</td>\n",
       "      <td>0</td>\n",
       "      <td>11</td>\n",
       "      <td>11</td>\n",
       "      <td>0</td>\n",
       "      <td>11</td>\n",
       "    </tr>\n",
       "  </tbody>\n",
       "</table>\n",
       "</div>"
      ],
      "text/plain": [
       "   col1  col2  col3  col4  col5  col6  col7  col8  col9  col0  co11  co12  co13  co14  co15  co16  co17  co18  co19  co20  co21\n",
       "0     1     4     7     1     4     7     1     4     7     1     4     7     1     4     7     1     4     7     1     4     7\n",
       "1     2     5     5     2     5     5     2     5     5     2     5     5     2     5     5     2     5     5     2     5     5\n",
       "2     3     6     8     3     6     8     3     6     8     3     6     8     3     6     8     3     6     8     3     6     8\n",
       "3     4     9    12     4     9    12     4     9    12     4     9    12     4     9    12     4     9    12     4     9    12\n",
       "4     7     5     1     7     5     1     7     5     1     7     5     1     7     5     1     7     5     1     7     5     1\n",
       "5    11     0    11    11     0    11    11     0    11    11     0    11    11     0    11    11     0    11    11     0    11"
      ]
     },
     "execution_count": 114,
     "metadata": {},
     "output_type": "execute_result"
    }
   ],
   "source": [
    "pd.set_option('display.max_colwidth', 100)\n",
    "pd.set_option('display.max_columns', 50)\n",
    "pd.set_option('display.width', 1000)\n",
    "\n",
    "df6 = pd.DataFrame({\n",
    "                    \"col1\" : [1, 2, 3, 4, 7, 11],\n",
    "                    \"col2\" : [4, 5, 6, 9, 5, 0],\n",
    "                    \"col3\" : [7, 5, 8, 12, 1, 11],\n",
    "                    \"col4\" : [1, 2, 3, 4, 7, 11],\n",
    "                    \"col5\" : [4, 5, 6, 9, 5, 0],\n",
    "                    \"col6\" : [7, 5, 8, 12, 1, 11],\n",
    "                    \"col7\" : [1, 2, 3, 4, 7, 11],\n",
    "                    \"col8\" : [4, 5, 6, 9, 5, 0],\n",
    "                    \"col9\" : [7, 5, 8, 12, 1, 11],\n",
    "                    \"col0\" : [1, 2, 3, 4, 7, 11],\n",
    "                    \"co11\" : [4, 5, 6, 9, 5, 0],\n",
    "                    \"co12\" : [7, 5, 8, 12, 1, 11],\n",
    "                    \"co13\" : [1, 2, 3, 4, 7, 11],\n",
    "                    \"co14\" : [4, 5, 6, 9, 5, 0],\n",
    "                    \"co15\" : [7, 5, 8, 12, 1, 11],\n",
    "                    \"co16\" : [1, 2, 3, 4, 7, 11],\n",
    "                    \"co17\" : [4, 5, 6, 9, 5, 0],\n",
    "                    \"co18\" : [7, 5, 8, 12, 1, 11],\n",
    "                    \"co19\" : [1, 2, 3, 4, 7, 11],\n",
    "                    \"co20\" : [4, 5, 6, 9, 5, 0],\n",
    "                    \"co21\" : [7, 5, 8, 12, 1, 11]\n",
    "                   })\n",
    "\n",
    "df6"
   ]
  },
  {
   "cell_type": "markdown",
   "metadata": {},
   "source": [
    "Q113. Write a pandas program to convert the data frame column type from string to DateTime?\n",
    "    \n",
    "    Sample data:\n",
    "        String Date\n",
    "        0 3/11/2000\n",
    "        1 3/12/2000\n",
    "        2 3/13/2000\n",
    "        dtype- object\n",
    "    Original DataFrame (string to datetime)-\n",
    "        0 2000-03-11\n",
    "        1 2000-03-12\n",
    "        2 2000-03-13"
   ]
  },
  {
   "cell_type": "code",
   "execution_count": 115,
   "metadata": {},
   "outputs": [
    {
     "data": {
      "text/html": [
       "<div>\n",
       "<style scoped>\n",
       "    .dataframe tbody tr th:only-of-type {\n",
       "        vertical-align: middle;\n",
       "    }\n",
       "\n",
       "    .dataframe tbody tr th {\n",
       "        vertical-align: top;\n",
       "    }\n",
       "\n",
       "    .dataframe thead th {\n",
       "        text-align: right;\n",
       "    }\n",
       "</style>\n",
       "<table border=\"1\" class=\"dataframe\">\n",
       "  <thead>\n",
       "    <tr style=\"text-align: right;\">\n",
       "      <th></th>\n",
       "      <th>Dates</th>\n",
       "    </tr>\n",
       "  </thead>\n",
       "  <tbody>\n",
       "    <tr>\n",
       "      <th>0</th>\n",
       "      <td>2000-03-11</td>\n",
       "    </tr>\n",
       "    <tr>\n",
       "      <th>1</th>\n",
       "      <td>2000-03-12</td>\n",
       "    </tr>\n",
       "    <tr>\n",
       "      <th>2</th>\n",
       "      <td>2000-03-13</td>\n",
       "    </tr>\n",
       "  </tbody>\n",
       "</table>\n",
       "</div>"
      ],
      "text/plain": [
       "       Dates\n",
       "0 2000-03-11\n",
       "1 2000-03-12\n",
       "2 2000-03-13"
      ]
     },
     "execution_count": 115,
     "metadata": {},
     "output_type": "execute_result"
    }
   ],
   "source": [
    "orig_df7 = pd.DataFrame({\n",
    "                    \"Dates\": ['3/11/2000', '3/12/2000', '3/13/2000']\n",
    "                    })\n",
    "\n",
    "df7 = orig_df7.copy()\n",
    "\n",
    "df7.head()\n",
    "df7.dtypes #Dates    object\n",
    "\n",
    "#Solution#01:\n",
    "df7.Dates = pd.to_datetime(df7.Dates, format='%m/%d/%Y')\n",
    "df7.dtypes #Dates    datetime64[ns]\n",
    "df7\n",
    "\n",
    "#Solution#02:\n",
    "df7 = orig_df7.copy()\n",
    "df7.dtypes #Dates    object\n",
    "df7.Dates = df7.Dates.astype('datetime64[ns]')\n",
    "df7.dtypes #Dates    datetime64[ns]\n",
    "df7\n",
    "\n",
    "#Solution#03:\n",
    "from datetime import datetime\n",
    "df7 = orig_df7.copy()\n",
    "df7.dtypes #Dates    object\n",
    "df7.Dates = [datetime.strptime(dt, '%m/%d/%Y') for dt in df7.Dates]\n",
    "df7.dtypes #Dates    datetime64[ns]\n",
    "df7\n",
    "\n",
    "# Complete the call to convert the date column\n",
    "df7 = orig_df7.copy()\n",
    "df7['Dates'] = pd.to_datetime(df7.Dates, format='%m/%d/%Y')\n",
    "df7"
   ]
  },
  {
   "cell_type": "markdown",
   "metadata": {},
   "source": [
    "Q114. Write a pandas program to append the data to an empty DataFrame?\n",
    "\n",
    "    Sample data:\n",
    "        Original DataFrame- \n",
    "        After appending some data:\n",
    "            col1 col2\n",
    "            0 0\n",
    "            0 1\n",
    "            1 1\n",
    "            2 2"
   ]
  },
  {
   "cell_type": "code",
   "execution_count": 116,
   "metadata": {},
   "outputs": [
    {
     "data": {
      "text/html": [
       "<div>\n",
       "<style scoped>\n",
       "    .dataframe tbody tr th:only-of-type {\n",
       "        vertical-align: middle;\n",
       "    }\n",
       "\n",
       "    .dataframe tbody tr th {\n",
       "        vertical-align: top;\n",
       "    }\n",
       "\n",
       "    .dataframe thead th {\n",
       "        text-align: right;\n",
       "    }\n",
       "</style>\n",
       "<table border=\"1\" class=\"dataframe\">\n",
       "  <thead>\n",
       "    <tr style=\"text-align: right;\">\n",
       "      <th></th>\n",
       "      <th>col1</th>\n",
       "      <th>col2</th>\n",
       "    </tr>\n",
       "  </thead>\n",
       "  <tbody>\n",
       "    <tr>\n",
       "      <th>0</th>\n",
       "      <td>0</td>\n",
       "      <td>10</td>\n",
       "    </tr>\n",
       "    <tr>\n",
       "      <th>1</th>\n",
       "      <td>1</td>\n",
       "      <td>11</td>\n",
       "    </tr>\n",
       "    <tr>\n",
       "      <th>2</th>\n",
       "      <td>2</td>\n",
       "      <td>12</td>\n",
       "    </tr>\n",
       "    <tr>\n",
       "      <th>3</th>\n",
       "      <td>3</td>\n",
       "      <td>13</td>\n",
       "    </tr>\n",
       "    <tr>\n",
       "      <th>4</th>\n",
       "      <td>4</td>\n",
       "      <td>14</td>\n",
       "    </tr>\n",
       "    <tr>\n",
       "      <th>5</th>\n",
       "      <td>5</td>\n",
       "      <td>15</td>\n",
       "    </tr>\n",
       "    <tr>\n",
       "      <th>6</th>\n",
       "      <td>6</td>\n",
       "      <td>16</td>\n",
       "    </tr>\n",
       "    <tr>\n",
       "      <th>7</th>\n",
       "      <td>7</td>\n",
       "      <td>17</td>\n",
       "    </tr>\n",
       "    <tr>\n",
       "      <th>8</th>\n",
       "      <td>8</td>\n",
       "      <td>18</td>\n",
       "    </tr>\n",
       "    <tr>\n",
       "      <th>9</th>\n",
       "      <td>9</td>\n",
       "      <td>19</td>\n",
       "    </tr>\n",
       "  </tbody>\n",
       "</table>\n",
       "</div>"
      ],
      "text/plain": [
       "   col1  col2\n",
       "0     0    10\n",
       "1     1    11\n",
       "2     2    12\n",
       "3     3    13\n",
       "4     4    14\n",
       "5     5    15\n",
       "6     6    16\n",
       "7     7    17\n",
       "8     8    18\n",
       "9     9    19"
      ]
     },
     "execution_count": 116,
     "metadata": {},
     "output_type": "execute_result"
    }
   ],
   "source": [
    "orig_df8 = pd.DataFrame()\n",
    "\n",
    "df8 = orig_df8.copy()\n",
    "\n",
    "#Solution#01:\n",
    "df8['col1'] = range(10)\n",
    "df8['col2'] = range(10, 20)\n",
    "df8\n",
    "\n",
    "#Solution#02:\n",
    "df8 = orig_df8.copy()\n",
    "sr_col1 = pd.Series(name=\"col1\", data=range(10))\n",
    "sr_col2 = pd.Series(name=\"col2\", data=range(10, 20))\n",
    "df8 = pd.concat([df8, sr_col1, sr_col2], axis=1)\n",
    "df8\n",
    "\n",
    "#Solution#03:\n",
    "df8 = orig_df8.copy()\n",
    "sr1 = pd.Series([val for val in range(10)])\n",
    "sr2 = pd.Series([val for val in range(10, 20)])\n",
    "df8[\"col1\"] = sr1\n",
    "df8[\"col2\"] = sr2\n",
    "df8\n",
    "\n",
    "#Solution#04:\n",
    "df8 = orig_df8.copy()\n",
    "data = [[val, val+10] for val in range(10)]\n",
    "df8 = pd.DataFrame(data, columns=['col1', 'col2'])\n",
    "df8\n",
    "\n",
    "#Solution#05:\n",
    "df8 = orig_df8.copy()\n",
    "data = {'col1' : [val for val in range(10)],\n",
    "        'col2' : [val for val in range(10, 20)]}\n",
    "df8 = pd.DataFrame(data)\n",
    "df8\n",
    "\n",
    "#Solution#06:\n",
    "df8 = orig_df8.copy()\n",
    "data = [{'col1':val, 'col2':val+10} for val in range(10)]\n",
    "df8 = pd.DataFrame(data)\n",
    "df8\n",
    "\n",
    "#Solution#07:\n",
    "df8 = orig_df8.copy()\n",
    "col1 = [val for val in range(10)]\n",
    "col2 = [val for val in range(10, 20)]\n",
    "data = list(zip(col1, col2))\n",
    "df8 = pd.DataFrame(data, columns=['col1', 'col2'])\n",
    "df8\n",
    "\n",
    "#Solution#08:\n",
    "df8 = orig_df8.copy()\n",
    "sub_df1 = pd.DataFrame(pd.Series([val for val in range(10)]), columns=['col1'])\n",
    "sub_df2 = pd.DataFrame(pd.Series([val for val in range(10,20)]), columns=['col2'])\n",
    "df8 = sub_df1['col1'] + sub_df2['col2']\n",
    "df8\n",
    "\n",
    "#Solution#09:\n",
    "df8 = orig_df8.copy()\n",
    "sub_df1 = pd.DataFrame(pd.Series([val for val in range(10)]), columns=['col1'])\n",
    "sub_df2 = pd.DataFrame(pd.Series([val for val in range(10,20)]), columns=['col2'])\n",
    "df8.append(sub_df1).append(sub_df2)['col2']\n",
    "df8\n",
    "\n",
    "#Solution#10:\n",
    "df8 = orig_df8.copy()\n",
    "data = {'col1' : pd.Series([val for val in range(10)]),\n",
    "        'col2' : pd.Series([val for val in range(10, 20)])}\n",
    "df8 = pd.DataFrame(data)\n",
    "df8\n"
   ]
  },
  {
   "cell_type": "markdown",
   "metadata": {},
   "source": [
    "Q115. Write a pandas program to count the number of columns of a DataFrame?\n",
    "\n",
    "    Sample Output:\n",
    "        Original DataFrame\n",
    "            col1 col2 col3\n",
    "            0 1 4 7\n",
    "            1 2 5 8\n",
    "            2 3 6 12\n",
    "            3 4 9 1\n",
    "            4 7 5 11\n",
    "        Number of columns- 3"
   ]
  },
  {
   "cell_type": "code",
   "execution_count": 117,
   "metadata": {},
   "outputs": [
    {
     "name": "stdout",
     "output_type": "stream",
     "text": [
      "Column Count: 3\n"
     ]
    }
   ],
   "source": [
    "df9 = pd.DataFrame({'col1' : [1,2,3,4,7],\n",
    "                    'col2' : [4,5,6,9,5],\n",
    "                    'col3' : [7,8,12,1,11]})\n",
    "\n",
    "print(\"Column Count: \" + str(len(df9.columns)))\n"
   ]
  },
  {
   "cell_type": "markdown",
   "metadata": {},
   "source": [
    "Q116. Write a Pandas program to remove the last n rows of a given DataFrame ?\n",
    "\n",
    "    Sample Output:\n",
    "    Original DataFrame\n",
    "    col1 col2 col3\n",
    "    0 1 4 7\n",
    "    1 2 5 5\n",
    "    2 3 6 8\n",
    "    3 4 9 12\n",
    "    4 7 5 1\n",
    "    5 11 0 11\n",
    "    After removing last 3 rows of the said DataFramecol1 col2 col3\n",
    "    0 1 4 7\n",
    "    1 2 5 5\n",
    "    2 3 6 8\n",
    "    \n",
    "     Link for Datasets\n",
    "     (https://drive.google.com/drive/folders/105ftuIwN9kqyPNEEm3E6IM7LqywjyvJa?usp=sharing)"
   ]
  },
  {
   "cell_type": "code",
   "execution_count": 118,
   "metadata": {},
   "outputs": [
    {
     "data": {
      "text/html": [
       "<div>\n",
       "<style scoped>\n",
       "    .dataframe tbody tr th:only-of-type {\n",
       "        vertical-align: middle;\n",
       "    }\n",
       "\n",
       "    .dataframe tbody tr th {\n",
       "        vertical-align: top;\n",
       "    }\n",
       "\n",
       "    .dataframe thead th {\n",
       "        text-align: right;\n",
       "    }\n",
       "</style>\n",
       "<table border=\"1\" class=\"dataframe\">\n",
       "  <thead>\n",
       "    <tr style=\"text-align: right;\">\n",
       "      <th></th>\n",
       "      <th>col1</th>\n",
       "      <th>col2</th>\n",
       "      <th>col3</th>\n",
       "    </tr>\n",
       "  </thead>\n",
       "  <tbody>\n",
       "    <tr>\n",
       "      <th>0</th>\n",
       "      <td>1</td>\n",
       "      <td>4</td>\n",
       "      <td>7</td>\n",
       "    </tr>\n",
       "    <tr>\n",
       "      <th>1</th>\n",
       "      <td>2</td>\n",
       "      <td>5</td>\n",
       "      <td>5</td>\n",
       "    </tr>\n",
       "    <tr>\n",
       "      <th>2</th>\n",
       "      <td>3</td>\n",
       "      <td>6</td>\n",
       "      <td>8</td>\n",
       "    </tr>\n",
       "  </tbody>\n",
       "</table>\n",
       "</div>"
      ],
      "text/plain": [
       "   col1  col2  col3\n",
       "0     1     4     7\n",
       "1     2     5     5\n",
       "2     3     6     8"
      ]
     },
     "execution_count": 118,
     "metadata": {},
     "output_type": "execute_result"
    }
   ],
   "source": [
    "orig_df10 = pd.DataFrame({'col1' : [1,2,3,4,7,11],\n",
    "                    'col2' : [4,5,6,9,5,0],\n",
    "                    'col3' : [7,5,8,12,1,11]})\n",
    "\n",
    "last_n_rows = 3\n",
    "total_rows = len(orig_df10)\n",
    "\n",
    "#Solution#01:\n",
    "df10 = orig_df10.copy()\n",
    "df10 = df10[:total_rows - last_n_rows] #In index subscription, Upper limit of rows is EXclusive.\n",
    "df10\n",
    "\n",
    "#Solution#02:\n",
    "df10 = orig_df10.copy()\n",
    "df10 = df10.loc[:total_rows - last_n_rows + 1, :] #In loc(), Upper limit of rows is INclusive.\n",
    "df10\n",
    "\n",
    "#Solution#03:\n",
    "df10 = orig_df10.copy()\n",
    "df10 = df10.iloc[:total_rows - last_n_rows, :] #In iloc(), Upper limit of rows is EXclusive.\n",
    "df10\n",
    "\n",
    "#Solution#04:\n",
    "df10 = orig_df10.copy()\n",
    "df10 = df10[df10.index < total_rows - last_n_rows] #boolean expression\n",
    "df10\n",
    "\n",
    "#Solution#05:\n",
    "df10 = orig_df10.copy()\n",
    "df10 = df10.loc[(df10.index < total_rows - last_n_rows)] #boolean expression bounded in parenthesis\n",
    "df10\n",
    "\n",
    "#Solution#06:\n",
    "df10 = orig_df10.copy()\n",
    "df10 = df10.iloc[(df10.index < total_rows - last_n_rows)] #boolean expression bounded in parenthesis\n",
    "df10\n",
    "\n",
    "#Solution#07:\n",
    "df10 = orig_df10.copy()\n",
    "df10 = df10.drop(labels=[idx for idx in range(total_rows - last_n_rows, total_rows)], axis=0)\n",
    "df10\n"
   ]
  },
  {
   "cell_type": "markdown",
   "metadata": {},
   "source": [
    "Q117. Write a Pandas program to import excel data (coalpublic2013.xlsx) into a Pandas data frame."
   ]
  },
  {
   "cell_type": "code",
   "execution_count": 119,
   "metadata": {},
   "outputs": [
    {
     "data": {
      "text/html": [
       "<div>\n",
       "<style scoped>\n",
       "    .dataframe tbody tr th:only-of-type {\n",
       "        vertical-align: middle;\n",
       "    }\n",
       "\n",
       "    .dataframe tbody tr th {\n",
       "        vertical-align: top;\n",
       "    }\n",
       "\n",
       "    .dataframe thead th {\n",
       "        text-align: right;\n",
       "    }\n",
       "</style>\n",
       "<table border=\"1\" class=\"dataframe\">\n",
       "  <thead>\n",
       "    <tr style=\"text-align: right;\">\n",
       "      <th></th>\n",
       "      <th>Year</th>\n",
       "      <th>MSHA ID</th>\n",
       "      <th>Mine_Name</th>\n",
       "      <th>Production</th>\n",
       "      <th>Labor_Hours</th>\n",
       "    </tr>\n",
       "  </thead>\n",
       "  <tbody>\n",
       "    <tr>\n",
       "      <th>0</th>\n",
       "      <td>2013</td>\n",
       "      <td>103381</td>\n",
       "      <td>Tacoa Highwall Miner</td>\n",
       "      <td>56004</td>\n",
       "      <td>22392</td>\n",
       "    </tr>\n",
       "    <tr>\n",
       "      <th>1</th>\n",
       "      <td>2013</td>\n",
       "      <td>103404</td>\n",
       "      <td>Reid School Mine</td>\n",
       "      <td>28807</td>\n",
       "      <td>28447</td>\n",
       "    </tr>\n",
       "    <tr>\n",
       "      <th>2</th>\n",
       "      <td>2013</td>\n",
       "      <td>100759</td>\n",
       "      <td>North River #1 Underground Min</td>\n",
       "      <td>1440115</td>\n",
       "      <td>474784</td>\n",
       "    </tr>\n",
       "    <tr>\n",
       "      <th>3</th>\n",
       "      <td>2013</td>\n",
       "      <td>103246</td>\n",
       "      <td>Bear Creek</td>\n",
       "      <td>87587</td>\n",
       "      <td>29193</td>\n",
       "    </tr>\n",
       "    <tr>\n",
       "      <th>4</th>\n",
       "      <td>2013</td>\n",
       "      <td>103451</td>\n",
       "      <td>Knight Mine</td>\n",
       "      <td>147499</td>\n",
       "      <td>46393</td>\n",
       "    </tr>\n",
       "    <tr>\n",
       "      <th>5</th>\n",
       "      <td>2013</td>\n",
       "      <td>103433</td>\n",
       "      <td>Crane Central Mine</td>\n",
       "      <td>69339</td>\n",
       "      <td>47195</td>\n",
       "    </tr>\n",
       "    <tr>\n",
       "      <th>6</th>\n",
       "      <td>2013</td>\n",
       "      <td>100329</td>\n",
       "      <td>Concord Mine</td>\n",
       "      <td>0</td>\n",
       "      <td>144002</td>\n",
       "    </tr>\n",
       "    <tr>\n",
       "      <th>7</th>\n",
       "      <td>2013</td>\n",
       "      <td>100851</td>\n",
       "      <td>Oak Grove Mine</td>\n",
       "      <td>2269014</td>\n",
       "      <td>1001809</td>\n",
       "    </tr>\n",
       "    <tr>\n",
       "      <th>8</th>\n",
       "      <td>2013</td>\n",
       "      <td>102901</td>\n",
       "      <td>Shoal Creek Mine</td>\n",
       "      <td>0</td>\n",
       "      <td>12396</td>\n",
       "    </tr>\n",
       "    <tr>\n",
       "      <th>9</th>\n",
       "      <td>2013</td>\n",
       "      <td>102901</td>\n",
       "      <td>Shoal Creek Mine</td>\n",
       "      <td>1453024</td>\n",
       "      <td>1237415</td>\n",
       "    </tr>\n",
       "    <tr>\n",
       "      <th>10</th>\n",
       "      <td>2013</td>\n",
       "      <td>103180</td>\n",
       "      <td>Sloan Mountain Mine</td>\n",
       "      <td>327780</td>\n",
       "      <td>196963</td>\n",
       "    </tr>\n",
       "    <tr>\n",
       "      <th>11</th>\n",
       "      <td>2013</td>\n",
       "      <td>103182</td>\n",
       "      <td>Fishtrap</td>\n",
       "      <td>175058</td>\n",
       "      <td>87314</td>\n",
       "    </tr>\n",
       "    <tr>\n",
       "      <th>12</th>\n",
       "      <td>2013</td>\n",
       "      <td>103285</td>\n",
       "      <td>Narley Mine</td>\n",
       "      <td>154861</td>\n",
       "      <td>90584</td>\n",
       "    </tr>\n",
       "    <tr>\n",
       "      <th>13</th>\n",
       "      <td>2013</td>\n",
       "      <td>103332</td>\n",
       "      <td>Powhatan Mine</td>\n",
       "      <td>140521</td>\n",
       "      <td>61394</td>\n",
       "    </tr>\n",
       "    <tr>\n",
       "      <th>14</th>\n",
       "      <td>2013</td>\n",
       "      <td>103375</td>\n",
       "      <td>Johnson Mine</td>\n",
       "      <td>580</td>\n",
       "      <td>1900</td>\n",
       "    </tr>\n",
       "    <tr>\n",
       "      <th>15</th>\n",
       "      <td>2013</td>\n",
       "      <td>103419</td>\n",
       "      <td>Maxine-Pratt Mine</td>\n",
       "      <td>125824</td>\n",
       "      <td>107469</td>\n",
       "    </tr>\n",
       "    <tr>\n",
       "      <th>16</th>\n",
       "      <td>2013</td>\n",
       "      <td>103432</td>\n",
       "      <td>Skelton Creek</td>\n",
       "      <td>8252</td>\n",
       "      <td>220</td>\n",
       "    </tr>\n",
       "    <tr>\n",
       "      <th>17</th>\n",
       "      <td>2013</td>\n",
       "      <td>103437</td>\n",
       "      <td>Black Warrior Mine No 1</td>\n",
       "      <td>145924</td>\n",
       "      <td>70926</td>\n",
       "    </tr>\n",
       "    <tr>\n",
       "      <th>18</th>\n",
       "      <td>2013</td>\n",
       "      <td>102976</td>\n",
       "      <td>Piney Woods Preparation Plant</td>\n",
       "      <td>0</td>\n",
       "      <td>14828</td>\n",
       "    </tr>\n",
       "    <tr>\n",
       "      <th>19</th>\n",
       "      <td>2013</td>\n",
       "      <td>102976</td>\n",
       "      <td>Piney Woods Preparation Plant</td>\n",
       "      <td>0</td>\n",
       "      <td>23193</td>\n",
       "    </tr>\n",
       "    <tr>\n",
       "      <th>20</th>\n",
       "      <td>2013</td>\n",
       "      <td>103380</td>\n",
       "      <td>Calera</td>\n",
       "      <td>0</td>\n",
       "      <td>12621</td>\n",
       "    </tr>\n",
       "    <tr>\n",
       "      <th>21</th>\n",
       "      <td>2013</td>\n",
       "      <td>103380</td>\n",
       "      <td>Calera</td>\n",
       "      <td>0</td>\n",
       "      <td>1402</td>\n",
       "    </tr>\n",
       "    <tr>\n",
       "      <th>22</th>\n",
       "      <td>2013</td>\n",
       "      <td>103422</td>\n",
       "      <td>Clark No 1 Mine</td>\n",
       "      <td>122727</td>\n",
       "      <td>140250</td>\n",
       "    </tr>\n",
       "    <tr>\n",
       "      <th>23</th>\n",
       "      <td>2013</td>\n",
       "      <td>103467</td>\n",
       "      <td>Helena Surface Mine</td>\n",
       "      <td>59664</td>\n",
       "      <td>30539</td>\n",
       "    </tr>\n",
       "    <tr>\n",
       "      <th>24</th>\n",
       "      <td>2013</td>\n",
       "      <td>101247</td>\n",
       "      <td>No 4 Mine</td>\n",
       "      <td>2622528</td>\n",
       "      <td>1551141</td>\n",
       "    </tr>\n",
       "    <tr>\n",
       "      <th>25</th>\n",
       "      <td>2013</td>\n",
       "      <td>101401</td>\n",
       "      <td>No 7 Mine</td>\n",
       "      <td>5405412</td>\n",
       "      <td>2464719</td>\n",
       "    </tr>\n",
       "    <tr>\n",
       "      <th>26</th>\n",
       "      <td>2013</td>\n",
       "      <td>103172</td>\n",
       "      <td>Searles Mine No. 2, 3, 4, 5, 6</td>\n",
       "      <td>258078</td>\n",
       "      <td>119542</td>\n",
       "    </tr>\n",
       "    <tr>\n",
       "      <th>27</th>\n",
       "      <td>2013</td>\n",
       "      <td>103179</td>\n",
       "      <td>Fleetwood Mine No 1</td>\n",
       "      <td>75937</td>\n",
       "      <td>63745</td>\n",
       "    </tr>\n",
       "    <tr>\n",
       "      <th>28</th>\n",
       "      <td>2013</td>\n",
       "      <td>103303</td>\n",
       "      <td>Shannon Mine</td>\n",
       "      <td>317491</td>\n",
       "      <td>164388</td>\n",
       "    </tr>\n",
       "    <tr>\n",
       "      <th>29</th>\n",
       "      <td>2013</td>\n",
       "      <td>103323</td>\n",
       "      <td>Deerlick Mine</td>\n",
       "      <td>133452</td>\n",
       "      <td>46381</td>\n",
       "    </tr>\n",
       "    <tr>\n",
       "      <th>30</th>\n",
       "      <td>2013</td>\n",
       "      <td>103364</td>\n",
       "      <td>Brc Alabama No. 7 Llc</td>\n",
       "      <td>0</td>\n",
       "      <td>14324</td>\n",
       "    </tr>\n",
       "    <tr>\n",
       "      <th>31</th>\n",
       "      <td>2013</td>\n",
       "      <td>103436</td>\n",
       "      <td>Swann's Crossing</td>\n",
       "      <td>137511</td>\n",
       "      <td>77190</td>\n",
       "    </tr>\n",
       "    <tr>\n",
       "      <th>32</th>\n",
       "      <td>2013</td>\n",
       "      <td>100347</td>\n",
       "      <td>Choctaw Mine</td>\n",
       "      <td>537429</td>\n",
       "      <td>215295</td>\n",
       "    </tr>\n",
       "    <tr>\n",
       "      <th>33</th>\n",
       "      <td>2013</td>\n",
       "      <td>101362</td>\n",
       "      <td>Manchester Mine</td>\n",
       "      <td>219457</td>\n",
       "      <td>116914</td>\n",
       "    </tr>\n",
       "    <tr>\n",
       "      <th>34</th>\n",
       "      <td>2013</td>\n",
       "      <td>102996</td>\n",
       "      <td>Jap Creek Mine</td>\n",
       "      <td>375715</td>\n",
       "      <td>164093</td>\n",
       "    </tr>\n",
       "    <tr>\n",
       "      <th>35</th>\n",
       "      <td>2013</td>\n",
       "      <td>103155</td>\n",
       "      <td>Corinth Prep Plant</td>\n",
       "      <td>0</td>\n",
       "      <td>27996</td>\n",
       "    </tr>\n",
       "    <tr>\n",
       "      <th>36</th>\n",
       "      <td>2013</td>\n",
       "      <td>103155</td>\n",
       "      <td>Corinth Prep Plant</td>\n",
       "      <td>0</td>\n",
       "      <td>51994</td>\n",
       "    </tr>\n",
       "    <tr>\n",
       "      <th>37</th>\n",
       "      <td>2013</td>\n",
       "      <td>103195</td>\n",
       "      <td>Mccollum/Sparks Branch Mine</td>\n",
       "      <td>71910</td>\n",
       "      <td>17411</td>\n",
       "    </tr>\n",
       "    <tr>\n",
       "      <th>38</th>\n",
       "      <td>2013</td>\n",
       "      <td>103342</td>\n",
       "      <td>Reese's Branch Mine</td>\n",
       "      <td>263888</td>\n",
       "      <td>115123</td>\n",
       "    </tr>\n",
       "    <tr>\n",
       "      <th>39</th>\n",
       "      <td>2013</td>\n",
       "      <td>103370</td>\n",
       "      <td>Cresent Valley Mine</td>\n",
       "      <td>2860</td>\n",
       "      <td>621</td>\n",
       "    </tr>\n",
       "    <tr>\n",
       "      <th>40</th>\n",
       "      <td>2013</td>\n",
       "      <td>103372</td>\n",
       "      <td>Cane Creek Mine</td>\n",
       "      <td>66258</td>\n",
       "      <td>32401</td>\n",
       "    </tr>\n",
       "    <tr>\n",
       "      <th>41</th>\n",
       "      <td>2013</td>\n",
       "      <td>103376</td>\n",
       "      <td>Town Creek</td>\n",
       "      <td>299167</td>\n",
       "      <td>176499</td>\n",
       "    </tr>\n",
       "    <tr>\n",
       "      <th>42</th>\n",
       "      <td>2013</td>\n",
       "      <td>103389</td>\n",
       "      <td>Carbon Hill Mine</td>\n",
       "      <td>76241</td>\n",
       "      <td>84966</td>\n",
       "    </tr>\n",
       "    <tr>\n",
       "      <th>43</th>\n",
       "      <td>2013</td>\n",
       "      <td>103410</td>\n",
       "      <td>Coal Valley Mine</td>\n",
       "      <td>407841</td>\n",
       "      <td>158591</td>\n",
       "    </tr>\n",
       "    <tr>\n",
       "      <th>44</th>\n",
       "      <td>2013</td>\n",
       "      <td>103423</td>\n",
       "      <td>Dutton Hill Mine</td>\n",
       "      <td>37275</td>\n",
       "      <td>9162</td>\n",
       "    </tr>\n",
       "    <tr>\n",
       "      <th>45</th>\n",
       "      <td>2013</td>\n",
       "      <td>1519322</td>\n",
       "      <td>Ghm #25</td>\n",
       "      <td>25054</td>\n",
       "      <td>3108</td>\n",
       "    </tr>\n",
       "    <tr>\n",
       "      <th>46</th>\n",
       "      <td>2013</td>\n",
       "      <td>103321</td>\n",
       "      <td>Poplar Springs</td>\n",
       "      <td>189370</td>\n",
       "      <td>76366</td>\n",
       "    </tr>\n",
       "    <tr>\n",
       "      <th>47</th>\n",
       "      <td>2013</td>\n",
       "      <td>103358</td>\n",
       "      <td>Old Union</td>\n",
       "      <td>284563</td>\n",
       "      <td>161805</td>\n",
       "    </tr>\n",
       "    <tr>\n",
       "      <th>48</th>\n",
       "      <td>2013</td>\n",
       "      <td>5000030</td>\n",
       "      <td>Usibelli</td>\n",
       "      <td>1631584</td>\n",
       "      <td>286079</td>\n",
       "    </tr>\n",
       "    <tr>\n",
       "      <th>49</th>\n",
       "      <td>2013</td>\n",
       "      <td>201195</td>\n",
       "      <td>Kayenta Mine</td>\n",
       "      <td>7602722</td>\n",
       "      <td>1015333</td>\n",
       "    </tr>\n",
       "  </tbody>\n",
       "</table>\n",
       "</div>"
      ],
      "text/plain": [
       "    Year  MSHA ID                       Mine_Name  Production  Labor_Hours\n",
       "0   2013   103381            Tacoa Highwall Miner       56004        22392\n",
       "1   2013   103404                Reid School Mine       28807        28447\n",
       "2   2013   100759  North River #1 Underground Min     1440115       474784\n",
       "3   2013   103246                      Bear Creek       87587        29193\n",
       "4   2013   103451                     Knight Mine      147499        46393\n",
       "5   2013   103433              Crane Central Mine       69339        47195\n",
       "6   2013   100329                    Concord Mine           0       144002\n",
       "7   2013   100851                  Oak Grove Mine     2269014      1001809\n",
       "8   2013   102901                Shoal Creek Mine           0        12396\n",
       "9   2013   102901                Shoal Creek Mine     1453024      1237415\n",
       "10  2013   103180             Sloan Mountain Mine      327780       196963\n",
       "11  2013   103182                        Fishtrap      175058        87314\n",
       "12  2013   103285                     Narley Mine      154861        90584\n",
       "13  2013   103332                   Powhatan Mine      140521        61394\n",
       "14  2013   103375                    Johnson Mine         580         1900\n",
       "15  2013   103419               Maxine-Pratt Mine      125824       107469\n",
       "16  2013   103432                   Skelton Creek        8252          220\n",
       "17  2013   103437         Black Warrior Mine No 1      145924        70926\n",
       "18  2013   102976   Piney Woods Preparation Plant           0        14828\n",
       "19  2013   102976   Piney Woods Preparation Plant           0        23193\n",
       "20  2013   103380                          Calera           0        12621\n",
       "21  2013   103380                          Calera           0         1402\n",
       "22  2013   103422                 Clark No 1 Mine      122727       140250\n",
       "23  2013   103467             Helena Surface Mine       59664        30539\n",
       "24  2013   101247                       No 4 Mine     2622528      1551141\n",
       "25  2013   101401                       No 7 Mine     5405412      2464719\n",
       "26  2013   103172  Searles Mine No. 2, 3, 4, 5, 6      258078       119542\n",
       "27  2013   103179             Fleetwood Mine No 1       75937        63745\n",
       "28  2013   103303                    Shannon Mine      317491       164388\n",
       "29  2013   103323                   Deerlick Mine      133452        46381\n",
       "30  2013   103364           Brc Alabama No. 7 Llc           0        14324\n",
       "31  2013   103436                Swann's Crossing      137511        77190\n",
       "32  2013   100347                    Choctaw Mine      537429       215295\n",
       "33  2013   101362                 Manchester Mine      219457       116914\n",
       "34  2013   102996                  Jap Creek Mine      375715       164093\n",
       "35  2013   103155              Corinth Prep Plant           0        27996\n",
       "36  2013   103155              Corinth Prep Plant           0        51994\n",
       "37  2013   103195     Mccollum/Sparks Branch Mine       71910        17411\n",
       "38  2013   103342             Reese's Branch Mine      263888       115123\n",
       "39  2013   103370             Cresent Valley Mine        2860          621\n",
       "40  2013   103372                 Cane Creek Mine       66258        32401\n",
       "41  2013   103376                      Town Creek      299167       176499\n",
       "42  2013   103389                Carbon Hill Mine       76241        84966\n",
       "43  2013   103410                Coal Valley Mine      407841       158591\n",
       "44  2013   103423                Dutton Hill Mine       37275         9162\n",
       "45  2013  1519322                         Ghm #25       25054         3108\n",
       "46  2013   103321                  Poplar Springs      189370        76366\n",
       "47  2013   103358                       Old Union      284563       161805\n",
       "48  2013  5000030                        Usibelli     1631584       286079\n",
       "49  2013   201195                    Kayenta Mine     7602722      1015333"
      ]
     },
     "execution_count": 119,
     "metadata": {},
     "output_type": "execute_result"
    }
   ],
   "source": [
    "#url = \"https://github.com/jbwhit/coal-exploration/blob/master/data/coalpublic2013.xls\"\n",
    "#url = \"https://www.w3resource.com/python-exercises/pandas/excel/coalpublic2013.xlsx\"\n",
    "\n",
    "path = r\"E:\\BackupFromDadasLaptop\\AGP\\Personal\\CTCs\\ML\\iNueron_Courses\\ML_AI_Masters_00110\\ML_Assignments\\coalpublic2013.xlsx\"\n",
    "orig_coal_df = pd.read_excel(path)\n",
    "coal_df = orig_coal_df.copy()\n",
    "coal_df"
   ]
  },
  {
   "cell_type": "markdown",
   "metadata": {},
   "source": [
    "Q118. Write a Pandas program to import excel data (coalpublic2013.xlsx) into a data frame and find details where \"Mine Name\" starts with \"P\".\n"
   ]
  },
  {
   "cell_type": "code",
   "execution_count": 120,
   "metadata": {},
   "outputs": [
    {
     "data": {
      "text/html": [
       "<div>\n",
       "<style scoped>\n",
       "    .dataframe tbody tr th:only-of-type {\n",
       "        vertical-align: middle;\n",
       "    }\n",
       "\n",
       "    .dataframe tbody tr th {\n",
       "        vertical-align: top;\n",
       "    }\n",
       "\n",
       "    .dataframe thead th {\n",
       "        text-align: right;\n",
       "    }\n",
       "</style>\n",
       "<table border=\"1\" class=\"dataframe\">\n",
       "  <thead>\n",
       "    <tr style=\"text-align: right;\">\n",
       "      <th></th>\n",
       "      <th>Year</th>\n",
       "      <th>MSHA ID</th>\n",
       "      <th>Mine_Name</th>\n",
       "      <th>Production</th>\n",
       "      <th>Labor_Hours</th>\n",
       "    </tr>\n",
       "  </thead>\n",
       "  <tbody>\n",
       "    <tr>\n",
       "      <th>13</th>\n",
       "      <td>2013</td>\n",
       "      <td>103332</td>\n",
       "      <td>Powhatan Mine</td>\n",
       "      <td>140521</td>\n",
       "      <td>61394</td>\n",
       "    </tr>\n",
       "    <tr>\n",
       "      <th>18</th>\n",
       "      <td>2013</td>\n",
       "      <td>102976</td>\n",
       "      <td>Piney Woods Preparation Plant</td>\n",
       "      <td>0</td>\n",
       "      <td>14828</td>\n",
       "    </tr>\n",
       "    <tr>\n",
       "      <th>19</th>\n",
       "      <td>2013</td>\n",
       "      <td>102976</td>\n",
       "      <td>Piney Woods Preparation Plant</td>\n",
       "      <td>0</td>\n",
       "      <td>23193</td>\n",
       "    </tr>\n",
       "    <tr>\n",
       "      <th>46</th>\n",
       "      <td>2013</td>\n",
       "      <td>103321</td>\n",
       "      <td>Poplar Springs</td>\n",
       "      <td>189370</td>\n",
       "      <td>76366</td>\n",
       "    </tr>\n",
       "  </tbody>\n",
       "</table>\n",
       "</div>"
      ],
      "text/plain": [
       "    Year  MSHA ID                      Mine_Name  Production  Labor_Hours\n",
       "13  2013   103332                  Powhatan Mine      140521        61394\n",
       "18  2013   102976  Piney Woods Preparation Plant           0        14828\n",
       "19  2013   102976  Piney Woods Preparation Plant           0        23193\n",
       "46  2013   103321                 Poplar Springs      189370        76366"
      ]
     },
     "execution_count": 120,
     "metadata": {},
     "output_type": "execute_result"
    }
   ],
   "source": [
    "coal_df = orig_coal_df.copy()\n",
    "\n",
    "#Solution#01:\n",
    "mine_name_starts_with_P = coal_df.Mine_Name.str.startswith('P')\n",
    "coal_df[mine_name_starts_with_P]\n",
    "\n",
    "#Solution#02:\n",
    "coal_df[coal_df.Mine_Name.str.startswith('P')]\n",
    "\n",
    "#Solution#03:\n",
    "coal_df.loc[(coal_df.Mine_Name.str.startswith('P'))]\n"
   ]
  },
  {
   "cell_type": "markdown",
   "metadata": {},
   "source": [
    "Q119. Write a Pandas program to import excel data (employee.xlsx) into a Pandas dataframe and find the list of employees where hire_date > 01-01-07."
   ]
  },
  {
   "cell_type": "code",
   "execution_count": 121,
   "metadata": {},
   "outputs": [
    {
     "data": {
      "text/html": [
       "<div>\n",
       "<style scoped>\n",
       "    .dataframe tbody tr th:only-of-type {\n",
       "        vertical-align: middle;\n",
       "    }\n",
       "\n",
       "    .dataframe tbody tr th {\n",
       "        vertical-align: top;\n",
       "    }\n",
       "\n",
       "    .dataframe thead th {\n",
       "        text-align: right;\n",
       "    }\n",
       "</style>\n",
       "<table border=\"1\" class=\"dataframe\">\n",
       "  <thead>\n",
       "    <tr style=\"text-align: right;\">\n",
       "      <th></th>\n",
       "      <th>emp_id</th>\n",
       "      <th>first_name</th>\n",
       "      <th>last_name</th>\n",
       "      <th>hire_date</th>\n",
       "    </tr>\n",
       "  </thead>\n",
       "  <tbody>\n",
       "    <tr>\n",
       "      <th>4</th>\n",
       "      <td>104</td>\n",
       "      <td>Bruce</td>\n",
       "      <td>Ernst</td>\n",
       "      <td>2007-05-21</td>\n",
       "    </tr>\n",
       "    <tr>\n",
       "      <th>7</th>\n",
       "      <td>107</td>\n",
       "      <td>Diana</td>\n",
       "      <td>Lorentz</td>\n",
       "      <td>2007-02-07</td>\n",
       "    </tr>\n",
       "    <tr>\n",
       "      <th>13</th>\n",
       "      <td>113</td>\n",
       "      <td>Luis</td>\n",
       "      <td>Popp</td>\n",
       "      <td>2007-12-07</td>\n",
       "    </tr>\n",
       "    <tr>\n",
       "      <th>19</th>\n",
       "      <td>119</td>\n",
       "      <td>Karen</td>\n",
       "      <td>Colmenares</td>\n",
       "      <td>2007-08-10</td>\n",
       "    </tr>\n",
       "  </tbody>\n",
       "</table>\n",
       "</div>"
      ],
      "text/plain": [
       "    emp_id first_name   last_name  hire_date\n",
       "4      104      Bruce       Ernst 2007-05-21\n",
       "7      107      Diana     Lorentz 2007-02-07\n",
       "13     113       Luis        Popp 2007-12-07\n",
       "19     119      Karen  Colmenares 2007-08-10"
      ]
     },
     "execution_count": 121,
     "metadata": {},
     "output_type": "execute_result"
    }
   ],
   "source": [
    "#url = \"https://www.w3resource.com/python-exercises/pandas/excel/employee.xlsx\"\n",
    "path = r\"E:\\BackupFromDadasLaptop\\AGP\\Personal\\CTCs\\ML\\iNueron_Courses\\ML_AI_Masters_00110\\ML_Assignments\\employee.xlsx\"\n",
    "\n",
    "orig_emp_df = pd.read_excel(path)\n",
    "emp_df = orig_emp_df.copy()\n",
    "\n",
    "#Solution#01:\n",
    "emp_df[emp_df.hire_date > '2007-01-01']\n",
    "\n",
    "#Solution#02:\n",
    "emp_df.loc[(emp_df.hire_date > '2007-01-01')]\n"
   ]
  },
  {
   "cell_type": "markdown",
   "metadata": {},
   "source": [
    "Q120. Write a Pandas program to import excel data (employee.xlsx ) into a Pandas dataframe and find a list of the employees of a specified year."
   ]
  },
  {
   "cell_type": "code",
   "execution_count": 122,
   "metadata": {},
   "outputs": [
    {
     "data": {
      "text/html": [
       "<div>\n",
       "<style scoped>\n",
       "    .dataframe tbody tr th:only-of-type {\n",
       "        vertical-align: middle;\n",
       "    }\n",
       "\n",
       "    .dataframe tbody tr th {\n",
       "        vertical-align: top;\n",
       "    }\n",
       "\n",
       "    .dataframe thead th {\n",
       "        text-align: right;\n",
       "    }\n",
       "</style>\n",
       "<table border=\"1\" class=\"dataframe\">\n",
       "  <thead>\n",
       "    <tr style=\"text-align: right;\">\n",
       "      <th></th>\n",
       "      <th>emp_id</th>\n",
       "      <th>first_name</th>\n",
       "      <th>last_name</th>\n",
       "      <th>hire_date</th>\n",
       "    </tr>\n",
       "  </thead>\n",
       "  <tbody>\n",
       "    <tr>\n",
       "      <th>1</th>\n",
       "      <td>101</td>\n",
       "      <td>Neena</td>\n",
       "      <td>Kochhar</td>\n",
       "      <td>2005-09-21</td>\n",
       "    </tr>\n",
       "    <tr>\n",
       "      <th>5</th>\n",
       "      <td>105</td>\n",
       "      <td>David</td>\n",
       "      <td>Austin</td>\n",
       "      <td>2005-06-25</td>\n",
       "    </tr>\n",
       "    <tr>\n",
       "      <th>10</th>\n",
       "      <td>110</td>\n",
       "      <td>John</td>\n",
       "      <td>Chen</td>\n",
       "      <td>2005-09-28</td>\n",
       "    </tr>\n",
       "    <tr>\n",
       "      <th>11</th>\n",
       "      <td>111</td>\n",
       "      <td>Ismael</td>\n",
       "      <td>Sciarra</td>\n",
       "      <td>2005-09-30</td>\n",
       "    </tr>\n",
       "    <tr>\n",
       "      <th>16</th>\n",
       "      <td>116</td>\n",
       "      <td>Shelli</td>\n",
       "      <td>Baida</td>\n",
       "      <td>2005-12-24</td>\n",
       "    </tr>\n",
       "    <tr>\n",
       "      <th>17</th>\n",
       "      <td>117</td>\n",
       "      <td>Sigal</td>\n",
       "      <td>Tobias</td>\n",
       "      <td>2005-07-24</td>\n",
       "    </tr>\n",
       "  </tbody>\n",
       "</table>\n",
       "</div>"
      ],
      "text/plain": [
       "    emp_id first_name last_name  hire_date\n",
       "1      101      Neena   Kochhar 2005-09-21\n",
       "5      105      David    Austin 2005-06-25\n",
       "10     110       John      Chen 2005-09-28\n",
       "11     111     Ismael   Sciarra 2005-09-30\n",
       "16     116     Shelli     Baida 2005-12-24\n",
       "17     117      Sigal    Tobias 2005-07-24"
      ]
     },
     "execution_count": 122,
     "metadata": {},
     "output_type": "execute_result"
    }
   ],
   "source": [
    "emp_df = orig_emp_df.copy()\n",
    "\n",
    "hiring_year = 2005\n",
    "\n",
    "#Solution#01:\n",
    "emp_df[emp_df.hire_date.dt.year == hiring_year]\n",
    "\n",
    "#Solution#02:\n",
    "emp_df.loc[(emp_df.hire_date.dt.year == hiring_year)]\n",
    "\n",
    "#Solution#03:\n",
    "emp_df[emp_df.hire_date.dt.strftime(\"%Y\") == str(hiring_year)]\n",
    "\n",
    "#Solution#04:\n",
    "emp_df.loc[(emp_df.hire_date.dt.strftime(\"%Y\") == str(hiring_year))]\n"
   ]
  },
  {
   "cell_type": "code",
   "execution_count": 123,
   "metadata": {},
   "outputs": [],
   "source": [
    "import matplotlib.pyplot as plt\n",
    "import seaborn as sns\n",
    "import matplotlib as mpl\n",
    "import matplotlib.cm as cm\n",
    "\n",
    "%matplotlib inline"
   ]
  },
  {
   "cell_type": "markdown",
   "metadata": {},
   "source": [
    "Q121. Write a pandas program to import three datasheets from a given excel data (coalpublic2013.xlsx ) in to a single dataframe.\n",
    " \n",
    "Note: Structure of three datasheets are same."
   ]
  },
  {
   "cell_type": "code",
   "execution_count": 124,
   "metadata": {},
   "outputs": [
    {
     "name": "stdout",
     "output_type": "stream",
     "text": [
      "Sheet: Sheet1 has Rows: 20, & Columns: 4\n",
      "Sheet: Sheet2 has Rows: 19, & Columns: 4\n",
      "Sheet: Sheet3 has Rows: 9, & Columns: 4\n",
      "Shape of clubbed sheets DataFrame:  (48, 4)\n"
     ]
    },
    {
     "data": {
      "text/html": [
       "<div>\n",
       "<style scoped>\n",
       "    .dataframe tbody tr th:only-of-type {\n",
       "        vertical-align: middle;\n",
       "    }\n",
       "\n",
       "    .dataframe tbody tr th {\n",
       "        vertical-align: top;\n",
       "    }\n",
       "\n",
       "    .dataframe thead th {\n",
       "        text-align: right;\n",
       "    }\n",
       "</style>\n",
       "<table border=\"1\" class=\"dataframe\">\n",
       "  <thead>\n",
       "    <tr style=\"text-align: right;\">\n",
       "      <th></th>\n",
       "      <th>emp_id</th>\n",
       "      <th>first_name</th>\n",
       "      <th>last_name</th>\n",
       "      <th>hire_date</th>\n",
       "    </tr>\n",
       "  </thead>\n",
       "  <tbody>\n",
       "    <tr>\n",
       "      <th>0</th>\n",
       "      <td>100</td>\n",
       "      <td>Steven</td>\n",
       "      <td>King</td>\n",
       "      <td>2003-06-17</td>\n",
       "    </tr>\n",
       "    <tr>\n",
       "      <th>1</th>\n",
       "      <td>101</td>\n",
       "      <td>Neena</td>\n",
       "      <td>Kochhar</td>\n",
       "      <td>2005-09-21</td>\n",
       "    </tr>\n",
       "    <tr>\n",
       "      <th>2</th>\n",
       "      <td>102</td>\n",
       "      <td>Lex</td>\n",
       "      <td>De Haan</td>\n",
       "      <td>2001-01-13</td>\n",
       "    </tr>\n",
       "    <tr>\n",
       "      <th>3</th>\n",
       "      <td>103</td>\n",
       "      <td>Alexander</td>\n",
       "      <td>Hunold</td>\n",
       "      <td>2006-01-03</td>\n",
       "    </tr>\n",
       "    <tr>\n",
       "      <th>4</th>\n",
       "      <td>104</td>\n",
       "      <td>Bruce</td>\n",
       "      <td>Ernst</td>\n",
       "      <td>2007-05-21</td>\n",
       "    </tr>\n",
       "    <tr>\n",
       "      <th>5</th>\n",
       "      <td>105</td>\n",
       "      <td>David</td>\n",
       "      <td>Austin</td>\n",
       "      <td>2005-06-25</td>\n",
       "    </tr>\n",
       "    <tr>\n",
       "      <th>6</th>\n",
       "      <td>106</td>\n",
       "      <td>Valli</td>\n",
       "      <td>Pataballa</td>\n",
       "      <td>2006-02-05</td>\n",
       "    </tr>\n",
       "    <tr>\n",
       "      <th>7</th>\n",
       "      <td>107</td>\n",
       "      <td>Diana</td>\n",
       "      <td>Lorentz</td>\n",
       "      <td>2007-02-07</td>\n",
       "    </tr>\n",
       "    <tr>\n",
       "      <th>8</th>\n",
       "      <td>108</td>\n",
       "      <td>Nancy</td>\n",
       "      <td>Greenberg</td>\n",
       "      <td>2002-08-17</td>\n",
       "    </tr>\n",
       "    <tr>\n",
       "      <th>9</th>\n",
       "      <td>109</td>\n",
       "      <td>Daniel</td>\n",
       "      <td>Faviet</td>\n",
       "      <td>2002-08-16</td>\n",
       "    </tr>\n",
       "    <tr>\n",
       "      <th>10</th>\n",
       "      <td>110</td>\n",
       "      <td>John</td>\n",
       "      <td>Chen</td>\n",
       "      <td>2005-09-28</td>\n",
       "    </tr>\n",
       "    <tr>\n",
       "      <th>11</th>\n",
       "      <td>111</td>\n",
       "      <td>Ismael</td>\n",
       "      <td>Sciarra</td>\n",
       "      <td>2005-09-30</td>\n",
       "    </tr>\n",
       "    <tr>\n",
       "      <th>12</th>\n",
       "      <td>112</td>\n",
       "      <td>Jose Manuel</td>\n",
       "      <td>Urman</td>\n",
       "      <td>2006-03-07</td>\n",
       "    </tr>\n",
       "    <tr>\n",
       "      <th>13</th>\n",
       "      <td>113</td>\n",
       "      <td>Luis</td>\n",
       "      <td>Popp</td>\n",
       "      <td>2007-12-07</td>\n",
       "    </tr>\n",
       "    <tr>\n",
       "      <th>14</th>\n",
       "      <td>114</td>\n",
       "      <td>Den</td>\n",
       "      <td>Raphaely</td>\n",
       "      <td>2002-12-07</td>\n",
       "    </tr>\n",
       "    <tr>\n",
       "      <th>15</th>\n",
       "      <td>115</td>\n",
       "      <td>Alexander</td>\n",
       "      <td>Khoo</td>\n",
       "      <td>2003-05-18</td>\n",
       "    </tr>\n",
       "    <tr>\n",
       "      <th>16</th>\n",
       "      <td>116</td>\n",
       "      <td>Shelli</td>\n",
       "      <td>Baida</td>\n",
       "      <td>2005-12-24</td>\n",
       "    </tr>\n",
       "    <tr>\n",
       "      <th>17</th>\n",
       "      <td>117</td>\n",
       "      <td>Sigal</td>\n",
       "      <td>Tobias</td>\n",
       "      <td>2005-07-24</td>\n",
       "    </tr>\n",
       "    <tr>\n",
       "      <th>18</th>\n",
       "      <td>118</td>\n",
       "      <td>Guy</td>\n",
       "      <td>Himuro</td>\n",
       "      <td>2006-11-15</td>\n",
       "    </tr>\n",
       "    <tr>\n",
       "      <th>19</th>\n",
       "      <td>119</td>\n",
       "      <td>Karen</td>\n",
       "      <td>Colmenares</td>\n",
       "      <td>2007-08-10</td>\n",
       "    </tr>\n",
       "    <tr>\n",
       "      <th>20</th>\n",
       "      <td>120</td>\n",
       "      <td>Matthew</td>\n",
       "      <td>Weiss</td>\n",
       "      <td>2004-07-18</td>\n",
       "    </tr>\n",
       "    <tr>\n",
       "      <th>21</th>\n",
       "      <td>121</td>\n",
       "      <td>Adam</td>\n",
       "      <td>Fripp</td>\n",
       "      <td>2005-04-10</td>\n",
       "    </tr>\n",
       "    <tr>\n",
       "      <th>22</th>\n",
       "      <td>122</td>\n",
       "      <td>Payam</td>\n",
       "      <td>Kaufling</td>\n",
       "      <td>2003-05-01</td>\n",
       "    </tr>\n",
       "    <tr>\n",
       "      <th>23</th>\n",
       "      <td>123</td>\n",
       "      <td>Shanta</td>\n",
       "      <td>Vollman</td>\n",
       "      <td>2005-10-10</td>\n",
       "    </tr>\n",
       "    <tr>\n",
       "      <th>24</th>\n",
       "      <td>124</td>\n",
       "      <td>Kevin</td>\n",
       "      <td>Mourgos</td>\n",
       "      <td>2007-11-16</td>\n",
       "    </tr>\n",
       "    <tr>\n",
       "      <th>25</th>\n",
       "      <td>125</td>\n",
       "      <td>Julia</td>\n",
       "      <td>Nayer</td>\n",
       "      <td>2005-07-16</td>\n",
       "    </tr>\n",
       "    <tr>\n",
       "      <th>26</th>\n",
       "      <td>126</td>\n",
       "      <td>Irene</td>\n",
       "      <td>Mikkilineni</td>\n",
       "      <td>2006-09-28</td>\n",
       "    </tr>\n",
       "    <tr>\n",
       "      <th>27</th>\n",
       "      <td>127</td>\n",
       "      <td>James</td>\n",
       "      <td>Landry</td>\n",
       "      <td>2007-01-14</td>\n",
       "    </tr>\n",
       "    <tr>\n",
       "      <th>28</th>\n",
       "      <td>128</td>\n",
       "      <td>Steven</td>\n",
       "      <td>Markle</td>\n",
       "      <td>2008-03-08</td>\n",
       "    </tr>\n",
       "    <tr>\n",
       "      <th>29</th>\n",
       "      <td>129</td>\n",
       "      <td>Laura</td>\n",
       "      <td>Bissot</td>\n",
       "      <td>2005-08-20</td>\n",
       "    </tr>\n",
       "    <tr>\n",
       "      <th>30</th>\n",
       "      <td>130</td>\n",
       "      <td>Mozhe</td>\n",
       "      <td>Atkinson</td>\n",
       "      <td>2005-10-30</td>\n",
       "    </tr>\n",
       "    <tr>\n",
       "      <th>31</th>\n",
       "      <td>131</td>\n",
       "      <td>James</td>\n",
       "      <td>Marlow</td>\n",
       "      <td>2005-02-16</td>\n",
       "    </tr>\n",
       "    <tr>\n",
       "      <th>32</th>\n",
       "      <td>132</td>\n",
       "      <td>TJ</td>\n",
       "      <td>Olson</td>\n",
       "      <td>2007-04-10</td>\n",
       "    </tr>\n",
       "    <tr>\n",
       "      <th>33</th>\n",
       "      <td>133</td>\n",
       "      <td>Jason</td>\n",
       "      <td>Mallin</td>\n",
       "      <td>2004-06-14</td>\n",
       "    </tr>\n",
       "    <tr>\n",
       "      <th>34</th>\n",
       "      <td>134</td>\n",
       "      <td>Michael</td>\n",
       "      <td>Rogers</td>\n",
       "      <td>2006-08-26</td>\n",
       "    </tr>\n",
       "    <tr>\n",
       "      <th>35</th>\n",
       "      <td>135</td>\n",
       "      <td>Ki</td>\n",
       "      <td>Gee</td>\n",
       "      <td>2007-12-12</td>\n",
       "    </tr>\n",
       "    <tr>\n",
       "      <th>36</th>\n",
       "      <td>136</td>\n",
       "      <td>Hazel</td>\n",
       "      <td>Philtanker</td>\n",
       "      <td>2008-02-06</td>\n",
       "    </tr>\n",
       "    <tr>\n",
       "      <th>37</th>\n",
       "      <td>137</td>\n",
       "      <td>Renske</td>\n",
       "      <td>Ladwig</td>\n",
       "      <td>2003-07-14</td>\n",
       "    </tr>\n",
       "    <tr>\n",
       "      <th>38</th>\n",
       "      <td>138</td>\n",
       "      <td>Stephen</td>\n",
       "      <td>Stiles</td>\n",
       "      <td>2005-10-26</td>\n",
       "    </tr>\n",
       "    <tr>\n",
       "      <th>39</th>\n",
       "      <td>141</td>\n",
       "      <td>Trenna</td>\n",
       "      <td>Rajs</td>\n",
       "      <td>2003-10-17</td>\n",
       "    </tr>\n",
       "    <tr>\n",
       "      <th>40</th>\n",
       "      <td>142</td>\n",
       "      <td>Curtis</td>\n",
       "      <td>Davies</td>\n",
       "      <td>2005-01-29</td>\n",
       "    </tr>\n",
       "    <tr>\n",
       "      <th>41</th>\n",
       "      <td>143</td>\n",
       "      <td>Randall</td>\n",
       "      <td>Matos</td>\n",
       "      <td>2006-03-15</td>\n",
       "    </tr>\n",
       "    <tr>\n",
       "      <th>42</th>\n",
       "      <td>144</td>\n",
       "      <td>Peter</td>\n",
       "      <td>Vargas</td>\n",
       "      <td>2006-07-09</td>\n",
       "    </tr>\n",
       "    <tr>\n",
       "      <th>43</th>\n",
       "      <td>145</td>\n",
       "      <td>John</td>\n",
       "      <td>Russell</td>\n",
       "      <td>2004-10-01</td>\n",
       "    </tr>\n",
       "    <tr>\n",
       "      <th>44</th>\n",
       "      <td>146</td>\n",
       "      <td>Karen</td>\n",
       "      <td>Partners</td>\n",
       "      <td>2005-01-05</td>\n",
       "    </tr>\n",
       "    <tr>\n",
       "      <th>45</th>\n",
       "      <td>147</td>\n",
       "      <td>Alberto</td>\n",
       "      <td>Errazuriz</td>\n",
       "      <td>2005-03-10</td>\n",
       "    </tr>\n",
       "    <tr>\n",
       "      <th>46</th>\n",
       "      <td>148</td>\n",
       "      <td>Gerald</td>\n",
       "      <td>Cambrault</td>\n",
       "      <td>2007-10-15</td>\n",
       "    </tr>\n",
       "    <tr>\n",
       "      <th>47</th>\n",
       "      <td>149</td>\n",
       "      <td>Eleni</td>\n",
       "      <td>Zlotkey</td>\n",
       "      <td>2008-01-29</td>\n",
       "    </tr>\n",
       "  </tbody>\n",
       "</table>\n",
       "</div>"
      ],
      "text/plain": [
       "    emp_id   first_name    last_name  hire_date\n",
       "0      100       Steven         King 2003-06-17\n",
       "1      101        Neena      Kochhar 2005-09-21\n",
       "2      102          Lex      De Haan 2001-01-13\n",
       "3      103    Alexander       Hunold 2006-01-03\n",
       "4      104        Bruce        Ernst 2007-05-21\n",
       "5      105        David       Austin 2005-06-25\n",
       "6      106        Valli    Pataballa 2006-02-05\n",
       "7      107        Diana      Lorentz 2007-02-07\n",
       "8      108        Nancy    Greenberg 2002-08-17\n",
       "9      109       Daniel       Faviet 2002-08-16\n",
       "10     110         John         Chen 2005-09-28\n",
       "11     111       Ismael      Sciarra 2005-09-30\n",
       "12     112  Jose Manuel        Urman 2006-03-07\n",
       "13     113         Luis         Popp 2007-12-07\n",
       "14     114          Den     Raphaely 2002-12-07\n",
       "15     115    Alexander         Khoo 2003-05-18\n",
       "16     116       Shelli        Baida 2005-12-24\n",
       "17     117        Sigal       Tobias 2005-07-24\n",
       "18     118          Guy       Himuro 2006-11-15\n",
       "19     119        Karen   Colmenares 2007-08-10\n",
       "20     120      Matthew        Weiss 2004-07-18\n",
       "21     121         Adam        Fripp 2005-04-10\n",
       "22     122        Payam     Kaufling 2003-05-01\n",
       "23     123       Shanta      Vollman 2005-10-10\n",
       "24     124        Kevin      Mourgos 2007-11-16\n",
       "25     125        Julia        Nayer 2005-07-16\n",
       "26     126        Irene  Mikkilineni 2006-09-28\n",
       "27     127        James       Landry 2007-01-14\n",
       "28     128       Steven       Markle 2008-03-08\n",
       "29     129        Laura       Bissot 2005-08-20\n",
       "30     130        Mozhe     Atkinson 2005-10-30\n",
       "31     131        James       Marlow 2005-02-16\n",
       "32     132           TJ        Olson 2007-04-10\n",
       "33     133        Jason       Mallin 2004-06-14\n",
       "34     134      Michael       Rogers 2006-08-26\n",
       "35     135           Ki          Gee 2007-12-12\n",
       "36     136        Hazel   Philtanker 2008-02-06\n",
       "37     137       Renske       Ladwig 2003-07-14\n",
       "38     138      Stephen       Stiles 2005-10-26\n",
       "39     141       Trenna         Rajs 2003-10-17\n",
       "40     142       Curtis       Davies 2005-01-29\n",
       "41     143      Randall        Matos 2006-03-15\n",
       "42     144        Peter       Vargas 2006-07-09\n",
       "43     145         John      Russell 2004-10-01\n",
       "44     146        Karen     Partners 2005-01-05\n",
       "45     147      Alberto    Errazuriz 2005-03-10\n",
       "46     148       Gerald    Cambrault 2007-10-15\n",
       "47     149        Eleni      Zlotkey 2008-01-29"
      ]
     },
     "execution_count": 124,
     "metadata": {},
     "output_type": "execute_result"
    }
   ],
   "source": [
    "path = \"E:/BackupFromDadasLaptop/AGP/Personal/CTCs/ML/iNueron_Courses/DL_AL_00111D/Assignments/employee.xlsx\"\n",
    "\n",
    "emp_df = pd.DataFrame()\n",
    "\n",
    "for spreadsheet in pd.ExcelFile(path).sheet_names:\n",
    "    sheet_df = pd.read_excel(path, sheet_name=spreadsheet)\n",
    "    print(f\"Sheet: {spreadsheet} has Rows: {sheet_df.shape[0]}, & Columns: {sheet_df.shape[1]}\")\n",
    "    emp_df = pd.concat([emp_df, sheet_df], ignore_index=True)\n",
    "\n",
    "print(\"Shape of clubbed sheets DataFrame: \", emp_df.shape)\n",
    "emp_df\n"
   ]
  },
  {
   "cell_type": "markdown",
   "metadata": {},
   "source": [
    "Q122. Write a pandas program to import three datasheets from a given excel data (employee.xlsx ) into a single data frame and export the result into new Excel file.\n",
    " \n",
    "Note: Structure of three datasheets are same."
   ]
  },
  {
   "cell_type": "code",
   "execution_count": 125,
   "metadata": {},
   "outputs": [
    {
     "name": "stdout",
     "output_type": "stream",
     "text": [
      "Excelbook's sheet='Sheet1' has rows=20 & columns=4\n",
      "Excelbook's sheet='Sheet2' has rows=19 & columns=4\n",
      "Excelbook's sheet='Sheet3' has rows=9 & columns=4\n",
      "\n",
      "Newly created Excel file 'all_emp.xlsx' is found: True & it's size is: 7346 in bytes.\n"
     ]
    }
   ],
   "source": [
    "path = \"E:/BackupFromDadasLaptop/AGP/Personal/CTCs/ML/iNueron_Courses/DL_AL_00111D/Assignments/employee.xlsx\"\n",
    "\n",
    "emp_df = pd.DataFrame()\n",
    "\n",
    "spreadsheet_names = pd.ExcelFile(path).sheet_names\n",
    "\n",
    "for sheet_name in spreadsheet_names:\n",
    "    sheet_df = pd.read_excel(path, sheet_name=sheet_name)\n",
    "    print(f\"Excelbook's sheet='{sheet_name}' has rows={sheet_df.shape[0]} & columns={sheet_df.shape[1]}\")\n",
    "    emp_df = emp_df.append(sheet_df)\n",
    "\n",
    "dest_path = \"E:/BackupFromDadasLaptop/AGP/Personal/CTCs/ML/iNueron_Courses/DL_AL_00111D/Assignments/\"\n",
    "dest_file = \"all_emp.xlsx\"\n",
    "emp_df.to_excel(dest_file)\n",
    "\n",
    "from os import path\n",
    "\n",
    "print(\"\\nNewly created Excel file '{}' is found: {} & it's size is: {} in bytes.\".\n",
    "          format(dest_file, path.exists(dest_path + dest_file), path.getsize(dest_file)))\n"
   ]
  },
  {
   "cell_type": "markdown",
   "metadata": {},
   "source": [
    "Q123. Write a pandas program to create the Pivot table with multiple indexes from the data set of the titanic.csv."
   ]
  },
  {
   "cell_type": "code",
   "execution_count": 126,
   "metadata": {},
   "outputs": [
    {
     "data": {
      "text/html": [
       "<div>\n",
       "<style scoped>\n",
       "    .dataframe tbody tr th:only-of-type {\n",
       "        vertical-align: middle;\n",
       "    }\n",
       "\n",
       "    .dataframe tbody tr th {\n",
       "        vertical-align: top;\n",
       "    }\n",
       "\n",
       "    .dataframe thead tr th {\n",
       "        text-align: left;\n",
       "    }\n",
       "\n",
       "    .dataframe thead tr:last-of-type th {\n",
       "        text-align: right;\n",
       "    }\n",
       "</style>\n",
       "<table border=\"1\" class=\"dataframe\">\n",
       "  <thead>\n",
       "    <tr>\n",
       "      <th></th>\n",
       "      <th></th>\n",
       "      <th colspan=\"3\" halign=\"left\">survived</th>\n",
       "      <th colspan=\"3\" halign=\"left\">pclass</th>\n",
       "      <th colspan=\"3\" halign=\"left\">age</th>\n",
       "      <th colspan=\"3\" halign=\"left\">sibsp</th>\n",
       "      <th colspan=\"3\" halign=\"left\">parch</th>\n",
       "      <th colspan=\"3\" halign=\"left\">fare</th>\n",
       "      <th colspan=\"3\" halign=\"left\">embarked</th>\n",
       "      <th colspan=\"3\" halign=\"left\">who</th>\n",
       "      <th colspan=\"3\" halign=\"left\">adult_male</th>\n",
       "      <th colspan=\"3\" halign=\"left\">deck</th>\n",
       "      <th colspan=\"3\" halign=\"left\">embark_town</th>\n",
       "      <th colspan=\"3\" halign=\"left\">alone</th>\n",
       "    </tr>\n",
       "    <tr>\n",
       "      <th></th>\n",
       "      <th>class</th>\n",
       "      <th>First</th>\n",
       "      <th>Second</th>\n",
       "      <th>Third</th>\n",
       "      <th>First</th>\n",
       "      <th>Second</th>\n",
       "      <th>Third</th>\n",
       "      <th>First</th>\n",
       "      <th>Second</th>\n",
       "      <th>Third</th>\n",
       "      <th>First</th>\n",
       "      <th>Second</th>\n",
       "      <th>Third</th>\n",
       "      <th>First</th>\n",
       "      <th>Second</th>\n",
       "      <th>Third</th>\n",
       "      <th>First</th>\n",
       "      <th>Second</th>\n",
       "      <th>Third</th>\n",
       "      <th>First</th>\n",
       "      <th>Second</th>\n",
       "      <th>Third</th>\n",
       "      <th>First</th>\n",
       "      <th>Second</th>\n",
       "      <th>Third</th>\n",
       "      <th>First</th>\n",
       "      <th>Second</th>\n",
       "      <th>Third</th>\n",
       "      <th>First</th>\n",
       "      <th>Second</th>\n",
       "      <th>Third</th>\n",
       "      <th>First</th>\n",
       "      <th>Second</th>\n",
       "      <th>Third</th>\n",
       "      <th>First</th>\n",
       "      <th>Second</th>\n",
       "      <th>Third</th>\n",
       "    </tr>\n",
       "    <tr>\n",
       "      <th>alive</th>\n",
       "      <th>sex</th>\n",
       "      <th></th>\n",
       "      <th></th>\n",
       "      <th></th>\n",
       "      <th></th>\n",
       "      <th></th>\n",
       "      <th></th>\n",
       "      <th></th>\n",
       "      <th></th>\n",
       "      <th></th>\n",
       "      <th></th>\n",
       "      <th></th>\n",
       "      <th></th>\n",
       "      <th></th>\n",
       "      <th></th>\n",
       "      <th></th>\n",
       "      <th></th>\n",
       "      <th></th>\n",
       "      <th></th>\n",
       "      <th></th>\n",
       "      <th></th>\n",
       "      <th></th>\n",
       "      <th></th>\n",
       "      <th></th>\n",
       "      <th></th>\n",
       "      <th></th>\n",
       "      <th></th>\n",
       "      <th></th>\n",
       "      <th></th>\n",
       "      <th></th>\n",
       "      <th></th>\n",
       "      <th></th>\n",
       "      <th></th>\n",
       "      <th></th>\n",
       "      <th></th>\n",
       "      <th></th>\n",
       "      <th></th>\n",
       "    </tr>\n",
       "  </thead>\n",
       "  <tbody>\n",
       "    <tr>\n",
       "      <th rowspan=\"2\" valign=\"top\">no</th>\n",
       "      <th>female</th>\n",
       "      <td>3</td>\n",
       "      <td>6</td>\n",
       "      <td>72</td>\n",
       "      <td>3</td>\n",
       "      <td>6</td>\n",
       "      <td>72</td>\n",
       "      <td>3</td>\n",
       "      <td>6</td>\n",
       "      <td>55</td>\n",
       "      <td>3</td>\n",
       "      <td>6</td>\n",
       "      <td>72</td>\n",
       "      <td>3</td>\n",
       "      <td>6</td>\n",
       "      <td>72</td>\n",
       "      <td>3</td>\n",
       "      <td>6</td>\n",
       "      <td>72</td>\n",
       "      <td>3</td>\n",
       "      <td>6</td>\n",
       "      <td>72</td>\n",
       "      <td>3</td>\n",
       "      <td>6</td>\n",
       "      <td>72</td>\n",
       "      <td>3</td>\n",
       "      <td>6</td>\n",
       "      <td>72</td>\n",
       "      <td>3</td>\n",
       "      <td>1</td>\n",
       "      <td>2</td>\n",
       "      <td>3</td>\n",
       "      <td>6</td>\n",
       "      <td>72</td>\n",
       "      <td>3</td>\n",
       "      <td>6</td>\n",
       "      <td>72</td>\n",
       "    </tr>\n",
       "    <tr>\n",
       "      <th>male</th>\n",
       "      <td>77</td>\n",
       "      <td>91</td>\n",
       "      <td>300</td>\n",
       "      <td>77</td>\n",
       "      <td>91</td>\n",
       "      <td>300</td>\n",
       "      <td>61</td>\n",
       "      <td>84</td>\n",
       "      <td>215</td>\n",
       "      <td>77</td>\n",
       "      <td>91</td>\n",
       "      <td>300</td>\n",
       "      <td>77</td>\n",
       "      <td>91</td>\n",
       "      <td>300</td>\n",
       "      <td>77</td>\n",
       "      <td>91</td>\n",
       "      <td>300</td>\n",
       "      <td>77</td>\n",
       "      <td>91</td>\n",
       "      <td>300</td>\n",
       "      <td>77</td>\n",
       "      <td>91</td>\n",
       "      <td>300</td>\n",
       "      <td>77</td>\n",
       "      <td>91</td>\n",
       "      <td>300</td>\n",
       "      <td>55</td>\n",
       "      <td>2</td>\n",
       "      <td>4</td>\n",
       "      <td>77</td>\n",
       "      <td>91</td>\n",
       "      <td>300</td>\n",
       "      <td>77</td>\n",
       "      <td>91</td>\n",
       "      <td>300</td>\n",
       "    </tr>\n",
       "    <tr>\n",
       "      <th rowspan=\"2\" valign=\"top\">yes</th>\n",
       "      <th>female</th>\n",
       "      <td>91</td>\n",
       "      <td>70</td>\n",
       "      <td>72</td>\n",
       "      <td>91</td>\n",
       "      <td>70</td>\n",
       "      <td>72</td>\n",
       "      <td>82</td>\n",
       "      <td>68</td>\n",
       "      <td>47</td>\n",
       "      <td>91</td>\n",
       "      <td>70</td>\n",
       "      <td>72</td>\n",
       "      <td>91</td>\n",
       "      <td>70</td>\n",
       "      <td>72</td>\n",
       "      <td>91</td>\n",
       "      <td>70</td>\n",
       "      <td>72</td>\n",
       "      <td>89</td>\n",
       "      <td>70</td>\n",
       "      <td>72</td>\n",
       "      <td>91</td>\n",
       "      <td>70</td>\n",
       "      <td>72</td>\n",
       "      <td>91</td>\n",
       "      <td>70</td>\n",
       "      <td>72</td>\n",
       "      <td>78</td>\n",
       "      <td>9</td>\n",
       "      <td>4</td>\n",
       "      <td>89</td>\n",
       "      <td>70</td>\n",
       "      <td>72</td>\n",
       "      <td>91</td>\n",
       "      <td>70</td>\n",
       "      <td>72</td>\n",
       "    </tr>\n",
       "    <tr>\n",
       "      <th>male</th>\n",
       "      <td>45</td>\n",
       "      <td>17</td>\n",
       "      <td>47</td>\n",
       "      <td>45</td>\n",
       "      <td>17</td>\n",
       "      <td>47</td>\n",
       "      <td>40</td>\n",
       "      <td>15</td>\n",
       "      <td>38</td>\n",
       "      <td>45</td>\n",
       "      <td>17</td>\n",
       "      <td>47</td>\n",
       "      <td>45</td>\n",
       "      <td>17</td>\n",
       "      <td>47</td>\n",
       "      <td>45</td>\n",
       "      <td>17</td>\n",
       "      <td>47</td>\n",
       "      <td>45</td>\n",
       "      <td>17</td>\n",
       "      <td>47</td>\n",
       "      <td>45</td>\n",
       "      <td>17</td>\n",
       "      <td>47</td>\n",
       "      <td>45</td>\n",
       "      <td>17</td>\n",
       "      <td>47</td>\n",
       "      <td>39</td>\n",
       "      <td>4</td>\n",
       "      <td>2</td>\n",
       "      <td>45</td>\n",
       "      <td>17</td>\n",
       "      <td>47</td>\n",
       "      <td>45</td>\n",
       "      <td>17</td>\n",
       "      <td>47</td>\n",
       "    </tr>\n",
       "  </tbody>\n",
       "</table>\n",
       "</div>"
      ],
      "text/plain": [
       "             survived              pclass                age              sibsp              parch               fare              embarked                who              adult_male               deck              embark_town              alone             \n",
       "class           First Second Third  First Second Third First Second Third First Second Third First Second Third First Second Third    First Second Third First Second Third      First Second Third First Second Third       First Second Third First Second Third\n",
       "alive sex                                                                                                                                                                                                                                                         \n",
       "no    female        3      6    72      3      6    72     3      6    55     3      6    72     3      6    72     3      6    72        3      6    72     3      6    72          3      6    72     3      1     2           3      6    72     3      6    72\n",
       "      male         77     91   300     77     91   300    61     84   215    77     91   300    77     91   300    77     91   300       77     91   300    77     91   300         77     91   300    55      2     4          77     91   300    77     91   300\n",
       "yes   female       91     70    72     91     70    72    82     68    47    91     70    72    91     70    72    91     70    72       89     70    72    91     70    72         91     70    72    78      9     4          89     70    72    91     70    72\n",
       "      male         45     17    47     45     17    47    40     15    38    45     17    47    45     17    47    45     17    47       45     17    47    45     17    47         45     17    47    39      4     2          45     17    47    45     17    47"
      ]
     },
     "execution_count": 126,
     "metadata": {},
     "output_type": "execute_result"
    }
   ],
   "source": [
    "path = \"E:/BackupFromDadasLaptop/AGP/Personal/CTCs/ML/iNueron_Courses/DL_AL_00111D/Assignments/titanic.csv\"\n",
    "\n",
    "orig_titanic_df = pd.read_csv(path)\n",
    "\n",
    "orig_titanic_df.drop(columns=[col for col in orig_titanic_df.columns if col.startswith(\"Unnamed\")], inplace=True)\n",
    "\n",
    "titanic_df = orig_titanic_df.copy()\n",
    "\n",
    "cat_columns = [col for col in titanic_df.columns if titanic_df[col].dtypes == 'O']\n",
    "\n",
    "pd.pivot_table(titanic_df, index=['alive', 'sex', 'class'])\n",
    "#OR\n",
    "titanic_df.groupby(['alive', 'sex', 'class']).count().unstack()\n"
   ]
  },
  {
   "cell_type": "markdown",
   "metadata": {},
   "source": [
    "Q124. Write a Pandas program to create the Pivot table and find survival rate by gender?"
   ]
  },
  {
   "cell_type": "code",
   "execution_count": 127,
   "metadata": {},
   "outputs": [
    {
     "data": {
      "text/html": [
       "<div>\n",
       "<style scoped>\n",
       "    .dataframe tbody tr th:only-of-type {\n",
       "        vertical-align: middle;\n",
       "    }\n",
       "\n",
       "    .dataframe tbody tr th {\n",
       "        vertical-align: top;\n",
       "    }\n",
       "\n",
       "    .dataframe thead th {\n",
       "        text-align: right;\n",
       "    }\n",
       "</style>\n",
       "<table border=\"1\" class=\"dataframe\">\n",
       "  <thead>\n",
       "    <tr style=\"text-align: right;\">\n",
       "      <th></th>\n",
       "      <th>survived</th>\n",
       "    </tr>\n",
       "    <tr>\n",
       "      <th>sex</th>\n",
       "      <th></th>\n",
       "    </tr>\n",
       "  </thead>\n",
       "  <tbody>\n",
       "    <tr>\n",
       "      <th>female</th>\n",
       "      <td>0.742038</td>\n",
       "    </tr>\n",
       "    <tr>\n",
       "      <th>male</th>\n",
       "      <td>0.188908</td>\n",
       "    </tr>\n",
       "  </tbody>\n",
       "</table>\n",
       "</div>"
      ],
      "text/plain": [
       "        survived\n",
       "sex             \n",
       "female  0.742038\n",
       "male    0.188908"
      ]
     },
     "execution_count": 127,
     "metadata": {},
     "output_type": "execute_result"
    }
   ],
   "source": [
    "pd.pivot_table(titanic_df, index=['sex'], values=[\"survived\"])"
   ]
  },
  {
   "cell_type": "markdown",
   "metadata": {},
   "source": [
    "Q125. Write a pandas program to make partition each of the passengers into 4 categories based on their age.\n",
    " \n",
    "Note: Age categories- (0, 10), (10, 30), (30, 60), (60, 80)"
   ]
  },
  {
   "cell_type": "code",
   "execution_count": 128,
   "metadata": {},
   "outputs": [
    {
     "data": {
      "text/html": [
       "<div>\n",
       "<style scoped>\n",
       "    .dataframe tbody tr th:only-of-type {\n",
       "        vertical-align: middle;\n",
       "    }\n",
       "\n",
       "    .dataframe tbody tr th {\n",
       "        vertical-align: top;\n",
       "    }\n",
       "\n",
       "    .dataframe thead th {\n",
       "        text-align: right;\n",
       "    }\n",
       "</style>\n",
       "<table border=\"1\" class=\"dataframe\">\n",
       "  <thead>\n",
       "    <tr style=\"text-align: right;\">\n",
       "      <th></th>\n",
       "      <th>survived</th>\n",
       "      <th>pclass</th>\n",
       "      <th>sex</th>\n",
       "      <th>age</th>\n",
       "      <th>sibsp</th>\n",
       "      <th>parch</th>\n",
       "      <th>fare</th>\n",
       "      <th>embarked</th>\n",
       "      <th>class</th>\n",
       "      <th>who</th>\n",
       "      <th>adult_male</th>\n",
       "      <th>deck</th>\n",
       "      <th>embark_town</th>\n",
       "      <th>alive</th>\n",
       "      <th>alone</th>\n",
       "    </tr>\n",
       "    <tr>\n",
       "      <th>age_group</th>\n",
       "      <th></th>\n",
       "      <th></th>\n",
       "      <th></th>\n",
       "      <th></th>\n",
       "      <th></th>\n",
       "      <th></th>\n",
       "      <th></th>\n",
       "      <th></th>\n",
       "      <th></th>\n",
       "      <th></th>\n",
       "      <th></th>\n",
       "      <th></th>\n",
       "      <th></th>\n",
       "      <th></th>\n",
       "      <th></th>\n",
       "    </tr>\n",
       "  </thead>\n",
       "  <tbody>\n",
       "    <tr>\n",
       "      <th>0_10</th>\n",
       "      <td>1</td>\n",
       "      <td>1</td>\n",
       "      <td>male</td>\n",
       "      <td>4.00</td>\n",
       "      <td>0</td>\n",
       "      <td>2</td>\n",
       "      <td>81.8583</td>\n",
       "      <td>S</td>\n",
       "      <td>First</td>\n",
       "      <td>child</td>\n",
       "      <td>False</td>\n",
       "      <td>A</td>\n",
       "      <td>Southampton</td>\n",
       "      <td>yes</td>\n",
       "      <td>False</td>\n",
       "    </tr>\n",
       "    <tr>\n",
       "      <th>0_10</th>\n",
       "      <td>1</td>\n",
       "      <td>3</td>\n",
       "      <td>male</td>\n",
       "      <td>1.00</td>\n",
       "      <td>1</td>\n",
       "      <td>2</td>\n",
       "      <td>20.5750</td>\n",
       "      <td>S</td>\n",
       "      <td>Third</td>\n",
       "      <td>child</td>\n",
       "      <td>False</td>\n",
       "      <td>NaN</td>\n",
       "      <td>Southampton</td>\n",
       "      <td>yes</td>\n",
       "      <td>False</td>\n",
       "    </tr>\n",
       "    <tr>\n",
       "      <th>0_10</th>\n",
       "      <td>0</td>\n",
       "      <td>3</td>\n",
       "      <td>female</td>\n",
       "      <td>9.00</td>\n",
       "      <td>4</td>\n",
       "      <td>2</td>\n",
       "      <td>31.2750</td>\n",
       "      <td>S</td>\n",
       "      <td>Third</td>\n",
       "      <td>child</td>\n",
       "      <td>False</td>\n",
       "      <td>NaN</td>\n",
       "      <td>Southampton</td>\n",
       "      <td>no</td>\n",
       "      <td>False</td>\n",
       "    </tr>\n",
       "    <tr>\n",
       "      <th>0_10</th>\n",
       "      <td>1</td>\n",
       "      <td>1</td>\n",
       "      <td>male</td>\n",
       "      <td>0.92</td>\n",
       "      <td>1</td>\n",
       "      <td>2</td>\n",
       "      <td>151.5500</td>\n",
       "      <td>S</td>\n",
       "      <td>First</td>\n",
       "      <td>child</td>\n",
       "      <td>False</td>\n",
       "      <td>C</td>\n",
       "      <td>Southampton</td>\n",
       "      <td>yes</td>\n",
       "      <td>False</td>\n",
       "    </tr>\n",
       "    <tr>\n",
       "      <th>0_10</th>\n",
       "      <td>0</td>\n",
       "      <td>3</td>\n",
       "      <td>male</td>\n",
       "      <td>4.00</td>\n",
       "      <td>3</td>\n",
       "      <td>2</td>\n",
       "      <td>27.9000</td>\n",
       "      <td>S</td>\n",
       "      <td>Third</td>\n",
       "      <td>child</td>\n",
       "      <td>False</td>\n",
       "      <td>NaN</td>\n",
       "      <td>Southampton</td>\n",
       "      <td>no</td>\n",
       "      <td>False</td>\n",
       "    </tr>\n",
       "    <tr>\n",
       "      <th>...</th>\n",
       "      <td>...</td>\n",
       "      <td>...</td>\n",
       "      <td>...</td>\n",
       "      <td>...</td>\n",
       "      <td>...</td>\n",
       "      <td>...</td>\n",
       "      <td>...</td>\n",
       "      <td>...</td>\n",
       "      <td>...</td>\n",
       "      <td>...</td>\n",
       "      <td>...</td>\n",
       "      <td>...</td>\n",
       "      <td>...</td>\n",
       "      <td>...</td>\n",
       "      <td>...</td>\n",
       "    </tr>\n",
       "    <tr>\n",
       "      <th>60_80</th>\n",
       "      <td>0</td>\n",
       "      <td>1</td>\n",
       "      <td>male</td>\n",
       "      <td>61.00</td>\n",
       "      <td>0</td>\n",
       "      <td>0</td>\n",
       "      <td>33.5000</td>\n",
       "      <td>S</td>\n",
       "      <td>First</td>\n",
       "      <td>man</td>\n",
       "      <td>True</td>\n",
       "      <td>B</td>\n",
       "      <td>Southampton</td>\n",
       "      <td>no</td>\n",
       "      <td>True</td>\n",
       "    </tr>\n",
       "    <tr>\n",
       "      <th>60_80</th>\n",
       "      <td>1</td>\n",
       "      <td>2</td>\n",
       "      <td>male</td>\n",
       "      <td>62.00</td>\n",
       "      <td>0</td>\n",
       "      <td>0</td>\n",
       "      <td>10.5000</td>\n",
       "      <td>S</td>\n",
       "      <td>Second</td>\n",
       "      <td>man</td>\n",
       "      <td>True</td>\n",
       "      <td>NaN</td>\n",
       "      <td>Southampton</td>\n",
       "      <td>yes</td>\n",
       "      <td>True</td>\n",
       "    </tr>\n",
       "    <tr>\n",
       "      <th>60_80</th>\n",
       "      <td>0</td>\n",
       "      <td>1</td>\n",
       "      <td>male</td>\n",
       "      <td>60.00</td>\n",
       "      <td>0</td>\n",
       "      <td>0</td>\n",
       "      <td>26.5500</td>\n",
       "      <td>S</td>\n",
       "      <td>First</td>\n",
       "      <td>man</td>\n",
       "      <td>True</td>\n",
       "      <td>NaN</td>\n",
       "      <td>Southampton</td>\n",
       "      <td>no</td>\n",
       "      <td>True</td>\n",
       "    </tr>\n",
       "    <tr>\n",
       "      <th>60_80</th>\n",
       "      <td>0</td>\n",
       "      <td>1</td>\n",
       "      <td>male</td>\n",
       "      <td>62.00</td>\n",
       "      <td>0</td>\n",
       "      <td>0</td>\n",
       "      <td>26.5500</td>\n",
       "      <td>S</td>\n",
       "      <td>First</td>\n",
       "      <td>man</td>\n",
       "      <td>True</td>\n",
       "      <td>C</td>\n",
       "      <td>Southampton</td>\n",
       "      <td>no</td>\n",
       "      <td>True</td>\n",
       "    </tr>\n",
       "    <tr>\n",
       "      <th>60_80</th>\n",
       "      <td>0</td>\n",
       "      <td>2</td>\n",
       "      <td>male</td>\n",
       "      <td>70.00</td>\n",
       "      <td>0</td>\n",
       "      <td>0</td>\n",
       "      <td>10.5000</td>\n",
       "      <td>S</td>\n",
       "      <td>Second</td>\n",
       "      <td>man</td>\n",
       "      <td>True</td>\n",
       "      <td>NaN</td>\n",
       "      <td>Southampton</td>\n",
       "      <td>no</td>\n",
       "      <td>True</td>\n",
       "    </tr>\n",
       "  </tbody>\n",
       "</table>\n",
       "<p>891 rows × 15 columns</p>\n",
       "</div>"
      ],
      "text/plain": [
       "           survived  pclass     sex    age  sibsp  parch      fare embarked   class    who  adult_male deck  embark_town alive  alone\n",
       "age_group                                                                                                                            \n",
       "0_10              1       1    male   4.00      0      2   81.8583        S   First  child       False    A  Southampton   yes  False\n",
       "0_10              1       3    male   1.00      1      2   20.5750        S   Third  child       False  NaN  Southampton   yes  False\n",
       "0_10              0       3  female   9.00      4      2   31.2750        S   Third  child       False  NaN  Southampton    no  False\n",
       "0_10              1       1    male   0.92      1      2  151.5500        S   First  child       False    C  Southampton   yes  False\n",
       "0_10              0       3    male   4.00      3      2   27.9000        S   Third  child       False  NaN  Southampton    no  False\n",
       "...             ...     ...     ...    ...    ...    ...       ...      ...     ...    ...         ...  ...          ...   ...    ...\n",
       "60_80             0       1    male  61.00      0      0   33.5000        S   First    man        True    B  Southampton    no   True\n",
       "60_80             1       2    male  62.00      0      0   10.5000        S  Second    man        True  NaN  Southampton   yes   True\n",
       "60_80             0       1    male  60.00      0      0   26.5500        S   First    man        True  NaN  Southampton    no   True\n",
       "60_80             0       1    male  62.00      0      0   26.5500        S   First    man        True    C  Southampton    no   True\n",
       "60_80             0       2    male  70.00      0      0   10.5000        S  Second    man        True  NaN  Southampton    no   True\n",
       "\n",
       "[891 rows x 15 columns]"
      ]
     },
     "execution_count": 128,
     "metadata": {},
     "output_type": "execute_result"
    }
   ],
   "source": [
    "titanic_df = orig_titanic_df.copy()\n",
    "\n",
    "age_range_cats = [(0, 10), (10, 30), (30, 60), (60, 80)]\n",
    "\n",
    "#Replace missing age values with mean of age:\n",
    "titanic_df.age.fillna(titanic_df.age.mean(), inplace=True)\n",
    "\n",
    "titanic_df[\"age_group\"] = \"-\"\n",
    "for lo, hi in age_range_cats:\n",
    "    age_range = f\"{lo}_{hi}\"\n",
    "    titanic_df.loc[titanic_df.age.between(lo, hi), [\"age_group\"]] = age_range\n",
    "\n",
    "pd.pivot_table(titanic_df, index=[\"age_group\"])\n",
    "\n",
    "titanic_df.set_index(\"age_group\", inplace=True)\n",
    "titanic_df.sort_index()"
   ]
  },
  {
   "cell_type": "markdown",
   "metadata": {},
   "source": [
    "Q126. Write a pandas program to create the Pivot table and find survival rate by the gender, age of the different categories of various classes."
   ]
  },
  {
   "cell_type": "code",
   "execution_count": 129,
   "metadata": {},
   "outputs": [
    {
     "data": {
      "text/html": [
       "<div>\n",
       "<style scoped>\n",
       "    .dataframe tbody tr th:only-of-type {\n",
       "        vertical-align: middle;\n",
       "    }\n",
       "\n",
       "    .dataframe tbody tr th {\n",
       "        vertical-align: top;\n",
       "    }\n",
       "\n",
       "    .dataframe thead th {\n",
       "        text-align: right;\n",
       "    }\n",
       "</style>\n",
       "<table border=\"1\" class=\"dataframe\">\n",
       "  <thead>\n",
       "    <tr style=\"text-align: right;\">\n",
       "      <th>age_group</th>\n",
       "      <th>0_10</th>\n",
       "      <th>10_30</th>\n",
       "      <th>30_60</th>\n",
       "      <th>60_80</th>\n",
       "    </tr>\n",
       "    <tr>\n",
       "      <th>sex</th>\n",
       "      <th></th>\n",
       "      <th></th>\n",
       "      <th></th>\n",
       "      <th></th>\n",
       "    </tr>\n",
       "  </thead>\n",
       "  <tbody>\n",
       "    <tr>\n",
       "      <th>female</th>\n",
       "      <td>0.633333</td>\n",
       "      <td>0.717647</td>\n",
       "      <td>0.800000</td>\n",
       "      <td>1.000000</td>\n",
       "    </tr>\n",
       "    <tr>\n",
       "      <th>male</th>\n",
       "      <td>0.593750</td>\n",
       "      <td>0.145897</td>\n",
       "      <td>0.201031</td>\n",
       "      <td>0.136364</td>\n",
       "    </tr>\n",
       "  </tbody>\n",
       "</table>\n",
       "</div>"
      ],
      "text/plain": [
       "age_group      0_10     10_30     30_60     60_80\n",
       "sex                                              \n",
       "female     0.633333  0.717647  0.800000  1.000000\n",
       "male       0.593750  0.145897  0.201031  0.136364"
      ]
     },
     "execution_count": 129,
     "metadata": {},
     "output_type": "execute_result"
    }
   ],
   "source": [
    "titanic_df = orig_titanic_df.copy()\n",
    "\n",
    "#Replace missing age values with mean of age:\n",
    "titanic_df.age.fillna(titanic_df.age.mean(), inplace=True)\n",
    "\n",
    "titanic_df[\"age_group\"] = \"-\"\n",
    "for lo, hi in age_range_cats:\n",
    "    age_range = f\"{lo}_{hi}\"\n",
    "    titanic_df.loc[titanic_df.age.between(lo, hi), [\"age_group\"]] = age_range\n",
    "\n",
    "(titanic_df.groupby([\"sex\", \"age_group\"]).survived.mean()).unstack()"
   ]
  },
  {
   "cell_type": "code",
   "execution_count": 130,
   "metadata": {},
   "outputs": [
    {
     "data": {
      "text/html": [
       "<div>\n",
       "<style scoped>\n",
       "    .dataframe tbody tr th:only-of-type {\n",
       "        vertical-align: middle;\n",
       "    }\n",
       "\n",
       "    .dataframe tbody tr th {\n",
       "        vertical-align: top;\n",
       "    }\n",
       "\n",
       "    .dataframe thead tr th {\n",
       "        text-align: left;\n",
       "    }\n",
       "\n",
       "    .dataframe thead tr:last-of-type th {\n",
       "        text-align: right;\n",
       "    }\n",
       "</style>\n",
       "<table border=\"1\" class=\"dataframe\">\n",
       "  <thead>\n",
       "    <tr>\n",
       "      <th></th>\n",
       "      <th colspan=\"4\" halign=\"left\">survived</th>\n",
       "    </tr>\n",
       "    <tr>\n",
       "      <th>age_group</th>\n",
       "      <th>0_10</th>\n",
       "      <th>10_30</th>\n",
       "      <th>30_60</th>\n",
       "      <th>60_80</th>\n",
       "    </tr>\n",
       "    <tr>\n",
       "      <th>sex</th>\n",
       "      <th></th>\n",
       "      <th></th>\n",
       "      <th></th>\n",
       "      <th></th>\n",
       "    </tr>\n",
       "  </thead>\n",
       "  <tbody>\n",
       "    <tr>\n",
       "      <th>female</th>\n",
       "      <td>0.633333</td>\n",
       "      <td>0.717647</td>\n",
       "      <td>0.800000</td>\n",
       "      <td>1.000000</td>\n",
       "    </tr>\n",
       "    <tr>\n",
       "      <th>male</th>\n",
       "      <td>0.593750</td>\n",
       "      <td>0.145897</td>\n",
       "      <td>0.201031</td>\n",
       "      <td>0.136364</td>\n",
       "    </tr>\n",
       "  </tbody>\n",
       "</table>\n",
       "</div>"
      ],
      "text/plain": [
       "           survived                              \n",
       "age_group      0_10     10_30     30_60     60_80\n",
       "sex                                              \n",
       "female     0.633333  0.717647  0.800000  1.000000\n",
       "male       0.593750  0.145897  0.201031  0.136364"
      ]
     },
     "execution_count": 130,
     "metadata": {},
     "output_type": "execute_result"
    }
   ],
   "source": [
    "pd.pivot_table(titanic_df, index=[\"sex\", \"age_group\"], values=\"survived\").unstack()"
   ]
  },
  {
   "cell_type": "code",
   "execution_count": 131,
   "metadata": {},
   "outputs": [
    {
     "data": {
      "text/html": [
       "<div>\n",
       "<style scoped>\n",
       "    .dataframe tbody tr th:only-of-type {\n",
       "        vertical-align: middle;\n",
       "    }\n",
       "\n",
       "    .dataframe tbody tr th {\n",
       "        vertical-align: top;\n",
       "    }\n",
       "\n",
       "    .dataframe thead th {\n",
       "        text-align: right;\n",
       "    }\n",
       "</style>\n",
       "<table border=\"1\" class=\"dataframe\">\n",
       "  <thead>\n",
       "    <tr style=\"text-align: right;\">\n",
       "      <th></th>\n",
       "      <th></th>\n",
       "      <th>survived</th>\n",
       "    </tr>\n",
       "    <tr>\n",
       "      <th>sex</th>\n",
       "      <th>age_group</th>\n",
       "      <th></th>\n",
       "    </tr>\n",
       "  </thead>\n",
       "  <tbody>\n",
       "    <tr>\n",
       "      <th rowspan=\"4\" valign=\"top\">female</th>\n",
       "      <th>0_10</th>\n",
       "      <td>0.633333</td>\n",
       "    </tr>\n",
       "    <tr>\n",
       "      <th>10_30</th>\n",
       "      <td>0.717647</td>\n",
       "    </tr>\n",
       "    <tr>\n",
       "      <th>30_60</th>\n",
       "      <td>0.800000</td>\n",
       "    </tr>\n",
       "    <tr>\n",
       "      <th>60_80</th>\n",
       "      <td>1.000000</td>\n",
       "    </tr>\n",
       "    <tr>\n",
       "      <th rowspan=\"4\" valign=\"top\">male</th>\n",
       "      <th>0_10</th>\n",
       "      <td>0.593750</td>\n",
       "    </tr>\n",
       "    <tr>\n",
       "      <th>10_30</th>\n",
       "      <td>0.145897</td>\n",
       "    </tr>\n",
       "    <tr>\n",
       "      <th>30_60</th>\n",
       "      <td>0.201031</td>\n",
       "    </tr>\n",
       "    <tr>\n",
       "      <th>60_80</th>\n",
       "      <td>0.136364</td>\n",
       "    </tr>\n",
       "  </tbody>\n",
       "</table>\n",
       "</div>"
      ],
      "text/plain": [
       "                  survived\n",
       "sex    age_group          \n",
       "female 0_10       0.633333\n",
       "       10_30      0.717647\n",
       "       30_60      0.800000\n",
       "       60_80      1.000000\n",
       "male   0_10       0.593750\n",
       "       10_30      0.145897\n",
       "       30_60      0.201031\n",
       "       60_80      0.136364"
      ]
     },
     "execution_count": 131,
     "metadata": {},
     "output_type": "execute_result"
    }
   ],
   "source": [
    "pd.pivot_table(titanic_df, index=[\"sex\", \"age_group\"], values=\"survived\")"
   ]
  },
  {
   "cell_type": "markdown",
   "metadata": {},
   "source": [
    "Q127. Write a pandas program to create the Pivot table and calculate number of women and men were in a particular cabin class."
   ]
  },
  {
   "cell_type": "code",
   "execution_count": 132,
   "metadata": {},
   "outputs": [
    {
     "data": {
      "text/html": [
       "<div>\n",
       "<style scoped>\n",
       "    .dataframe tbody tr th:only-of-type {\n",
       "        vertical-align: middle;\n",
       "    }\n",
       "\n",
       "    .dataframe tbody tr th {\n",
       "        vertical-align: top;\n",
       "    }\n",
       "\n",
       "    .dataframe thead th {\n",
       "        text-align: right;\n",
       "    }\n",
       "</style>\n",
       "<table border=\"1\" class=\"dataframe\">\n",
       "  <thead>\n",
       "    <tr style=\"text-align: right;\">\n",
       "      <th>class</th>\n",
       "      <th>First</th>\n",
       "      <th>Second</th>\n",
       "      <th>Third</th>\n",
       "    </tr>\n",
       "    <tr>\n",
       "      <th>sex</th>\n",
       "      <th></th>\n",
       "      <th></th>\n",
       "      <th></th>\n",
       "    </tr>\n",
       "  </thead>\n",
       "  <tbody>\n",
       "    <tr>\n",
       "      <th>female</th>\n",
       "      <td>94</td>\n",
       "      <td>76</td>\n",
       "      <td>144</td>\n",
       "    </tr>\n",
       "    <tr>\n",
       "      <th>male</th>\n",
       "      <td>122</td>\n",
       "      <td>108</td>\n",
       "      <td>347</td>\n",
       "    </tr>\n",
       "  </tbody>\n",
       "</table>\n",
       "</div>"
      ],
      "text/plain": [
       "class   First  Second  Third\n",
       "sex                         \n",
       "female     94      76    144\n",
       "male      122     108    347"
      ]
     },
     "execution_count": 132,
     "metadata": {},
     "output_type": "execute_result"
    }
   ],
   "source": [
    "titanic_df.groupby([\"sex\", \"class\"]).age.count().unstack()"
   ]
  },
  {
   "cell_type": "code",
   "execution_count": 133,
   "metadata": {},
   "outputs": [
    {
     "data": {
      "text/html": [
       "<div>\n",
       "<style scoped>\n",
       "    .dataframe tbody tr th:only-of-type {\n",
       "        vertical-align: middle;\n",
       "    }\n",
       "\n",
       "    .dataframe tbody tr th {\n",
       "        vertical-align: top;\n",
       "    }\n",
       "\n",
       "    .dataframe thead th {\n",
       "        text-align: right;\n",
       "    }\n",
       "</style>\n",
       "<table border=\"1\" class=\"dataframe\">\n",
       "  <thead>\n",
       "    <tr style=\"text-align: right;\">\n",
       "      <th></th>\n",
       "      <th></th>\n",
       "      <th>Passanger Count</th>\n",
       "    </tr>\n",
       "    <tr>\n",
       "      <th>sex</th>\n",
       "      <th>class</th>\n",
       "      <th></th>\n",
       "    </tr>\n",
       "  </thead>\n",
       "  <tbody>\n",
       "    <tr>\n",
       "      <th rowspan=\"3\" valign=\"top\">female</th>\n",
       "      <th>First</th>\n",
       "      <td>94</td>\n",
       "    </tr>\n",
       "    <tr>\n",
       "      <th>Second</th>\n",
       "      <td>76</td>\n",
       "    </tr>\n",
       "    <tr>\n",
       "      <th>Third</th>\n",
       "      <td>144</td>\n",
       "    </tr>\n",
       "    <tr>\n",
       "      <th rowspan=\"3\" valign=\"top\">male</th>\n",
       "      <th>First</th>\n",
       "      <td>122</td>\n",
       "    </tr>\n",
       "    <tr>\n",
       "      <th>Second</th>\n",
       "      <td>108</td>\n",
       "    </tr>\n",
       "    <tr>\n",
       "      <th>Third</th>\n",
       "      <td>347</td>\n",
       "    </tr>\n",
       "  </tbody>\n",
       "</table>\n",
       "</div>"
      ],
      "text/plain": [
       "               Passanger Count\n",
       "sex    class                  \n",
       "female First                94\n",
       "       Second               76\n",
       "       Third               144\n",
       "male   First               122\n",
       "       Second              108\n",
       "       Third               347"
      ]
     },
     "execution_count": 133,
     "metadata": {},
     "output_type": "execute_result"
    }
   ],
   "source": [
    "pd.pivot_table(titanic_df, index=[\"sex\", \"class\"], values=\"age\", aggfunc=\"count\") \\\n",
    "                .rename(columns={\"age\":\"Passanger Count\"})"
   ]
  },
  {
   "cell_type": "markdown",
   "metadata": {},
   "source": [
    "Q128. Write a pandas program to create the Pivot table and separate the gender according to whether they travelled alone or not to get the probability of survival."
   ]
  },
  {
   "cell_type": "code",
   "execution_count": 134,
   "metadata": {},
   "outputs": [
    {
     "data": {
      "text/html": [
       "<div>\n",
       "<style scoped>\n",
       "    .dataframe tbody tr th:only-of-type {\n",
       "        vertical-align: middle;\n",
       "    }\n",
       "\n",
       "    .dataframe tbody tr th {\n",
       "        vertical-align: top;\n",
       "    }\n",
       "\n",
       "    .dataframe thead tr th {\n",
       "        text-align: left;\n",
       "    }\n",
       "\n",
       "    .dataframe thead tr:last-of-type th {\n",
       "        text-align: right;\n",
       "    }\n",
       "</style>\n",
       "<table border=\"1\" class=\"dataframe\">\n",
       "  <thead>\n",
       "    <tr>\n",
       "      <th></th>\n",
       "      <th colspan=\"2\" halign=\"left\">count</th>\n",
       "    </tr>\n",
       "    <tr>\n",
       "      <th>sex</th>\n",
       "      <th>female</th>\n",
       "      <th>male</th>\n",
       "    </tr>\n",
       "    <tr>\n",
       "      <th>alone</th>\n",
       "      <th></th>\n",
       "      <th></th>\n",
       "    </tr>\n",
       "  </thead>\n",
       "  <tbody>\n",
       "    <tr>\n",
       "      <th>False</th>\n",
       "      <td>188</td>\n",
       "      <td>166</td>\n",
       "    </tr>\n",
       "    <tr>\n",
       "      <th>True</th>\n",
       "      <td>126</td>\n",
       "      <td>411</td>\n",
       "    </tr>\n",
       "  </tbody>\n",
       "</table>\n",
       "</div>"
      ],
      "text/plain": [
       "       count     \n",
       "sex   female male\n",
       "alone            \n",
       "False    188  166\n",
       "True     126  411"
      ]
     },
     "execution_count": 134,
     "metadata": {},
     "output_type": "execute_result"
    }
   ],
   "source": [
    "titanic_df = orig_titanic_df.copy()\n",
    "\n",
    "#Replace missing age values with mean of age:\n",
    "titanic_df.age.fillna(titanic_df.age.mean(), inplace=True)\n",
    "\n",
    "titanic_df.groupby([\"alone\", \"sex\"]).survived.agg([\"count\"]).unstack()"
   ]
  },
  {
   "cell_type": "code",
   "execution_count": 135,
   "metadata": {},
   "outputs": [
    {
     "data": {
      "text/html": [
       "<div>\n",
       "<style scoped>\n",
       "    .dataframe tbody tr th:only-of-type {\n",
       "        vertical-align: middle;\n",
       "    }\n",
       "\n",
       "    .dataframe tbody tr th {\n",
       "        vertical-align: top;\n",
       "    }\n",
       "\n",
       "    .dataframe thead tr th {\n",
       "        text-align: left;\n",
       "    }\n",
       "\n",
       "    .dataframe thead tr:last-of-type th {\n",
       "        text-align: right;\n",
       "    }\n",
       "</style>\n",
       "<table border=\"1\" class=\"dataframe\">\n",
       "  <thead>\n",
       "    <tr>\n",
       "      <th></th>\n",
       "      <th colspan=\"2\" halign=\"left\">survived</th>\n",
       "    </tr>\n",
       "    <tr>\n",
       "      <th>sex</th>\n",
       "      <th>female</th>\n",
       "      <th>male</th>\n",
       "    </tr>\n",
       "    <tr>\n",
       "      <th>alone</th>\n",
       "      <th></th>\n",
       "      <th></th>\n",
       "    </tr>\n",
       "  </thead>\n",
       "  <tbody>\n",
       "    <tr>\n",
       "      <th>False</th>\n",
       "      <td>0.712766</td>\n",
       "      <td>0.271084</td>\n",
       "    </tr>\n",
       "    <tr>\n",
       "      <th>True</th>\n",
       "      <td>0.785714</td>\n",
       "      <td>0.155718</td>\n",
       "    </tr>\n",
       "  </tbody>\n",
       "</table>\n",
       "</div>"
      ],
      "text/plain": [
       "       survived          \n",
       "sex      female      male\n",
       "alone                    \n",
       "False  0.712766  0.271084\n",
       "True   0.785714  0.155718"
      ]
     },
     "execution_count": 135,
     "metadata": {},
     "output_type": "execute_result"
    }
   ],
   "source": [
    "titanic_df = orig_titanic_df.copy()\n",
    "\n",
    "#Replace missing age values with mean of age:\n",
    "titanic_df.age.fillna(titanic_df.age.mean(), inplace=True)\n",
    "\n",
    "pivote_table = pd.pivot_table(titanic_df, index=[\"alone\", \"sex\"], values=\"survived\", aggfunc=\"mean\").unstack()\n",
    "pivote_table\n"
   ]
  },
  {
   "cell_type": "code",
   "execution_count": 136,
   "metadata": {},
   "outputs": [
    {
     "data": {
      "text/html": [
       "<div>\n",
       "<style scoped>\n",
       "    .dataframe tbody tr th:only-of-type {\n",
       "        vertical-align: middle;\n",
       "    }\n",
       "\n",
       "    .dataframe tbody tr th {\n",
       "        vertical-align: top;\n",
       "    }\n",
       "\n",
       "    .dataframe thead th {\n",
       "        text-align: right;\n",
       "    }\n",
       "</style>\n",
       "<table border=\"1\" class=\"dataframe\">\n",
       "  <thead>\n",
       "    <tr style=\"text-align: right;\">\n",
       "      <th>sex</th>\n",
       "      <th>female</th>\n",
       "      <th>male</th>\n",
       "    </tr>\n",
       "    <tr>\n",
       "      <th>alone</th>\n",
       "      <th></th>\n",
       "      <th></th>\n",
       "    </tr>\n",
       "  </thead>\n",
       "  <tbody>\n",
       "    <tr>\n",
       "      <th>False</th>\n",
       "      <td>0.712766</td>\n",
       "      <td>0.271084</td>\n",
       "    </tr>\n",
       "    <tr>\n",
       "      <th>True</th>\n",
       "      <td>0.785714</td>\n",
       "      <td>0.155718</td>\n",
       "    </tr>\n",
       "  </tbody>\n",
       "</table>\n",
       "</div>"
      ],
      "text/plain": [
       "sex      female      male\n",
       "alone                    \n",
       "False  0.712766  0.271084\n",
       "True   0.785714  0.155718"
      ]
     },
     "execution_count": 136,
     "metadata": {},
     "output_type": "execute_result"
    }
   ],
   "source": [
    "titanic_df.groupby([\"alone\", \"sex\"]).survived.mean().unstack()"
   ]
  },
  {
   "cell_type": "markdown",
   "metadata": {},
   "source": [
    "Q129. Write a pandas program to create the Pivot table and find the probability of survival by class, gender, solo boarding, and the port of embarkation."
   ]
  },
  {
   "cell_type": "code",
   "execution_count": 137,
   "metadata": {},
   "outputs": [
    {
     "data": {
      "text/html": [
       "<div>\n",
       "<style scoped>\n",
       "    .dataframe tbody tr th:only-of-type {\n",
       "        vertical-align: middle;\n",
       "    }\n",
       "\n",
       "    .dataframe tbody tr th {\n",
       "        vertical-align: top;\n",
       "    }\n",
       "\n",
       "    .dataframe thead th {\n",
       "        text-align: right;\n",
       "    }\n",
       "</style>\n",
       "<table border=\"1\" class=\"dataframe\">\n",
       "  <thead>\n",
       "    <tr style=\"text-align: right;\">\n",
       "      <th></th>\n",
       "      <th></th>\n",
       "      <th>embark_town</th>\n",
       "      <th>Cherbourg</th>\n",
       "      <th>Queenstown</th>\n",
       "      <th>Southampton</th>\n",
       "    </tr>\n",
       "    <tr>\n",
       "      <th>class</th>\n",
       "      <th>sex</th>\n",
       "      <th>alone</th>\n",
       "      <th></th>\n",
       "      <th></th>\n",
       "      <th></th>\n",
       "    </tr>\n",
       "  </thead>\n",
       "  <tbody>\n",
       "    <tr>\n",
       "      <th rowspan=\"4\" valign=\"top\">First</th>\n",
       "      <th rowspan=\"2\" valign=\"top\">female</th>\n",
       "      <th>False</th>\n",
       "      <td>1.000000</td>\n",
       "      <td>1.000000</td>\n",
       "      <td>0.941176</td>\n",
       "    </tr>\n",
       "    <tr>\n",
       "      <th>True</th>\n",
       "      <td>0.944444</td>\n",
       "      <td>NaN</td>\n",
       "      <td>1.000000</td>\n",
       "    </tr>\n",
       "    <tr>\n",
       "      <th rowspan=\"2\" valign=\"top\">male</th>\n",
       "      <th>False</th>\n",
       "      <td>0.473684</td>\n",
       "      <td>0.000000</td>\n",
       "      <td>0.407407</td>\n",
       "    </tr>\n",
       "    <tr>\n",
       "      <th>True</th>\n",
       "      <td>0.347826</td>\n",
       "      <td>NaN</td>\n",
       "      <td>0.326923</td>\n",
       "    </tr>\n",
       "    <tr>\n",
       "      <th rowspan=\"4\" valign=\"top\">Second</th>\n",
       "      <th rowspan=\"2\" valign=\"top\">female</th>\n",
       "      <th>False</th>\n",
       "      <td>1.000000</td>\n",
       "      <td>NaN</td>\n",
       "      <td>0.923077</td>\n",
       "    </tr>\n",
       "    <tr>\n",
       "      <th>True</th>\n",
       "      <td>1.000000</td>\n",
       "      <td>1.000000</td>\n",
       "      <td>0.892857</td>\n",
       "    </tr>\n",
       "    <tr>\n",
       "      <th rowspan=\"2\" valign=\"top\">male</th>\n",
       "      <th>False</th>\n",
       "      <td>0.166667</td>\n",
       "      <td>NaN</td>\n",
       "      <td>0.300000</td>\n",
       "    </tr>\n",
       "    <tr>\n",
       "      <th>True</th>\n",
       "      <td>0.250000</td>\n",
       "      <td>0.000000</td>\n",
       "      <td>0.089552</td>\n",
       "    </tr>\n",
       "    <tr>\n",
       "      <th rowspan=\"4\" valign=\"top\">Third</th>\n",
       "      <th rowspan=\"2\" valign=\"top\">female</th>\n",
       "      <th>False</th>\n",
       "      <td>0.611111</td>\n",
       "      <td>0.625000</td>\n",
       "      <td>0.327586</td>\n",
       "    </tr>\n",
       "    <tr>\n",
       "      <th>True</th>\n",
       "      <td>0.800000</td>\n",
       "      <td>0.760000</td>\n",
       "      <td>0.466667</td>\n",
       "    </tr>\n",
       "    <tr>\n",
       "      <th rowspan=\"2\" valign=\"top\">male</th>\n",
       "      <th>False</th>\n",
       "      <td>0.500000</td>\n",
       "      <td>0.100000</td>\n",
       "      <td>0.142857</td>\n",
       "    </tr>\n",
       "    <tr>\n",
       "      <th>True</th>\n",
       "      <td>0.151515</td>\n",
       "      <td>0.068966</td>\n",
       "      <td>0.123762</td>\n",
       "    </tr>\n",
       "  </tbody>\n",
       "</table>\n",
       "</div>"
      ],
      "text/plain": [
       "embark_town          Cherbourg  Queenstown  Southampton\n",
       "class  sex    alone                                    \n",
       "First  female False   1.000000    1.000000     0.941176\n",
       "              True    0.944444         NaN     1.000000\n",
       "       male   False   0.473684    0.000000     0.407407\n",
       "              True    0.347826         NaN     0.326923\n",
       "Second female False   1.000000         NaN     0.923077\n",
       "              True    1.000000    1.000000     0.892857\n",
       "       male   False   0.166667         NaN     0.300000\n",
       "              True    0.250000    0.000000     0.089552\n",
       "Third  female False   0.611111    0.625000     0.327586\n",
       "              True    0.800000    0.760000     0.466667\n",
       "       male   False   0.500000    0.100000     0.142857\n",
       "              True    0.151515    0.068966     0.123762"
      ]
     },
     "execution_count": 137,
     "metadata": {},
     "output_type": "execute_result"
    }
   ],
   "source": [
    "titanic_df.groupby([\"class\", \"sex\", \"alone\", \"embark_town\"]).survived.mean().unstack()"
   ]
  },
  {
   "cell_type": "markdown",
   "metadata": {},
   "source": [
    "Q130. Write a pandas program to get current date, oldest date andnumber of days between Current date and the oldest date of Ufo dataset."
   ]
  },
  {
   "cell_type": "code",
   "execution_count": 138,
   "metadata": {},
   "outputs": [
    {
     "name": "stdout",
     "output_type": "stream",
     "text": [
      "Difference between dates 1000-01-01 & today(i.e. 2020-03-09) is 372615 days.\n",
      "--------------------------------------------------------------------------------\n"
     ]
    }
   ],
   "source": [
    "from datetime import datetime\n",
    "\n",
    "#datetime.datetime.now() - datetime.datetime(\"2020-02-01\")\n",
    "dt_today = datetime.now().date()\n",
    "dt_oldest_day = datetime.strptime(\"1000-01-01\", \"%Y-%m-%d\").date()\n",
    "diff_in_days =  (dt_today - dt_oldest_day).days\n",
    "print(f\"Difference between dates {dt_oldest_day} & today(i.e. {dt_today}) is {diff_in_days} days.\")\n",
    "print(\"-\" * 80)"
   ]
  },
  {
   "cell_type": "markdown",
   "metadata": {},
   "source": [
    "Q131. Write a pandas program to get all sighting days of the unidentified flying object (ufo) between 1950-10-10 and 1960-10-10."
   ]
  },
  {
   "cell_type": "code",
   "execution_count": 139,
   "metadata": {},
   "outputs": [],
   "source": [
    "url = \"http://bit.ly/uforeports\"\n",
    "\n",
    "orig_ufo_df = pd.read_csv(url)"
   ]
  },
  {
   "cell_type": "code",
   "execution_count": 140,
   "metadata": {},
   "outputs": [
    {
     "data": {
      "text/html": [
       "<div>\n",
       "<style scoped>\n",
       "    .dataframe tbody tr th:only-of-type {\n",
       "        vertical-align: middle;\n",
       "    }\n",
       "\n",
       "    .dataframe tbody tr th {\n",
       "        vertical-align: top;\n",
       "    }\n",
       "\n",
       "    .dataframe thead th {\n",
       "        text-align: right;\n",
       "    }\n",
       "</style>\n",
       "<table border=\"1\" class=\"dataframe\">\n",
       "  <thead>\n",
       "    <tr style=\"text-align: right;\">\n",
       "      <th></th>\n",
       "      <th>City</th>\n",
       "      <th>Colors Reported</th>\n",
       "      <th>Shape Reported</th>\n",
       "      <th>State</th>\n",
       "      <th>DateTime</th>\n",
       "    </tr>\n",
       "  </thead>\n",
       "  <tbody>\n",
       "    <tr>\n",
       "      <th>147</th>\n",
       "      <td>Sandy Hook</td>\n",
       "      <td>NaN</td>\n",
       "      <td>TRIANGLE</td>\n",
       "      <td>NJ</td>\n",
       "      <td>1950-10-15 15:00:00</td>\n",
       "    </tr>\n",
       "    <tr>\n",
       "      <th>148</th>\n",
       "      <td>Half Moon Bay</td>\n",
       "      <td>NaN</td>\n",
       "      <td>OTHER</td>\n",
       "      <td>CA</td>\n",
       "      <td>1950-12-12 22:00:00</td>\n",
       "    </tr>\n",
       "    <tr>\n",
       "      <th>149</th>\n",
       "      <td>Palm Springs</td>\n",
       "      <td>NaN</td>\n",
       "      <td>CIGAR</td>\n",
       "      <td>CA</td>\n",
       "      <td>1951-01-20 04:30:00</td>\n",
       "    </tr>\n",
       "    <tr>\n",
       "      <th>150</th>\n",
       "      <td>Thompsonville</td>\n",
       "      <td>NaN</td>\n",
       "      <td>DISK</td>\n",
       "      <td>CT</td>\n",
       "      <td>1951-02-03 22:00:00</td>\n",
       "    </tr>\n",
       "    <tr>\n",
       "      <th>151</th>\n",
       "      <td>Los Angeles</td>\n",
       "      <td>NaN</td>\n",
       "      <td>DISK</td>\n",
       "      <td>CA</td>\n",
       "      <td>1951-02-15 11:00:00</td>\n",
       "    </tr>\n",
       "    <tr>\n",
       "      <th>...</th>\n",
       "      <td>...</td>\n",
       "      <td>...</td>\n",
       "      <td>...</td>\n",
       "      <td>...</td>\n",
       "      <td>...</td>\n",
       "    </tr>\n",
       "    <tr>\n",
       "      <th>638</th>\n",
       "      <td>Wichita</td>\n",
       "      <td>NaN</td>\n",
       "      <td>OVAL</td>\n",
       "      <td>KS</td>\n",
       "      <td>1960-09-10 10:00:00</td>\n",
       "    </tr>\n",
       "    <tr>\n",
       "      <th>639</th>\n",
       "      <td>Kingsport</td>\n",
       "      <td>ORANGE</td>\n",
       "      <td>CIRCLE</td>\n",
       "      <td>TN</td>\n",
       "      <td>1960-09-15 19:00:00</td>\n",
       "    </tr>\n",
       "    <tr>\n",
       "      <th>640</th>\n",
       "      <td>Seattle</td>\n",
       "      <td>NaN</td>\n",
       "      <td>DISK</td>\n",
       "      <td>WA</td>\n",
       "      <td>1960-09-15 20:30:00</td>\n",
       "    </tr>\n",
       "    <tr>\n",
       "      <th>641</th>\n",
       "      <td>Susanville</td>\n",
       "      <td>NaN</td>\n",
       "      <td>NaN</td>\n",
       "      <td>CA</td>\n",
       "      <td>1960-09-15 21:00:00</td>\n",
       "    </tr>\n",
       "    <tr>\n",
       "      <th>642</th>\n",
       "      <td>Kaneohe</td>\n",
       "      <td>NaN</td>\n",
       "      <td>LIGHT</td>\n",
       "      <td>HI</td>\n",
       "      <td>1960-10-10 20:00:00</td>\n",
       "    </tr>\n",
       "  </tbody>\n",
       "</table>\n",
       "<p>496 rows × 5 columns</p>\n",
       "</div>"
      ],
      "text/plain": [
       "              City Colors Reported Shape Reported State            DateTime\n",
       "147     Sandy Hook             NaN       TRIANGLE    NJ 1950-10-15 15:00:00\n",
       "148  Half Moon Bay             NaN          OTHER    CA 1950-12-12 22:00:00\n",
       "149   Palm Springs             NaN          CIGAR    CA 1951-01-20 04:30:00\n",
       "150  Thompsonville             NaN           DISK    CT 1951-02-03 22:00:00\n",
       "151    Los Angeles             NaN           DISK    CA 1951-02-15 11:00:00\n",
       "..             ...             ...            ...   ...                 ...\n",
       "638        Wichita             NaN           OVAL    KS 1960-09-10 10:00:00\n",
       "639      Kingsport          ORANGE         CIRCLE    TN 1960-09-15 19:00:00\n",
       "640        Seattle             NaN           DISK    WA 1960-09-15 20:30:00\n",
       "641     Susanville             NaN            NaN    CA 1960-09-15 21:00:00\n",
       "642        Kaneohe             NaN          LIGHT    HI 1960-10-10 20:00:00\n",
       "\n",
       "[496 rows x 5 columns]"
      ]
     },
     "execution_count": 140,
     "metadata": {},
     "output_type": "execute_result"
    }
   ],
   "source": [
    "ufo_df = orig_ufo_df.copy()\n",
    "\n",
    "ufo_df[\"Time\"] = ufo_df.Time.astype(\"datetime64\")\n",
    "ufo_df.rename(columns={\"Time\" : \"DateTime\"}, inplace=True)\n",
    "\n",
    "\n",
    "dt_1950 = datetime.strptime(\"1950-10-10\", \"%Y-%m-%d\").date()\n",
    "dt_1960 = datetime.strptime(\"1960-10-10\", \"%Y-%m-%d\").date()\n",
    "\n",
    "ufo_df[ufo_df.DateTime.dt.date.between(dt_1950, dt_1960)]\n"
   ]
  },
  {
   "cell_type": "markdown",
   "metadata": {},
   "source": [
    "Q132. Write a Pandas program to extract the year, month, day, hour, minute, second, and weekday from unidentified flying object (UFO) reporting date."
   ]
  },
  {
   "cell_type": "code",
   "execution_count": 141,
   "metadata": {},
   "outputs": [
    {
     "data": {
      "text/html": [
       "<div>\n",
       "<style scoped>\n",
       "    .dataframe tbody tr th:only-of-type {\n",
       "        vertical-align: middle;\n",
       "    }\n",
       "\n",
       "    .dataframe tbody tr th {\n",
       "        vertical-align: top;\n",
       "    }\n",
       "\n",
       "    .dataframe thead th {\n",
       "        text-align: right;\n",
       "    }\n",
       "</style>\n",
       "<table border=\"1\" class=\"dataframe\">\n",
       "  <thead>\n",
       "    <tr style=\"text-align: right;\">\n",
       "      <th></th>\n",
       "      <th>DateTime</th>\n",
       "      <th>year</th>\n",
       "      <th>month</th>\n",
       "      <th>day</th>\n",
       "      <th>hour</th>\n",
       "      <th>minute</th>\n",
       "      <th>second</th>\n",
       "      <th>weekday</th>\n",
       "    </tr>\n",
       "  </thead>\n",
       "  <tbody>\n",
       "    <tr>\n",
       "      <th>0</th>\n",
       "      <td>1930-06-01 22:00:00</td>\n",
       "      <td>1930</td>\n",
       "      <td>6</td>\n",
       "      <td>1</td>\n",
       "      <td>22</td>\n",
       "      <td>0</td>\n",
       "      <td>0</td>\n",
       "      <td>6</td>\n",
       "    </tr>\n",
       "    <tr>\n",
       "      <th>1</th>\n",
       "      <td>1930-06-30 20:00:00</td>\n",
       "      <td>1930</td>\n",
       "      <td>6</td>\n",
       "      <td>30</td>\n",
       "      <td>20</td>\n",
       "      <td>0</td>\n",
       "      <td>0</td>\n",
       "      <td>0</td>\n",
       "    </tr>\n",
       "    <tr>\n",
       "      <th>2</th>\n",
       "      <td>1931-02-15 14:00:00</td>\n",
       "      <td>1931</td>\n",
       "      <td>2</td>\n",
       "      <td>15</td>\n",
       "      <td>14</td>\n",
       "      <td>0</td>\n",
       "      <td>0</td>\n",
       "      <td>6</td>\n",
       "    </tr>\n",
       "    <tr>\n",
       "      <th>3</th>\n",
       "      <td>1931-06-01 13:00:00</td>\n",
       "      <td>1931</td>\n",
       "      <td>6</td>\n",
       "      <td>1</td>\n",
       "      <td>13</td>\n",
       "      <td>0</td>\n",
       "      <td>0</td>\n",
       "      <td>0</td>\n",
       "    </tr>\n",
       "    <tr>\n",
       "      <th>4</th>\n",
       "      <td>1933-04-18 19:00:00</td>\n",
       "      <td>1933</td>\n",
       "      <td>4</td>\n",
       "      <td>18</td>\n",
       "      <td>19</td>\n",
       "      <td>0</td>\n",
       "      <td>0</td>\n",
       "      <td>1</td>\n",
       "    </tr>\n",
       "    <tr>\n",
       "      <th>...</th>\n",
       "      <td>...</td>\n",
       "      <td>...</td>\n",
       "      <td>...</td>\n",
       "      <td>...</td>\n",
       "      <td>...</td>\n",
       "      <td>...</td>\n",
       "      <td>...</td>\n",
       "      <td>...</td>\n",
       "    </tr>\n",
       "    <tr>\n",
       "      <th>18236</th>\n",
       "      <td>2000-12-31 23:00:00</td>\n",
       "      <td>2000</td>\n",
       "      <td>12</td>\n",
       "      <td>31</td>\n",
       "      <td>23</td>\n",
       "      <td>0</td>\n",
       "      <td>0</td>\n",
       "      <td>6</td>\n",
       "    </tr>\n",
       "    <tr>\n",
       "      <th>18237</th>\n",
       "      <td>2000-12-31 23:00:00</td>\n",
       "      <td>2000</td>\n",
       "      <td>12</td>\n",
       "      <td>31</td>\n",
       "      <td>23</td>\n",
       "      <td>0</td>\n",
       "      <td>0</td>\n",
       "      <td>6</td>\n",
       "    </tr>\n",
       "    <tr>\n",
       "      <th>18238</th>\n",
       "      <td>2000-12-31 23:45:00</td>\n",
       "      <td>2000</td>\n",
       "      <td>12</td>\n",
       "      <td>31</td>\n",
       "      <td>23</td>\n",
       "      <td>45</td>\n",
       "      <td>0</td>\n",
       "      <td>6</td>\n",
       "    </tr>\n",
       "    <tr>\n",
       "      <th>18239</th>\n",
       "      <td>2000-12-31 23:45:00</td>\n",
       "      <td>2000</td>\n",
       "      <td>12</td>\n",
       "      <td>31</td>\n",
       "      <td>23</td>\n",
       "      <td>45</td>\n",
       "      <td>0</td>\n",
       "      <td>6</td>\n",
       "    </tr>\n",
       "    <tr>\n",
       "      <th>18240</th>\n",
       "      <td>2000-12-31 23:59:00</td>\n",
       "      <td>2000</td>\n",
       "      <td>12</td>\n",
       "      <td>31</td>\n",
       "      <td>23</td>\n",
       "      <td>59</td>\n",
       "      <td>0</td>\n",
       "      <td>6</td>\n",
       "    </tr>\n",
       "  </tbody>\n",
       "</table>\n",
       "<p>18241 rows × 8 columns</p>\n",
       "</div>"
      ],
      "text/plain": [
       "                 DateTime  year  month  day  hour  minute  second  weekday\n",
       "0     1930-06-01 22:00:00  1930      6    1    22       0       0        6\n",
       "1     1930-06-30 20:00:00  1930      6   30    20       0       0        0\n",
       "2     1931-02-15 14:00:00  1931      2   15    14       0       0        6\n",
       "3     1931-06-01 13:00:00  1931      6    1    13       0       0        0\n",
       "4     1933-04-18 19:00:00  1933      4   18    19       0       0        1\n",
       "...                   ...   ...    ...  ...   ...     ...     ...      ...\n",
       "18236 2000-12-31 23:00:00  2000     12   31    23       0       0        6\n",
       "18237 2000-12-31 23:00:00  2000     12   31    23       0       0        6\n",
       "18238 2000-12-31 23:45:00  2000     12   31    23      45       0        6\n",
       "18239 2000-12-31 23:45:00  2000     12   31    23      45       0        6\n",
       "18240 2000-12-31 23:59:00  2000     12   31    23      59       0        6\n",
       "\n",
       "[18241 rows x 8 columns]"
      ]
     },
     "execution_count": 141,
     "metadata": {},
     "output_type": "execute_result"
    }
   ],
   "source": [
    "temp_ufo_df = pd.DataFrame()\n",
    "temp_ufo_df[\"DateTime\"] = ufo_df.DateTime\n",
    "temp_ufo_df[\"year\"] = ufo_df.DateTime.dt.year\n",
    "temp_ufo_df[\"month\"] = ufo_df.DateTime.dt.month\n",
    "temp_ufo_df[\"day\"] = ufo_df.DateTime.dt.day\n",
    "temp_ufo_df[\"hour\"] = ufo_df.DateTime.dt.hour\n",
    "temp_ufo_df[\"minute\"] = ufo_df.DateTime.dt.minute\n",
    "temp_ufo_df[\"second\"] = ufo_df.DateTime.dt.second\n",
    "temp_ufo_df[\"weekday\"] = ufo_df.DateTime.dt.weekday\n",
    "temp_ufo_df"
   ]
  },
  {
   "cell_type": "markdown",
   "metadata": {},
   "source": [
    "Q133. Write a pandas program to count year-country wise frequency of reporting dates of the unidentified flying object(UFO)."
   ]
  },
  {
   "cell_type": "code",
   "execution_count": 142,
   "metadata": {},
   "outputs": [
    {
     "data": {
      "text/html": [
       "<div>\n",
       "<style scoped>\n",
       "    .dataframe tbody tr th:only-of-type {\n",
       "        vertical-align: middle;\n",
       "    }\n",
       "\n",
       "    .dataframe tbody tr th {\n",
       "        vertical-align: top;\n",
       "    }\n",
       "\n",
       "    .dataframe thead th {\n",
       "        text-align: right;\n",
       "    }\n",
       "</style>\n",
       "<table border=\"1\" class=\"dataframe\">\n",
       "  <thead>\n",
       "    <tr style=\"text-align: right;\">\n",
       "      <th></th>\n",
       "      <th></th>\n",
       "      <th>UFO Seen Frequency</th>\n",
       "    </tr>\n",
       "    <tr>\n",
       "      <th>DateTime</th>\n",
       "      <th>State</th>\n",
       "      <th></th>\n",
       "    </tr>\n",
       "  </thead>\n",
       "  <tbody>\n",
       "    <tr>\n",
       "      <th rowspan=\"2\" valign=\"top\">1930</th>\n",
       "      <th>NJ</th>\n",
       "      <td>1</td>\n",
       "    </tr>\n",
       "    <tr>\n",
       "      <th>NY</th>\n",
       "      <td>1</td>\n",
       "    </tr>\n",
       "    <tr>\n",
       "      <th rowspan=\"2\" valign=\"top\">1931</th>\n",
       "      <th>CO</th>\n",
       "      <td>1</td>\n",
       "    </tr>\n",
       "    <tr>\n",
       "      <th>KS</th>\n",
       "      <td>1</td>\n",
       "    </tr>\n",
       "    <tr>\n",
       "      <th>1933</th>\n",
       "      <th>NY</th>\n",
       "      <td>1</td>\n",
       "    </tr>\n",
       "    <tr>\n",
       "      <th>...</th>\n",
       "      <th>...</th>\n",
       "      <td>...</td>\n",
       "    </tr>\n",
       "    <tr>\n",
       "      <th rowspan=\"5\" valign=\"top\">2000</th>\n",
       "      <th>VT</th>\n",
       "      <td>7</td>\n",
       "    </tr>\n",
       "    <tr>\n",
       "      <th>WA</th>\n",
       "      <td>201</td>\n",
       "    </tr>\n",
       "    <tr>\n",
       "      <th>WI</th>\n",
       "      <td>50</td>\n",
       "    </tr>\n",
       "    <tr>\n",
       "      <th>WV</th>\n",
       "      <td>13</td>\n",
       "    </tr>\n",
       "    <tr>\n",
       "      <th>WY</th>\n",
       "      <td>7</td>\n",
       "    </tr>\n",
       "  </tbody>\n",
       "</table>\n",
       "<p>2062 rows × 1 columns</p>\n",
       "</div>"
      ],
      "text/plain": [
       "                UFO Seen Frequency\n",
       "DateTime State                    \n",
       "1930     NJ                      1\n",
       "         NY                      1\n",
       "1931     CO                      1\n",
       "         KS                      1\n",
       "1933     NY                      1\n",
       "...                            ...\n",
       "2000     VT                      7\n",
       "         WA                    201\n",
       "         WI                     50\n",
       "         WV                     13\n",
       "         WY                      7\n",
       "\n",
       "[2062 rows x 1 columns]"
      ]
     },
     "execution_count": 142,
     "metadata": {},
     "output_type": "execute_result"
    }
   ],
   "source": [
    "ufo_df.groupby([ufo_df.DateTime.dt.year, ufo_df.State]).DateTime.count()\n",
    "\n",
    "#OR\n",
    "\n",
    "pivot_df = pd.pivot_table(ufo_df, index=[ufo_df.DateTime.dt.year, ufo_df.State], values=[\"DateTime\"], aggfunc=\"count\")\n",
    "pivot_df.rename(columns={\"DateTime\" : \"UFO Seen Frequency\"}, inplace=True)\n",
    "pivot_df"
   ]
  },
  {
   "cell_type": "markdown",
   "metadata": {},
   "source": [
    "Q134. Write a pandas program to get the difference (in days) between documented date and reporting date of unidentified flying object (UFO)."
   ]
  },
  {
   "cell_type": "code",
   "execution_count": 143,
   "metadata": {},
   "outputs": [
    {
     "name": "stderr",
     "output_type": "stream",
     "text": [
      "C:\\Users\\shivbaba\\Anaconda3\\lib\\site-packages\\IPython\\core\\interactiveshell.py:3051: DtypeWarning: Columns (5,9) have mixed types.Specify dtype option on import or set low_memory=False.\n",
      "  interactivity=interactivity, compiler=compiler, result=result)\n"
     ]
    },
    {
     "data": {
      "text/html": [
       "<div>\n",
       "<style scoped>\n",
       "    .dataframe tbody tr th:only-of-type {\n",
       "        vertical-align: middle;\n",
       "    }\n",
       "\n",
       "    .dataframe tbody tr th {\n",
       "        vertical-align: top;\n",
       "    }\n",
       "\n",
       "    .dataframe thead th {\n",
       "        text-align: right;\n",
       "    }\n",
       "</style>\n",
       "<table border=\"1\" class=\"dataframe\">\n",
       "  <thead>\n",
       "    <tr style=\"text-align: right;\">\n",
       "      <th></th>\n",
       "      <th>date_seen</th>\n",
       "      <th>date_posted</th>\n",
       "      <th>date_dff</th>\n",
       "    </tr>\n",
       "  </thead>\n",
       "  <tbody>\n",
       "    <tr>\n",
       "      <th>0</th>\n",
       "      <td>1949-10-10</td>\n",
       "      <td>2004-04-27</td>\n",
       "      <td>19923</td>\n",
       "    </tr>\n",
       "    <tr>\n",
       "      <th>1</th>\n",
       "      <td>1949-10-10</td>\n",
       "      <td>2005-12-16</td>\n",
       "      <td>20521</td>\n",
       "    </tr>\n",
       "    <tr>\n",
       "      <th>2</th>\n",
       "      <td>1949-10-10</td>\n",
       "      <td>2008-01-21</td>\n",
       "      <td>21287</td>\n",
       "    </tr>\n",
       "    <tr>\n",
       "      <th>3</th>\n",
       "      <td>1949-10-10</td>\n",
       "      <td>2004-01-17</td>\n",
       "      <td>19822</td>\n",
       "    </tr>\n",
       "    <tr>\n",
       "      <th>4</th>\n",
       "      <td>1949-10-10</td>\n",
       "      <td>2004-01-22</td>\n",
       "      <td>19827</td>\n",
       "    </tr>\n",
       "    <tr>\n",
       "      <th>...</th>\n",
       "      <td>...</td>\n",
       "      <td>...</td>\n",
       "      <td>...</td>\n",
       "    </tr>\n",
       "    <tr>\n",
       "      <th>80327</th>\n",
       "      <td>1949-10-10</td>\n",
       "      <td>2013-09-30</td>\n",
       "      <td>23366</td>\n",
       "    </tr>\n",
       "    <tr>\n",
       "      <th>80328</th>\n",
       "      <td>1949-10-10</td>\n",
       "      <td>2013-09-30</td>\n",
       "      <td>23366</td>\n",
       "    </tr>\n",
       "    <tr>\n",
       "      <th>80329</th>\n",
       "      <td>1949-10-10</td>\n",
       "      <td>2013-09-30</td>\n",
       "      <td>23366</td>\n",
       "    </tr>\n",
       "    <tr>\n",
       "      <th>80330</th>\n",
       "      <td>1949-10-10</td>\n",
       "      <td>2013-09-30</td>\n",
       "      <td>23366</td>\n",
       "    </tr>\n",
       "    <tr>\n",
       "      <th>80331</th>\n",
       "      <td>1949-10-10</td>\n",
       "      <td>2013-09-30</td>\n",
       "      <td>23366</td>\n",
       "    </tr>\n",
       "  </tbody>\n",
       "</table>\n",
       "<p>80332 rows × 3 columns</p>\n",
       "</div>"
      ],
      "text/plain": [
       "       date_seen date_posted  date_dff\n",
       "0     1949-10-10  2004-04-27     19923\n",
       "1     1949-10-10  2005-12-16     20521\n",
       "2     1949-10-10  2008-01-21     21287\n",
       "3     1949-10-10  2004-01-17     19822\n",
       "4     1949-10-10  2004-01-22     19827\n",
       "...          ...         ...       ...\n",
       "80327 1949-10-10  2013-09-30     23366\n",
       "80328 1949-10-10  2013-09-30     23366\n",
       "80329 1949-10-10  2013-09-30     23366\n",
       "80330 1949-10-10  2013-09-30     23366\n",
       "80331 1949-10-10  2013-09-30     23366\n",
       "\n",
       "[80332 rows x 3 columns]"
      ]
     },
     "execution_count": 143,
     "metadata": {},
     "output_type": "execute_result"
    }
   ],
   "source": [
    "orig_ufo = pd.read_csv(r\"E:\\BackupFromDadasLaptop\\AGP\\Personal\\CTCs\\ML\\iNueron_Courses\\DL_AL_00111D\\Assignments\\ufo-sightings\\scrubbed.csv\")\n",
    "\n",
    "ufo = orig_ufo.copy()\n",
    "\n",
    "ufo[\"date_seen\"] = ufo.datetime.str.split()[:][0][0]\n",
    "ufo.date_seen = ufo.date_seen.astype(\"datetime64\")\n",
    "\n",
    "ufo.rename(columns={\"date posted\":\"date_posted\"}, inplace=True)\n",
    "ufo.date_posted = ufo.date_posted.astype(\"datetime64\")\n",
    "\n",
    "dates_ufo = pd.concat([ufo[\"date_seen\"], ufo[\"date_posted\"]], axis=1)\n",
    "\n",
    "dates_ufo[\"date_dff\"] = abs((ufo[\"date_seen\"] - ufo[\"date_posted\"]).dt.days)\n",
    "dates_ufo"
   ]
  },
  {
   "cell_type": "markdown",
   "metadata": {},
   "source": [
    "Q135. Write a pandas program to generate sequences of fixedfrequency dates and time spans."
   ]
  },
  {
   "cell_type": "code",
   "execution_count": 144,
   "metadata": {},
   "outputs": [
    {
     "name": "stdout",
     "output_type": "stream",
     "text": [
      "#Frequency, Hour-wise:\n",
      "DatetimeIndex(['2020-01-01 00:00:00', '2020-01-01 01:00:00', '2020-01-01 02:00:00', '2020-01-01 03:00:00', '2020-01-01 04:00:00', '2020-01-01 05:00:00', '2020-01-01 06:00:00', '2020-01-01 07:00:00', '2020-01-01 08:00:00', '2020-01-01 09:00:00', '2020-01-01 10:00:00', '2020-01-01 11:00:00', '2020-01-01 12:00:00', '2020-01-01 13:00:00', '2020-01-01 14:00:00', '2020-01-01 15:00:00', '2020-01-01 16:00:00', '2020-01-01 17:00:00', '2020-01-01 18:00:00', '2020-01-01 19:00:00', '2020-01-01 20:00:00', '2020-01-01 21:00:00', '2020-01-01 22:00:00', '2020-01-01 23:00:00'], dtype='datetime64[ns]', freq='H')\n",
      "----------------------------------------------------------------------------------------------------\n",
      "\n",
      "#Frequency, Minute-wise:\n",
      "DatetimeIndex(['2020-01-01 00:00:00', '2020-01-01 00:01:00', '2020-01-01 00:02:00', '2020-01-01 00:03:00', '2020-01-01 00:04:00', '2020-01-01 00:05:00', '2020-01-01 00:06:00', '2020-01-01 00:07:00', '2020-01-01 00:08:00', '2020-01-01 00:09:00'], dtype='datetime64[ns]', freq='T')\n",
      "----------------------------------------------------------------------------------------------------\n",
      "\n",
      "#Frequency second-wise:\n",
      "DatetimeIndex(['2020-01-01 00:00:00', '2020-01-01 00:00:01', '2020-01-01 00:00:02', '2020-01-01 00:00:03', '2020-01-01 00:00:04', '2020-01-01 00:00:05', '2020-01-01 00:00:06', '2020-01-01 00:00:07', '2020-01-01 00:00:08', '2020-01-01 00:00:09', '2020-01-01 00:00:10', '2020-01-01 00:00:11', '2020-01-01 00:00:12', '2020-01-01 00:00:13', '2020-01-01 00:00:14'], dtype='datetime64[ns]', freq='S')\n",
      "----------------------------------------------------------------------------------------------------\n",
      "\n",
      "#Frequency day-wise:\n",
      "DatetimeIndex(['2020-01-01', '2020-01-02', '2020-01-03', '2020-01-04', '2020-01-05'], dtype='datetime64[ns]', freq='D')\n",
      "----------------------------------------------------------------------------------------------------\n",
      "\n",
      "#Frequency month-wise:\n",
      "DatetimeIndex(['2020-01-31', '2020-02-29', '2020-03-31', '2020-04-30', '2020-05-31'], dtype='datetime64[ns]', freq='M')\n",
      "----------------------------------------------------------------------------------------------------\n",
      "\n",
      "#Frequency month-wise:\n",
      "DatetimeIndex(['2020-01-31', '2021-01-31', '2022-01-31'], dtype='datetime64[ns]', freq='A-JAN')\n",
      "----------------------------------------------------------------------------------------------------\n"
     ]
    }
   ],
   "source": [
    "dt_df = pd.date_range(\"2020-01-01\", periods=24, freq=\"H\")\n",
    "print(\"#Frequency, Hour-wise:\")\n",
    "print(dt_df)\n",
    "print(\"-\" * 100)\n",
    "\n",
    "dt_df = pd.date_range(\"2020-01-01\", periods=10, freq=\"min\")\n",
    "print(\"\\n#Frequency, Minute-wise:\")\n",
    "print(dt_df)\n",
    "print(\"-\" * 100)\n",
    "\n",
    "dt_df = pd.date_range('2020-01-01', periods=15, freq=\"S\")\n",
    "print(\"\\n#Frequency second-wise:\")\n",
    "print(dt_df)\n",
    "print(\"-\" * 100)\n",
    "\n",
    "dt_df = pd.date_range(\"2020-01-01\", periods=5) #default frequency day-wise i.e. \"D\"\n",
    "print(\"\\n#Frequency day-wise:\")\n",
    "print(dt_df)\n",
    "print(\"-\" * 100)\n",
    "\n",
    "dt_df = pd.date_range(\"2020-01-01\", periods=5, freq=\"M\")\n",
    "print(\"\\n#Frequency month-wise:\")\n",
    "print(dt_df)\n",
    "print(\"-\" * 100)\n",
    "\n",
    "dt_df = pd.date_range(\"2020-01-01\", periods=3, freq=\"A-JAN\")\n",
    "print(\"\\n#Frequency month-wise:\")\n",
    "print(dt_df)\n",
    "print(\"-\" * 100)\n"
   ]
  },
  {
   "cell_type": "markdown",
   "metadata": {},
   "source": [
    "Q136. Write a pandas program to manipulate and convert date times with timezone information."
   ]
  },
  {
   "cell_type": "code",
   "execution_count": 145,
   "metadata": {},
   "outputs": [
    {
     "name": "stdout",
     "output_type": "stream",
     "text": [
      "\n",
      "#Dates in IST timezone:\n",
      "DatetimeIndex(['2020-01-01 05:30:00+00:00', '2020-01-01 06:30:00+00:00', '2020-01-01 07:30:00+00:00'], dtype='datetime64[ns, UTC]', freq='H')\n",
      "----------------------------------------------------------------------\n",
      "\n",
      "#Dates convrted from IST timzone to EST timezone:\n",
      "DatetimeIndex(['2019-12-31 21:30:00-08:00', '2019-12-31 22:30:00-08:00', '2019-12-31 23:30:00-08:00'], dtype='datetime64[ns, America/Los_Angeles]', freq='H')\n",
      "----------------------------------------------------------------------\n"
     ]
    }
   ],
   "source": [
    "dt_df = pd.date_range('2020-01-01', periods=3, freq='H')\n",
    "dt_df = dt_df.tz_localize('UTC') + pd.Timedelta('05:30:00')\n",
    "print(\"\\n#Dates in IST timezone:\")\n",
    "print(dt_df)\n",
    "print(\"-\" * 70)\n",
    "\n",
    "print(\"\\n#Dates convrted from IST timzone to EST timezone:\")\n",
    "dt_df = dt_df.tz_convert('America/Los_Angeles')\n",
    "print(dt_df)\n",
    "print(\"-\" * 70)\n"
   ]
  },
  {
   "cell_type": "markdown",
   "metadata": {},
   "source": [
    "Q137. Write a pandas program to create the graphical analysis of UFO (unidentified flying object) Sightings year."
   ]
  },
  {
   "cell_type": "code",
   "execution_count": 146,
   "metadata": {},
   "outputs": [
    {
     "data": {
      "image/png": "[encoded data removed]",
      "text/plain": [
       "<Figure size 1080x576 with 1 Axes>"
      ]
     },
     "metadata": {
      "needs_background": "light"
     },
     "output_type": "display_data"
    }
   ],
   "source": [
    "orig_ufo = pd.read_csv(r\"E:\\BackupFromDadasLaptop\\AGP\\Personal\\CTCs\\ML\\iNueron_Courses\\DL_AL_00111D\\Assignments\\ufo-sightings\\scrubbed.csv\")\n",
    "ufo = orig_ufo.copy()\n",
    "\n",
    "ufo[\"date_reported\"] = pd.to_datetime(ufo[\"date posted\"])\n",
    "ufo[\"year_reported\"] = ufo[\"date_reported\"].dt.year\n",
    "yy = ufo[\"year_reported\"].value_counts()\n",
    "yr_index = yy.index\n",
    "yr_values = yy.values\n",
    "\n",
    "plt.figure(figsize=(15,8))\n",
    "plt.xticks(rotation = 60)\n",
    "plt.title(\"Year Vs UFO Reporting\")\n",
    "plt.xlabel(\"Year\")\n",
    "plt.ylabel(\"Number of UFO Sighting Reports\")\n",
    "years_plot = sns.barplot(x=yr_index[:60],y=yr_values[:60], palette = \"Purples\")\n"
   ]
  },
  {
   "cell_type": "markdown",
   "metadata": {},
   "source": [
    "Q138. Write a pandas program to create a comparison of the top 10 years in which the (UFO) was sighted VS each Month."
   ]
  },
  {
   "cell_type": "code",
   "execution_count": 147,
   "metadata": {},
   "outputs": [
    {
     "data": {
      "text/html": [
       "<div>\n",
       "<style scoped>\n",
       "    .dataframe tbody tr th:only-of-type {\n",
       "        vertical-align: middle;\n",
       "    }\n",
       "\n",
       "    .dataframe tbody tr th {\n",
       "        vertical-align: top;\n",
       "    }\n",
       "\n",
       "    .dataframe thead th {\n",
       "        text-align: right;\n",
       "    }\n",
       "</style>\n",
       "<table border=\"1\" class=\"dataframe\">\n",
       "  <thead>\n",
       "    <tr style=\"text-align: right;\">\n",
       "      <th>month</th>\n",
       "      <th>1</th>\n",
       "      <th>2</th>\n",
       "      <th>3</th>\n",
       "      <th>4</th>\n",
       "      <th>5</th>\n",
       "      <th>6</th>\n",
       "      <th>7</th>\n",
       "      <th>8</th>\n",
       "      <th>9</th>\n",
       "      <th>10</th>\n",
       "      <th>11</th>\n",
       "      <th>12</th>\n",
       "    </tr>\n",
       "    <tr>\n",
       "      <th>year</th>\n",
       "      <th></th>\n",
       "      <th></th>\n",
       "      <th></th>\n",
       "      <th></th>\n",
       "      <th></th>\n",
       "      <th></th>\n",
       "      <th></th>\n",
       "      <th></th>\n",
       "      <th></th>\n",
       "      <th></th>\n",
       "      <th></th>\n",
       "      <th></th>\n",
       "    </tr>\n",
       "  </thead>\n",
       "  <tbody>\n",
       "    <tr>\n",
       "      <th>1999</th>\n",
       "      <td>126.0</td>\n",
       "      <td>157.0</td>\n",
       "      <td>149.0</td>\n",
       "      <td>139.0</td>\n",
       "      <td>171.0</td>\n",
       "      <td>236.0</td>\n",
       "      <td>262.0</td>\n",
       "      <td>274.0</td>\n",
       "      <td>362.0</td>\n",
       "      <td>285.0</td>\n",
       "      <td>418.0</td>\n",
       "      <td>195.0</td>\n",
       "    </tr>\n",
       "    <tr>\n",
       "      <th>2000</th>\n",
       "      <td>198.0</td>\n",
       "      <td>178.0</td>\n",
       "      <td>202.0</td>\n",
       "      <td>171.0</td>\n",
       "      <td>154.0</td>\n",
       "      <td>233.0</td>\n",
       "      <td>322.0</td>\n",
       "      <td>250.0</td>\n",
       "      <td>257.0</td>\n",
       "      <td>278.0</td>\n",
       "      <td>200.0</td>\n",
       "      <td>192.0</td>\n",
       "    </tr>\n",
       "    <tr>\n",
       "      <th>1998</th>\n",
       "      <td>75.0</td>\n",
       "      <td>74.0</td>\n",
       "      <td>130.0</td>\n",
       "      <td>112.0</td>\n",
       "      <td>95.0</td>\n",
       "      <td>178.0</td>\n",
       "      <td>156.0</td>\n",
       "      <td>144.0</td>\n",
       "      <td>215.0</td>\n",
       "      <td>205.0</td>\n",
       "      <td>189.0</td>\n",
       "      <td>170.0</td>\n",
       "    </tr>\n",
       "    <tr>\n",
       "      <th>1997</th>\n",
       "      <td>NaN</td>\n",
       "      <td>NaN</td>\n",
       "      <td>174.0</td>\n",
       "      <td>86.0</td>\n",
       "      <td>93.0</td>\n",
       "      <td>170.0</td>\n",
       "      <td>199.0</td>\n",
       "      <td>99.0</td>\n",
       "      <td>NaN</td>\n",
       "      <td>105.0</td>\n",
       "      <td>113.0</td>\n",
       "      <td>NaN</td>\n",
       "    </tr>\n",
       "    <tr>\n",
       "      <th>1995</th>\n",
       "      <td>90.0</td>\n",
       "      <td>113.0</td>\n",
       "      <td>120.0</td>\n",
       "      <td>88.0</td>\n",
       "      <td>98.0</td>\n",
       "      <td>152.0</td>\n",
       "      <td>121.0</td>\n",
       "      <td>181.0</td>\n",
       "      <td>120.0</td>\n",
       "      <td>95.0</td>\n",
       "      <td>116.0</td>\n",
       "      <td>NaN</td>\n",
       "    </tr>\n",
       "    <tr>\n",
       "      <th>1996</th>\n",
       "      <td>NaN</td>\n",
       "      <td>NaN</td>\n",
       "      <td>NaN</td>\n",
       "      <td>91.0</td>\n",
       "      <td>74.0</td>\n",
       "      <td>117.0</td>\n",
       "      <td>NaN</td>\n",
       "      <td>NaN</td>\n",
       "      <td>NaN</td>\n",
       "      <td>NaN</td>\n",
       "      <td>78.0</td>\n",
       "      <td>75.0</td>\n",
       "    </tr>\n",
       "    <tr>\n",
       "      <th>1976</th>\n",
       "      <td>NaN</td>\n",
       "      <td>NaN</td>\n",
       "      <td>NaN</td>\n",
       "      <td>NaN</td>\n",
       "      <td>NaN</td>\n",
       "      <td>94.0</td>\n",
       "      <td>NaN</td>\n",
       "      <td>NaN</td>\n",
       "      <td>NaN</td>\n",
       "      <td>NaN</td>\n",
       "      <td>NaN</td>\n",
       "      <td>NaN</td>\n",
       "    </tr>\n",
       "    <tr>\n",
       "      <th>1975</th>\n",
       "      <td>NaN</td>\n",
       "      <td>NaN</td>\n",
       "      <td>NaN</td>\n",
       "      <td>NaN</td>\n",
       "      <td>NaN</td>\n",
       "      <td>88.0</td>\n",
       "      <td>NaN</td>\n",
       "      <td>NaN</td>\n",
       "      <td>NaN</td>\n",
       "      <td>NaN</td>\n",
       "      <td>NaN</td>\n",
       "      <td>NaN</td>\n",
       "    </tr>\n",
       "    <tr>\n",
       "      <th>1993</th>\n",
       "      <td>NaN</td>\n",
       "      <td>NaN</td>\n",
       "      <td>NaN</td>\n",
       "      <td>NaN</td>\n",
       "      <td>NaN</td>\n",
       "      <td>76.0</td>\n",
       "      <td>NaN</td>\n",
       "      <td>NaN</td>\n",
       "      <td>NaN</td>\n",
       "      <td>NaN</td>\n",
       "      <td>NaN</td>\n",
       "      <td>NaN</td>\n",
       "    </tr>\n",
       "    <tr>\n",
       "      <th>1978</th>\n",
       "      <td>NaN</td>\n",
       "      <td>NaN</td>\n",
       "      <td>NaN</td>\n",
       "      <td>NaN</td>\n",
       "      <td>NaN</td>\n",
       "      <td>NaN</td>\n",
       "      <td>74.0</td>\n",
       "      <td>NaN</td>\n",
       "      <td>NaN</td>\n",
       "      <td>NaN</td>\n",
       "      <td>NaN</td>\n",
       "      <td>NaN</td>\n",
       "    </tr>\n",
       "  </tbody>\n",
       "</table>\n",
       "</div>"
      ],
      "text/plain": [
       "month     1      2      3      4      5      6      7      8      9      10     11     12\n",
       "year                                                                                     \n",
       "1999   126.0  157.0  149.0  139.0  171.0  236.0  262.0  274.0  362.0  285.0  418.0  195.0\n",
       "2000   198.0  178.0  202.0  171.0  154.0  233.0  322.0  250.0  257.0  278.0  200.0  192.0\n",
       "1998    75.0   74.0  130.0  112.0   95.0  178.0  156.0  144.0  215.0  205.0  189.0  170.0\n",
       "1997     NaN    NaN  174.0   86.0   93.0  170.0  199.0   99.0    NaN  105.0  113.0    NaN\n",
       "1995    90.0  113.0  120.0   88.0   98.0  152.0  121.0  181.0  120.0   95.0  116.0    NaN\n",
       "1996     NaN    NaN    NaN   91.0   74.0  117.0    NaN    NaN    NaN    NaN   78.0   75.0\n",
       "1976     NaN    NaN    NaN    NaN    NaN   94.0    NaN    NaN    NaN    NaN    NaN    NaN\n",
       "1975     NaN    NaN    NaN    NaN    NaN   88.0    NaN    NaN    NaN    NaN    NaN    NaN\n",
       "1993     NaN    NaN    NaN    NaN    NaN   76.0    NaN    NaN    NaN    NaN    NaN    NaN\n",
       "1978     NaN    NaN    NaN    NaN    NaN    NaN   74.0    NaN    NaN    NaN    NaN    NaN"
      ]
     },
     "execution_count": 147,
     "metadata": {},
     "output_type": "execute_result"
    }
   ],
   "source": [
    "temp_ufo_df.groupby([temp_ufo_df.year, temp_ufo_df.month]).DateTime.count().sort_values(ascending=False).head(64).unstack()"
   ]
  },
  {
   "cell_type": "markdown",
   "metadata": {},
   "source": [
    "Q139. Write a pandas program to create a heatmap (rectangular data as a colour-encoded matrix) for comparison of top 10 years in which (UFO ) was sighted VS each Month."
   ]
  },
  {
   "cell_type": "code",
   "execution_count": 148,
   "metadata": {},
   "outputs": [
    {
     "data": {
      "text/plain": [
       "<matplotlib.axes._subplots.AxesSubplot at 0xe88fe08>"
      ]
     },
     "execution_count": 148,
     "metadata": {},
     "output_type": "execute_result"
    },
    {
     "data": {
      "image/png": "[encoded data removed]",
      "text/plain": [
       "<Figure size 432x288 with 1 Axes>"
      ]
     },
     "metadata": {
      "needs_background": "light"
     },
     "output_type": "display_data"
    }
   ],
   "source": [
    "temp_ufo_df.groupby([temp_ufo_df.year, temp_ufo_df.month]).DateTime.count().sort_values(ascending=False).head(64).plot()"
   ]
  },
  {
   "cell_type": "markdown",
   "metadata": {},
   "source": [
    "Q140. Write a pandas program to create a Timewheel of Hour VS Year comparison of the top 10 years in which the (UFO) was sighted."
   ]
  },
  {
   "cell_type": "code",
   "execution_count": null,
   "metadata": {},
   "outputs": [],
   "source": []
  },
  {
   "cell_type": "markdown",
   "metadata": {},
   "source": [
    "Q141. Write a python program to draw the line using given axis values with the suitable label in the x-axis, y-axis, and a title."
   ]
  },
  {
   "cell_type": "code",
   "execution_count": 149,
   "metadata": {},
   "outputs": [
    {
     "data": {
      "image/png": "[encoded data removed]",
      "text/plain": [
       "<Figure size 432x288 with 1 Axes>"
      ]
     },
     "metadata": {
      "needs_background": "light"
     },
     "output_type": "display_data"
    }
   ],
   "source": [
    "# x axis values\n",
    "x = [1,2,3]\n",
    "# y axis values\n",
    "y = [2,4,1]\n",
    "# Plot lines and/or markers to the Axes.\n",
    "plt.plot(x, y)\n",
    "# Set the x axis label of the current axis.\n",
    "plt.xlabel('x - axis')\n",
    "# Set the y axis label of the current axis.\n",
    "plt.ylabel('y - axis')\n",
    "# Set a title \n",
    "plt.title('Sample graph')\n",
    "# Display a figure.\n",
    "plt.show()"
   ]
  },
  {
   "cell_type": "markdown",
   "metadata": {},
   "source": [
    "Q142. Write a python program to draw the line charts of the financial data of the Alphabet Inc., between October.\n",
    "\n",
    "3, 2016 to October 7 2016.\n",
    "Sample Financial data (fdata.csv)-\n",
    "Date,Open,High,Low,Close\n",
    "10-03-16,774.25,776.065002,769.5,772.559998\n",
    "10-04-16 , 776.030029, 778.710022,772.890015,776.429993\n",
    "10-05-16 , 779.309998, 782.070007,775.650024,776.469971\n",
    "10-06-16 , 779 , 780.47998,775.539978,776.859985\n",
    "10-07-16,779.659973, 779.659973 , 770.75 , 775.080017"
   ]
  },
  {
   "cell_type": "code",
   "execution_count": 150,
   "metadata": {},
   "outputs": [
    {
     "data": {
      "text/plain": [
       "<matplotlib.axes._subplots.AxesSubplot at 0x82345c8>"
      ]
     },
     "execution_count": 150,
     "metadata": {},
     "output_type": "execute_result"
    },
    {
     "data": {
      "image/png": "[encoded data removed]",
      "text/plain": [
       "<Figure size 432x288 with 1 Axes>"
      ]
     },
     "metadata": {
      "needs_background": "light"
     },
     "output_type": "display_data"
    }
   ],
   "source": [
    "data = {'date' : ['10-03-16', '10-04-16', '10-05-16', '10-06-16', '10-07-16'],\n",
    "    'opening' : [774.25, 776.030029, 779.309998, 779, 779.659973],\n",
    "    'high' : [776.065002, 778.710022, 782.070007, 780.47998, 779.659973],\n",
    "    'low' : [769.5, 772.890015, 775.650024, 775.539978, 770.75],\n",
    "    'close' : [772.559998, 776.429993, 776.469971, 776.859985, 775.080017]}\n",
    "\n",
    "df = pd.DataFrame(data=data)\n",
    "\n",
    "df.plot()"
   ]
  },
  {
   "cell_type": "markdown",
   "metadata": {},
   "source": [
    "Q143. Write a Python program to plot two or more lines on same plot with the suitable legends of each line."
   ]
  },
  {
   "cell_type": "code",
   "execution_count": 151,
   "metadata": {},
   "outputs": [
    {
     "data": {
      "text/plain": [
       "<matplotlib.legend.Legend at 0xea8cf88>"
      ]
     },
     "execution_count": 151,
     "metadata": {},
     "output_type": "execute_result"
    },
    {
     "data": {
      "image/png": "[encoded data removed]",
      "text/plain": [
       "<Figure size 432x288 with 1 Axes>"
      ]
     },
     "metadata": {
      "needs_background": "light"
     },
     "output_type": "display_data"
    }
   ],
   "source": [
    "import matplotlib.pyplot as plt\n",
    "# line 1 points\n",
    "x1 = [10,20,30]\n",
    "y1 = [20,40,10]\n",
    "# plotting the line 1 points \n",
    "plt.plot(x1, y1, label = \"line 1\")\n",
    "# line 2 points\n",
    "x2 = [10,20,30]\n",
    "y2 = [40,10,30]\n",
    "# plotting the line 2 points \n",
    "plt.plot(x2, y2, label = \"line 2\")\n",
    "plt.xlabel('x - axis')\n",
    "# Set the y axis label of the current axis.\n",
    "plt.ylabel('y - axis')\n",
    "# Set a title of the current axes.\n",
    "plt.title('Two or more lines on same plot with suitable legends ')\n",
    "# show a legend on the plot\n",
    "plt.legend()"
   ]
  },
  {
   "cell_type": "markdown",
   "metadata": {},
   "source": [
    "Q144. Write a python programming to display a bar chart of the popularity of programming languages.\n",
    "\n",
    "Sample data:\n",
    "programming languages- Java, Python, PHP, JavaScript, C#, C++\n",
    "Popularity- 22.2, 17.6, 8.8, 8, 7.7 , 6.7"
   ]
  },
  {
   "cell_type": "code",
   "execution_count": 152,
   "metadata": {},
   "outputs": [
    {
     "data": {
      "image/png": "[encoded data removed]",
      "text/plain": [
       "<Figure size 432x288 with 1 Axes>"
      ]
     },
     "metadata": {
      "needs_background": "light"
     },
     "output_type": "display_data"
    }
   ],
   "source": [
    "languages = ['Java', 'Python', 'PHP', 'JavaScript', 'C#', 'C++']\n",
    "popularity = [22.2, 17.6, 8.8, 8, 7.7, 6.7]\n",
    "language_pos = [idx for idx, _ in enumerate(languages)]\n",
    "\n",
    "plt.bar(language_pos, popularity, color=(0.4, 0.6, 0.8, 1.0), edgecolor='blue')\n",
    "\n",
    "plt.xlabel(\"Languages\")\n",
    "plt.ylabel(\"Popularity\")\n",
    "plt.title(\"Popularity of Programming Languages\")\n",
    "plt.xticks(language_pos, languages)\n",
    "plt.minorticks_on()\n",
    "plt.grid(which='major', linestyle='-', linewidth='0.5', color='red')\n",
    "plt.grid(which='minor', linestyle=':', linewidth='0.5', color='black')"
   ]
  },
  {
   "cell_type": "markdown",
   "metadata": {},
   "source": [
    "Q145. Write a python programming to display a horizontal bar chart of the popularity of programming languages.\n",
    "\n",
    "Sample data:\n",
    "programming languages- Java, Python, PHP, JavaScript, C#, C++\n",
    "Popularity- 22.2, 17.6, 8.8, 8, 7.7 , 6.7"
   ]
  },
  {
   "cell_type": "code",
   "execution_count": 153,
   "metadata": {},
   "outputs": [
    {
     "data": {
      "image/png": "[encoded data removed]",
      "text/plain": [
       "<Figure size 432x288 with 1 Axes>"
      ]
     },
     "metadata": {
      "needs_background": "light"
     },
     "output_type": "display_data"
    }
   ],
   "source": [
    "languages = ['Java', 'Python', 'PHP', 'JavaScript', 'C#', 'C++']\n",
    "popularity = [22.2, 17.6, 8.8, 8, 7.7, 6.7]\n",
    "language_pos = [idx for idx, _ in enumerate(languages)]\n",
    "\n",
    "plt.barh(language_pos, popularity, color='magenta', edgecolor='blue')\n",
    "\n",
    "plt.xlabel(\"Languages\")\n",
    "plt.ylabel(\"Popularity\")\n",
    "plt.title(\"Popularity of Programming Languages\")\n",
    "plt.yticks(language_pos, languages)\n",
    "\n",
    "plt.minorticks_on()\n",
    "plt.grid(which='major', linestyle='-', linewidth='0.5', color='red')\n",
    "plt.grid(which='minor', linestyle=':', linewidth='0.5', color='black')"
   ]
  },
  {
   "cell_type": "markdown",
   "metadata": {},
   "source": [
    "Q146. Write a python programming to display a bar chart of the Popularity of programming languages. Increase bottom margin.\n",
    "\n",
    "Sample data:\n",
    "programming languages- Java, Python, PHP, JavaScript, C#, C++\n",
    "Popularity- 22.2, 17.6, 8.8, 8, 7.7 , 6.7"
   ]
  },
  {
   "cell_type": "code",
   "execution_count": 155,
   "metadata": {},
   "outputs": [
    {
     "data": {
      "image/png": "[encoded data removed]",
      "text/plain": [
       "<Figure size 432x288 with 1 Axes>"
      ]
     },
     "metadata": {
      "needs_background": "light"
     },
     "output_type": "display_data"
    }
   ],
   "source": [
    "languages = ['Java', 'Python', 'PHP', 'JavaScript', 'C#', 'C++']\n",
    "popularity = [22.2, 17.6, 8.8, 8, 7.7, 6.7]\n",
    "language_pos = [idx for idx, _ in enumerate(languages)]\n",
    "\n",
    "plt.bar(language_pos, popularity, color=(0.4, 0.6, 0.8, 1.0))\n",
    "plt.xlabel(\"Languages\")\n",
    "plt.ylabel(\"Popularity\")\n",
    "plt.title(\"PopularitY of Programming Languages\")\n",
    "\n",
    "plt.xticks(language_pos, languages, rotation=90)\n",
    "plt.subplots_adjust(bottom=0.4, top=.8)\n",
    "\n",
    "plt.minorticks_on()\n",
    "plt.grid(which='major', linestyle='-', linewidth='0.5', color='red')\n",
    "plt.grid(which='minor', linestyle=':', linewidth='0.5', color='black')"
   ]
  },
  {
   "cell_type": "markdown",
   "metadata": {},
   "source": [
    "Q147. Write a python program to create the bar plot from a DataFrame.\n",
    "\n",
    "a b c d e\n",
    "2 4,8,5,7,6\n",
    "4 2,3,4,2,6\n",
    "6 4,7,4,7, 8\n",
    "8 2,6,4,8, 6\n",
    "10 2,4,3,3, 2"
   ]
  },
  {
   "cell_type": "code",
   "execution_count": 156,
   "metadata": {},
   "outputs": [
    {
     "data": {
      "image/png": "[encoded data removed]",
      "text/plain": [
       "<Figure size 432x288 with 1 Axes>"
      ]
     },
     "metadata": {
      "needs_background": "light"
     },
     "output_type": "display_data"
    }
   ],
   "source": [
    "arr = np.array([[4,8,5,7,6],[2,3,4,2,6],[4,7,4,7,8],[2,6,4,8,6],[2,4,3,3,2]])\n",
    "df = pd.DataFrame(arr, columns=['a','b','c','d','e'], index=[2,4,6,8,10])\n",
    "\n",
    "df.plot(kind='bar')\n",
    "\n",
    "plt.minorticks_on()\n",
    "plt.grid(which='major', linestyle='-', linewidth='0.5', color='green')\n",
    "plt.grid(which='minor', linestyle=':', linewidth='0.5', color='black')"
   ]
  },
  {
   "cell_type": "markdown",
   "metadata": {},
   "source": [
    "Q148. Write a python program to draw the scatter plot comparing two subject marks of Mathematics and Science. Use marks of 10 students.\n",
    "\n",
    "Sample data:\n",
    "Test Datamath_marks = [88, 92 , 80, 89, 100, 80, 60, 100, 80, 34]\n",
    "science_marks = [35, 79, 79 , 48, 100, 88, 32, 45, 20, 30]\n",
    "marks_range = [10, 20, 30, 40, 50, 60, 70, 80, 90, 100]"
   ]
  },
  {
   "cell_type": "code",
   "execution_count": 157,
   "metadata": {},
   "outputs": [
    {
     "data": {
      "text/plain": [
       "<matplotlib.legend.Legend at 0x8383c48>"
      ]
     },
     "execution_count": 157,
     "metadata": {},
     "output_type": "execute_result"
    },
    {
     "data": {
      "image/png": "[encoded data removed]",
      "text/plain": [
       "<Figure size 432x288 with 1 Axes>"
      ]
     },
     "metadata": {
      "needs_background": "light"
     },
     "output_type": "display_data"
    }
   ],
   "source": [
    "math_marks = [88, 92, 80, 89, 100, 80, 60, 100, 80, 34]\n",
    "science_marks = [35, 79, 79, 48, 100, 88, 32, 45, 20, 30]\n",
    "marks_range = [10, 20, 30, 40, 50, 60, 70, 80, 90, 100]\n",
    "\n",
    "plt.scatter(marks_range, math_marks, label='Math marks', color='r')\n",
    "plt.scatter(marks_range, science_marks, label='Science marks', color='b')\n",
    "\n",
    "plt.title('Scatter Plot')\n",
    "plt.xlabel('Marks Range')\n",
    "plt.ylabel('Marks Scored')\n",
    "plt.legend()"
   ]
  },
  {
   "cell_type": "markdown",
   "metadata": {},
   "source": [
    "Q149. Write a python program to draw the scatter plot for three different groups comparing weights and heights."
   ]
  },
  {
   "cell_type": "code",
   "execution_count": 158,
   "metadata": {},
   "outputs": [
    {
     "data": {
      "image/png": "[encoded data removed]",
      "text/plain": [
       "<Figure size 432x288 with 1 Axes>"
      ]
     },
     "metadata": {
      "needs_background": "light"
     },
     "output_type": "display_data"
    }
   ],
   "source": [
    "girls_grades = [89, 90, 70, 89, 100, 80, 90, 100, 80, 34]\n",
    "boys_grades = [30, 29, 49, 48, 100, 48, 38, 45, 20, 30]\n",
    "grades_range = [10, 20, 30, 40, 50, 60, 70, 80, 90, 100]\n",
    "\n",
    "fig, ax = plt.subplots()\n",
    "\n",
    "ax.scatter(grades_range, girls_grades, color='r')\n",
    "ax.scatter(grades_range, boys_grades, color='b')\n",
    "\n",
    "ax.set_xlabel('Grades Range')\n",
    "ax.set_ylabel('Grades Scored')\n",
    "ax.set_title('Scatter Plot')\n",
    "ax.grid(True)"
   ]
  },
  {
   "cell_type": "markdown",
   "metadata": {},
   "source": [
    "Q150. Write a python program to draw a scatter plot to find sea-level rise in past 100 years."
   ]
  },
  {
   "cell_type": "code",
   "execution_count": 159,
   "metadata": {},
   "outputs": [
    {
     "data": {
      "text/plain": [
       "Text(0.5, 1.0, 'Rise in Sealevel')"
      ]
     },
     "execution_count": 159,
     "metadata": {},
     "output_type": "execute_result"
    },
    {
     "data": {
      "image/png": "[encoded data removed]",
      "text/plain": [
       "<Figure size 432x288 with 1 Axes>"
      ]
     },
     "metadata": {
      "needs_background": "light"
     },
     "output_type": "display_data"
    }
   ],
   "source": [
    "csv_file_path = r\"E:\\BackupFromDadasLaptop\\AGP\\Personal\\CTCs\\ML\\iNueron_Courses\\ML_AI_Masters_00110\\ML_Assignments\\sea_level_data.csv\"\n",
    "\n",
    "sl_df = pd.read_csv(csv_file_path)\n",
    "year = sl_df['year']\n",
    "sea_levels = sl_df['CSIRO_sea_level']\n",
    "\n",
    "plt.scatter(year, sea_levels, color='r', edgecolors='b')\n",
    "\n",
    "plt.xlabel('Year')\n",
    "plt.ylabel('Sea Level (inches)')\n",
    "plt.title('Rise in Sealevel')"
   ]
  }
 ],
 "metadata": {
  "kernelspec": {
   "display_name": "Python 3",
   "language": "python",
   "name": "python3"
  },
  "language_info": {
   "codemirror_mode": {
    "name": "ipython",
    "version": 3
   },
   "file_extension": ".py",
   "mimetype": "text/x-python",
   "name": "python",
   "nbconvert_exporter": "python",
   "pygments_lexer": "ipython3",
   "version": "3.7.6"
  }
 },
 "nbformat": 4,
 "nbformat_minor": 2
}
